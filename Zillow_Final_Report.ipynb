{
 "cells": [
  {
   "cell_type": "markdown",
   "id": "c48f49bb-4633-4b9b-9682-9e9d1a548217",
   "metadata": {},
   "source": [
    "# An Improved Model For Predicting Property Tax Assessed Values\n",
    "\n",
    "---\n",
    "\n",
    "## Project Goals\n",
    "\n",
    "Identify attributes that can be used to predict property tax assessed values, build a prediction model that is an improvement upon the existing model, and offer recommendations on what works or doesn't work.\n",
    "\n",
    "---\n",
    "\n",
    "## Project Description\n",
    "\n",
    "The Zillow data science team would like to predict property tax assessed values for single family properties that had a transaction in 2017. A model already exists, but the Zillow data science team is hoping an outside perspective can lead to an improved model. We will analyze the data available and produce an improved prediction model. We will compare the new model to the existing one and offer recommendations on what works or doesn't work for acquiring the most accurate predictions.\n",
    "\n",
    "---\n",
    "\n",
    "## Initial Questions\n",
    "\n",
    "Before beginning a few initial questions were formulated from an initial high level overview of the data available. Here are the questions that this project aimed to answer:\n",
    "\n",
    "- What influence do bedroom count, bathroom count, and square footage have on property value?\n",
    "- Is there a relationship between the age of a property and its value?\n",
    "- Is there a relationship between the number of stories a property has and its value?\n",
    "- Does a basement increase a property's value?\n",
    "- Does a fireplace increase a property's value?\n",
    "- Is there a relationship between heating or system type of a property and its value?\n",
    "- Does location relate to a property's value?\n",
    "- Does the total room count affect the value of a property?\n",
    "- Is there a relationship between garage size and property value?\n",
    "- Does a hot tub or pool increase a property's value?\n",
    "- Is there a relationship between the size of a property's patio and its value?"
   ]
  },
  {
   "cell_type": "markdown",
   "id": "b2af7b00-4b07-4c15-af6c-ad23abb9c0b3",
   "metadata": {},
   "source": [
    "---\n",
    "\n",
    "## Importing the Required Modules\n",
    "\n",
    "Everything we need to run the code blocks in this report are located in the util folder.\n",
    "To run the code blocks in this report you will need numpy, pandas, matplotlib, seaborn and sklearn installed on your computer."
   ]
  },
  {
   "cell_type": "code",
   "execution_count": 1,
   "id": "b7741f67-0ca8-4513-9a5a-537837625e24",
   "metadata": {},
   "outputs": [],
   "source": [
    "# Here we are importing everything needed to execute the code blocks in this notebook.\n",
    "from util.acquire import wrangle_zillow\n",
    "from util.prepare import scale_data, remove_outliers\n",
    "from util.explore import *\n",
    "from util.model import *\n",
    "\n",
    "import warnings\n",
    "warnings.filterwarnings(\"ignore\")"
   ]
  },
  {
   "cell_type": "markdown",
   "id": "9ec88dac-0460-43f5-8fa9-9fcfdf38fd7e",
   "metadata": {},
   "source": [
    "---\n",
    "\n",
    "## Data Acquisition and Preparation\n",
    "\n",
    "The data is acquired from data.codeup.com using a SQL query. Acquiring the data takes some time so it is cached in a local \"telco.csv\" file for quicker access in the future. The \"telco.csv\" file is not stored in the Github repository.\n",
    "\n",
    "Initial analysis of the data revealed a few things: the data has a lot of missing values, the column names are not very readable, some of the data points are unusual (i.e. the minimum square footage was 1 sq. ft.), and there are a lot of outliers skewing the distributions of values.\n",
    "\n",
    "**Outliers:**\n",
    "<br>\n",
    "In the first pass of the pipeline the outliers in the columns that had the largest amount of outliers are removed in hopes that this would remove some of the unusual values in the data while also making the data more normally distributed.\n",
    "    \n",
    "**Missing Values:**\n",
    "<br>\n",
    "For a few columns with missing values it was possible to assume what the missing values represented. For instance, the only value in the pool_count column was 1 (meaning the property has 1 pool) so it was reasonable to assume the missing values represented no pool, or 0. The same was true for hot tub, fireplace, and basement.\n",
    "\n",
    "For other columns with missing values a similar assumption could not be made. These columns had too many missing values so they were removed from the dataset.\n",
    "\n",
    "Finally, the target variable had a few missing values (8 properties were missing this value). Since this column was only missing a small number of values it was decided that the rows missing this value could be removed without affecting our results.\n",
    "\n",
    "**Renaming Columns:**\n",
    "<br>\n",
    "Lastly, the columns were renamed to improve the readability of the dataset and make some of the more ambiguous column names more descriptive."
   ]
  },
  {
   "cell_type": "code",
   "execution_count": 2,
   "id": "0c8925dd-fbfd-4513-9f51-5086b0e85af5",
   "metadata": {},
   "outputs": [],
   "source": [
    "# Here we will acquire, prepare, and split the zillow property data and store the results in our train, validate, \n",
    "# and test dataframes. Details can be found in the acquire.py file in the util directory.\n",
    "train, validate, test = wrangle_zillow()"
   ]
  },
  {
   "cell_type": "markdown",
   "id": "4d0cd77b-62e1-43e9-a27b-275f1ca7aa16",
   "metadata": {},
   "source": [
    "---\n",
    "\n",
    "## Exploratory Analysis\n",
    "\n",
    "With the data prepared and split we \n",
    "\n",
    "### Visualizations"
   ]
  },
  {
   "cell_type": "code",
   "execution_count": 3,
   "id": "b63e15bf-7dc9-4e74-8270-2b57667c2903",
   "metadata": {},
   "outputs": [
    {
     "data": {
      "image/png": "[encoded data removed]",
      "text/plain": [
       "<Figure size 1008x216 with 2 Axes>"
      ]
     },
     "metadata": {
      "needs_background": "light"
     },
     "output_type": "display_data"
    }
   ],
   "source": [
    "plot_property_value_distribution(train)"
   ]
  },
  {
   "cell_type": "code",
   "execution_count": null,
   "id": "d58e49c9-b467-45c2-890c-7b0e7c9e189f",
   "metadata": {},
   "outputs": [],
   "source": [
    "plot_primary_features_vs_target(train)"
   ]
  },
  {
   "cell_type": "code",
   "execution_count": null,
   "id": "a2c7266b-2407-4202-84ef-4319bfa8ed26",
   "metadata": {},
   "outputs": [],
   "source": [
    "plot_quality_and_age(train)"
   ]
  },
  {
   "cell_type": "code",
   "execution_count": null,
   "id": "9e655562-5a86-4941-8baf-74a6b69ba324",
   "metadata": {},
   "outputs": [],
   "source": [
    "plot_amenities_and_location(train)"
   ]
  },
  {
   "cell_type": "markdown",
   "id": "f555bbb3-a16c-4a80-b066-51d3580a1493",
   "metadata": {},
   "source": [
    "### Hypothesis Testing"
   ]
  },
  {
   "cell_type": "code",
   "execution_count": null,
   "id": "8f4d4cdf-2827-4165-a6e1-f6a8fab1c694",
   "metadata": {},
   "outputs": [],
   "source": [
    "statistical_tests(train, 'square_feet')"
   ]
  },
  {
   "cell_type": "code",
   "execution_count": null,
   "id": "e21ccbd8-5861-4218-bc74-1789262076ec",
   "metadata": {},
   "outputs": [],
   "source": [
    "statistical_tests(train, 'bedroom_count')"
   ]
  },
  {
   "cell_type": "code",
   "execution_count": null,
   "id": "cb574f44-16c6-4bd4-b6ac-d9c43b3206fe",
   "metadata": {},
   "outputs": [],
   "source": [
    "statistical_tests(train, 'bathroom_count')"
   ]
  },
  {
   "cell_type": "code",
   "execution_count": null,
   "id": "f8e1a13d-08f9-40da-89cb-bfa0791a5f79",
   "metadata": {},
   "outputs": [],
   "source": [
    "statistical_tests(train, 'amenities')"
   ]
  },
  {
   "cell_type": "markdown",
   "id": "3085841e-1a01-40ab-8144-fc678de32ad4",
   "metadata": {},
   "source": [
    "---\n",
    "\n",
    "## Modeling"
   ]
  },
  {
   "cell_type": "code",
   "execution_count": null,
   "id": "19643199-750b-4466-8388-9cbf482ef9cc",
   "metadata": {},
   "outputs": [],
   "source": [
    "train, validate, test = scale_data(\n",
    "    train,\n",
    "    validate,\n",
    "    test,\n",
    "    train.drop(columns = 'property_tax_assessed_values').columns\n",
    ")\n",
    "\n",
    "train = remove_outliers(\n",
    "    train,\n",
    "    1.5,\n",
    "    ['property_tax_assessed_values', 'bedroom_count', 'bathroom_count']\n",
    ")"
   ]
  },
  {
   "cell_type": "code",
   "execution_count": null,
   "id": "67ca2b7c-6441-4c37-809d-9e243b96208d",
   "metadata": {},
   "outputs": [],
   "source": [
    "X_train = train.drop(columns = 'property_tax_assessed_values')\n",
    "y_train = train.property_tax_assessed_values\n",
    "\n",
    "X_validate = validate.drop(columns = 'property_tax_assessed_values')\n",
    "y_validate = validate.property_tax_assessed_values\n",
    "\n",
    "X_test = test.drop(columns = 'property_tax_assessed_values')\n",
    "y_test = test.property_tax_assessed_values"
   ]
  },
  {
   "cell_type": "code",
   "execution_count": null,
   "id": "096a530b-5d19-4a9c-bc60-87e5383a8b57",
   "metadata": {},
   "outputs": [],
   "source": [
    "results = produce_models(X_train, y_train, X_validate, y_validate)\n",
    "pd.DataFrame(results).T"
   ]
  },
  {
   "cell_type": "markdown",
   "id": "d0a14481-c547-4644-bd84-b0e277246f0d",
   "metadata": {},
   "source": [
    "Model_1: A polynomial regression model using features square_feet, bedroom_count, and bathroom_count.\n",
    "<br>\n",
    "Model_2: A polynomial regression model using features square_feet, bedroom_count, bathroom_count, and amenities."
   ]
  },
  {
   "cell_type": "code",
   "execution_count": null,
   "id": "323b9b53-32fd-497c-bd32-23d1eed97d65",
   "metadata": {},
   "outputs": [],
   "source": [
    "results = produce_models_for_each_county(train, validate)\n",
    "pd.DataFrame(results).T"
   ]
  },
  {
   "cell_type": "markdown",
   "id": "db76fb32-decc-4af4-bf33-fe97bb1ea6ac",
   "metadata": {},
   "source": [
    "---\n",
    "\n",
    "## Key Takeaways and Recommendations\n",
    "\n",
    "Including the total amenities in the model increases the model's performance. Additionally, the property age and building quality features also have the potential to improve the model's performance. Building separate models for each county provides significantly improved performance for Orange and Ventura counties.\n",
    "\n",
    "---\n",
    "\n",
    "## Next Steps\n",
    "\n",
    "Given time I would like to try building separate models for non-outlier and outlier properties. I believe the outliers weigh down the model's performance on the overall dataset and we may benefit from having separate models depending on whether a home is ordinary or extraordinary. Additionally, I would like to try building models with various combinations of features to see if a different set of features could provide better predictions."
   ]
  }
 ],
 "metadata": {
  "kernelspec": {
   "display_name": "Python 3 (ipykernel)",
   "language": "python",
   "name": "python3"
  },
  "language_info": {
   "codemirror_mode": {
    "name": "ipython",
    "version": 3
   },
   "file_extension": ".py",
   "mimetype": "text/x-python",
   "name": "python",
   "nbconvert_exporter": "python",
   "pygments_lexer": "ipython3",
   "version": "3.9.7"
  }
 },
 "nbformat": 4,
 "nbformat_minor": 5
}
