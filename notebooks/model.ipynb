{
 "cells": [
  {
   "cell_type": "markdown",
   "id": "2c41be99-d920-4b22-a76c-e43dddbbfdc0",
   "metadata": {},
   "source": [
    "# Modeling\n",
    "\n",
    "---\n",
    "\n",
    "This notebook outlines the process for creating the prediction model for predicting tax assessed property values for the Zillow dataset.\n",
    "\n",
    "---"
   ]
  },
  {
   "cell_type": "markdown",
   "id": "184a5cc6-1671-43df-8fef-580cac53638d",
   "metadata": {},
   "source": [
    "## Importing the Required Modules\n",
    "\n",
    "Below we import all the modules needed to run this notebook."
   ]
  },
  {
   "cell_type": "code",
   "execution_count": 1,
   "id": "b0dbd5fc-79a0-4f1d-a025-168ba9f424c4",
   "metadata": {},
   "outputs": [],
   "source": [
    "import os\n",
    "import numpy as np\n",
    "import pandas as pd\n",
    "import matplotlib.pyplot as plt\n",
    "import seaborn as sns\n",
    "\n",
    "from sklearn.linear_model import LinearRegression, LassoLars, TweedieRegressor\n",
    "from sklearn.preprocessing import PolynomialFeatures\n",
    "\n",
    "from sklearn.metrics import mean_squared_error, r2_score\n",
    "from sklearn.model_selection import train_test_split\n",
    "from sklearn.feature_selection import SelectKBest, RFE, f_regression, SequentialFeatureSelector\n",
    "from sklearn.preprocessing import MinMaxScaler\n",
    "\n",
    "from env import username, password, hostname"
   ]
  },
  {
   "cell_type": "markdown",
   "id": "bb117e0b-12cd-4984-8fe7-55d2543b9384",
   "metadata": {},
   "source": [
    "## Acquire and Split Data\n",
    "\n",
    "Here we define all our acquisition and preparation functions created in the acquire and prepare notebook."
   ]
  },
  {
   "cell_type": "code",
   "execution_count": 2,
   "id": "233235be-97ad-4743-9963-a10895b06a05",
   "metadata": {},
   "outputs": [],
   "source": [
    "def get_db_url(database_name, username = username, password = password, hostname = hostname):\n",
    "    return f'mysql+pymysql://{username}:{password}@{hostname}/{database_name}'\n",
    "\n",
    "def get_zillow_sql():\n",
    "    return \"\"\"\n",
    "        SELECT\n",
    "            properties_2017.parcelid,\n",
    "            bedroomcnt,\n",
    "            bathroomcnt,\n",
    "            calculatedfinishedsquarefeet,\n",
    "            taxvaluedollarcnt,\n",
    "            yearbuilt,\n",
    "            fips,\n",
    "            numberofstories,\n",
    "            basementsqft,\n",
    "            fireplacecnt,\n",
    "            heatingorsystemdesc,\n",
    "            airconditioningdesc,\n",
    "            roomcnt,\n",
    "            garagetotalsqft,\n",
    "            hashottuborspa,\n",
    "            poolcnt,\n",
    "            poolsizesum,\n",
    "            yardbuildingsqft17,\n",
    "            buildingqualitytypeid,\n",
    "            finishedfloor1squarefeet,\n",
    "            finishedsquarefeet15,\n",
    "            lotsizesquarefeet \n",
    "        FROM properties_2017\n",
    "        JOIN propertylandusetype\n",
    "            ON propertylandusetype.propertylandusetypeid = properties_2017.propertylandusetypeid\n",
    "            AND (propertylandusetype.propertylandusedesc IN ('Single Family Residential', 'Inferred Single Family Residential'))\n",
    "        LEFT JOIN heatingorsystemtype USING (heatingorsystemtypeid)\n",
    "        LEFT JOIN airconditioningtype USING (airconditioningtypeid)\n",
    "        JOIN predictions_2017 ON properties_2017.parcelid = predictions_2017.parcelid\n",
    "        AND predictions_2017.transactiondate LIKE '2017%%';\n",
    "        \"\"\"\n",
    "\n",
    "def get_zillow_data(use_cache = True):\n",
    "    # If the file is cached, read from the .csv file\n",
    "    if os.path.exists('zillow.csv') and use_cache:\n",
    "        print('Using cache')\n",
    "        return pd.read_csv('zillow.csv')\n",
    "    \n",
    "    # Otherwise read from the mysql database\n",
    "    else:\n",
    "        print('Reading from database')\n",
    "        df = pd.read_sql(get_zillow_sql(), get_db_url('zillow'))\n",
    "        df.to_csv('zillow.csv', index = False)\n",
    "        return df\n",
    "    \n",
    "def prepare_zillow_data(df: pd.core.frame.DataFrame) -> pd.core.frame.DataFrame:\n",
    "    '''\n",
    "        Returns a prepared zillow dataset with all missing values handled.\n",
    "        \n",
    "        Parameters\n",
    "        ----------\n",
    "        df: DataFrame\n",
    "            A pandas dataframe containing the unprepared zillow dataset.\n",
    "        \n",
    "        Returns\n",
    "        -------\n",
    "        DataFrame: A pandas dataframe containing the prepared zillow dataset.\n",
    "    '''\n",
    "    \n",
    "    missing_target = df.taxvaluedollarcnt.isnull()\n",
    "    df = df[~missing_target]\n",
    "    \n",
    "    avg_square_feet = df.calculatedfinishedsquarefeet.mean()\n",
    "    df.calculatedfinishedsquarefeet.fillna(avg_square_feet, inplace = True)\n",
    "    \n",
    "    df.yearbuilt.fillna(df.yearbuilt.mode()[0], inplace = True)\n",
    "    df.fireplacecnt.fillna(0, inplace = True)\n",
    "    df.hashottuborspa.fillna(0, inplace = True)\n",
    "    df.poolcnt.fillna(0, inplace = True)\n",
    "    \n",
    "    median_quality = df.buildingqualitytypeid.median()\n",
    "    df.buildingqualitytypeid.fillna(median_quality, inplace = True)\n",
    "    \n",
    "    median_lotsize = df.lotsizesquarefeet.median()\n",
    "    df.lotsizesquarefeet.fillna(median_lotsize, inplace = True)\n",
    "    \n",
    "    df = df.drop(columns = 'parcelid')\n",
    "    df = df.drop(columns = 'numberofstories')\n",
    "    df = df.drop(columns = 'basementsqft')\n",
    "    df = df.drop(columns = 'heatingorsystemdesc')\n",
    "    df = df.drop(columns = 'airconditioningdesc')\n",
    "    df = df.drop(columns = 'garagetotalsqft')\n",
    "    df = df.drop(columns = 'poolsizesum')\n",
    "    df = df.drop(columns = 'yardbuildingsqft17')\n",
    "    df = df.drop(columns = 'roomcnt')\n",
    "    df = df.drop(columns = 'finishedfloor1squarefeet')\n",
    "    df = df.drop(columns = 'finishedsquarefeet15')\n",
    "    df = df.drop(columns = 'lotsizesquarefeet')\n",
    "    \n",
    "    df.bedroomcnt = df.bedroomcnt.astype('int')\n",
    "    df.fireplacecnt = df.fireplacecnt.astype('int')\n",
    "    df.hashottuborspa = df.hashottuborspa.astype('int')\n",
    "    df.poolcnt = df.poolcnt.astype('int')\n",
    "    \n",
    "    df.fips = df.fips.astype('int')\n",
    "    df.fips = df.fips.astype('object')\n",
    "    df = pd.get_dummies(df, columns = ['fips'])\n",
    "    \n",
    "    df['property_age'] = 2017 - df.yearbuilt\n",
    "    df = df.drop(columns = 'yearbuilt')\n",
    "    \n",
    "    df['amenities'] = df.hashottuborspa + df.poolcnt + df.fireplacecnt\n",
    "    df = df.drop(columns = 'hashottuborspa')\n",
    "    df = df.drop(columns = 'poolcnt')\n",
    "    df = df.drop(columns = 'fireplacecnt')\n",
    "\n",
    "    # Rename the columns for readability\n",
    "    df = df.rename(columns = {\n",
    "        'bedroomcnt' : 'bedroom_count',\n",
    "        'bathroomcnt' : 'bathroom_count',\n",
    "        'calculatedfinishedsquarefeet' : 'square_feet',\n",
    "        'taxvaluedollarcnt' : 'property_tax_assessed_values',\n",
    "        'buildingqualitytypeid' : 'building_quality',\n",
    "        'fips_6037' : 'fed_code_6037',\n",
    "        'fips_6059' : 'fed_code_6059',\n",
    "        'fips_6111' : 'fed_code_6111'\n",
    "    })\n",
    "    \n",
    "    return df\n",
    "\n",
    "def remove_outliers(df, k, col_list):\n",
    "    for col in col_list:\n",
    "\n",
    "        q1, q3 = df[col].quantile([.25, .75])  # get quartiles\n",
    "        \n",
    "        iqr = q3 - q1   # calculate interquartile range\n",
    "        \n",
    "        upper_bound = q3 + k * iqr   # get upper bound\n",
    "        lower_bound = q1 - k * iqr   # get lower bound\n",
    "\n",
    "        # return dataframe without outliers\n",
    "        \n",
    "        df = df[(df[col] > lower_bound) & (df[col] < upper_bound)]\n",
    "        \n",
    "    return df"
   ]
  },
  {
   "cell_type": "code",
   "execution_count": 3,
   "id": "a8aa056f-2155-4a2c-ab80-b108497ddcc2",
   "metadata": {},
   "outputs": [],
   "source": [
    "def split_data(df, random_seed = 24, stratify = None):\n",
    "    test_split = 0.2\n",
    "    train_validate_split = 0.3\n",
    "\n",
    "    train_validate, test = train_test_split(\n",
    "        df,\n",
    "        test_size = test_split,\n",
    "        random_state = random_seed,\n",
    "        stratify = stratify if not stratify else df[stratify]\n",
    "    )\n",
    "    train, validate = train_test_split(\n",
    "        train_validate,\n",
    "        test_size = train_validate_split,\n",
    "        random_state = random_seed,\n",
    "        stratify = stratify if not stratify else train_validate[stratify]\n",
    "    )\n",
    "    return train, validate, test\n",
    "\n",
    "def scale_data(train, validate, test, columns):\n",
    "    scaler = MinMaxScaler()\n",
    "    \n",
    "    train[columns] = scaler.fit_transform(train[columns])\n",
    "    validate[columns] = scaler.transform(validate[columns])\n",
    "    test[columns] = scaler.transform(test[columns])\n",
    "    \n",
    "    return train, validate, test"
   ]
  },
  {
   "cell_type": "markdown",
   "id": "21183922-6584-41cc-a3bd-73d3db87656d",
   "metadata": {},
   "source": [
    "Now we can acquire, prepare, and split our data."
   ]
  },
  {
   "cell_type": "code",
   "execution_count": 4,
   "id": "3b6d4799-b1ef-4085-9ad6-3e839dbf502a",
   "metadata": {},
   "outputs": [
    {
     "name": "stdout",
     "output_type": "stream",
     "text": [
      "Using cache\n"
     ]
    },
    {
     "name": "stderr",
     "output_type": "stream",
     "text": [
      "/usr/local/anaconda3/lib/python3.9/site-packages/pandas/core/generic.py:6392: SettingWithCopyWarning: \n",
      "A value is trying to be set on a copy of a slice from a DataFrame\n",
      "\n",
      "See the caveats in the documentation: https://pandas.pydata.org/pandas-docs/stable/user_guide/indexing.html#returning-a-view-versus-a-copy\n",
      "  return self._update_inplace(result)\n"
     ]
    },
    {
     "data": {
      "text/plain": [
       "((29366, 10), (12586, 10), (10488, 10))"
      ]
     },
     "execution_count": 4,
     "metadata": {},
     "output_type": "execute_result"
    }
   ],
   "source": [
    "train, validate, test = split_data(prepare_zillow_data(get_zillow_data()))\n",
    "\n",
    "# We'll scale everything except the target variable to ensure that the model does not have any unexpected bias.\n",
    "train, validate, test = scale_data(train, validate, test, train.drop(columns = 'property_tax_assessed_values').columns)\n",
    "train.shape, validate.shape, test.shape"
   ]
  },
  {
   "cell_type": "code",
   "execution_count": 5,
   "id": "53c0414e-fed9-4280-ab5e-b33062cd8957",
   "metadata": {},
   "outputs": [
    {
     "data": {
      "text/plain": [
       "(26236, 10)"
      ]
     },
     "execution_count": 5,
     "metadata": {},
     "output_type": "execute_result"
    }
   ],
   "source": [
    "# We'll remove outliers so that they don't skew the results of our model\n",
    "train = remove_outliers(train, 1.5, ['property_tax_assessed_values', 'bedroom_count', 'bathroom_count'])\n",
    "train.shape"
   ]
  },
  {
   "cell_type": "markdown",
   "id": "a3720b11-1f52-4cde-b20e-4e13462a8b7e",
   "metadata": {},
   "source": [
    "Now we will split our datasets each into two sets, one with all our features, another with only the target variable."
   ]
  },
  {
   "cell_type": "code",
   "execution_count": 6,
   "id": "62dcd229-3378-4fd2-b023-9a9c31436e3b",
   "metadata": {},
   "outputs": [],
   "source": [
    "X_train, y_train = train.drop(columns = 'property_tax_assessed_values'), train.property_tax_assessed_values\n",
    "X_validate, y_validate = validate.drop(columns = 'property_tax_assessed_values'), validate.property_tax_assessed_values\n",
    "X_test, y_test = test.drop(columns = 'property_tax_assessed_values'), test.property_tax_assessed_values"
   ]
  },
  {
   "cell_type": "markdown",
   "id": "3a28d810-9ed8-4a16-b5bc-992cb573f6ba",
   "metadata": {},
   "source": [
    "## Create a Baseline"
   ]
  },
  {
   "cell_type": "markdown",
   "id": "332a5eb8-1468-4380-ad82-72fb4413cbf7",
   "metadata": {},
   "source": [
    "Before we can begin building some models we must establish a baseline. We will create two (one using the median of the target, the other using the mean of the target) and we'll choose the best as our baseline."
   ]
  },
  {
   "cell_type": "code",
   "execution_count": 7,
   "id": "c0efdc17-dfb3-480b-bf30-cddfdaa31ebc",
   "metadata": {},
   "outputs": [
    {
     "data": {
      "text/plain": [
       "(26236, 2)"
      ]
     },
     "execution_count": 7,
     "metadata": {},
     "output_type": "execute_result"
    }
   ],
   "source": [
    "baseline = pd.DataFrame({\n",
    "    'median' : [y_train.median()] * y_train.size,\n",
    "    'mean' : [y_train.mean()] * y_train.size\n",
    "})\n",
    "baseline.shape"
   ]
  },
  {
   "cell_type": "code",
   "execution_count": 8,
   "id": "e297060c-083c-4e96-8f93-041d3191430a",
   "metadata": {},
   "outputs": [
    {
     "name": "stdout",
     "output_type": "stream",
     "text": [
      "RMSE median baseline: 266034.95842401474\n",
      "RMSE mean baseline: 262391.84622251\n"
     ]
    }
   ],
   "source": [
    "print(f'RMSE median baseline: {mean_squared_error(y_train, baseline[\"median\"], squared = False)}')\n",
    "print(f'RMSE mean baseline: {mean_squared_error(y_train, baseline[\"mean\"], squared = False)}')"
   ]
  },
  {
   "cell_type": "markdown",
   "id": "051d3068-03b7-48e1-a5a2-f52febad85cf",
   "metadata": {},
   "source": [
    "We'll use the mean as our baseline."
   ]
  },
  {
   "cell_type": "markdown",
   "id": "e23c88e2-f376-40b5-b39d-587e978cbf29",
   "metadata": {},
   "source": [
    "## Feature Selection"
   ]
  },
  {
   "cell_type": "markdown",
   "id": "8ead5d70-57f9-4fd4-8c31-ce4a1bf423c0",
   "metadata": {},
   "source": [
    "Now we will use the RFE algorithm to rank our features in terms of relevance in predicting the target variable. We will use this later when trying different features in our models. This can also help in making our recommendation later on. We will not include the locations in this model since we will later try to build different models for each county."
   ]
  },
  {
   "cell_type": "code",
   "execution_count": 9,
   "id": "a9480a52-a69f-48da-b77c-74ee347fab00",
   "metadata": {},
   "outputs": [
    {
     "data": {
      "text/plain": [
       "RFE(estimator=LinearRegression(), n_features_to_select=3)"
      ]
     },
     "execution_count": 9,
     "metadata": {},
     "output_type": "execute_result"
    }
   ],
   "source": [
    "features = [\n",
    "    'square_feet',\n",
    "    'bedroom_count',\n",
    "    'bathroom_count',\n",
    "    'property_age',\n",
    "    'amenities',\n",
    "    'building_quality'\n",
    "]\n",
    "\n",
    "lm = LinearRegression()\n",
    "\n",
    "rfe = RFE(lm, n_features_to_select = 3)\n",
    "rfe.fit(X_train[features], y_train)"
   ]
  },
  {
   "cell_type": "code",
   "execution_count": 10,
   "id": "1d71aa63-6676-488b-9a37-8d8cd4c31c56",
   "metadata": {},
   "outputs": [
    {
     "data": {
      "text/html": [
       "<div>\n",
       "<style scoped>\n",
       "    .dataframe tbody tr th:only-of-type {\n",
       "        vertical-align: middle;\n",
       "    }\n",
       "\n",
       "    .dataframe tbody tr th {\n",
       "        vertical-align: top;\n",
       "    }\n",
       "\n",
       "    .dataframe thead th {\n",
       "        text-align: right;\n",
       "    }\n",
       "</style>\n",
       "<table border=\"1\" class=\"dataframe\">\n",
       "  <thead>\n",
       "    <tr style=\"text-align: right;\">\n",
       "      <th></th>\n",
       "      <th>rfe_ranking</th>\n",
       "    </tr>\n",
       "  </thead>\n",
       "  <tbody>\n",
       "    <tr>\n",
       "      <th>square_feet</th>\n",
       "      <td>1</td>\n",
       "    </tr>\n",
       "    <tr>\n",
       "      <th>bedroom_count</th>\n",
       "      <td>1</td>\n",
       "    </tr>\n",
       "    <tr>\n",
       "      <th>bathroom_count</th>\n",
       "      <td>1</td>\n",
       "    </tr>\n",
       "    <tr>\n",
       "      <th>property_age</th>\n",
       "      <td>4</td>\n",
       "    </tr>\n",
       "    <tr>\n",
       "      <th>amenities</th>\n",
       "      <td>2</td>\n",
       "    </tr>\n",
       "    <tr>\n",
       "      <th>building_quality</th>\n",
       "      <td>3</td>\n",
       "    </tr>\n",
       "  </tbody>\n",
       "</table>\n",
       "</div>"
      ],
      "text/plain": [
       "                  rfe_ranking\n",
       "square_feet                 1\n",
       "bedroom_count               1\n",
       "bathroom_count              1\n",
       "property_age                4\n",
       "amenities                   2\n",
       "building_quality            3"
      ]
     },
     "execution_count": 10,
     "metadata": {},
     "output_type": "execute_result"
    }
   ],
   "source": [
    "pd.DataFrame({'rfe_ranking': rfe.ranking_}, index=X_train[features].columns)"
   ]
  },
  {
   "cell_type": "markdown",
   "id": "84988fee-b8cc-425c-a17d-4e3863f82ad3",
   "metadata": {},
   "source": [
    "Not surprisingly the square_feet, bedroom_count, and bathroom_count features have the highest rankings, but now we know that the other features are ordered as amenities, building_quality, and property_age in regards to importance in our problem. This can help us later on."
   ]
  },
  {
   "cell_type": "markdown",
   "id": "a0459126-0e7c-4bd8-8baf-cc88fbd3b67a",
   "metadata": {},
   "source": [
    "## Creating the Models"
   ]
  },
  {
   "cell_type": "markdown",
   "id": "52454bf0-415c-4a63-85ca-cb93c60e2be4",
   "metadata": {},
   "source": [
    "We'll keep all of our results in a dictionary for easy viewing."
   ]
  },
  {
   "cell_type": "code",
   "execution_count": 11,
   "id": "b9ae33b0-60b1-4146-855c-fe6ff080a53d",
   "metadata": {},
   "outputs": [],
   "source": [
    "baseline_val = pd.Series([y_train.mean()] * y_validate.size)\n",
    "\n",
    "results = {\n",
    "    'baseline' : {\n",
    "        'RMSE' : mean_squared_error(y_train, baseline['mean'], squared = False),\n",
    "        'R^2' : r2_score(y_train, baseline['mean']),\n",
    "        'RMSE_val' : mean_squared_error(y_validate, baseline_val, squared = False),\n",
    "        'R^2_val' : r2_score(y_validate, baseline_val)\n",
    "    }\n",
    "}\n",
    "\n",
    "feature_set_1 = [\n",
    "    'square_feet',\n",
    "    'bedroom_count',\n",
    "    'bathroom_count'\n",
    "]"
   ]
  },
  {
   "cell_type": "markdown",
   "id": "e4d55534-c93f-47a0-93cd-7ba141bd8949",
   "metadata": {},
   "source": [
    "### Target Distribution"
   ]
  },
  {
   "cell_type": "markdown",
   "id": "ad4dfb82-6b0d-49d6-b096-c36f2ae81c8e",
   "metadata": {},
   "source": [
    "Let's see our target distribution to help us decide which algorithm may be best for our problem."
   ]
  },
  {
   "cell_type": "code",
   "execution_count": 12,
   "id": "93c25128-18f5-4ec5-bfb0-4994c155fb61",
   "metadata": {},
   "outputs": [
    {
     "data": {
      "image/png": "[encoded data removed]",
      "text/plain": [
       "<Figure size 432x288 with 1 Axes>"
      ]
     },
     "metadata": {
      "needs_background": "light"
     },
     "output_type": "display_data"
    }
   ],
   "source": [
    "sns.histplot(y_train);"
   ]
  },
  {
   "cell_type": "markdown",
   "id": "adb90bce-5f5e-4fd7-afe9-a4f6a401db66",
   "metadata": {},
   "source": [
    "The distribution is not necessarily normal. We'll try linear regression, polynomial regression, polynomial regression with interactions only, and a tweedie regressor since this one may work best for this distribution."
   ]
  },
  {
   "cell_type": "markdown",
   "id": "26cb4b90-d840-41cd-86b8-36eb5622cf15",
   "metadata": {},
   "source": [
    "### Square Feet, Bedroom Count, and Bathroom Count\n",
    "\n",
    "As per the project requirements the first pass of modeling will only use the square_feet, bedroom_count, and bathroom_count features. After we'll try using different features depending on which algorithm gives us the best model.\n",
    "\n",
    "#### Linear Regression\n",
    "\n",
    "We'll start with a linear regression model."
   ]
  },
  {
   "cell_type": "code",
   "execution_count": 13,
   "id": "74558ea0-62b9-41cd-b004-417249c54e5f",
   "metadata": {},
   "outputs": [
    {
     "data": {
      "text/plain": [
       "0.24191751154448216"
      ]
     },
     "execution_count": 13,
     "metadata": {},
     "output_type": "execute_result"
    }
   ],
   "source": [
    "model = LinearRegression()\n",
    "model.fit(X_train[feature_set_1], y_train)\n",
    "\n",
    "r2_score(y_train, model.predict(X_train[feature_set_1]))"
   ]
  },
  {
   "cell_type": "code",
   "execution_count": 14,
   "id": "5c46d33c-6c47-4dfc-a0db-ab5a4ed616c3",
   "metadata": {},
   "outputs": [
    {
     "data": {
      "text/plain": [
       "228459.1557764831"
      ]
     },
     "execution_count": 14,
     "metadata": {},
     "output_type": "execute_result"
    }
   ],
   "source": [
    "mean_squared_error(y_train, model.predict(X_train[feature_set_1]), squared = False)"
   ]
  },
  {
   "cell_type": "code",
   "execution_count": 15,
   "id": "a9829906-0295-4c09-811d-09295071a576",
   "metadata": {},
   "outputs": [],
   "source": [
    "results['linear_regression'] = {\n",
    "    'RMSE' : mean_squared_error(y_train, model.predict(X_train[feature_set_1]), squared = False),\n",
    "    'R^2' : r2_score(y_train, model.predict(X_train[feature_set_1])),\n",
    "    'RMSE_val' : mean_squared_error(y_validate, model.predict(X_validate[feature_set_1]), squared = False),\n",
    "    'R^2_val' : r2_score(y_validate, model.predict(X_validate[feature_set_1]))\n",
    "}"
   ]
  },
  {
   "cell_type": "markdown",
   "id": "15bda522-ea57-4572-a1ad-7a94dc11784b",
   "metadata": {},
   "source": [
    "#### Polynomial Regression\n",
    "\n",
    "Next we'll try a polynomial regression model."
   ]
  },
  {
   "cell_type": "code",
   "execution_count": 16,
   "id": "00c390c3-9b8c-473e-a33c-159ebd3ed352",
   "metadata": {},
   "outputs": [
    {
     "data": {
      "text/plain": [
       "0.24387184724343092"
      ]
     },
     "execution_count": 16,
     "metadata": {},
     "output_type": "execute_result"
    }
   ],
   "source": [
    "poly = PolynomialFeatures(degree = 2, include_bias = False, interaction_only = False)\n",
    "poly.fit(X_train[feature_set_1])\n",
    "\n",
    "X_train_poly = pd.DataFrame(\n",
    "    poly.transform(X_train[feature_set_1]),\n",
    "    columns = poly.get_feature_names(X_train[feature_set_1].columns),\n",
    "    index = X_train[feature_set_1].index\n",
    ")\n",
    "\n",
    "model = LinearRegression()\n",
    "model.fit(X_train_poly, y_train)\n",
    "\n",
    "r2_score(y_train, model.predict(X_train_poly))"
   ]
  },
  {
   "cell_type": "code",
   "execution_count": 17,
   "id": "753954c8-5f7c-499f-a724-b5ef962246b0",
   "metadata": {},
   "outputs": [
    {
     "data": {
      "text/plain": [
       "228164.48202908624"
      ]
     },
     "execution_count": 17,
     "metadata": {},
     "output_type": "execute_result"
    }
   ],
   "source": [
    "mean_squared_error(y_train, model.predict(X_train_poly), squared = False)"
   ]
  },
  {
   "cell_type": "markdown",
   "id": "b074e8f7-173a-4e18-bce2-af1f3b0f9453",
   "metadata": {},
   "source": [
    "Before we make predictions on validate we need to prepare the X_validate set with the polynomial features."
   ]
  },
  {
   "cell_type": "code",
   "execution_count": 18,
   "id": "bcd0f6ff-d1e5-4a12-8e3d-efb973c1bc65",
   "metadata": {},
   "outputs": [],
   "source": [
    "poly = PolynomialFeatures(degree = 2, include_bias = False, interaction_only = False)\n",
    "poly.fit(X_validate[feature_set_1])\n",
    "\n",
    "X_validate_poly = pd.DataFrame(\n",
    "    poly.transform(X_validate[feature_set_1]),\n",
    "    columns = poly.get_feature_names(X_validate[feature_set_1].columns),\n",
    "    index = X_validate[feature_set_1].index\n",
    ")"
   ]
  },
  {
   "cell_type": "code",
   "execution_count": 19,
   "id": "9122cd22-ba4a-4899-b390-43df3d219273",
   "metadata": {},
   "outputs": [],
   "source": [
    "results['polynomial_regression'] = {\n",
    "    'RMSE' : mean_squared_error(y_train, model.predict(X_train_poly), squared = False),\n",
    "    'R^2' : r2_score(y_train, model.predict(X_train_poly)),\n",
    "    'RMSE_val' : mean_squared_error(y_validate, model.predict(X_validate_poly), squared = False),\n",
    "    'R^2_val' : r2_score(y_validate, model.predict(X_validate_poly))\n",
    "}"
   ]
  },
  {
   "cell_type": "markdown",
   "id": "c2856671-d00a-4aa0-aa71-689c02b0d75f",
   "metadata": {},
   "source": [
    "#### Polynomial Regression Interactions Only\n",
    "\n",
    "Now let's try polynomial regression with interactions only."
   ]
  },
  {
   "cell_type": "code",
   "execution_count": 20,
   "id": "de85f25b-7518-435e-bdfb-856f98059b9b",
   "metadata": {},
   "outputs": [
    {
     "data": {
      "text/plain": [
       "0.24224844372732957"
      ]
     },
     "execution_count": 20,
     "metadata": {},
     "output_type": "execute_result"
    }
   ],
   "source": [
    "poly = PolynomialFeatures(degree = 2, include_bias = False, interaction_only = True)\n",
    "poly.fit(X_train[feature_set_1])\n",
    "\n",
    "X_train_poly = pd.DataFrame(\n",
    "    poly.transform(X_train[feature_set_1]),\n",
    "    columns = poly.get_feature_names(X_train[feature_set_1].columns),\n",
    "    index = X_train[feature_set_1].index\n",
    ")\n",
    "\n",
    "model = LinearRegression()\n",
    "model.fit(X_train_poly, y_train)\n",
    "\n",
    "r2_score(y_train, model.predict(X_train_poly))"
   ]
  },
  {
   "cell_type": "code",
   "execution_count": 21,
   "id": "03d10a56-fc19-40cb-a2dd-72d38702d13a",
   "metadata": {},
   "outputs": [
    {
     "data": {
      "text/plain": [
       "228409.28472608118"
      ]
     },
     "execution_count": 21,
     "metadata": {},
     "output_type": "execute_result"
    }
   ],
   "source": [
    "mean_squared_error(y_train, model.predict(X_train_poly), squared = False)"
   ]
  },
  {
   "cell_type": "code",
   "execution_count": 22,
   "id": "3dcd15c5-f856-406f-bcf6-e893dd0c0ae6",
   "metadata": {},
   "outputs": [],
   "source": [
    "# We have to prepare the validate set again\n",
    "\n",
    "poly = PolynomialFeatures(degree = 2, include_bias = False, interaction_only = True)\n",
    "poly.fit(X_validate[feature_set_1])\n",
    "\n",
    "X_validate_poly = pd.DataFrame(\n",
    "    poly.transform(X_validate[feature_set_1]),\n",
    "    columns = poly.get_feature_names(X_validate[feature_set_1].columns),\n",
    "    index = X_validate[feature_set_1].index\n",
    ")"
   ]
  },
  {
   "cell_type": "code",
   "execution_count": 23,
   "id": "fb084877-0d5a-4f49-a8f5-fbb87717ed21",
   "metadata": {},
   "outputs": [],
   "source": [
    "results['polynomial_regression_interactions_only'] = {\n",
    "    'RMSE' : mean_squared_error(y_train, model.predict(X_train_poly), squared = False),\n",
    "    'R^2' : r2_score(y_train, model.predict(X_train_poly)),\n",
    "    'RMSE_val' : mean_squared_error(y_validate, model.predict(X_validate_poly), squared = False),\n",
    "    'R^2_val' : r2_score(y_validate, model.predict(X_validate_poly))\n",
    "}"
   ]
  },
  {
   "cell_type": "markdown",
   "id": "060fb459-5cf0-43f8-8401-680bbef28b68",
   "metadata": {},
   "source": [
    "#### Tweedie Regressor\n",
    "\n",
    "Finally, let's try the tweedie regressor with power set to 0 since we'll assume a normal distribution."
   ]
  },
  {
   "cell_type": "code",
   "execution_count": 24,
   "id": "4740de6b-234d-403c-8a87-57efeacea2e2",
   "metadata": {},
   "outputs": [
    {
     "data": {
      "text/plain": [
       "0.24191751154448216"
      ]
     },
     "execution_count": 24,
     "metadata": {},
     "output_type": "execute_result"
    }
   ],
   "source": [
    "model = TweedieRegressor(power = 0, alpha = 0)\n",
    "model.fit(X_train[feature_set_1], y_train)\n",
    "\n",
    "r2_score(y_train, model.predict(X_train[feature_set_1]))"
   ]
  },
  {
   "cell_type": "code",
   "execution_count": 25,
   "id": "af75b4c6-fc32-4072-8c2c-93a3456875b5",
   "metadata": {},
   "outputs": [
    {
     "data": {
      "text/plain": [
       "228459.1557764831"
      ]
     },
     "execution_count": 25,
     "metadata": {},
     "output_type": "execute_result"
    }
   ],
   "source": [
    "mean_squared_error(y_train, model.predict(X_train[feature_set_1]), squared = False)"
   ]
  },
  {
   "cell_type": "code",
   "execution_count": 26,
   "id": "0c484d91-a098-43ed-8b77-190b5bb7db90",
   "metadata": {},
   "outputs": [],
   "source": [
    "results['tweedie_regressor'] = {\n",
    "    'RMSE' : mean_squared_error(y_train, model.predict(X_train[feature_set_1]), squared = False),\n",
    "    'R^2' : r2_score(y_train, model.predict(X_train[feature_set_1])),\n",
    "    'RMSE_val' : mean_squared_error(y_validate, model.predict(X_validate[feature_set_1]), squared = False),\n",
    "    'R^2_val' : r2_score(y_validate, model.predict(X_validate[feature_set_1]))\n",
    "}"
   ]
  },
  {
   "cell_type": "markdown",
   "id": "511eb398-c5b7-4e13-a8b0-2aeff2c52baa",
   "metadata": {},
   "source": [
    "#### Results\n",
    "\n",
    "Now let's see the results of our first pass at modeling."
   ]
  },
  {
   "cell_type": "code",
   "execution_count": 27,
   "id": "edfe3256-3067-4058-82e2-1477eb57a529",
   "metadata": {},
   "outputs": [
    {
     "data": {
      "text/html": [
       "<div>\n",
       "<style scoped>\n",
       "    .dataframe tbody tr th:only-of-type {\n",
       "        vertical-align: middle;\n",
       "    }\n",
       "\n",
       "    .dataframe tbody tr th {\n",
       "        vertical-align: top;\n",
       "    }\n",
       "\n",
       "    .dataframe thead th {\n",
       "        text-align: right;\n",
       "    }\n",
       "</style>\n",
       "<table border=\"1\" class=\"dataframe\">\n",
       "  <thead>\n",
       "    <tr style=\"text-align: right;\">\n",
       "      <th></th>\n",
       "      <th>RMSE</th>\n",
       "      <th>R^2</th>\n",
       "      <th>RMSE_val</th>\n",
       "      <th>R^2_val</th>\n",
       "    </tr>\n",
       "  </thead>\n",
       "  <tbody>\n",
       "    <tr>\n",
       "      <th>baseline</th>\n",
       "      <td>262391.846223</td>\n",
       "      <td>0.000000</td>\n",
       "      <td>674331.770521</td>\n",
       "      <td>-0.046451</td>\n",
       "    </tr>\n",
       "    <tr>\n",
       "      <th>linear_regression</th>\n",
       "      <td>228459.155776</td>\n",
       "      <td>0.241918</td>\n",
       "      <td>571651.969436</td>\n",
       "      <td>0.247970</td>\n",
       "    </tr>\n",
       "    <tr>\n",
       "      <th>polynomial_regression</th>\n",
       "      <td>228164.482029</td>\n",
       "      <td>0.243872</td>\n",
       "      <td>569616.052898</td>\n",
       "      <td>0.253317</td>\n",
       "    </tr>\n",
       "    <tr>\n",
       "      <th>polynomial_regression_interactions_only</th>\n",
       "      <td>228409.284726</td>\n",
       "      <td>0.242248</td>\n",
       "      <td>564340.381027</td>\n",
       "      <td>0.267084</td>\n",
       "    </tr>\n",
       "    <tr>\n",
       "      <th>tweedie_regressor</th>\n",
       "      <td>228459.155776</td>\n",
       "      <td>0.241918</td>\n",
       "      <td>571651.969536</td>\n",
       "      <td>0.247970</td>\n",
       "    </tr>\n",
       "  </tbody>\n",
       "</table>\n",
       "</div>"
      ],
      "text/plain": [
       "                                                  RMSE       R^2  \\\n",
       "baseline                                 262391.846223  0.000000   \n",
       "linear_regression                        228459.155776  0.241918   \n",
       "polynomial_regression                    228164.482029  0.243872   \n",
       "polynomial_regression_interactions_only  228409.284726  0.242248   \n",
       "tweedie_regressor                        228459.155776  0.241918   \n",
       "\n",
       "                                              RMSE_val   R^2_val  \n",
       "baseline                                 674331.770521 -0.046451  \n",
       "linear_regression                        571651.969436  0.247970  \n",
       "polynomial_regression                    569616.052898  0.253317  \n",
       "polynomial_regression_interactions_only  564340.381027  0.267084  \n",
       "tweedie_regressor                        571651.969536  0.247970  "
      ]
     },
     "execution_count": 27,
     "metadata": {},
     "output_type": "execute_result"
    }
   ],
   "source": [
    "pd.DataFrame(results).T"
   ]
  },
  {
   "cell_type": "markdown",
   "id": "e4afaa44-5fc3-4c9c-aca8-c22fe20f0cca",
   "metadata": {},
   "source": [
    "All the models have similar performance. We'll move forward with polynomial regression since has the best performance on train and remains consistent on validate."
   ]
  },
  {
   "cell_type": "markdown",
   "id": "b575bbf5-5337-4dcd-8c78-6b82585b2488",
   "metadata": {},
   "source": [
    "### Trying Different Features\n",
    "\n",
    "Now let's try introducing other features into our polynomial regression model."
   ]
  },
  {
   "cell_type": "markdown",
   "id": "66305046-8839-4e47-ab47-8f8efc5020d2",
   "metadata": {},
   "source": [
    "#### Amenities\n",
    "\n",
    "Let's introduce the amenities feature into our model."
   ]
  },
  {
   "cell_type": "code",
   "execution_count": 28,
   "id": "0ffa8d2b-037e-46af-986e-c12d32622960",
   "metadata": {},
   "outputs": [],
   "source": [
    "feature_set_2 = [\n",
    "    'square_feet',\n",
    "    'bedroom_count',\n",
    "    'bathroom_count',\n",
    "    'amenities'\n",
    "]"
   ]
  },
  {
   "cell_type": "code",
   "execution_count": 29,
   "id": "cfd37942-ff7d-472a-88a7-f10dd7d16f5e",
   "metadata": {},
   "outputs": [
    {
     "data": {
      "text/plain": [
       "0.2507222971149823"
      ]
     },
     "execution_count": 29,
     "metadata": {},
     "output_type": "execute_result"
    }
   ],
   "source": [
    "poly = PolynomialFeatures(degree = 2, include_bias = False, interaction_only = False)\n",
    "poly.fit(X_train[feature_set_2])\n",
    "\n",
    "X_train_poly = pd.DataFrame(\n",
    "    poly.transform(X_train[feature_set_2]),\n",
    "    columns = poly.get_feature_names(X_train[feature_set_2].columns),\n",
    "    index = X_train[feature_set_2].index\n",
    ")\n",
    "\n",
    "model = LinearRegression()\n",
    "model.fit(X_train_poly, y_train)\n",
    "\n",
    "r2_score(y_train, model.predict(X_train_poly))"
   ]
  },
  {
   "cell_type": "code",
   "execution_count": 30,
   "id": "6dc034a9-5ce8-452e-8e90-0c513ba18e6f",
   "metadata": {},
   "outputs": [
    {
     "data": {
      "text/plain": [
       "227128.55598003216"
      ]
     },
     "execution_count": 30,
     "metadata": {},
     "output_type": "execute_result"
    }
   ],
   "source": [
    "mean_squared_error(y_train, model.predict(X_train_poly), squared = False)"
   ]
  },
  {
   "cell_type": "code",
   "execution_count": 31,
   "id": "08dbcb89-fc16-48ad-8715-6f805c15e4fa",
   "metadata": {},
   "outputs": [],
   "source": [
    "# We have to prepare the validate set again\n",
    "\n",
    "poly = PolynomialFeatures(degree = 2, include_bias = False, interaction_only = False)\n",
    "poly.fit(X_validate[feature_set_2])\n",
    "\n",
    "X_validate_poly = pd.DataFrame(\n",
    "    poly.transform(X_validate[feature_set_2]),\n",
    "    columns = poly.get_feature_names(X_validate[feature_set_2].columns),\n",
    "    index = X_validate[feature_set_2].index\n",
    ")"
   ]
  },
  {
   "cell_type": "code",
   "execution_count": 32,
   "id": "6cabb724-1e26-4779-843b-62ce8799190d",
   "metadata": {},
   "outputs": [],
   "source": [
    "results['poly_regression_with_amenities'] = {\n",
    "    'RMSE' : mean_squared_error(y_train, model.predict(X_train_poly), squared = False),\n",
    "    'R^2' : r2_score(y_train, model.predict(X_train_poly)),\n",
    "    'RMSE_val' : mean_squared_error(y_validate, model.predict(X_validate_poly), squared = False),\n",
    "    'R^2_val' : r2_score(y_validate, model.predict(X_validate_poly))\n",
    "}"
   ]
  },
  {
   "cell_type": "markdown",
   "id": "a9b12324-8cde-4a96-aa94-75e3a6fc08a6",
   "metadata": {},
   "source": [
    "#### Building Quality\n",
    "\n",
    "Next let's introduce building quality into the model."
   ]
  },
  {
   "cell_type": "code",
   "execution_count": 33,
   "id": "8a1715ea-7d93-41ef-a617-b80572ee4630",
   "metadata": {},
   "outputs": [],
   "source": [
    "feature_set_3 = [\n",
    "    'square_feet',\n",
    "    'bedroom_count',\n",
    "    'bathroom_count',\n",
    "    'building_quality'\n",
    "]"
   ]
  },
  {
   "cell_type": "code",
   "execution_count": 34,
   "id": "ff4982a9-4237-49b9-b7ff-9bc965a24286",
   "metadata": {},
   "outputs": [
    {
     "data": {
      "text/plain": [
       "0.24780418454540953"
      ]
     },
     "execution_count": 34,
     "metadata": {},
     "output_type": "execute_result"
    }
   ],
   "source": [
    "poly = PolynomialFeatures(degree = 2, include_bias = False, interaction_only = False)\n",
    "poly.fit(X_train[feature_set_3])\n",
    "\n",
    "X_train_poly = pd.DataFrame(\n",
    "    poly.transform(X_train[feature_set_3]),\n",
    "    columns = poly.get_feature_names(X_train[feature_set_3].columns),\n",
    "    index = X_train[feature_set_3].index\n",
    ")\n",
    "\n",
    "model = LinearRegression()\n",
    "model.fit(X_train_poly, y_train)\n",
    "\n",
    "r2_score(y_train, model.predict(X_train_poly))"
   ]
  },
  {
   "cell_type": "code",
   "execution_count": 35,
   "id": "d2a30a8f-4ca6-428d-853e-32e3777c146f",
   "metadata": {},
   "outputs": [
    {
     "data": {
      "text/plain": [
       "227570.40993368268"
      ]
     },
     "execution_count": 35,
     "metadata": {},
     "output_type": "execute_result"
    }
   ],
   "source": [
    "mean_squared_error(y_train, model.predict(X_train_poly), squared = False)"
   ]
  },
  {
   "cell_type": "code",
   "execution_count": 36,
   "id": "62b4b114-de5b-4934-ba03-e954c37ff8b7",
   "metadata": {},
   "outputs": [],
   "source": [
    "# We have to prepare the validate set again\n",
    "\n",
    "poly = PolynomialFeatures(degree = 2, include_bias = False, interaction_only = False)\n",
    "poly.fit(X_validate[feature_set_3])\n",
    "\n",
    "X_validate_poly = pd.DataFrame(\n",
    "    poly.transform(X_validate[feature_set_3]),\n",
    "    columns = poly.get_feature_names(X_validate[feature_set_3].columns),\n",
    "    index = X_validate[feature_set_3].index\n",
    ")"
   ]
  },
  {
   "cell_type": "code",
   "execution_count": 37,
   "id": "4539c05e-649c-4fbd-b467-708beb552074",
   "metadata": {},
   "outputs": [],
   "source": [
    "results['poly_regression_with_building_quality'] = {\n",
    "    'RMSE' : mean_squared_error(y_train, model.predict(X_train_poly), squared = False),\n",
    "    'R^2' : r2_score(y_train, model.predict(X_train_poly)),\n",
    "    'RMSE_val' : mean_squared_error(y_validate, model.predict(X_validate_poly), squared = False),\n",
    "    'R^2_val' : r2_score(y_validate, model.predict(X_validate_poly))\n",
    "}"
   ]
  },
  {
   "cell_type": "markdown",
   "id": "0adc1419-9ac8-4e99-b808-86b34b53fcb8",
   "metadata": {},
   "source": [
    "#### Property Age\n",
    "\n",
    "Now we'll try property age."
   ]
  },
  {
   "cell_type": "code",
   "execution_count": 38,
   "id": "174e9674-74c4-4812-9985-79cf3333d715",
   "metadata": {},
   "outputs": [],
   "source": [
    "feature_set_4 = [\n",
    "    'square_feet',\n",
    "    'bedroom_count',\n",
    "    'bathroom_count',\n",
    "    'property_age'\n",
    "]"
   ]
  },
  {
   "cell_type": "code",
   "execution_count": 39,
   "id": "a996497c-fa22-4dcb-a037-a13bc5c735f1",
   "metadata": {},
   "outputs": [
    {
     "data": {
      "text/plain": [
       "0.24920769598729364"
      ]
     },
     "execution_count": 39,
     "metadata": {},
     "output_type": "execute_result"
    }
   ],
   "source": [
    "poly = PolynomialFeatures(degree = 2, include_bias = False, interaction_only = False)\n",
    "poly.fit(X_train[feature_set_4])\n",
    "\n",
    "X_train_poly = pd.DataFrame(\n",
    "    poly.transform(X_train[feature_set_4]),\n",
    "    columns = poly.get_feature_names(X_train[feature_set_4].columns),\n",
    "    index = X_train[feature_set_4].index\n",
    ")\n",
    "\n",
    "model = LinearRegression()\n",
    "model.fit(X_train_poly, y_train)\n",
    "\n",
    "r2_score(y_train, model.predict(X_train_poly))"
   ]
  },
  {
   "cell_type": "code",
   "execution_count": 40,
   "id": "aca8a1fc-2d28-4998-af4a-1a4cbb255e22",
   "metadata": {},
   "outputs": [
    {
     "data": {
      "text/plain": [
       "227358.00061375354"
      ]
     },
     "execution_count": 40,
     "metadata": {},
     "output_type": "execute_result"
    }
   ],
   "source": [
    "mean_squared_error(y_train, model.predict(X_train_poly), squared = False)"
   ]
  },
  {
   "cell_type": "code",
   "execution_count": 41,
   "id": "8404b7d8-3310-4333-98c1-b9a643e3b310",
   "metadata": {},
   "outputs": [],
   "source": [
    "# We have to prepare the validate set again\n",
    "\n",
    "poly = PolynomialFeatures(degree = 2, include_bias = False, interaction_only = False)\n",
    "poly.fit(X_validate[feature_set_4])\n",
    "\n",
    "X_validate_poly = pd.DataFrame(\n",
    "    poly.transform(X_validate[feature_set_4]),\n",
    "    columns = poly.get_feature_names(X_validate[feature_set_4].columns),\n",
    "    index = X_validate[feature_set_4].index\n",
    ")"
   ]
  },
  {
   "cell_type": "code",
   "execution_count": 42,
   "id": "98c0d64f-ac73-4228-95d3-eb4bf08c04bd",
   "metadata": {},
   "outputs": [],
   "source": [
    "results['poly_regression_with_property_age'] = {\n",
    "    'RMSE' : mean_squared_error(y_train, model.predict(X_train_poly), squared = False),\n",
    "    'R^2' : r2_score(y_train, model.predict(X_train_poly)),\n",
    "    'RMSE_val' : mean_squared_error(y_validate, model.predict(X_validate_poly), squared = False),\n",
    "    'R^2_val' : r2_score(y_validate, model.predict(X_validate_poly))\n",
    "}"
   ]
  },
  {
   "cell_type": "markdown",
   "id": "7cef7377-f1ed-4242-b697-f30ee82ef086",
   "metadata": {},
   "source": [
    "#### All Features\n",
    "\n",
    "Finally, let's try a model with all features."
   ]
  },
  {
   "cell_type": "code",
   "execution_count": 43,
   "id": "9a6931b2-83d6-4e1e-8b1e-f415559fad9c",
   "metadata": {},
   "outputs": [],
   "source": [
    "feature_set_5 = [\n",
    "    'square_feet',\n",
    "    'bedroom_count',\n",
    "    'bathroom_count',\n",
    "    'amenities',\n",
    "    'building_quality',\n",
    "    'property_age'\n",
    "]"
   ]
  },
  {
   "cell_type": "code",
   "execution_count": 44,
   "id": "01bf249c-e96a-4f9b-b99e-cd0d5cebc9c5",
   "metadata": {},
   "outputs": [
    {
     "data": {
      "text/plain": [
       "0.27418273142647764"
      ]
     },
     "execution_count": 44,
     "metadata": {},
     "output_type": "execute_result"
    }
   ],
   "source": [
    "poly = PolynomialFeatures(degree = 2, include_bias = False, interaction_only = False)\n",
    "poly.fit(X_train[feature_set_5])\n",
    "\n",
    "X_train_poly = pd.DataFrame(\n",
    "    poly.transform(X_train[feature_set_5]),\n",
    "    columns = poly.get_feature_names(X_train[feature_set_5].columns),\n",
    "    index = X_train[feature_set_5].index\n",
    ")\n",
    "\n",
    "model = LinearRegression()\n",
    "model.fit(X_train_poly, y_train)\n",
    "\n",
    "r2_score(y_train, model.predict(X_train_poly))"
   ]
  },
  {
   "cell_type": "code",
   "execution_count": 45,
   "id": "4477c8ec-75f3-4314-9aea-07f925e11428",
   "metadata": {},
   "outputs": [
    {
     "data": {
      "text/plain": [
       "223544.49717234555"
      ]
     },
     "execution_count": 45,
     "metadata": {},
     "output_type": "execute_result"
    }
   ],
   "source": [
    "mean_squared_error(y_train, model.predict(X_train_poly), squared = False)"
   ]
  },
  {
   "cell_type": "code",
   "execution_count": 46,
   "id": "b636dede-e0f0-4714-8ee6-9e4caa797761",
   "metadata": {},
   "outputs": [],
   "source": [
    "# We have to prepare the validate set again\n",
    "\n",
    "poly = PolynomialFeatures(degree = 2, include_bias = False, interaction_only = False)\n",
    "poly.fit(X_validate[feature_set_5])\n",
    "\n",
    "X_validate_poly = pd.DataFrame(\n",
    "    poly.transform(X_validate[feature_set_5]),\n",
    "    columns = poly.get_feature_names(X_validate[feature_set_5].columns),\n",
    "    index = X_validate[feature_set_5].index\n",
    ")"
   ]
  },
  {
   "cell_type": "code",
   "execution_count": 47,
   "id": "bfcadb28-7433-4065-b0c7-c2c3d7a8df4c",
   "metadata": {},
   "outputs": [],
   "source": [
    "results['poly_regression_all_features'] = {\n",
    "    'RMSE' : mean_squared_error(y_train, model.predict(X_train_poly), squared = False),\n",
    "    'R^2' : r2_score(y_train, model.predict(X_train_poly)),\n",
    "    'RMSE_val' : mean_squared_error(y_validate, model.predict(X_validate_poly), squared = False),\n",
    "    'R^2_val' : r2_score(y_validate, model.predict(X_validate_poly))\n",
    "}"
   ]
  },
  {
   "cell_type": "markdown",
   "id": "adbf1b0c-ece5-4a81-8c45-602a9a643589",
   "metadata": {},
   "source": [
    "#### Results\n",
    "\n",
    "Let's see the final results."
   ]
  },
  {
   "cell_type": "code",
   "execution_count": 48,
   "id": "ada5a792-5c7f-43e2-a964-6876dac4bfbf",
   "metadata": {},
   "outputs": [
    {
     "data": {
      "text/html": [
       "<div>\n",
       "<style scoped>\n",
       "    .dataframe tbody tr th:only-of-type {\n",
       "        vertical-align: middle;\n",
       "    }\n",
       "\n",
       "    .dataframe tbody tr th {\n",
       "        vertical-align: top;\n",
       "    }\n",
       "\n",
       "    .dataframe thead th {\n",
       "        text-align: right;\n",
       "    }\n",
       "</style>\n",
       "<table border=\"1\" class=\"dataframe\">\n",
       "  <thead>\n",
       "    <tr style=\"text-align: right;\">\n",
       "      <th></th>\n",
       "      <th>RMSE</th>\n",
       "      <th>R^2</th>\n",
       "      <th>RMSE_val</th>\n",
       "      <th>R^2_val</th>\n",
       "    </tr>\n",
       "  </thead>\n",
       "  <tbody>\n",
       "    <tr>\n",
       "      <th>baseline</th>\n",
       "      <td>262391.846223</td>\n",
       "      <td>0.000000</td>\n",
       "      <td>674331.770521</td>\n",
       "      <td>-0.046451</td>\n",
       "    </tr>\n",
       "    <tr>\n",
       "      <th>linear_regression</th>\n",
       "      <td>228459.155776</td>\n",
       "      <td>0.241918</td>\n",
       "      <td>571651.969436</td>\n",
       "      <td>0.247970</td>\n",
       "    </tr>\n",
       "    <tr>\n",
       "      <th>polynomial_regression</th>\n",
       "      <td>228164.482029</td>\n",
       "      <td>0.243872</td>\n",
       "      <td>569616.052898</td>\n",
       "      <td>0.253317</td>\n",
       "    </tr>\n",
       "    <tr>\n",
       "      <th>polynomial_regression_interactions_only</th>\n",
       "      <td>228409.284726</td>\n",
       "      <td>0.242248</td>\n",
       "      <td>564340.381027</td>\n",
       "      <td>0.267084</td>\n",
       "    </tr>\n",
       "    <tr>\n",
       "      <th>tweedie_regressor</th>\n",
       "      <td>228459.155776</td>\n",
       "      <td>0.241918</td>\n",
       "      <td>571651.969536</td>\n",
       "      <td>0.247970</td>\n",
       "    </tr>\n",
       "    <tr>\n",
       "      <th>poly_regression_with_amenities</th>\n",
       "      <td>227128.555980</td>\n",
       "      <td>0.250722</td>\n",
       "      <td>568498.322933</td>\n",
       "      <td>0.256245</td>\n",
       "    </tr>\n",
       "    <tr>\n",
       "      <th>poly_regression_with_building_quality</th>\n",
       "      <td>227570.409934</td>\n",
       "      <td>0.247804</td>\n",
       "      <td>567458.104506</td>\n",
       "      <td>0.258964</td>\n",
       "    </tr>\n",
       "    <tr>\n",
       "      <th>poly_regression_with_property_age</th>\n",
       "      <td>227358.000614</td>\n",
       "      <td>0.249208</td>\n",
       "      <td>579600.948824</td>\n",
       "      <td>0.226910</td>\n",
       "    </tr>\n",
       "    <tr>\n",
       "      <th>poly_regression_all_features</th>\n",
       "      <td>223544.497172</td>\n",
       "      <td>0.274183</td>\n",
       "      <td>576981.836722</td>\n",
       "      <td>0.233881</td>\n",
       "    </tr>\n",
       "  </tbody>\n",
       "</table>\n",
       "</div>"
      ],
      "text/plain": [
       "                                                  RMSE       R^2  \\\n",
       "baseline                                 262391.846223  0.000000   \n",
       "linear_regression                        228459.155776  0.241918   \n",
       "polynomial_regression                    228164.482029  0.243872   \n",
       "polynomial_regression_interactions_only  228409.284726  0.242248   \n",
       "tweedie_regressor                        228459.155776  0.241918   \n",
       "poly_regression_with_amenities           227128.555980  0.250722   \n",
       "poly_regression_with_building_quality    227570.409934  0.247804   \n",
       "poly_regression_with_property_age        227358.000614  0.249208   \n",
       "poly_regression_all_features             223544.497172  0.274183   \n",
       "\n",
       "                                              RMSE_val   R^2_val  \n",
       "baseline                                 674331.770521 -0.046451  \n",
       "linear_regression                        571651.969436  0.247970  \n",
       "polynomial_regression                    569616.052898  0.253317  \n",
       "polynomial_regression_interactions_only  564340.381027  0.267084  \n",
       "tweedie_regressor                        571651.969536  0.247970  \n",
       "poly_regression_with_amenities           568498.322933  0.256245  \n",
       "poly_regression_with_building_quality    567458.104506  0.258964  \n",
       "poly_regression_with_property_age        579600.948824  0.226910  \n",
       "poly_regression_all_features             576981.836722  0.233881  "
      ]
     },
     "execution_count": 48,
     "metadata": {},
     "output_type": "execute_result"
    }
   ],
   "source": [
    "pd.DataFrame(results).T"
   ]
  },
  {
   "cell_type": "markdown",
   "id": "51485531-3c4b-42cb-bd73-5cd29da819a4",
   "metadata": {},
   "source": [
    "Adding total amenities to the model improved the performance and it remains consistent with the validate set."
   ]
  },
  {
   "cell_type": "markdown",
   "id": "71e18901-d5d3-4dd7-9478-14d4c0e0bf2b",
   "metadata": {},
   "source": [
    "### Trying a Different Model For Each County\n",
    "\n",
    "Now we'll try separating the data by county and see if this helps improve model performance."
   ]
  },
  {
   "cell_type": "code",
   "execution_count": 49,
   "id": "9bc7ee96-08cd-443e-a5d1-66a52c12f2cb",
   "metadata": {},
   "outputs": [],
   "source": [
    "los_angeles_county = lambda df: df.fed_code_6037 == 1\n",
    "orange_county = lambda df: df.fed_code_6059 == 1\n",
    "ventura_county = lambda df: df.fed_code_6111 == 1"
   ]
  },
  {
   "cell_type": "code",
   "execution_count": 50,
   "id": "83f92ad7-9938-40d3-a7eb-248f8cc19113",
   "metadata": {},
   "outputs": [],
   "source": [
    "# train[los_angeles_county(train)].info()"
   ]
  },
  {
   "cell_type": "markdown",
   "id": "e96c79ac-c62d-46c5-bd11-81c6724eeb9a",
   "metadata": {},
   "source": [
    "#### Los Angeles County\n",
    "\n",
    "Let's try building our model using only properties in Los Angeles County."
   ]
  },
  {
   "cell_type": "code",
   "execution_count": 51,
   "id": "92d36768-c06d-4e09-80aa-92640169bfed",
   "metadata": {},
   "outputs": [
    {
     "data": {
      "text/plain": [
       "0.1929838032528538"
      ]
     },
     "execution_count": 51,
     "metadata": {},
     "output_type": "execute_result"
    }
   ],
   "source": [
    "# We will use feature_set_2 since this set of features includes only the amenities feature\n",
    "\n",
    "X_train_6037 = train[los_angeles_county(train)][feature_set_2]\n",
    "y_train_6037 = train[los_angeles_county(train)].property_tax_assessed_values\n",
    "\n",
    "poly = PolynomialFeatures(degree = 2, include_bias = False, interaction_only = False)\n",
    "poly.fit(X_train_6037)\n",
    "\n",
    "X_train_poly = pd.DataFrame(\n",
    "    poly.transform(X_train_6037),\n",
    "    columns = poly.get_feature_names(X_train_6037.columns),\n",
    "    index = X_train_6037.index\n",
    ")\n",
    "\n",
    "model = LinearRegression()\n",
    "model.fit(X_train_poly, y_train_6037)\n",
    "\n",
    "r2_score(y_train_6037, model.predict(X_train_poly))"
   ]
  },
  {
   "cell_type": "code",
   "execution_count": 52,
   "id": "4f55a986-b006-4c79-a7f8-557f7476da62",
   "metadata": {},
   "outputs": [
    {
     "data": {
      "text/plain": [
       "230173.11449982203"
      ]
     },
     "execution_count": 52,
     "metadata": {},
     "output_type": "execute_result"
    }
   ],
   "source": [
    "mean_squared_error(y_train_6037, model.predict(X_train_poly), squared = False)"
   ]
  },
  {
   "cell_type": "code",
   "execution_count": 53,
   "id": "6d69fe97-2483-4ea7-9d65-da1f437c5182",
   "metadata": {},
   "outputs": [],
   "source": [
    "# We have to prepare the validate set again\n",
    "\n",
    "X_validate_6037 = validate[los_angeles_county(validate)][feature_set_2]\n",
    "y_validate_6037 = validate[los_angeles_county(validate)].property_tax_assessed_values\n",
    "\n",
    "poly = PolynomialFeatures(degree = 2, include_bias = False, interaction_only = False)\n",
    "poly.fit(X_validate_6037)\n",
    "\n",
    "X_validate_poly = pd.DataFrame(\n",
    "    poly.transform(X_validate_6037),\n",
    "    columns = poly.get_feature_names(X_validate_6037.columns),\n",
    "    index = X_validate_6037.index\n",
    ")"
   ]
  },
  {
   "cell_type": "code",
   "execution_count": 54,
   "id": "db9b81ed-be39-4578-bbda-3ad354889660",
   "metadata": {},
   "outputs": [],
   "source": [
    "results['los_angeles_county_only'] = {\n",
    "    'RMSE' : mean_squared_error(y_train_6037, model.predict(X_train_poly), squared = False),\n",
    "    'R^2' : r2_score(y_train_6037, model.predict(X_train_poly)),\n",
    "    'RMSE_val' : mean_squared_error(y_validate_6037, model.predict(X_validate_poly), squared = False),\n",
    "    'R^2_val' : r2_score(y_validate_6037, model.predict(X_validate_poly))\n",
    "}"
   ]
  },
  {
   "cell_type": "markdown",
   "id": "e05f5f94-a79e-475d-a9ff-f6d23e5b19e5",
   "metadata": {},
   "source": [
    "#### Orange County\n",
    "\n",
    "Now let's try the model only with properties in Orange County."
   ]
  },
  {
   "cell_type": "code",
   "execution_count": 55,
   "id": "228686e3-92d0-4778-9126-eb79626ac81b",
   "metadata": {},
   "outputs": [
    {
     "data": {
      "text/plain": [
       "0.308029281065225"
      ]
     },
     "execution_count": 55,
     "metadata": {},
     "output_type": "execute_result"
    }
   ],
   "source": [
    "# We will use feature_set_2 since this set of features includes only the amenities feature\n",
    "\n",
    "X_train_6059 = train[orange_county(train)][feature_set_2]\n",
    "y_train_6059 = train[orange_county(train)].property_tax_assessed_values\n",
    "\n",
    "poly = PolynomialFeatures(degree = 2, include_bias = False, interaction_only = False)\n",
    "poly.fit(X_train_6059)\n",
    "\n",
    "X_train_poly = pd.DataFrame(\n",
    "    poly.transform(X_train_6059),\n",
    "    columns = poly.get_feature_names(X_train_6059.columns),\n",
    "    index = X_train_6059.index\n",
    ")\n",
    "\n",
    "model = LinearRegression()\n",
    "model.fit(X_train_poly, y_train_6059)\n",
    "\n",
    "r2_score(y_train_6059, model.predict(X_train_poly))"
   ]
  },
  {
   "cell_type": "code",
   "execution_count": 56,
   "id": "78f4830a-a8a1-4594-9e1a-91a8751598b4",
   "metadata": {},
   "outputs": [
    {
     "data": {
      "text/plain": [
       "223687.578631957"
      ]
     },
     "execution_count": 56,
     "metadata": {},
     "output_type": "execute_result"
    }
   ],
   "source": [
    "mean_squared_error(y_train_6059, model.predict(X_train_poly), squared = False)"
   ]
  },
  {
   "cell_type": "code",
   "execution_count": 57,
   "id": "5cf0d01c-612d-49a0-840f-f25b54730a8c",
   "metadata": {},
   "outputs": [],
   "source": [
    "# We have to prepare the validate set again\n",
    "\n",
    "X_validate_6059 = validate[orange_county(validate)][feature_set_2]\n",
    "y_validate_6059 = validate[orange_county(validate)].property_tax_assessed_values\n",
    "\n",
    "poly = PolynomialFeatures(degree = 2, include_bias = False, interaction_only = False)\n",
    "poly.fit(X_validate_6059)\n",
    "\n",
    "X_validate_poly = pd.DataFrame(\n",
    "    poly.transform(X_validate_6059),\n",
    "    columns = poly.get_feature_names(X_validate_6059.columns),\n",
    "    index = X_validate_6059.index\n",
    ")"
   ]
  },
  {
   "cell_type": "code",
   "execution_count": 58,
   "id": "2ad14622-1073-4130-8ae4-21c41882c56f",
   "metadata": {},
   "outputs": [],
   "source": [
    "results['orange_county_only'] = {\n",
    "    'RMSE' : mean_squared_error(y_train_6059, model.predict(X_train_poly), squared = False),\n",
    "    'R^2' : r2_score(y_train_6059, model.predict(X_train_poly)),\n",
    "    'RMSE_val' : mean_squared_error(y_validate_6059, model.predict(X_validate_poly), squared = False),\n",
    "    'R^2_val' : r2_score(y_validate_6059, model.predict(X_validate_poly))\n",
    "}"
   ]
  },
  {
   "cell_type": "markdown",
   "id": "bc0ed470-7af5-432c-aab6-7140d2fa31be",
   "metadata": {},
   "source": [
    "#### Ventura County\n",
    "\n",
    "Finally, let's try our model with only properties in Ventura County."
   ]
  },
  {
   "cell_type": "code",
   "execution_count": 59,
   "id": "7b4fea85-c3a0-4cfa-9ac2-6d5afac40211",
   "metadata": {},
   "outputs": [
    {
     "data": {
      "text/plain": [
       "0.40694418717169123"
      ]
     },
     "execution_count": 59,
     "metadata": {},
     "output_type": "execute_result"
    }
   ],
   "source": [
    "# We will use feature_set_2 since this set of features includes only the amenities feature\n",
    "\n",
    "X_train_6111 = train[ventura_county(train)][feature_set_2]\n",
    "y_train_6111 = train[ventura_county(train)].property_tax_assessed_values\n",
    "\n",
    "poly = PolynomialFeatures(degree = 2, include_bias = False, interaction_only = False)\n",
    "poly.fit(X_train_6111)\n",
    "\n",
    "X_train_poly = pd.DataFrame(\n",
    "    poly.transform(X_train_6111),\n",
    "    columns = poly.get_feature_names(X_train_6111.columns),\n",
    "    index = X_train_6111.index\n",
    ")\n",
    "\n",
    "model = LinearRegression()\n",
    "model.fit(X_train_poly, y_train_6111)\n",
    "\n",
    "r2_score(y_train_6111, model.predict(X_train_poly))"
   ]
  },
  {
   "cell_type": "code",
   "execution_count": 60,
   "id": "46fef3aa-4968-4ea8-9f05-63a6db4a889f",
   "metadata": {},
   "outputs": [
    {
     "data": {
      "text/plain": [
       "184570.66937237233"
      ]
     },
     "execution_count": 60,
     "metadata": {},
     "output_type": "execute_result"
    }
   ],
   "source": [
    "mean_squared_error(y_train_6111, model.predict(X_train_poly), squared = False)"
   ]
  },
  {
   "cell_type": "code",
   "execution_count": 61,
   "id": "73c692ba-554c-423f-a036-8f3763754858",
   "metadata": {},
   "outputs": [],
   "source": [
    "# We have to prepare the validate set again\n",
    "\n",
    "X_validate_6111 = validate[ventura_county(validate)][feature_set_2]\n",
    "y_validate_6111 = validate[ventura_county(validate)].property_tax_assessed_values\n",
    "\n",
    "poly = PolynomialFeatures(degree = 2, include_bias = False, interaction_only = False)\n",
    "poly.fit(X_validate_6111)\n",
    "\n",
    "X_validate_poly = pd.DataFrame(\n",
    "    poly.transform(X_validate_6111),\n",
    "    columns = poly.get_feature_names(X_validate_6111.columns),\n",
    "    index = X_validate_6111.index\n",
    ")"
   ]
  },
  {
   "cell_type": "code",
   "execution_count": 62,
   "id": "fbc89b7b-e57c-4a0d-a33a-38d0d9557249",
   "metadata": {},
   "outputs": [],
   "source": [
    "results['ventura_county_only'] = {\n",
    "    'RMSE' : mean_squared_error(y_train_6111, model.predict(X_train_poly), squared = False),\n",
    "    'R^2' : r2_score(y_train_6111, model.predict(X_train_poly)),\n",
    "    'RMSE_val' : mean_squared_error(y_validate_6111, model.predict(X_validate_poly), squared = False),\n",
    "    'R^2_val' : r2_score(y_validate_6111, model.predict(X_validate_poly))\n",
    "}"
   ]
  },
  {
   "cell_type": "code",
   "execution_count": 63,
   "id": "0e30cc14-2f05-4972-9451-8727ebab3417",
   "metadata": {},
   "outputs": [],
   "source": [
    "# import evaluate"
   ]
  },
  {
   "cell_type": "code",
   "execution_count": 64,
   "id": "c1707208-cb05-4709-831c-53a8a33edbbd",
   "metadata": {},
   "outputs": [],
   "source": [
    "# evaluate.plot_residuals(y_validate_6111, model.predict(X_validate_poly))"
   ]
  },
  {
   "cell_type": "markdown",
   "id": "3adae8e4-9acc-4ba5-84b3-230b80ab04a3",
   "metadata": {},
   "source": [
    "#### Results\n",
    "\n",
    "Now let's see the results."
   ]
  },
  {
   "cell_type": "code",
   "execution_count": 65,
   "id": "9ebd318e-00ac-4c54-b981-152cb31e929d",
   "metadata": {},
   "outputs": [
    {
     "data": {
      "text/html": [
       "<div>\n",
       "<style scoped>\n",
       "    .dataframe tbody tr th:only-of-type {\n",
       "        vertical-align: middle;\n",
       "    }\n",
       "\n",
       "    .dataframe tbody tr th {\n",
       "        vertical-align: top;\n",
       "    }\n",
       "\n",
       "    .dataframe thead th {\n",
       "        text-align: right;\n",
       "    }\n",
       "</style>\n",
       "<table border=\"1\" class=\"dataframe\">\n",
       "  <thead>\n",
       "    <tr style=\"text-align: right;\">\n",
       "      <th></th>\n",
       "      <th>RMSE</th>\n",
       "      <th>R^2</th>\n",
       "      <th>RMSE_val</th>\n",
       "      <th>R^2_val</th>\n",
       "    </tr>\n",
       "  </thead>\n",
       "  <tbody>\n",
       "    <tr>\n",
       "      <th>baseline</th>\n",
       "      <td>262391.846223</td>\n",
       "      <td>0.000000</td>\n",
       "      <td>674331.770521</td>\n",
       "      <td>-0.046451</td>\n",
       "    </tr>\n",
       "    <tr>\n",
       "      <th>linear_regression</th>\n",
       "      <td>228459.155776</td>\n",
       "      <td>0.241918</td>\n",
       "      <td>571651.969436</td>\n",
       "      <td>0.247970</td>\n",
       "    </tr>\n",
       "    <tr>\n",
       "      <th>polynomial_regression</th>\n",
       "      <td>228164.482029</td>\n",
       "      <td>0.243872</td>\n",
       "      <td>569616.052898</td>\n",
       "      <td>0.253317</td>\n",
       "    </tr>\n",
       "    <tr>\n",
       "      <th>polynomial_regression_interactions_only</th>\n",
       "      <td>228409.284726</td>\n",
       "      <td>0.242248</td>\n",
       "      <td>564340.381027</td>\n",
       "      <td>0.267084</td>\n",
       "    </tr>\n",
       "    <tr>\n",
       "      <th>tweedie_regressor</th>\n",
       "      <td>228459.155776</td>\n",
       "      <td>0.241918</td>\n",
       "      <td>571651.969536</td>\n",
       "      <td>0.247970</td>\n",
       "    </tr>\n",
       "    <tr>\n",
       "      <th>poly_regression_with_amenities</th>\n",
       "      <td>227128.555980</td>\n",
       "      <td>0.250722</td>\n",
       "      <td>568498.322933</td>\n",
       "      <td>0.256245</td>\n",
       "    </tr>\n",
       "    <tr>\n",
       "      <th>poly_regression_with_building_quality</th>\n",
       "      <td>227570.409934</td>\n",
       "      <td>0.247804</td>\n",
       "      <td>567458.104506</td>\n",
       "      <td>0.258964</td>\n",
       "    </tr>\n",
       "    <tr>\n",
       "      <th>poly_regression_with_property_age</th>\n",
       "      <td>227358.000614</td>\n",
       "      <td>0.249208</td>\n",
       "      <td>579600.948824</td>\n",
       "      <td>0.226910</td>\n",
       "    </tr>\n",
       "    <tr>\n",
       "      <th>poly_regression_all_features</th>\n",
       "      <td>223544.497172</td>\n",
       "      <td>0.274183</td>\n",
       "      <td>576981.836722</td>\n",
       "      <td>0.233881</td>\n",
       "    </tr>\n",
       "    <tr>\n",
       "      <th>los_angeles_county_only</th>\n",
       "      <td>230173.114500</td>\n",
       "      <td>0.192984</td>\n",
       "      <td>623628.678549</td>\n",
       "      <td>0.207006</td>\n",
       "    </tr>\n",
       "    <tr>\n",
       "      <th>orange_county_only</th>\n",
       "      <td>223687.578632</td>\n",
       "      <td>0.308029</td>\n",
       "      <td>502767.153496</td>\n",
       "      <td>0.309350</td>\n",
       "    </tr>\n",
       "    <tr>\n",
       "      <th>ventura_county_only</th>\n",
       "      <td>184570.669372</td>\n",
       "      <td>0.406944</td>\n",
       "      <td>342047.421232</td>\n",
       "      <td>0.463271</td>\n",
       "    </tr>\n",
       "  </tbody>\n",
       "</table>\n",
       "</div>"
      ],
      "text/plain": [
       "                                                  RMSE       R^2  \\\n",
       "baseline                                 262391.846223  0.000000   \n",
       "linear_regression                        228459.155776  0.241918   \n",
       "polynomial_regression                    228164.482029  0.243872   \n",
       "polynomial_regression_interactions_only  228409.284726  0.242248   \n",
       "tweedie_regressor                        228459.155776  0.241918   \n",
       "poly_regression_with_amenities           227128.555980  0.250722   \n",
       "poly_regression_with_building_quality    227570.409934  0.247804   \n",
       "poly_regression_with_property_age        227358.000614  0.249208   \n",
       "poly_regression_all_features             223544.497172  0.274183   \n",
       "los_angeles_county_only                  230173.114500  0.192984   \n",
       "orange_county_only                       223687.578632  0.308029   \n",
       "ventura_county_only                      184570.669372  0.406944   \n",
       "\n",
       "                                              RMSE_val   R^2_val  \n",
       "baseline                                 674331.770521 -0.046451  \n",
       "linear_regression                        571651.969436  0.247970  \n",
       "polynomial_regression                    569616.052898  0.253317  \n",
       "polynomial_regression_interactions_only  564340.381027  0.267084  \n",
       "tweedie_regressor                        571651.969536  0.247970  \n",
       "poly_regression_with_amenities           568498.322933  0.256245  \n",
       "poly_regression_with_building_quality    567458.104506  0.258964  \n",
       "poly_regression_with_property_age        579600.948824  0.226910  \n",
       "poly_regression_all_features             576981.836722  0.233881  \n",
       "los_angeles_county_only                  623628.678549  0.207006  \n",
       "orange_county_only                       502767.153496  0.309350  \n",
       "ventura_county_only                      342047.421232  0.463271  "
      ]
     },
     "execution_count": 65,
     "metadata": {},
     "output_type": "execute_result"
    }
   ],
   "source": [
    "pd.DataFrame(results).T"
   ]
  },
  {
   "cell_type": "markdown",
   "id": "eb789e64-d7d6-468c-bfcd-ca1b598cd9a7",
   "metadata": {},
   "source": [
    "We can see that the performance of our model increases significantly when predicting property value in Orange and Ventura counties. For Los Angeles County the performance does decrease (which is unfortunate since this county makes up the bulk of our data), but it does remain consistent on the validate set."
   ]
  },
  {
   "cell_type": "markdown",
   "id": "2b5bd1f0-f304-44a5-9575-512e4c071697",
   "metadata": {},
   "source": [
    "---\n",
    "\n",
    "## Conclusions\n",
    "\n",
    "When we add total amenities to the set of features (square_feet, bedroom_count, and bathroom_count) the performance of our polynomial regression model improves. Furthermore, when creating different models for each county we see improved performance for Orange and Ventura counties while the performance for Los Angeles county at least remains consistent on unseen data."
   ]
  }
 ],
 "metadata": {
  "kernelspec": {
   "display_name": "Python 3 (ipykernel)",
   "language": "python",
   "name": "python3"
  },
  "language_info": {
   "codemirror_mode": {
    "name": "ipython",
    "version": 3
   },
   "file_extension": ".py",
   "mimetype": "text/x-python",
   "name": "python",
   "nbconvert_exporter": "python",
   "pygments_lexer": "ipython3",
   "version": "3.9.7"
  }
 },
 "nbformat": 4,
 "nbformat_minor": 5
}
