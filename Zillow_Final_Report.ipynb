{
 "cells": [
  {
   "cell_type": "markdown",
   "id": "726b1236-68da-451b-9ac1-3bb1ff1f68b0",
   "metadata": {},
   "source": [
    "# An Improved Model For Predicting Property Tax Assessed Values\n",
    "\n",
    "---\n",
    "\n",
    "## Project Goals\n",
    "\n",
    "Identify attributes that can be used to predict property tax assessed values, build a prediction model that is an improvement upon the existing model, and offer recommendations on what works or doesn't work.\n",
    "\n",
    "---\n",
    "\n",
    "## Project Description\n",
    "\n",
    "The Zillow data science team would like to predict property tax assessed values for single family properties that had a transaction in 2017. A model already exists, but the Zillow data science team is hoping an outside perspective can lead to an improved model. We will analyze the data available and produce an improved prediction model. We will compare the new model to the existing one and offer recommendations on what works or doesn't work for acquiring the most accurate predictions.\n",
    "\n",
    "---\n",
    "\n",
    "## Initial Questions\n",
    "\n",
    "Before beginning a few initial questions were formulated from an initial high level overview of the data available. Here are the questions that this project aimed to answer:\n",
    "\n",
    "- What influence do bedroom count, bathroom count, and square footage have on property value?\n",
    "- Is there a relationship between the age of a property and its value?\n",
    "- Is there a relationship between the number of stories a property has and its value?\n",
    "- Is there a relationship between the construction type of a property and its value?\n",
    "- Does a basement increase a property's value?\n",
    "- Is there a relationship between the a building's class and its value?\n",
    "- Is there a relationship between heating or system type of a property and its value?\n",
    "- Is there a relationship between the age of a property and its value?\n",
    "- Does location relate to a property's value?\n",
    "- Is there a relationship between the architectural style of a property and its value?\n",
    "\n",
    "---\n",
    "\n",
    "## Importing the Required Modules\n",
    "\n",
    "---\n",
    "\n",
    "## Data Wrangling\n",
    "\n",
    "---\n",
    "\n",
    "## Exploratory Analysis\n",
    "\n",
    "---\n",
    "\n",
    "## Modeling\n",
    "\n",
    "---\n",
    "\n",
    "## Key Takeaways and Recommendations"
   ]
  }
 ],
 "metadata": {
  "kernelspec": {
   "display_name": "Python 3 (ipykernel)",
   "language": "python",
   "name": "python3"
  },
  "language_info": {
   "codemirror_mode": {
    "name": "ipython",
    "version": 3
   },
   "file_extension": ".py",
   "mimetype": "text/x-python",
   "name": "python",
   "nbconvert_exporter": "python",
   "pygments_lexer": "ipython3",
   "version": "3.9.7"
  }
 },
 "nbformat": 4,
 "nbformat_minor": 5
}
