{
 "cells": [
  {
   "cell_type": "markdown",
   "id": "f8a3572c-e3b0-42ee-9457-d48570666e8b",
   "metadata": {},
   "source": [
    "# Data Preparation\n",
    "\n",
    "---\n",
    "\n",
    "This notebook outlines the process for preparing the Zillow property data needed for this project. This notebook also demonstrates the steps to create and test the functions in the util/prepare.py file.\n",
    "\n",
    "---"
   ]
  },
  {
   "cell_type": "markdown",
   "id": "97184210-7c15-4151-bca2-433b88d90950",
   "metadata": {},
   "source": [
    "## Importing the Required Modules\n",
    "\n",
    "Below we import all the modules needed to run this notebook. Note that you will need the univariate_analysis.py file located in the notebooks directory in order to run some of the code blocks in this notebook."
   ]
  },
  {
   "cell_type": "code",
   "execution_count": 1,
   "id": "adb8c0a7-4a42-4db9-8b4f-608ccfdefbe2",
   "metadata": {},
   "outputs": [],
   "source": [
    "import os\n",
    "import numpy as np\n",
    "import pandas as pd\n",
    "import matplotlib.pyplot as plt\n",
    "import seaborn as sns\n",
    "\n",
    "from univariate_analysis import get_hist, get_box\n",
    "\n",
    "from env import username, password, hostname"
   ]
  },
  {
   "cell_type": "markdown",
   "id": "753a64a3-0122-493e-bc9a-1d11a1d10609",
   "metadata": {},
   "source": [
    "---\n",
    "\n",
    "## Acquire Data\n",
    "\n",
    "Here we define all our acquisition functions created in the acquire notebook."
   ]
  },
  {
   "cell_type": "code",
   "execution_count": 2,
   "id": "ad957eea-494c-4f19-9a80-fac9f6afdfbd",
   "metadata": {},
   "outputs": [],
   "source": [
    "def get_db_url(database_name, username = username, password = password, hostname = hostname):\n",
    "    return f'mysql+pymysql://{username}:{password}@{hostname}/{database_name}'\n",
    "\n",
    "def get_zillow_sql():\n",
    "    return \"\"\"\n",
    "        SELECT\n",
    "            bedroomcnt,\n",
    "            bathroomcnt,\n",
    "            calculatedfinishedsquarefeet,\n",
    "            taxvaluedollarcnt,\n",
    "            yearbuilt,\n",
    "            fips,\n",
    "            numberofstories,\n",
    "            basementsqft,\n",
    "            fireplacecnt,\n",
    "            heatingorsystemdesc,\n",
    "            roomcnt,\n",
    "            garagetotalsqft,\n",
    "            hashottuborspa,\n",
    "            poolcnt,\n",
    "            poolsizesum,\n",
    "            yardbuildingsqft17\n",
    "        FROM properties_2017\n",
    "        JOIN propertylandusetype\n",
    "            ON propertylandusetype.propertylandusetypeid = properties_2017.propertylandusetypeid\n",
    "            AND (propertylandusetype.propertylandusedesc IN ('Single Family Residential', 'Inferred Single Family Residential'))\n",
    "        LEFT JOIN heatingorsystemtype USING (heatingorsystemtypeid)\n",
    "        JOIN predictions_2017 ON properties_2017.parcelid = predictions_2017.parcelid\n",
    "            AND predictions_2017.transactiondate LIKE '2017%%';\n",
    "        \"\"\"\n",
    "\n",
    "def get_zillow_data(use_cache = True):\n",
    "    # If the file is cached, read from the .csv file\n",
    "    if os.path.exists('zillow.csv') and use_cache:\n",
    "        print('Using cache')\n",
    "        return pd.read_csv('zillow.csv')\n",
    "    \n",
    "    # Otherwise read from the mysql database\n",
    "    else:\n",
    "        print('Reading from database')\n",
    "        df = pd.read_sql(get_zillow_sql(), get_db_url('zillow'))\n",
    "        df.to_csv('zillow.csv', index = False)\n",
    "        return df"
   ]
  },
  {
   "cell_type": "code",
   "execution_count": 3,
   "id": "98c47779-371e-4607-82fb-a93ad4f5da1e",
   "metadata": {},
   "outputs": [
    {
     "name": "stdout",
     "output_type": "stream",
     "text": [
      "Using cache\n"
     ]
    }
   ],
   "source": [
    "# Now we can load our dataset.\n",
    "properties = get_zillow_data()"
   ]
  },
  {
   "cell_type": "markdown",
   "id": "b82c32eb-3464-444b-8db3-253e4cdad3a2",
   "metadata": {
    "tags": []
   },
   "source": [
    "---\n",
    "\n",
    "## Initial Analysis (Looking for Unusual Values and Outliers)\n",
    "\n",
    "We will start by getting an overview of our data and determining whether or not there exist unusual values or outliers that may affect our results."
   ]
  },
  {
   "cell_type": "code",
   "execution_count": 4,
   "id": "6cc423a8-eb22-480d-8662-4ffbf97ad3bc",
   "metadata": {},
   "outputs": [
    {
     "data": {
      "text/plain": [
       "(52441, 16)"
      ]
     },
     "execution_count": 4,
     "metadata": {},
     "output_type": "execute_result"
    }
   ],
   "source": [
    "properties.shape"
   ]
  },
  {
   "cell_type": "code",
   "execution_count": 5,
   "id": "7eec4893-e835-4870-85a3-9fd6ec71e16b",
   "metadata": {},
   "outputs": [
    {
     "data": {
      "text/html": [
       "<div>\n",
       "<style scoped>\n",
       "    .dataframe tbody tr th:only-of-type {\n",
       "        vertical-align: middle;\n",
       "    }\n",
       "\n",
       "    .dataframe tbody tr th {\n",
       "        vertical-align: top;\n",
       "    }\n",
       "\n",
       "    .dataframe thead th {\n",
       "        text-align: right;\n",
       "    }\n",
       "</style>\n",
       "<table border=\"1\" class=\"dataframe\">\n",
       "  <thead>\n",
       "    <tr style=\"text-align: right;\">\n",
       "      <th></th>\n",
       "      <th>count</th>\n",
       "      <th>mean</th>\n",
       "      <th>std</th>\n",
       "      <th>min</th>\n",
       "      <th>25%</th>\n",
       "      <th>50%</th>\n",
       "      <th>75%</th>\n",
       "      <th>max</th>\n",
       "    </tr>\n",
       "  </thead>\n",
       "  <tbody>\n",
       "    <tr>\n",
       "      <th>bedroomcnt</th>\n",
       "      <td>52441.0</td>\n",
       "      <td>3.300681</td>\n",
       "      <td>0.949094</td>\n",
       "      <td>0.0</td>\n",
       "      <td>3.0</td>\n",
       "      <td>3.0</td>\n",
       "      <td>4.00</td>\n",
       "      <td>14.0</td>\n",
       "    </tr>\n",
       "    <tr>\n",
       "      <th>bathroomcnt</th>\n",
       "      <td>52441.0</td>\n",
       "      <td>2.299403</td>\n",
       "      <td>1.022772</td>\n",
       "      <td>0.0</td>\n",
       "      <td>2.0</td>\n",
       "      <td>2.0</td>\n",
       "      <td>3.00</td>\n",
       "      <td>18.0</td>\n",
       "    </tr>\n",
       "    <tr>\n",
       "      <th>calculatedfinishedsquarefeet</th>\n",
       "      <td>52359.0</td>\n",
       "      <td>1922.890754</td>\n",
       "      <td>1004.365838</td>\n",
       "      <td>128.0</td>\n",
       "      <td>1268.0</td>\n",
       "      <td>1659.0</td>\n",
       "      <td>2306.00</td>\n",
       "      <td>21929.0</td>\n",
       "    </tr>\n",
       "    <tr>\n",
       "      <th>taxvaluedollarcnt</th>\n",
       "      <td>52440.0</td>\n",
       "      <td>529688.163921</td>\n",
       "      <td>751894.553363</td>\n",
       "      <td>1000.0</td>\n",
       "      <td>193747.5</td>\n",
       "      <td>373612.0</td>\n",
       "      <td>619301.25</td>\n",
       "      <td>49061236.0</td>\n",
       "    </tr>\n",
       "    <tr>\n",
       "      <th>yearbuilt</th>\n",
       "      <td>52325.0</td>\n",
       "      <td>1963.393884</td>\n",
       "      <td>23.133571</td>\n",
       "      <td>1878.0</td>\n",
       "      <td>1950.0</td>\n",
       "      <td>1961.0</td>\n",
       "      <td>1979.00</td>\n",
       "      <td>2016.0</td>\n",
       "    </tr>\n",
       "    <tr>\n",
       "      <th>fips</th>\n",
       "      <td>52441.0</td>\n",
       "      <td>6049.132149</td>\n",
       "      <td>21.029067</td>\n",
       "      <td>6037.0</td>\n",
       "      <td>6037.0</td>\n",
       "      <td>6037.0</td>\n",
       "      <td>6059.00</td>\n",
       "      <td>6111.0</td>\n",
       "    </tr>\n",
       "    <tr>\n",
       "      <th>numberofstories</th>\n",
       "      <td>14561.0</td>\n",
       "      <td>1.413914</td>\n",
       "      <td>0.540677</td>\n",
       "      <td>1.0</td>\n",
       "      <td>1.0</td>\n",
       "      <td>1.0</td>\n",
       "      <td>2.00</td>\n",
       "      <td>6.0</td>\n",
       "    </tr>\n",
       "    <tr>\n",
       "      <th>basementsqft</th>\n",
       "      <td>47.0</td>\n",
       "      <td>678.978723</td>\n",
       "      <td>711.825226</td>\n",
       "      <td>38.0</td>\n",
       "      <td>263.5</td>\n",
       "      <td>512.0</td>\n",
       "      <td>809.50</td>\n",
       "      <td>3560.0</td>\n",
       "    </tr>\n",
       "    <tr>\n",
       "      <th>fireplacecnt</th>\n",
       "      <td>7243.0</td>\n",
       "      <td>1.209858</td>\n",
       "      <td>0.512885</td>\n",
       "      <td>1.0</td>\n",
       "      <td>1.0</td>\n",
       "      <td>1.0</td>\n",
       "      <td>1.00</td>\n",
       "      <td>5.0</td>\n",
       "    </tr>\n",
       "    <tr>\n",
       "      <th>roomcnt</th>\n",
       "      <td>52441.0</td>\n",
       "      <td>1.893709</td>\n",
       "      <td>3.146437</td>\n",
       "      <td>0.0</td>\n",
       "      <td>0.0</td>\n",
       "      <td>0.0</td>\n",
       "      <td>5.00</td>\n",
       "      <td>15.0</td>\n",
       "    </tr>\n",
       "    <tr>\n",
       "      <th>garagetotalsqft</th>\n",
       "      <td>18015.0</td>\n",
       "      <td>495.875715</td>\n",
       "      <td>157.044712</td>\n",
       "      <td>0.0</td>\n",
       "      <td>426.0</td>\n",
       "      <td>462.0</td>\n",
       "      <td>567.00</td>\n",
       "      <td>4251.0</td>\n",
       "    </tr>\n",
       "    <tr>\n",
       "      <th>hashottuborspa</th>\n",
       "      <td>1515.0</td>\n",
       "      <td>1.000000</td>\n",
       "      <td>0.000000</td>\n",
       "      <td>1.0</td>\n",
       "      <td>1.0</td>\n",
       "      <td>1.0</td>\n",
       "      <td>1.00</td>\n",
       "      <td>1.0</td>\n",
       "    </tr>\n",
       "    <tr>\n",
       "      <th>poolcnt</th>\n",
       "      <td>11096.0</td>\n",
       "      <td>1.000000</td>\n",
       "      <td>0.000000</td>\n",
       "      <td>1.0</td>\n",
       "      <td>1.0</td>\n",
       "      <td>1.0</td>\n",
       "      <td>1.00</td>\n",
       "      <td>1.0</td>\n",
       "    </tr>\n",
       "    <tr>\n",
       "      <th>poolsizesum</th>\n",
       "      <td>867.0</td>\n",
       "      <td>518.318339</td>\n",
       "      <td>156.468209</td>\n",
       "      <td>24.0</td>\n",
       "      <td>424.5</td>\n",
       "      <td>500.0</td>\n",
       "      <td>600.00</td>\n",
       "      <td>1500.0</td>\n",
       "    </tr>\n",
       "    <tr>\n",
       "      <th>yardbuildingsqft17</th>\n",
       "      <td>1937.0</td>\n",
       "      <td>337.627775</td>\n",
       "      <td>250.021615</td>\n",
       "      <td>11.0</td>\n",
       "      <td>200.0</td>\n",
       "      <td>280.0</td>\n",
       "      <td>400.00</td>\n",
       "      <td>3191.0</td>\n",
       "    </tr>\n",
       "  </tbody>\n",
       "</table>\n",
       "</div>"
      ],
      "text/plain": [
       "                                count           mean            std     min  \\\n",
       "bedroomcnt                    52441.0       3.300681       0.949094     0.0   \n",
       "bathroomcnt                   52441.0       2.299403       1.022772     0.0   \n",
       "calculatedfinishedsquarefeet  52359.0    1922.890754    1004.365838   128.0   \n",
       "taxvaluedollarcnt             52440.0  529688.163921  751894.553363  1000.0   \n",
       "yearbuilt                     52325.0    1963.393884      23.133571  1878.0   \n",
       "fips                          52441.0    6049.132149      21.029067  6037.0   \n",
       "numberofstories               14561.0       1.413914       0.540677     1.0   \n",
       "basementsqft                     47.0     678.978723     711.825226    38.0   \n",
       "fireplacecnt                   7243.0       1.209858       0.512885     1.0   \n",
       "roomcnt                       52441.0       1.893709       3.146437     0.0   \n",
       "garagetotalsqft               18015.0     495.875715     157.044712     0.0   \n",
       "hashottuborspa                 1515.0       1.000000       0.000000     1.0   \n",
       "poolcnt                       11096.0       1.000000       0.000000     1.0   \n",
       "poolsizesum                     867.0     518.318339     156.468209    24.0   \n",
       "yardbuildingsqft17             1937.0     337.627775     250.021615    11.0   \n",
       "\n",
       "                                   25%       50%        75%         max  \n",
       "bedroomcnt                         3.0       3.0       4.00        14.0  \n",
       "bathroomcnt                        2.0       2.0       3.00        18.0  \n",
       "calculatedfinishedsquarefeet    1268.0    1659.0    2306.00     21929.0  \n",
       "taxvaluedollarcnt             193747.5  373612.0  619301.25  49061236.0  \n",
       "yearbuilt                       1950.0    1961.0    1979.00      2016.0  \n",
       "fips                            6037.0    6037.0    6059.00      6111.0  \n",
       "numberofstories                    1.0       1.0       2.00         6.0  \n",
       "basementsqft                     263.5     512.0     809.50      3560.0  \n",
       "fireplacecnt                       1.0       1.0       1.00         5.0  \n",
       "roomcnt                            0.0       0.0       5.00        15.0  \n",
       "garagetotalsqft                  426.0     462.0     567.00      4251.0  \n",
       "hashottuborspa                     1.0       1.0       1.00         1.0  \n",
       "poolcnt                            1.0       1.0       1.00         1.0  \n",
       "poolsizesum                      424.5     500.0     600.00      1500.0  \n",
       "yardbuildingsqft17               200.0     280.0     400.00      3191.0  "
      ]
     },
     "execution_count": 5,
     "metadata": {},
     "output_type": "execute_result"
    }
   ],
   "source": [
    "properties.describe().T"
   ]
  },
  {
   "cell_type": "markdown",
   "id": "3c1dd4fd-a900-4987-9839-dd93c2ea2f2d",
   "metadata": {},
   "source": [
    "**Takeaways**\n",
    "- bedroomcnt and bathroomcnt both have minimum values of 0 which might make sense for a studio apartment, but it does seem unusual.\n",
    "- calculatedfinishedsquarefeet has a minimum value of 1 which doesn't seem right.\n",
    "- roomcnt has a minimum value of 0 which is unusual.\n",
    "\n",
    "Now let's look at histograms and boxplots of our features to determine if there are any outliers."
   ]
  },
  {
   "cell_type": "code",
   "execution_count": 6,
   "id": "76903e34-b8d1-4b6b-a0ed-a9dc1f001290",
   "metadata": {},
   "outputs": [
    {
     "data": {
      "image/png": "[encoded data removed]",
      "text/plain": [
       "<Figure size 1008x1296 with 18 Axes>"
      ]
     },
     "metadata": {
      "needs_background": "light"
     },
     "output_type": "display_data"
    }
   ],
   "source": [
    "get_hist(properties, properties.columns)"
   ]
  },
  {
   "cell_type": "markdown",
   "id": "aabebd97-97f4-4206-9853-6dacfb9e0b91",
   "metadata": {},
   "source": [
    "The calculatedfinishedsquarefeet column possibly has some outliers. Let's see the boxplots."
   ]
  },
  {
   "cell_type": "code",
   "execution_count": 7,
   "id": "87ead956-c7c1-464f-8246-a28d45513eea",
   "metadata": {},
   "outputs": [
    {
     "data": {
      "image/png": "[encoded data removed]",
      "text/plain": [
       "<Figure size 1008x1296 with 18 Axes>"
      ]
     },
     "metadata": {
      "needs_background": "light"
     },
     "output_type": "display_data"
    }
   ],
   "source": [
    "get_box(properties, properties.select_dtypes('number').columns)"
   ]
  },
  {
   "cell_type": "markdown",
   "id": "e16195f1-2caf-4296-8c0e-e299a25059af",
   "metadata": {},
   "source": [
    "The columns with the most pronounced outliers are:\n",
    "- calculatedfinishedsquarefeet\n",
    "- yardbuildingsqft17\n",
    "- garagetotalsqft\n",
    "\n",
    "taxvaluedollarcnt also has a large number of outliers, but since this is our target variable we'll ignore it.\n",
    "\n",
    "We'll try removing the outliers in calculatedfinishedsquarefeet."
   ]
  },
  {
   "cell_type": "code",
   "execution_count": 8,
   "id": "7a9fdb0d-a705-4ddb-b956-ec266b65faa2",
   "metadata": {},
   "outputs": [],
   "source": [
    "# Remove outliers\n",
    "\n",
    "def remove_outliers(df, k, col_list):    \n",
    "    for col in col_list:\n",
    "        q1, q3 = df[col].quantile([.25, .75])  # get quartiles\n",
    "        \n",
    "        iqr = q3 - q1   # calculate interquartile range\n",
    "        \n",
    "        upper_bound = q3 + k * iqr   # get upper bound\n",
    "        lower_bound = q1 - k * iqr   # get lower bound\n",
    "\n",
    "        # return dataframe without outliers\n",
    "        df = df[(df[col] > lower_bound) & (df[col] < upper_bound)]\n",
    "        \n",
    "    return df\n",
    "\n",
    "# Must remove outliers only from columns where the values don't make sense otherwise we\n",
    "# lose almost all our data.\n",
    "\n",
    "columns = [\n",
    "    'calculatedfinishedsquarefeet'\n",
    "]\n",
    "\n",
    "properties = remove_outliers(properties, 1.5, columns)"
   ]
  },
  {
   "cell_type": "markdown",
   "id": "2bf1e6fe-6e14-4a55-8f15-0f4103c8cfb1",
   "metadata": {},
   "source": [
    "With outliers removed let's now take a look at our data again to see if the unusual values were also removed."
   ]
  },
  {
   "cell_type": "code",
   "execution_count": 9,
   "id": "782f2957-45ce-4a7d-90a9-7b097106245d",
   "metadata": {},
   "outputs": [
    {
     "data": {
      "text/html": [
       "<div>\n",
       "<style scoped>\n",
       "    .dataframe tbody tr th:only-of-type {\n",
       "        vertical-align: middle;\n",
       "    }\n",
       "\n",
       "    .dataframe tbody tr th {\n",
       "        vertical-align: top;\n",
       "    }\n",
       "\n",
       "    .dataframe thead th {\n",
       "        text-align: right;\n",
       "    }\n",
       "</style>\n",
       "<table border=\"1\" class=\"dataframe\">\n",
       "  <thead>\n",
       "    <tr style=\"text-align: right;\">\n",
       "      <th></th>\n",
       "      <th>count</th>\n",
       "      <th>mean</th>\n",
       "      <th>std</th>\n",
       "      <th>min</th>\n",
       "      <th>25%</th>\n",
       "      <th>50%</th>\n",
       "      <th>75%</th>\n",
       "      <th>max</th>\n",
       "    </tr>\n",
       "  </thead>\n",
       "  <tbody>\n",
       "    <tr>\n",
       "      <th>bedroomcnt</th>\n",
       "      <td>50079.0</td>\n",
       "      <td>3.240720</td>\n",
       "      <td>0.884174</td>\n",
       "      <td>0.0</td>\n",
       "      <td>3.00</td>\n",
       "      <td>3.0</td>\n",
       "      <td>4.0</td>\n",
       "      <td>9.0</td>\n",
       "    </tr>\n",
       "    <tr>\n",
       "      <th>bathroomcnt</th>\n",
       "      <td>50079.0</td>\n",
       "      <td>2.184369</td>\n",
       "      <td>0.832450</td>\n",
       "      <td>0.0</td>\n",
       "      <td>2.00</td>\n",
       "      <td>2.0</td>\n",
       "      <td>3.0</td>\n",
       "      <td>7.5</td>\n",
       "    </tr>\n",
       "    <tr>\n",
       "      <th>calculatedfinishedsquarefeet</th>\n",
       "      <td>50079.0</td>\n",
       "      <td>1780.722698</td>\n",
       "      <td>699.828121</td>\n",
       "      <td>128.0</td>\n",
       "      <td>1252.00</td>\n",
       "      <td>1621.0</td>\n",
       "      <td>2190.0</td>\n",
       "      <td>3862.0</td>\n",
       "    </tr>\n",
       "    <tr>\n",
       "      <th>taxvaluedollarcnt</th>\n",
       "      <td>50078.0</td>\n",
       "      <td>453996.313311</td>\n",
       "      <td>452299.720992</td>\n",
       "      <td>1000.0</td>\n",
       "      <td>185421.25</td>\n",
       "      <td>358000.0</td>\n",
       "      <td>577000.0</td>\n",
       "      <td>15618488.0</td>\n",
       "    </tr>\n",
       "    <tr>\n",
       "      <th>yearbuilt</th>\n",
       "      <td>50043.0</td>\n",
       "      <td>1962.362828</td>\n",
       "      <td>22.540943</td>\n",
       "      <td>1878.0</td>\n",
       "      <td>1950.00</td>\n",
       "      <td>1960.0</td>\n",
       "      <td>1977.0</td>\n",
       "      <td>2016.0</td>\n",
       "    </tr>\n",
       "    <tr>\n",
       "      <th>fips</th>\n",
       "      <td>50079.0</td>\n",
       "      <td>6048.976757</td>\n",
       "      <td>20.959940</td>\n",
       "      <td>6037.0</td>\n",
       "      <td>6037.00</td>\n",
       "      <td>6037.0</td>\n",
       "      <td>6059.0</td>\n",
       "      <td>6111.0</td>\n",
       "    </tr>\n",
       "    <tr>\n",
       "      <th>numberofstories</th>\n",
       "      <td>14116.0</td>\n",
       "      <td>1.404080</td>\n",
       "      <td>0.538238</td>\n",
       "      <td>1.0</td>\n",
       "      <td>1.00</td>\n",
       "      <td>1.0</td>\n",
       "      <td>2.0</td>\n",
       "      <td>6.0</td>\n",
       "    </tr>\n",
       "    <tr>\n",
       "      <th>basementsqft</th>\n",
       "      <td>43.0</td>\n",
       "      <td>611.976744</td>\n",
       "      <td>583.372808</td>\n",
       "      <td>38.0</td>\n",
       "      <td>253.00</td>\n",
       "      <td>405.0</td>\n",
       "      <td>793.0</td>\n",
       "      <td>3112.0</td>\n",
       "    </tr>\n",
       "    <tr>\n",
       "      <th>fireplacecnt</th>\n",
       "      <td>6908.0</td>\n",
       "      <td>1.159380</td>\n",
       "      <td>0.419505</td>\n",
       "      <td>1.0</td>\n",
       "      <td>1.00</td>\n",
       "      <td>1.0</td>\n",
       "      <td>1.0</td>\n",
       "      <td>4.0</td>\n",
       "    </tr>\n",
       "    <tr>\n",
       "      <th>roomcnt</th>\n",
       "      <td>50079.0</td>\n",
       "      <td>1.899818</td>\n",
       "      <td>3.116802</td>\n",
       "      <td>0.0</td>\n",
       "      <td>0.00</td>\n",
       "      <td>0.0</td>\n",
       "      <td>5.0</td>\n",
       "      <td>13.0</td>\n",
       "    </tr>\n",
       "    <tr>\n",
       "      <th>garagetotalsqft</th>\n",
       "      <td>16994.0</td>\n",
       "      <td>480.154584</td>\n",
       "      <td>130.186354</td>\n",
       "      <td>0.0</td>\n",
       "      <td>421.00</td>\n",
       "      <td>460.0</td>\n",
       "      <td>528.0</td>\n",
       "      <td>3791.0</td>\n",
       "    </tr>\n",
       "    <tr>\n",
       "      <th>hashottuborspa</th>\n",
       "      <td>1093.0</td>\n",
       "      <td>1.000000</td>\n",
       "      <td>0.000000</td>\n",
       "      <td>1.0</td>\n",
       "      <td>1.00</td>\n",
       "      <td>1.0</td>\n",
       "      <td>1.0</td>\n",
       "      <td>1.0</td>\n",
       "    </tr>\n",
       "    <tr>\n",
       "      <th>poolcnt</th>\n",
       "      <td>9638.0</td>\n",
       "      <td>1.000000</td>\n",
       "      <td>0.000000</td>\n",
       "      <td>1.0</td>\n",
       "      <td>1.00</td>\n",
       "      <td>1.0</td>\n",
       "      <td>1.0</td>\n",
       "      <td>1.0</td>\n",
       "    </tr>\n",
       "    <tr>\n",
       "      <th>poolsizesum</th>\n",
       "      <td>731.0</td>\n",
       "      <td>499.942544</td>\n",
       "      <td>134.989698</td>\n",
       "      <td>24.0</td>\n",
       "      <td>420.00</td>\n",
       "      <td>480.0</td>\n",
       "      <td>576.0</td>\n",
       "      <td>1120.0</td>\n",
       "    </tr>\n",
       "    <tr>\n",
       "      <th>yardbuildingsqft17</th>\n",
       "      <td>1801.0</td>\n",
       "      <td>322.963909</td>\n",
       "      <td>208.681710</td>\n",
       "      <td>11.0</td>\n",
       "      <td>200.00</td>\n",
       "      <td>276.0</td>\n",
       "      <td>390.0</td>\n",
       "      <td>2480.0</td>\n",
       "    </tr>\n",
       "  </tbody>\n",
       "</table>\n",
       "</div>"
      ],
      "text/plain": [
       "                                count           mean            std     min  \\\n",
       "bedroomcnt                    50079.0       3.240720       0.884174     0.0   \n",
       "bathroomcnt                   50079.0       2.184369       0.832450     0.0   \n",
       "calculatedfinishedsquarefeet  50079.0    1780.722698     699.828121   128.0   \n",
       "taxvaluedollarcnt             50078.0  453996.313311  452299.720992  1000.0   \n",
       "yearbuilt                     50043.0    1962.362828      22.540943  1878.0   \n",
       "fips                          50079.0    6048.976757      20.959940  6037.0   \n",
       "numberofstories               14116.0       1.404080       0.538238     1.0   \n",
       "basementsqft                     43.0     611.976744     583.372808    38.0   \n",
       "fireplacecnt                   6908.0       1.159380       0.419505     1.0   \n",
       "roomcnt                       50079.0       1.899818       3.116802     0.0   \n",
       "garagetotalsqft               16994.0     480.154584     130.186354     0.0   \n",
       "hashottuborspa                 1093.0       1.000000       0.000000     1.0   \n",
       "poolcnt                        9638.0       1.000000       0.000000     1.0   \n",
       "poolsizesum                     731.0     499.942544     134.989698    24.0   \n",
       "yardbuildingsqft17             1801.0     322.963909     208.681710    11.0   \n",
       "\n",
       "                                    25%       50%       75%         max  \n",
       "bedroomcnt                         3.00       3.0       4.0         9.0  \n",
       "bathroomcnt                        2.00       2.0       3.0         7.5  \n",
       "calculatedfinishedsquarefeet    1252.00    1621.0    2190.0      3862.0  \n",
       "taxvaluedollarcnt             185421.25  358000.0  577000.0  15618488.0  \n",
       "yearbuilt                       1950.00    1960.0    1977.0      2016.0  \n",
       "fips                            6037.00    6037.0    6059.0      6111.0  \n",
       "numberofstories                    1.00       1.0       2.0         6.0  \n",
       "basementsqft                     253.00     405.0     793.0      3112.0  \n",
       "fireplacecnt                       1.00       1.0       1.0         4.0  \n",
       "roomcnt                            0.00       0.0       5.0        13.0  \n",
       "garagetotalsqft                  421.00     460.0     528.0      3791.0  \n",
       "hashottuborspa                     1.00       1.0       1.0         1.0  \n",
       "poolcnt                            1.00       1.0       1.0         1.0  \n",
       "poolsizesum                      420.00     480.0     576.0      1120.0  \n",
       "yardbuildingsqft17               200.00     276.0     390.0      2480.0  "
      ]
     },
     "execution_count": 9,
     "metadata": {},
     "output_type": "execute_result"
    }
   ],
   "source": [
    "properties.describe().T"
   ]
  },
  {
   "cell_type": "markdown",
   "id": "7fe92368-a651-456c-8b75-3f1051ba606a",
   "metadata": {},
   "source": [
    "Removing outliers in calculatedfinishedsquarefeet didn't remove too many rows from our data. We will continue forward as is, but if time permits we'll come back and try running the pipeline again without removing outliers."
   ]
  },
  {
   "cell_type": "markdown",
   "id": "228cfea4-c8ba-4499-9101-64368d7b91df",
   "metadata": {},
   "source": [
    "---\n",
    "\n",
    "## Missing Values\n",
    "\n",
    "Now let's investigate any missing values in our dataset."
   ]
  },
  {
   "cell_type": "code",
   "execution_count": 10,
   "id": "67075206-48aa-426b-bcc4-2e59a262b9ac",
   "metadata": {},
   "outputs": [
    {
     "data": {
      "text/plain": [
       "(50079, 16)"
      ]
     },
     "execution_count": 10,
     "metadata": {},
     "output_type": "execute_result"
    }
   ],
   "source": [
    "# This shows us the total number of rows.\n",
    "properties.shape"
   ]
  },
  {
   "cell_type": "code",
   "execution_count": 11,
   "id": "3c0c2e31-40f3-4634-9753-d2784fdab71d",
   "metadata": {},
   "outputs": [
    {
     "name": "stdout",
     "output_type": "stream",
     "text": [
      "<class 'pandas.core.frame.DataFrame'>\n",
      "Int64Index: 50079 entries, 0 to 52440\n",
      "Data columns (total 16 columns):\n",
      " #   Column                        Non-Null Count  Dtype  \n",
      "---  ------                        --------------  -----  \n",
      " 0   bedroomcnt                    50079 non-null  float64\n",
      " 1   bathroomcnt                   50079 non-null  float64\n",
      " 2   calculatedfinishedsquarefeet  50079 non-null  float64\n",
      " 3   taxvaluedollarcnt             50078 non-null  float64\n",
      " 4   yearbuilt                     50043 non-null  float64\n",
      " 5   fips                          50079 non-null  float64\n",
      " 6   numberofstories               14116 non-null  float64\n",
      " 7   basementsqft                  43 non-null     float64\n",
      " 8   fireplacecnt                  6908 non-null   float64\n",
      " 9   heatingorsystemdesc           32664 non-null  object \n",
      " 10  roomcnt                       50079 non-null  float64\n",
      " 11  garagetotalsqft               16994 non-null  float64\n",
      " 12  hashottuborspa                1093 non-null   float64\n",
      " 13  poolcnt                       9638 non-null   float64\n",
      " 14  poolsizesum                   731 non-null    float64\n",
      " 15  yardbuildingsqft17            1801 non-null   float64\n",
      "dtypes: float64(15), object(1)\n",
      "memory usage: 6.5+ MB\n"
     ]
    }
   ],
   "source": [
    "# Now let's see the total non-null counts for each column.\n",
    "properties.info(show_counts = True)"
   ]
  },
  {
   "cell_type": "markdown",
   "id": "7b9be853-f5b9-40c2-9986-d82230e1d551",
   "metadata": {},
   "source": [
    "We can see that several columns have missing values:\n",
    "- taxvaluedollarcnt\n",
    "- yearbuilt\n",
    "- numberofstories\n",
    "- basementsqft\n",
    "- fireplacecnt\n",
    "- heatingorsystemdesc\n",
    "- garagetotalsqft\n",
    "- hashottuborspa\n",
    "- poolcnt\n",
    "- poolsizesum\n",
    "- yardbuildingsqft17\n",
    "\n",
    "We'll investigate each column and determine the best course of action accordingly."
   ]
  },
  {
   "cell_type": "markdown",
   "id": "e20671ca-8f6c-4989-ad06-3dc1a779657f",
   "metadata": {},
   "source": [
    "### taxvaluedollarcnt\n",
    "\n",
    "There is one missing value in the target variable. Since this is our target and it is just missing one value we'll just remove that row."
   ]
  },
  {
   "cell_type": "code",
   "execution_count": 12,
   "id": "7d240f24-1aaa-4571-94c3-0812b9114953",
   "metadata": {},
   "outputs": [],
   "source": [
    "# Remove all rows missing the taxvaluedollarcnt value.\n",
    "missing_target = properties.taxvaluedollarcnt.isnull()\n",
    "properties = properties[~missing_target]"
   ]
  },
  {
   "cell_type": "code",
   "execution_count": 13,
   "id": "3cf12e22-1d66-4f6c-9867-403ecc3869ce",
   "metadata": {},
   "outputs": [
    {
     "data": {
      "text/plain": [
       "bedroomcnt                          0\n",
       "bathroomcnt                         0\n",
       "calculatedfinishedsquarefeet        0\n",
       "taxvaluedollarcnt                   0\n",
       "yearbuilt                          36\n",
       "fips                                0\n",
       "numberofstories                 35963\n",
       "basementsqft                    50035\n",
       "fireplacecnt                    43170\n",
       "heatingorsystemdesc             17414\n",
       "roomcnt                             0\n",
       "garagetotalsqft                 33085\n",
       "hashottuborspa                  48985\n",
       "poolcnt                         40441\n",
       "poolsizesum                     49347\n",
       "yardbuildingsqft17              48277\n",
       "dtype: int64"
      ]
     },
     "execution_count": 13,
     "metadata": {},
     "output_type": "execute_result"
    }
   ],
   "source": [
    "# Let's make sure it worked.\n",
    "properties.isnull().sum()"
   ]
  },
  {
   "cell_type": "markdown",
   "id": "107c1737-5f02-405b-9ca6-519131f4e757",
   "metadata": {},
   "source": [
    "### yearbuilt\n",
    "\n",
    "The yearbuilt column is also only missing a few values. We'll remove these rows for now and on a second run through the pipeline we can possibly try imputing the missing values."
   ]
  },
  {
   "cell_type": "code",
   "execution_count": 14,
   "id": "cbdd12a6-c644-4c93-aa1a-79f8c3f661c7",
   "metadata": {},
   "outputs": [],
   "source": [
    "# Remove all rows missing the yearbuilt value.\n",
    "missing_yearbuilt = properties.yearbuilt.isnull()\n",
    "properties = properties[~missing_yearbuilt]"
   ]
  },
  {
   "cell_type": "code",
   "execution_count": 15,
   "id": "11a9dfdf-6fc1-4f1e-bf28-f7638a4cd24b",
   "metadata": {},
   "outputs": [
    {
     "data": {
      "text/plain": [
       "bedroomcnt                          0\n",
       "bathroomcnt                         0\n",
       "calculatedfinishedsquarefeet        0\n",
       "taxvaluedollarcnt                   0\n",
       "yearbuilt                           0\n",
       "fips                                0\n",
       "numberofstories                 35949\n",
       "basementsqft                    49999\n",
       "fireplacecnt                    43147\n",
       "heatingorsystemdesc             17390\n",
       "roomcnt                             0\n",
       "garagetotalsqft                 33069\n",
       "hashottuborspa                  48949\n",
       "poolcnt                         40410\n",
       "poolsizesum                     49315\n",
       "yardbuildingsqft17              48249\n",
       "dtype: int64"
      ]
     },
     "execution_count": 15,
     "metadata": {},
     "output_type": "execute_result"
    }
   ],
   "source": [
    "# Let's make sure it worked.\n",
    "properties.isnull().sum()"
   ]
  },
  {
   "cell_type": "markdown",
   "id": "c5ec0efc-ff2c-4bcc-9a47-9c24923343d9",
   "metadata": {},
   "source": [
    "### numberofstories\n",
    "\n",
    "There are a lot of missing values in the numberofstories column. Let's take a look at the unique values to see if there is a value that can reasonably replace the nulls."
   ]
  },
  {
   "cell_type": "code",
   "execution_count": 16,
   "id": "b0bef674-954c-434e-97b5-4509ef6d6184",
   "metadata": {},
   "outputs": [
    {
     "data": {
      "text/plain": [
       "1.0    8736\n",
       "2.0    5021\n",
       "3.0     335\n",
       "6.0       1\n",
       "Name: numberofstories, dtype: int64"
      ]
     },
     "execution_count": 16,
     "metadata": {},
     "output_type": "execute_result"
    }
   ],
   "source": [
    "properties.numberofstories.value_counts()"
   ]
  },
  {
   "cell_type": "markdown",
   "id": "8415f7d6-0b6c-4052-92c7-4ce075f4707c",
   "metadata": {},
   "source": [
    "We can't assume the nulls represent 0 stories because this wouldn't make sense. There are values already for 1 story so we can't assume the nulls represent 1 story. Since there are a lot of missing values here we are probably better off removing this column."
   ]
  },
  {
   "cell_type": "code",
   "execution_count": 17,
   "id": "2eaa387b-86de-405e-a5f2-065186abdaa3",
   "metadata": {},
   "outputs": [],
   "source": [
    "properties = properties.drop(columns = 'numberofstories')"
   ]
  },
  {
   "cell_type": "code",
   "execution_count": 18,
   "id": "808c5086-ea67-428d-b147-47791c852df5",
   "metadata": {},
   "outputs": [
    {
     "data": {
      "text/plain": [
       "bedroomcnt                          0\n",
       "bathroomcnt                         0\n",
       "calculatedfinishedsquarefeet        0\n",
       "taxvaluedollarcnt                   0\n",
       "yearbuilt                           0\n",
       "fips                                0\n",
       "basementsqft                    49999\n",
       "fireplacecnt                    43147\n",
       "heatingorsystemdesc             17390\n",
       "roomcnt                             0\n",
       "garagetotalsqft                 33069\n",
       "hashottuborspa                  48949\n",
       "poolcnt                         40410\n",
       "poolsizesum                     49315\n",
       "yardbuildingsqft17              48249\n",
       "dtype: int64"
      ]
     },
     "execution_count": 18,
     "metadata": {},
     "output_type": "execute_result"
    }
   ],
   "source": [
    "# Let's make sure it worked.\n",
    "properties.isnull().sum()"
   ]
  },
  {
   "cell_type": "markdown",
   "id": "ffa3c50f-8b19-4cce-8d6b-526694ea5c7b",
   "metadata": {},
   "source": [
    "### basementsqft\n",
    "\n",
    "The basementsqft column has a huge number of missing values. Let's take a look at what values exist in this column."
   ]
  },
  {
   "cell_type": "code",
   "execution_count": 19,
   "id": "9501ad19-bfb2-4f54-8e72-0d47070028d9",
   "metadata": {},
   "outputs": [
    {
     "data": {
      "text/plain": [
       "38.0     1\n",
       "90.0     1\n",
       "100.0    2\n",
       "112.0    1\n",
       "126.0    1\n",
       "Name: basementsqft, dtype: int64"
      ]
     },
     "execution_count": 19,
     "metadata": {},
     "output_type": "execute_result"
    }
   ],
   "source": [
    "properties.basementsqft.value_counts().sort_index().head()"
   ]
  },
  {
   "cell_type": "markdown",
   "id": "7dc6569b-2ed9-4200-ac70-30d95714b358",
   "metadata": {},
   "source": [
    "Since the lowest value is 38 square feet it's reasonable to assume that a null value represents no basement on the property. With this in mind we can reasonably assume that the nulls are 0 square feet so we will fill in those missing values with 0."
   ]
  },
  {
   "cell_type": "code",
   "execution_count": 20,
   "id": "6e0a2751-5b65-4c84-a7c3-8318e5a38d2b",
   "metadata": {},
   "outputs": [],
   "source": [
    "properties.basementsqft.fillna(0, inplace = True)"
   ]
  },
  {
   "cell_type": "code",
   "execution_count": 21,
   "id": "25562f04-a2c2-48b9-b6d2-0efa1ae1414f",
   "metadata": {},
   "outputs": [
    {
     "data": {
      "text/plain": [
       "bedroomcnt                          0\n",
       "bathroomcnt                         0\n",
       "calculatedfinishedsquarefeet        0\n",
       "taxvaluedollarcnt                   0\n",
       "yearbuilt                           0\n",
       "fips                                0\n",
       "basementsqft                        0\n",
       "fireplacecnt                    43147\n",
       "heatingorsystemdesc             17390\n",
       "roomcnt                             0\n",
       "garagetotalsqft                 33069\n",
       "hashottuborspa                  48949\n",
       "poolcnt                         40410\n",
       "poolsizesum                     49315\n",
       "yardbuildingsqft17              48249\n",
       "dtype: int64"
      ]
     },
     "execution_count": 21,
     "metadata": {},
     "output_type": "execute_result"
    }
   ],
   "source": [
    "# Let's make sure it worked.\n",
    "properties.isnull().sum()"
   ]
  },
  {
   "cell_type": "markdown",
   "id": "11cbd127-03c1-4844-9356-ac0926047a7e",
   "metadata": {},
   "source": [
    "### fireplacecnt\n",
    "\n",
    "The fireplacecnt column has a huge number of missing values. Let's take a look at what values exist in this column."
   ]
  },
  {
   "cell_type": "code",
   "execution_count": 22,
   "id": "42b92483-1bd4-4d8b-9c57-493880362e57",
   "metadata": {},
   "outputs": [
    {
     "data": {
      "text/plain": [
       "1.0    5937\n",
       "2.0     825\n",
       "3.0     127\n",
       "4.0       6\n",
       "Name: fireplacecnt, dtype: int64"
      ]
     },
     "execution_count": 22,
     "metadata": {},
     "output_type": "execute_result"
    }
   ],
   "source": [
    "properties.fireplacecnt.value_counts()"
   ]
  },
  {
   "cell_type": "markdown",
   "id": "e089ad7c-9663-4a9d-8736-735e2e270a5b",
   "metadata": {},
   "source": [
    "Again since there is no 0 value we can reasonably assume that a null is no fireplace. We'll fill in the nulls with 0."
   ]
  },
  {
   "cell_type": "code",
   "execution_count": 23,
   "id": "501f7dfc-6ab7-41d5-ac12-20f833682993",
   "metadata": {},
   "outputs": [],
   "source": [
    "properties.fireplacecnt.fillna(0, inplace = True)\n",
    "\n",
    "# Let's also cast this column to the int type since a fractional fireplace is not possible.\n",
    "properties.fireplacecnt = properties.fireplacecnt.astype('int')"
   ]
  },
  {
   "cell_type": "code",
   "execution_count": 24,
   "id": "e2159b76-cdcb-426b-953a-282a75775eeb",
   "metadata": {},
   "outputs": [
    {
     "data": {
      "text/plain": [
       "bedroomcnt                          0\n",
       "bathroomcnt                         0\n",
       "calculatedfinishedsquarefeet        0\n",
       "taxvaluedollarcnt                   0\n",
       "yearbuilt                           0\n",
       "fips                                0\n",
       "basementsqft                        0\n",
       "fireplacecnt                        0\n",
       "heatingorsystemdesc             17390\n",
       "roomcnt                             0\n",
       "garagetotalsqft                 33069\n",
       "hashottuborspa                  48949\n",
       "poolcnt                         40410\n",
       "poolsizesum                     49315\n",
       "yardbuildingsqft17              48249\n",
       "dtype: int64"
      ]
     },
     "execution_count": 24,
     "metadata": {},
     "output_type": "execute_result"
    }
   ],
   "source": [
    "# Let's make sure it worked.\n",
    "properties.isnull().sum()"
   ]
  },
  {
   "cell_type": "markdown",
   "id": "61b5c1f7-d5a3-4408-afba-e2dffe7693e4",
   "metadata": {},
   "source": [
    "### heatingorsystemdesc\n",
    "\n",
    "The heatingorsystemdesc column has a huge number of missing values. Let's take a look at what values exist in this column."
   ]
  },
  {
   "cell_type": "code",
   "execution_count": 25,
   "id": "fba73610-bf7f-4917-a354-13ec1b30bdee",
   "metadata": {},
   "outputs": [
    {
     "data": {
      "text/plain": [
       "Central       19511\n",
       "Floor/Wall    12541\n",
       "Forced air      495\n",
       "Solar            73\n",
       "None             16\n",
       "Baseboard         7\n",
       "Radiant           6\n",
       "Gravity           2\n",
       "Yes               1\n",
       "Name: heatingorsystemdesc, dtype: int64"
      ]
     },
     "execution_count": 25,
     "metadata": {},
     "output_type": "execute_result"
    }
   ],
   "source": [
    "properties.heatingorsystemdesc.value_counts()"
   ]
  },
  {
   "cell_type": "markdown",
   "id": "875fdb2e-13a5-4ae2-8250-624d0920ca5e",
   "metadata": {},
   "source": [
    "Here we do have values to represent no heating system. We can't make any reasonable assumption about what the nulls might be. There are too many missing values to fill with something like mode so we are better off dropping this column."
   ]
  },
  {
   "cell_type": "code",
   "execution_count": 26,
   "id": "96150132-d24c-4bf8-a90f-2f462284408b",
   "metadata": {},
   "outputs": [],
   "source": [
    "properties = properties.drop(columns = 'heatingorsystemdesc')"
   ]
  },
  {
   "cell_type": "code",
   "execution_count": 27,
   "id": "f20a65b9-75ea-4194-8b0f-384bb26113fd",
   "metadata": {},
   "outputs": [
    {
     "data": {
      "text/plain": [
       "bedroomcnt                          0\n",
       "bathroomcnt                         0\n",
       "calculatedfinishedsquarefeet        0\n",
       "taxvaluedollarcnt                   0\n",
       "yearbuilt                           0\n",
       "fips                                0\n",
       "basementsqft                        0\n",
       "fireplacecnt                        0\n",
       "roomcnt                             0\n",
       "garagetotalsqft                 33069\n",
       "hashottuborspa                  48949\n",
       "poolcnt                         40410\n",
       "poolsizesum                     49315\n",
       "yardbuildingsqft17              48249\n",
       "dtype: int64"
      ]
     },
     "execution_count": 27,
     "metadata": {},
     "output_type": "execute_result"
    }
   ],
   "source": [
    "# Let's make sure it worked.\n",
    "properties.isnull().sum()"
   ]
  },
  {
   "cell_type": "markdown",
   "id": "fad28cdf-8724-4c29-ac61-27dc6e12586a",
   "metadata": {},
   "source": [
    "### garagetotalsqft\n",
    "\n",
    "The garagetotalsqft column has a large number of missing values. Let's take a look at the range values in this columns."
   ]
  },
  {
   "cell_type": "code",
   "execution_count": 28,
   "id": "6967d250-3b0e-4fe4-a02e-cf36d6b6670a",
   "metadata": {},
   "outputs": [
    {
     "data": {
      "text/plain": [
       "0.0       191\n",
       "136.0       1\n",
       "144.0       1\n",
       "150.0       2\n",
       "152.0       2\n",
       "         ... \n",
       "2015.0      1\n",
       "2296.0      1\n",
       "2632.0      1\n",
       "2720.0      1\n",
       "3791.0      1\n",
       "Name: garagetotalsqft, Length: 667, dtype: int64"
      ]
     },
     "execution_count": 28,
     "metadata": {},
     "output_type": "execute_result"
    }
   ],
   "source": [
    "properties.garagetotalsqft.value_counts().sort_index()"
   ]
  },
  {
   "cell_type": "markdown",
   "id": "a18d829e-86e5-4e7f-bde6-a3018acaff1c",
   "metadata": {},
   "source": [
    "Here we do have a 0 value to represent no garage (such as if the property was a condo). We can't make a reasonable assumption of what the nulls might be so we will drop the column."
   ]
  },
  {
   "cell_type": "code",
   "execution_count": 29,
   "id": "e01b4584-69be-4ee1-a0c0-7eb38c46f546",
   "metadata": {},
   "outputs": [],
   "source": [
    "properties = properties.drop(columns = 'garagetotalsqft')"
   ]
  },
  {
   "cell_type": "code",
   "execution_count": 30,
   "id": "61b495ed-5c05-40ed-b749-11c0bdb13018",
   "metadata": {},
   "outputs": [
    {
     "data": {
      "text/plain": [
       "bedroomcnt                          0\n",
       "bathroomcnt                         0\n",
       "calculatedfinishedsquarefeet        0\n",
       "taxvaluedollarcnt                   0\n",
       "yearbuilt                           0\n",
       "fips                                0\n",
       "basementsqft                        0\n",
       "fireplacecnt                        0\n",
       "roomcnt                             0\n",
       "hashottuborspa                  48949\n",
       "poolcnt                         40410\n",
       "poolsizesum                     49315\n",
       "yardbuildingsqft17              48249\n",
       "dtype: int64"
      ]
     },
     "execution_count": 30,
     "metadata": {},
     "output_type": "execute_result"
    }
   ],
   "source": [
    "# Let's make sure it worked.\n",
    "properties.isnull().sum()"
   ]
  },
  {
   "cell_type": "markdown",
   "id": "52d5bee9-cbcd-4816-8476-3f4d70412f87",
   "metadata": {},
   "source": [
    "### hashottuborspa\n",
    "\n",
    "The hashottuborspa column has a huge number of missing values. Let's take a look at what values exist in this column."
   ]
  },
  {
   "cell_type": "code",
   "execution_count": 31,
   "id": "64dfaa2f-8de7-4952-8df2-2b558dc63316",
   "metadata": {},
   "outputs": [
    {
     "data": {
      "text/plain": [
       "1.0    1093\n",
       "Name: hashottuborspa, dtype: int64"
      ]
     },
     "execution_count": 31,
     "metadata": {},
     "output_type": "execute_result"
    }
   ],
   "source": [
    "properties.hashottuborspa.value_counts()"
   ]
  },
  {
   "cell_type": "markdown",
   "id": "c90e492e-024c-46c2-a069-e078a851921c",
   "metadata": {},
   "source": [
    "Here there is only a value to represent that the property has 1 hot tub. We can reasonably assume the nulls represent no hot tub or spa. We'll fill the null values with 0."
   ]
  },
  {
   "cell_type": "code",
   "execution_count": 32,
   "id": "a200c975-acb2-4812-a15c-863968000524",
   "metadata": {},
   "outputs": [],
   "source": [
    "properties.hashottuborspa.fillna(0, inplace = True)\n",
    "properties.hashottuborspa = properties.hashottuborspa.astype('int')"
   ]
  },
  {
   "cell_type": "code",
   "execution_count": 33,
   "id": "3b11fd32-468b-46cf-8c91-bd8429bec144",
   "metadata": {},
   "outputs": [
    {
     "data": {
      "text/plain": [
       "bedroomcnt                          0\n",
       "bathroomcnt                         0\n",
       "calculatedfinishedsquarefeet        0\n",
       "taxvaluedollarcnt                   0\n",
       "yearbuilt                           0\n",
       "fips                                0\n",
       "basementsqft                        0\n",
       "fireplacecnt                        0\n",
       "roomcnt                             0\n",
       "hashottuborspa                      0\n",
       "poolcnt                         40410\n",
       "poolsizesum                     49315\n",
       "yardbuildingsqft17              48249\n",
       "dtype: int64"
      ]
     },
     "execution_count": 33,
     "metadata": {},
     "output_type": "execute_result"
    }
   ],
   "source": [
    "# Let's make sure it worked.\n",
    "properties.isnull().sum()"
   ]
  },
  {
   "cell_type": "markdown",
   "id": "e569a8d8-0961-422e-bcbf-56b6a9f55572",
   "metadata": {},
   "source": [
    "### poolcnt and poolsizesum\n",
    "\n",
    "The poolcnt and poolsizesum columns both have a huge amount of missing values. Let's take a look at what values exist in these columns."
   ]
  },
  {
   "cell_type": "code",
   "execution_count": 34,
   "id": "46d0a665-af9c-48a6-a784-8c85b7f4fbe3",
   "metadata": {},
   "outputs": [
    {
     "data": {
      "text/plain": [
       "1.0    9632\n",
       "Name: poolcnt, dtype: int64"
      ]
     },
     "execution_count": 34,
     "metadata": {},
     "output_type": "execute_result"
    }
   ],
   "source": [
    "properties.poolcnt.value_counts()"
   ]
  },
  {
   "cell_type": "code",
   "execution_count": 35,
   "id": "f30ee025-2df1-4f03-9e8c-a039af8a14d7",
   "metadata": {},
   "outputs": [
    {
     "data": {
      "text/plain": [
       "24.0      1\n",
       "38.0      1\n",
       "65.0      1\n",
       "105.0     1\n",
       "112.0     1\n",
       "         ..\n",
       "860.0     1\n",
       "931.0     1\n",
       "1000.0    1\n",
       "1109.0    1\n",
       "1120.0    1\n",
       "Name: poolsizesum, Length: 225, dtype: int64"
      ]
     },
     "execution_count": 35,
     "metadata": {},
     "output_type": "execute_result"
    }
   ],
   "source": [
    "properties.poolsizesum.value_counts().sort_index()"
   ]
  },
  {
   "cell_type": "markdown",
   "id": "bef87723-a7a6-4318-b4bb-95df8ce02a47",
   "metadata": {},
   "source": [
    "These features do not have the same number of missing values. We have more information for poolcnt, but poolsizesum could be more valuable for assessing property value. We can't have a property with a pool and 0 pool size so we will need to drop one of these columns. The other can reasonably be filled in with 0.\n",
    "\n",
    "Since poolsizesum has more missing values we'll drop that one and keep poolcnt. We'll fill the null values in poolcnt with 0."
   ]
  },
  {
   "cell_type": "code",
   "execution_count": 36,
   "id": "4e00a539-9014-444e-bb69-fa220dd1c7c2",
   "metadata": {},
   "outputs": [],
   "source": [
    "properties = properties.drop(columns = 'poolsizesum')\n",
    "properties.poolcnt.fillna(0, inplace = True)\n",
    "\n",
    "# Let's also cast poolcnt to an int type since a fractional pool is not possible.\n",
    "properties.poolcnt = properties.poolcnt.astype('int')"
   ]
  },
  {
   "cell_type": "code",
   "execution_count": 37,
   "id": "b3ebbfc6-2f47-4609-8dd1-02c7d48315b8",
   "metadata": {},
   "outputs": [
    {
     "data": {
      "text/plain": [
       "bedroomcnt                          0\n",
       "bathroomcnt                         0\n",
       "calculatedfinishedsquarefeet        0\n",
       "taxvaluedollarcnt                   0\n",
       "yearbuilt                           0\n",
       "fips                                0\n",
       "basementsqft                        0\n",
       "fireplacecnt                        0\n",
       "roomcnt                             0\n",
       "hashottuborspa                      0\n",
       "poolcnt                             0\n",
       "yardbuildingsqft17              48249\n",
       "dtype: int64"
      ]
     },
     "execution_count": 37,
     "metadata": {},
     "output_type": "execute_result"
    }
   ],
   "source": [
    "# Let's make sure it worked.\n",
    "properties.isnull().sum()"
   ]
  },
  {
   "cell_type": "markdown",
   "id": "62eaa745-10ae-40f3-b490-808410aacb72",
   "metadata": {},
   "source": [
    "### yardbuildingsqft17\n",
    "\n",
    "Finally the yardbuildingsqft17 column has a large number of missing values. Let's take a look at what values exist in this column."
   ]
  },
  {
   "cell_type": "code",
   "execution_count": 38,
   "id": "25f43363-11e8-4c0e-875a-cc9627ce7823",
   "metadata": {},
   "outputs": [
    {
     "data": {
      "text/plain": [
       "11.0      1\n",
       "17.0      1\n",
       "24.0      3\n",
       "28.0      3\n",
       "30.0      2\n",
       "         ..\n",
       "1506.0    1\n",
       "1556.0    1\n",
       "2055.0    1\n",
       "2206.0    1\n",
       "2480.0    1\n",
       "Name: yardbuildingsqft17, Length: 456, dtype: int64"
      ]
     },
     "execution_count": 38,
     "metadata": {},
     "output_type": "execute_result"
    }
   ],
   "source": [
    "properties.yardbuildingsqft17.value_counts().sort_index()"
   ]
  },
  {
   "cell_type": "markdown",
   "id": "75c83596-41aa-4736-8175-cb8f8c57f4c0",
   "metadata": {},
   "source": [
    "We may be able to assume null is no patio, but there are a large number of missing values here and most residential homes are likely going to have at least a small patio. We may be better off dropping this column since it's difficult to assume what the nulls may represent."
   ]
  },
  {
   "cell_type": "code",
   "execution_count": 39,
   "id": "f2e816c7-abd6-445b-95ad-2036f5b28470",
   "metadata": {},
   "outputs": [],
   "source": [
    "properties = properties.drop(columns = 'yardbuildingsqft17')"
   ]
  },
  {
   "cell_type": "code",
   "execution_count": 40,
   "id": "be13fe80-4d73-4951-b706-3f8e20e8ceb1",
   "metadata": {},
   "outputs": [
    {
     "data": {
      "text/plain": [
       "bedroomcnt                      0\n",
       "bathroomcnt                     0\n",
       "calculatedfinishedsquarefeet    0\n",
       "taxvaluedollarcnt               0\n",
       "yearbuilt                       0\n",
       "fips                            0\n",
       "basementsqft                    0\n",
       "fireplacecnt                    0\n",
       "roomcnt                         0\n",
       "hashottuborspa                  0\n",
       "poolcnt                         0\n",
       "dtype: int64"
      ]
     },
     "execution_count": 40,
     "metadata": {},
     "output_type": "execute_result"
    }
   ],
   "source": [
    "# Let's make sure it worked.\n",
    "properties.isnull().sum()"
   ]
  },
  {
   "cell_type": "markdown",
   "id": "61231f62-4832-4a8d-9d4f-5e5aff2390bb",
   "metadata": {},
   "source": [
    "---\n",
    "\n",
    "## A Second Brief Analysis\n",
    "\n",
    "Now that we are done handling all the missing values let's take a look at our data one more time before wrapping this up."
   ]
  },
  {
   "cell_type": "code",
   "execution_count": 41,
   "id": "836fc491-0211-490c-870a-af7adaa4154b",
   "metadata": {},
   "outputs": [
    {
     "data": {
      "text/html": [
       "<div>\n",
       "<style scoped>\n",
       "    .dataframe tbody tr th:only-of-type {\n",
       "        vertical-align: middle;\n",
       "    }\n",
       "\n",
       "    .dataframe tbody tr th {\n",
       "        vertical-align: top;\n",
       "    }\n",
       "\n",
       "    .dataframe thead th {\n",
       "        text-align: right;\n",
       "    }\n",
       "</style>\n",
       "<table border=\"1\" class=\"dataframe\">\n",
       "  <thead>\n",
       "    <tr style=\"text-align: right;\">\n",
       "      <th></th>\n",
       "      <th>count</th>\n",
       "      <th>mean</th>\n",
       "      <th>std</th>\n",
       "      <th>min</th>\n",
       "      <th>25%</th>\n",
       "      <th>50%</th>\n",
       "      <th>75%</th>\n",
       "      <th>max</th>\n",
       "    </tr>\n",
       "  </thead>\n",
       "  <tbody>\n",
       "    <tr>\n",
       "      <th>bedroomcnt</th>\n",
       "      <td>50042.0</td>\n",
       "      <td>3.241197</td>\n",
       "      <td>0.883388</td>\n",
       "      <td>0.0</td>\n",
       "      <td>3.0</td>\n",
       "      <td>3.0</td>\n",
       "      <td>4.00</td>\n",
       "      <td>9.0</td>\n",
       "    </tr>\n",
       "    <tr>\n",
       "      <th>bathroomcnt</th>\n",
       "      <td>50042.0</td>\n",
       "      <td>2.184505</td>\n",
       "      <td>0.831969</td>\n",
       "      <td>0.0</td>\n",
       "      <td>2.0</td>\n",
       "      <td>2.0</td>\n",
       "      <td>3.00</td>\n",
       "      <td>7.5</td>\n",
       "    </tr>\n",
       "    <tr>\n",
       "      <th>calculatedfinishedsquarefeet</th>\n",
       "      <td>50042.0</td>\n",
       "      <td>1780.545861</td>\n",
       "      <td>699.525462</td>\n",
       "      <td>128.0</td>\n",
       "      <td>1252.0</td>\n",
       "      <td>1620.0</td>\n",
       "      <td>2189.00</td>\n",
       "      <td>3862.0</td>\n",
       "    </tr>\n",
       "    <tr>\n",
       "      <th>taxvaluedollarcnt</th>\n",
       "      <td>50042.0</td>\n",
       "      <td>454075.673654</td>\n",
       "      <td>452414.296990</td>\n",
       "      <td>1000.0</td>\n",
       "      <td>185490.5</td>\n",
       "      <td>358000.0</td>\n",
       "      <td>577205.75</td>\n",
       "      <td>15618488.0</td>\n",
       "    </tr>\n",
       "    <tr>\n",
       "      <th>yearbuilt</th>\n",
       "      <td>50042.0</td>\n",
       "      <td>1962.362995</td>\n",
       "      <td>22.541137</td>\n",
       "      <td>1878.0</td>\n",
       "      <td>1950.0</td>\n",
       "      <td>1960.0</td>\n",
       "      <td>1977.00</td>\n",
       "      <td>2016.0</td>\n",
       "    </tr>\n",
       "    <tr>\n",
       "      <th>fips</th>\n",
       "      <td>50042.0</td>\n",
       "      <td>6048.953239</td>\n",
       "      <td>20.928108</td>\n",
       "      <td>6037.0</td>\n",
       "      <td>6037.0</td>\n",
       "      <td>6037.0</td>\n",
       "      <td>6059.00</td>\n",
       "      <td>6111.0</td>\n",
       "    </tr>\n",
       "    <tr>\n",
       "      <th>basementsqft</th>\n",
       "      <td>50042.0</td>\n",
       "      <td>0.525858</td>\n",
       "      <td>24.641038</td>\n",
       "      <td>0.0</td>\n",
       "      <td>0.0</td>\n",
       "      <td>0.0</td>\n",
       "      <td>0.00</td>\n",
       "      <td>3112.0</td>\n",
       "    </tr>\n",
       "    <tr>\n",
       "      <th>fireplacecnt</th>\n",
       "      <td>50042.0</td>\n",
       "      <td>0.159706</td>\n",
       "      <td>0.428768</td>\n",
       "      <td>0.0</td>\n",
       "      <td>0.0</td>\n",
       "      <td>0.0</td>\n",
       "      <td>0.00</td>\n",
       "      <td>4.0</td>\n",
       "    </tr>\n",
       "    <tr>\n",
       "      <th>roomcnt</th>\n",
       "      <td>50042.0</td>\n",
       "      <td>1.898265</td>\n",
       "      <td>3.116065</td>\n",
       "      <td>0.0</td>\n",
       "      <td>0.0</td>\n",
       "      <td>0.0</td>\n",
       "      <td>5.00</td>\n",
       "      <td>13.0</td>\n",
       "    </tr>\n",
       "    <tr>\n",
       "      <th>hashottuborspa</th>\n",
       "      <td>50042.0</td>\n",
       "      <td>0.021842</td>\n",
       "      <td>0.146168</td>\n",
       "      <td>0.0</td>\n",
       "      <td>0.0</td>\n",
       "      <td>0.0</td>\n",
       "      <td>0.00</td>\n",
       "      <td>1.0</td>\n",
       "    </tr>\n",
       "    <tr>\n",
       "      <th>poolcnt</th>\n",
       "      <td>50042.0</td>\n",
       "      <td>0.192478</td>\n",
       "      <td>0.394251</td>\n",
       "      <td>0.0</td>\n",
       "      <td>0.0</td>\n",
       "      <td>0.0</td>\n",
       "      <td>0.00</td>\n",
       "      <td>1.0</td>\n",
       "    </tr>\n",
       "  </tbody>\n",
       "</table>\n",
       "</div>"
      ],
      "text/plain": [
       "                                count           mean            std     min  \\\n",
       "bedroomcnt                    50042.0       3.241197       0.883388     0.0   \n",
       "bathroomcnt                   50042.0       2.184505       0.831969     0.0   \n",
       "calculatedfinishedsquarefeet  50042.0    1780.545861     699.525462   128.0   \n",
       "taxvaluedollarcnt             50042.0  454075.673654  452414.296990  1000.0   \n",
       "yearbuilt                     50042.0    1962.362995      22.541137  1878.0   \n",
       "fips                          50042.0    6048.953239      20.928108  6037.0   \n",
       "basementsqft                  50042.0       0.525858      24.641038     0.0   \n",
       "fireplacecnt                  50042.0       0.159706       0.428768     0.0   \n",
       "roomcnt                       50042.0       1.898265       3.116065     0.0   \n",
       "hashottuborspa                50042.0       0.021842       0.146168     0.0   \n",
       "poolcnt                       50042.0       0.192478       0.394251     0.0   \n",
       "\n",
       "                                   25%       50%        75%         max  \n",
       "bedroomcnt                         3.0       3.0       4.00         9.0  \n",
       "bathroomcnt                        2.0       2.0       3.00         7.5  \n",
       "calculatedfinishedsquarefeet    1252.0    1620.0    2189.00      3862.0  \n",
       "taxvaluedollarcnt             185490.5  358000.0  577205.75  15618488.0  \n",
       "yearbuilt                       1950.0    1960.0    1977.00      2016.0  \n",
       "fips                            6037.0    6037.0    6059.00      6111.0  \n",
       "basementsqft                       0.0       0.0       0.00      3112.0  \n",
       "fireplacecnt                       0.0       0.0       0.00         4.0  \n",
       "roomcnt                            0.0       0.0       5.00        13.0  \n",
       "hashottuborspa                     0.0       0.0       0.00         1.0  \n",
       "poolcnt                            0.0       0.0       0.00         1.0  "
      ]
     },
     "execution_count": 41,
     "metadata": {},
     "output_type": "execute_result"
    }
   ],
   "source": [
    "properties.describe().T"
   ]
  },
  {
   "cell_type": "markdown",
   "id": "14f7309c-7e40-401d-8768-8c2f0274a44a",
   "metadata": {},
   "source": [
    "The only issue is that it doesn't make sense for roomcnt to be 0. Let's take a look at what values exist in this column."
   ]
  },
  {
   "cell_type": "code",
   "execution_count": 42,
   "id": "e6739f13-b347-4573-b0ee-a220ef47cb7e",
   "metadata": {},
   "outputs": [
    {
     "data": {
      "text/plain": [
       "0.0     35935\n",
       "1.0         1\n",
       "2.0        11\n",
       "3.0        72\n",
       "4.0       514\n",
       "5.0      1871\n",
       "6.0      3948\n",
       "7.0      3571\n",
       "8.0      2747\n",
       "9.0      1092\n",
       "10.0      235\n",
       "11.0       37\n",
       "12.0        7\n",
       "13.0        1\n",
       "Name: roomcnt, dtype: int64"
      ]
     },
     "execution_count": 42,
     "metadata": {},
     "output_type": "execute_result"
    }
   ],
   "source": [
    "properties.roomcnt.value_counts().sort_index()"
   ]
  },
  {
   "cell_type": "markdown",
   "id": "f997434a-d827-4bb7-826c-7613a2764ff6",
   "metadata": {},
   "source": [
    "We don't want to remove 35,000 rows, since this would be far too many rows to remove so we'll just drop the column."
   ]
  },
  {
   "cell_type": "code",
   "execution_count": 43,
   "id": "11f6cb22-bb8b-40e0-8248-00ff07d0fb31",
   "metadata": {},
   "outputs": [],
   "source": [
    "properties = properties.drop(columns = 'roomcnt')"
   ]
  },
  {
   "cell_type": "code",
   "execution_count": 44,
   "id": "06584921-b1d0-49c0-a452-e12e39982d3f",
   "metadata": {},
   "outputs": [
    {
     "data": {
      "text/html": [
       "<div>\n",
       "<style scoped>\n",
       "    .dataframe tbody tr th:only-of-type {\n",
       "        vertical-align: middle;\n",
       "    }\n",
       "\n",
       "    .dataframe tbody tr th {\n",
       "        vertical-align: top;\n",
       "    }\n",
       "\n",
       "    .dataframe thead th {\n",
       "        text-align: right;\n",
       "    }\n",
       "</style>\n",
       "<table border=\"1\" class=\"dataframe\">\n",
       "  <thead>\n",
       "    <tr style=\"text-align: right;\">\n",
       "      <th></th>\n",
       "      <th>count</th>\n",
       "      <th>mean</th>\n",
       "      <th>std</th>\n",
       "      <th>min</th>\n",
       "      <th>25%</th>\n",
       "      <th>50%</th>\n",
       "      <th>75%</th>\n",
       "      <th>max</th>\n",
       "    </tr>\n",
       "  </thead>\n",
       "  <tbody>\n",
       "    <tr>\n",
       "      <th>bedroomcnt</th>\n",
       "      <td>50042.0</td>\n",
       "      <td>3.241197</td>\n",
       "      <td>0.883388</td>\n",
       "      <td>0.0</td>\n",
       "      <td>3.0</td>\n",
       "      <td>3.0</td>\n",
       "      <td>4.00</td>\n",
       "      <td>9.0</td>\n",
       "    </tr>\n",
       "    <tr>\n",
       "      <th>bathroomcnt</th>\n",
       "      <td>50042.0</td>\n",
       "      <td>2.184505</td>\n",
       "      <td>0.831969</td>\n",
       "      <td>0.0</td>\n",
       "      <td>2.0</td>\n",
       "      <td>2.0</td>\n",
       "      <td>3.00</td>\n",
       "      <td>7.5</td>\n",
       "    </tr>\n",
       "    <tr>\n",
       "      <th>calculatedfinishedsquarefeet</th>\n",
       "      <td>50042.0</td>\n",
       "      <td>1780.545861</td>\n",
       "      <td>699.525462</td>\n",
       "      <td>128.0</td>\n",
       "      <td>1252.0</td>\n",
       "      <td>1620.0</td>\n",
       "      <td>2189.00</td>\n",
       "      <td>3862.0</td>\n",
       "    </tr>\n",
       "    <tr>\n",
       "      <th>taxvaluedollarcnt</th>\n",
       "      <td>50042.0</td>\n",
       "      <td>454075.673654</td>\n",
       "      <td>452414.296990</td>\n",
       "      <td>1000.0</td>\n",
       "      <td>185490.5</td>\n",
       "      <td>358000.0</td>\n",
       "      <td>577205.75</td>\n",
       "      <td>15618488.0</td>\n",
       "    </tr>\n",
       "    <tr>\n",
       "      <th>yearbuilt</th>\n",
       "      <td>50042.0</td>\n",
       "      <td>1962.362995</td>\n",
       "      <td>22.541137</td>\n",
       "      <td>1878.0</td>\n",
       "      <td>1950.0</td>\n",
       "      <td>1960.0</td>\n",
       "      <td>1977.00</td>\n",
       "      <td>2016.0</td>\n",
       "    </tr>\n",
       "    <tr>\n",
       "      <th>fips</th>\n",
       "      <td>50042.0</td>\n",
       "      <td>6048.953239</td>\n",
       "      <td>20.928108</td>\n",
       "      <td>6037.0</td>\n",
       "      <td>6037.0</td>\n",
       "      <td>6037.0</td>\n",
       "      <td>6059.00</td>\n",
       "      <td>6111.0</td>\n",
       "    </tr>\n",
       "    <tr>\n",
       "      <th>basementsqft</th>\n",
       "      <td>50042.0</td>\n",
       "      <td>0.525858</td>\n",
       "      <td>24.641038</td>\n",
       "      <td>0.0</td>\n",
       "      <td>0.0</td>\n",
       "      <td>0.0</td>\n",
       "      <td>0.00</td>\n",
       "      <td>3112.0</td>\n",
       "    </tr>\n",
       "    <tr>\n",
       "      <th>fireplacecnt</th>\n",
       "      <td>50042.0</td>\n",
       "      <td>0.159706</td>\n",
       "      <td>0.428768</td>\n",
       "      <td>0.0</td>\n",
       "      <td>0.0</td>\n",
       "      <td>0.0</td>\n",
       "      <td>0.00</td>\n",
       "      <td>4.0</td>\n",
       "    </tr>\n",
       "    <tr>\n",
       "      <th>hashottuborspa</th>\n",
       "      <td>50042.0</td>\n",
       "      <td>0.021842</td>\n",
       "      <td>0.146168</td>\n",
       "      <td>0.0</td>\n",
       "      <td>0.0</td>\n",
       "      <td>0.0</td>\n",
       "      <td>0.00</td>\n",
       "      <td>1.0</td>\n",
       "    </tr>\n",
       "    <tr>\n",
       "      <th>poolcnt</th>\n",
       "      <td>50042.0</td>\n",
       "      <td>0.192478</td>\n",
       "      <td>0.394251</td>\n",
       "      <td>0.0</td>\n",
       "      <td>0.0</td>\n",
       "      <td>0.0</td>\n",
       "      <td>0.00</td>\n",
       "      <td>1.0</td>\n",
       "    </tr>\n",
       "  </tbody>\n",
       "</table>\n",
       "</div>"
      ],
      "text/plain": [
       "                                count           mean            std     min  \\\n",
       "bedroomcnt                    50042.0       3.241197       0.883388     0.0   \n",
       "bathroomcnt                   50042.0       2.184505       0.831969     0.0   \n",
       "calculatedfinishedsquarefeet  50042.0    1780.545861     699.525462   128.0   \n",
       "taxvaluedollarcnt             50042.0  454075.673654  452414.296990  1000.0   \n",
       "yearbuilt                     50042.0    1962.362995      22.541137  1878.0   \n",
       "fips                          50042.0    6048.953239      20.928108  6037.0   \n",
       "basementsqft                  50042.0       0.525858      24.641038     0.0   \n",
       "fireplacecnt                  50042.0       0.159706       0.428768     0.0   \n",
       "hashottuborspa                50042.0       0.021842       0.146168     0.0   \n",
       "poolcnt                       50042.0       0.192478       0.394251     0.0   \n",
       "\n",
       "                                   25%       50%        75%         max  \n",
       "bedroomcnt                         3.0       3.0       4.00         9.0  \n",
       "bathroomcnt                        2.0       2.0       3.00         7.5  \n",
       "calculatedfinishedsquarefeet    1252.0    1620.0    2189.00      3862.0  \n",
       "taxvaluedollarcnt             185490.5  358000.0  577205.75  15618488.0  \n",
       "yearbuilt                       1950.0    1960.0    1977.00      2016.0  \n",
       "fips                            6037.0    6037.0    6059.00      6111.0  \n",
       "basementsqft                       0.0       0.0       0.00      3112.0  \n",
       "fireplacecnt                       0.0       0.0       0.00         4.0  \n",
       "hashottuborspa                     0.0       0.0       0.00         1.0  \n",
       "poolcnt                            0.0       0.0       0.00         1.0  "
      ]
     },
     "execution_count": 44,
     "metadata": {},
     "output_type": "execute_result"
    }
   ],
   "source": [
    "# Let's take one more look.\n",
    "properties.describe().T"
   ]
  },
  {
   "cell_type": "markdown",
   "id": "aea7f118-c8ea-4f21-b50b-f0894d89501d",
   "metadata": {},
   "source": [
    "Now let's see if there are any columns that should be cast to a different type."
   ]
  },
  {
   "cell_type": "code",
   "execution_count": 45,
   "id": "8f37327e-7e15-47e9-8a16-1c6dcb6b17c9",
   "metadata": {},
   "outputs": [
    {
     "name": "stdout",
     "output_type": "stream",
     "text": [
      "<class 'pandas.core.frame.DataFrame'>\n",
      "Int64Index: 50042 entries, 0 to 52440\n",
      "Data columns (total 10 columns):\n",
      " #   Column                        Non-Null Count  Dtype  \n",
      "---  ------                        --------------  -----  \n",
      " 0   bedroomcnt                    50042 non-null  float64\n",
      " 1   bathroomcnt                   50042 non-null  float64\n",
      " 2   calculatedfinishedsquarefeet  50042 non-null  float64\n",
      " 3   taxvaluedollarcnt             50042 non-null  float64\n",
      " 4   yearbuilt                     50042 non-null  float64\n",
      " 5   fips                          50042 non-null  float64\n",
      " 6   basementsqft                  50042 non-null  float64\n",
      " 7   fireplacecnt                  50042 non-null  int64  \n",
      " 8   hashottuborspa                50042 non-null  int64  \n",
      " 9   poolcnt                       50042 non-null  int64  \n",
      "dtypes: float64(7), int64(3)\n",
      "memory usage: 4.2 MB\n"
     ]
    }
   ],
   "source": [
    "properties.info()"
   ]
  },
  {
   "cell_type": "markdown",
   "id": "91ff549f-e392-47e9-9e3c-5d441d391e94",
   "metadata": {},
   "source": [
    "The columns bedroomcnt, fips, and bathroomcnt should possibly be int types. Let's make sure."
   ]
  },
  {
   "cell_type": "code",
   "execution_count": 46,
   "id": "355ba300-e1a3-4178-999c-7ffdbbecb0a4",
   "metadata": {},
   "outputs": [
    {
     "data": {
      "text/plain": [
       "3.0    23195\n",
       "4.0    14445\n",
       "2.0     8325\n",
       "5.0     2991\n",
       "1.0      605\n",
       "6.0      371\n",
       "0.0       55\n",
       "7.0       47\n",
       "8.0        6\n",
       "9.0        2\n",
       "Name: bedroomcnt, dtype: int64"
      ]
     },
     "execution_count": 46,
     "metadata": {},
     "output_type": "execute_result"
    }
   ],
   "source": [
    "properties.bedroomcnt.value_counts()"
   ]
  },
  {
   "cell_type": "code",
   "execution_count": 47,
   "id": "1132c7ef-eead-4cd1-9dc7-ed8015b69d50",
   "metadata": {},
   "outputs": [
    {
     "data": {
      "text/plain": [
       "6037.0    32624\n",
       "6059.0    13284\n",
       "6111.0     4134\n",
       "Name: fips, dtype: int64"
      ]
     },
     "execution_count": 47,
     "metadata": {},
     "output_type": "execute_result"
    }
   ],
   "source": [
    "properties.fips.value_counts()"
   ]
  },
  {
   "cell_type": "code",
   "execution_count": 48,
   "id": "13b04f64-33d4-433b-9854-a03f55902385",
   "metadata": {},
   "outputs": [
    {
     "data": {
      "text/plain": [
       "2.0    21878\n",
       "3.0    10529\n",
       "1.0     9552\n",
       "2.5     3921\n",
       "4.0     1824\n",
       "1.5      840\n",
       "3.5      769\n",
       "5.0      338\n",
       "4.5      285\n",
       "6.0       43\n",
       "0.0       39\n",
       "5.5       18\n",
       "7.0        5\n",
       "7.5        1\n",
       "Name: bathroomcnt, dtype: int64"
      ]
     },
     "execution_count": 48,
     "metadata": {},
     "output_type": "execute_result"
    }
   ],
   "source": [
    "properties.bathroomcnt.value_counts()"
   ]
  },
  {
   "cell_type": "markdown",
   "id": "6438e3bd-e23e-4cb2-b152-d2db6894f894",
   "metadata": {},
   "source": [
    "We will cast bedroomcnt and fips to int type."
   ]
  },
  {
   "cell_type": "code",
   "execution_count": 49,
   "id": "6b2ea464-3ec4-4d1d-8f12-1b1c4031490e",
   "metadata": {},
   "outputs": [],
   "source": [
    "properties.bedroomcnt = properties.bedroomcnt.astype('int')\n",
    "properties.fips = properties.fips.astype('int')"
   ]
  },
  {
   "cell_type": "code",
   "execution_count": 50,
   "id": "fae4a2f7-7124-4094-9e20-af0f3794d41c",
   "metadata": {},
   "outputs": [
    {
     "name": "stdout",
     "output_type": "stream",
     "text": [
      "<class 'pandas.core.frame.DataFrame'>\n",
      "Int64Index: 50042 entries, 0 to 52440\n",
      "Data columns (total 10 columns):\n",
      " #   Column                        Non-Null Count  Dtype  \n",
      "---  ------                        --------------  -----  \n",
      " 0   bedroomcnt                    50042 non-null  int64  \n",
      " 1   bathroomcnt                   50042 non-null  float64\n",
      " 2   calculatedfinishedsquarefeet  50042 non-null  float64\n",
      " 3   taxvaluedollarcnt             50042 non-null  float64\n",
      " 4   yearbuilt                     50042 non-null  float64\n",
      " 5   fips                          50042 non-null  int64  \n",
      " 6   basementsqft                  50042 non-null  float64\n",
      " 7   fireplacecnt                  50042 non-null  int64  \n",
      " 8   hashottuborspa                50042 non-null  int64  \n",
      " 9   poolcnt                       50042 non-null  int64  \n",
      "dtypes: float64(5), int64(5)\n",
      "memory usage: 4.2 MB\n"
     ]
    }
   ],
   "source": [
    "# Let's make sure it worked.\n",
    "properties.info()"
   ]
  },
  {
   "cell_type": "markdown",
   "id": "b2b8d1a2-e990-4c50-9c64-e24e964ab253",
   "metadata": {},
   "source": [
    "Everything looks good."
   ]
  },
  {
   "cell_type": "markdown",
   "id": "d340bb47-367c-4d98-85c7-5fd7bfcea75e",
   "metadata": {},
   "source": [
    "---\n",
    "\n",
    "## Rename Columns\n",
    "\n",
    "Finally, let's rename these columns so that they will be more readable."
   ]
  },
  {
   "cell_type": "code",
   "execution_count": 51,
   "id": "bbd4ff01-8e2d-41a6-981e-8885db57cb2c",
   "metadata": {},
   "outputs": [
    {
     "name": "stdout",
     "output_type": "stream",
     "text": [
      "<class 'pandas.core.frame.DataFrame'>\n",
      "Int64Index: 50042 entries, 0 to 52440\n",
      "Data columns (total 10 columns):\n",
      " #   Column                        Non-Null Count  Dtype  \n",
      "---  ------                        --------------  -----  \n",
      " 0   bedroom_count                 50042 non-null  int64  \n",
      " 1   bathroom_count                50042 non-null  float64\n",
      " 2   square_feet                   50042 non-null  float64\n",
      " 3   property_tax_assessed_values  50042 non-null  float64\n",
      " 4   year_built                    50042 non-null  float64\n",
      " 5   fed_code                      50042 non-null  int64  \n",
      " 6   basement_square_feet          50042 non-null  float64\n",
      " 7   fireplace_count               50042 non-null  int64  \n",
      " 8   has_hot_tub                   50042 non-null  int64  \n",
      " 9   has_pool                      50042 non-null  int64  \n",
      "dtypes: float64(5), int64(5)\n",
      "memory usage: 4.2 MB\n"
     ]
    }
   ],
   "source": [
    "properties = properties.rename(columns = {\n",
    "    'bedroomcnt' : 'bedroom_count',\n",
    "    'bathroomcnt' : 'bathroom_count',\n",
    "    'calculatedfinishedsquarefeet' : 'square_feet',\n",
    "    'taxvaluedollarcnt' : 'property_tax_assessed_values',\n",
    "    'yearbuilt' : 'year_built',\n",
    "    'fips' : 'fed_code',\n",
    "    'basementsqft' : 'basement_square_feet',\n",
    "    'fireplacecnt' : 'fireplace_count',\n",
    "    'hashottuborspa' : 'has_hot_tub',\n",
    "    'poolcnt' : 'has_pool'\n",
    "})\n",
    "properties.info()"
   ]
  },
  {
   "cell_type": "markdown",
   "id": "5e7f62ae-62cb-4fd0-835e-71cad607c581",
   "metadata": {},
   "source": [
    "## Put it all in a function\n",
    "\n",
    "Now let's throw everything into a prepare function."
   ]
  },
  {
   "cell_type": "code",
   "execution_count": 52,
   "id": "ef9573a7-767b-48cd-b044-65e312e86d96",
   "metadata": {},
   "outputs": [],
   "source": [
    "def prepare_zillow_data(df: pd.core.frame.DataFrame) -> pd.core.frame.DataFrame:\n",
    "    '''\n",
    "        Returns a prepared zillow dataset with all missing values handled.\n",
    "        \n",
    "        Parameters\n",
    "        ----------\n",
    "        df: DataFrame\n",
    "            A pandas dataframe containing the unprepared zillow dataset.\n",
    "        \n",
    "        Returns\n",
    "        -------\n",
    "        DataFrame: A pandas dataframe containing the prepared zillow dataset.\n",
    "    '''\n",
    "    \n",
    "    columns = ['calculatedfinishedsquarefeet']\n",
    "\n",
    "    df = remove_outliers(df, 1.5, columns)\n",
    "    \n",
    "    missing_target = df.taxvaluedollarcnt.isnull()\n",
    "    df = df[~missing_target]\n",
    "    \n",
    "    missing_yearbuilt = df.yearbuilt.isnull()\n",
    "    df = df[~missing_yearbuilt]\n",
    "    \n",
    "    df.yearbuilt.fillna(df.yearbuilt.mode()[0], inplace = True)\n",
    "    df.basementsqft.fillna(0, inplace = True)\n",
    "    df.fireplacecnt.fillna(0, inplace = True)\n",
    "    df.hashottuborspa.fillna(0, inplace = True)\n",
    "    df.poolcnt.fillna(0, inplace = True)\n",
    "    \n",
    "    df = df.drop(columns = 'numberofstories')\n",
    "    df = df.drop(columns = 'heatingorsystemdesc')\n",
    "    df = df.drop(columns = 'garagetotalsqft')\n",
    "    df = df.drop(columns = 'poolsizesum')\n",
    "    df = df.drop(columns = 'yardbuildingsqft17')\n",
    "    df = df.drop(columns = 'roomcnt')\n",
    "    \n",
    "    df.yearbuilt = df.yearbuilt.astype('int')\n",
    "    df.bedroomcnt = df.bedroomcnt.astype('int')\n",
    "    df.fips = df.fips.astype('int')\n",
    "    df.fireplacecnt = df.fireplacecnt.astype('int')\n",
    "    df.hashottuborspa = df.hashottuborspa.astype('int')\n",
    "    df.poolcnt = df.poolcnt.astype('int')\n",
    "\n",
    "    # Rename the columns for readability\n",
    "    df = df.rename(columns = {\n",
    "        'bedroomcnt' : 'bedroom_count',\n",
    "        'bathroomcnt' : 'bathroom_count',\n",
    "        'calculatedfinishedsquarefeet' : 'square_feet',\n",
    "        'taxvaluedollarcnt' : 'property_tax_assessed_values',\n",
    "        'yearbuilt' : 'year_built',\n",
    "        'fips' : 'fed_code',\n",
    "        'basementsqft' : 'basement_square_feet',\n",
    "        'fireplacecnt' : 'fireplace_count',\n",
    "        'hashottuborspa' : 'has_hot_tub',\n",
    "        'poolcnt' : 'has_pool'\n",
    "    })\n",
    "    \n",
    "    return df"
   ]
  },
  {
   "cell_type": "markdown",
   "id": "39caaba6-9bca-4215-aa63-e924349e9967",
   "metadata": {},
   "source": [
    "Let's test it."
   ]
  },
  {
   "cell_type": "code",
   "execution_count": 53,
   "id": "fd5a4cc8-c8af-4c07-a144-55c5f1318cd5",
   "metadata": {},
   "outputs": [
    {
     "name": "stdout",
     "output_type": "stream",
     "text": [
      "Using cache\n",
      "<class 'pandas.core.frame.DataFrame'>\n",
      "Int64Index: 50042 entries, 0 to 52440\n",
      "Data columns (total 10 columns):\n",
      " #   Column                        Non-Null Count  Dtype  \n",
      "---  ------                        --------------  -----  \n",
      " 0   bedroom_count                 50042 non-null  int64  \n",
      " 1   bathroom_count                50042 non-null  float64\n",
      " 2   square_feet                   50042 non-null  float64\n",
      " 3   property_tax_assessed_values  50042 non-null  float64\n",
      " 4   year_built                    50042 non-null  int64  \n",
      " 5   fed_code                      50042 non-null  int64  \n",
      " 6   basement_square_feet          50042 non-null  float64\n",
      " 7   fireplace_count               50042 non-null  int64  \n",
      " 8   has_hot_tub                   50042 non-null  int64  \n",
      " 9   has_pool                      50042 non-null  int64  \n",
      "dtypes: float64(4), int64(6)\n",
      "memory usage: 4.2 MB\n"
     ]
    }
   ],
   "source": [
    "prepare_zillow_data(get_zillow_data()).info()"
   ]
  },
  {
   "cell_type": "markdown",
   "id": "219e9d54-7e35-4c07-9c9e-049adeb73e27",
   "metadata": {},
   "source": [
    "---\n",
    "\n",
    "## Conclusion\n",
    "\n",
    "Now we can easily clean our dataset so that it will be ready for exploratory analysis and modeling. If time permits we can come back and try keeping the outliers to see how that affects our results."
   ]
  }
 ],
 "metadata": {
  "kernelspec": {
   "display_name": "Python 3 (ipykernel)",
   "language": "python",
   "name": "python3"
  },
  "language_info": {
   "codemirror_mode": {
    "name": "ipython",
    "version": 3
   },
   "file_extension": ".py",
   "mimetype": "text/x-python",
   "name": "python",
   "nbconvert_exporter": "python",
   "pygments_lexer": "ipython3",
   "version": "3.9.7"
  }
 },
 "nbformat": 4,
 "nbformat_minor": 5
}
