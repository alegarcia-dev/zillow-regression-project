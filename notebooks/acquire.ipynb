{
 "cells": [
  {
   "cell_type": "markdown",
   "id": "b0a4ee7e-e5cc-4ddc-9c9a-bb2cb89c4794",
   "metadata": {},
   "source": [
    "# Data Acquisition\n",
    "\n",
    "---\n",
    "\n",
    "This notebook outlines the process for acquiring the Zillow property data needed for this project. This notebook also demonstrates the steps to create and test the functions in the util/acquire.py file.\n",
    "\n",
    "---\n",
    "\n",
    "## Accessing the Database\n",
    "\n",
    "The Zillow property data is located in the MySQL database at data.codeup.com in the zillow database. In order to access this data you will need login credentials. Assuming you have credentials save these in a env.py file in the following form:"
   ]
  },
  {
   "cell_type": "code",
   "execution_count": 1,
   "id": "317f1c6c-629b-46fd-a77c-eab0a771e9dd",
   "metadata": {},
   "outputs": [],
   "source": [
    "username = 'your_username'\n",
    "password = 'your_password'\n",
    "hostname = 'data.codeup.com'"
   ]
  },
  {
   "cell_type": "markdown",
   "id": "957be8b4-264a-4a04-be64-67721b50b94e",
   "metadata": {},
   "source": [
    "Save this file in the notebooks directory (also save a copy in the main directory for use with the final report notebook). Once we have our login credentials we can import them from env and create our database URL."
   ]
  },
  {
   "cell_type": "code",
   "execution_count": 2,
   "id": "b65c3b27-7204-48e3-a585-538ec8039f4b",
   "metadata": {},
   "outputs": [],
   "source": [
    "from env import username, password, hostname\n",
    "database_name = 'zillow'\n",
    "\n",
    "# This is the template for a database URL, we simply plug in our login credentials and the database we want to read from.\n",
    "url = f'mysql+pymysql://{username}:{password}@{hostname}/{database_name}'"
   ]
  },
  {
   "cell_type": "markdown",
   "id": "76dbef11-deda-4e01-8ab1-229a1b1086a1",
   "metadata": {},
   "source": [
    "For our convenience we will turn this into a function."
   ]
  },
  {
   "cell_type": "code",
   "execution_count": 3,
   "id": "7d5a5fc1-f38d-49d7-b96d-2a222c8d97fc",
   "metadata": {},
   "outputs": [],
   "source": [
    "def get_db_url(database_name, username = username, password = password, hostname = hostname):\n",
    "    return f'mysql+pymysql://{username}:{password}@{hostname}/{database_name}'"
   ]
  },
  {
   "cell_type": "markdown",
   "id": "52dde74e-f65d-49a7-94b2-701b5a6c6ed5",
   "metadata": {},
   "source": [
    "---\n",
    "\n",
    "## Acquiring the Data\n",
    "\n",
    "The database contains several tables. The data we need is from the properties_2017 table. This table has a large number of columns including a few columns that we are not allowed to use so we will only select the columns that we will be analyzing. Additionally we need to make sure we're only selecting properties that are single family residential properties. Finally, we only want properties that had a transaction in 2017. The SQL query below grabs all the data we need:"
   ]
  },
  {
   "cell_type": "code",
   "execution_count": 4,
   "id": "49f47f08-becc-46f1-abae-333ca91f31b4",
   "metadata": {},
   "outputs": [],
   "source": [
    "sql = \"\"\"\n",
    "SELECT\n",
    "    bedroomcnt,\n",
    "    bathroomcnt,\n",
    "    calculatedfinishedsquarefeet,\n",
    "    taxvaluedollarcnt,\n",
    "    yearbuilt,\n",
    "    fips,\n",
    "    numberofstories,\n",
    "    basementsqft,\n",
    "    fireplacecnt,\n",
    "    heatingorsystemdesc,\n",
    "    roomcnt,\n",
    "    garagetotalsqft,\n",
    "    hashottuborspa,\n",
    "    poolcnt,\n",
    "    poolsizesum,\n",
    "    yardbuildingsqft17\n",
    "FROM properties_2017\n",
    "JOIN propertylandusetype\n",
    "    ON propertylandusetype.propertylandusetypeid = properties_2017.propertylandusetypeid\n",
    "    AND (propertylandusetype.propertylandusedesc IN ('Single Family Residential', 'Inferred Single Family Residential'))\n",
    "LEFT JOIN heatingorsystemtype USING (heatingorsystemtypeid)\n",
    "JOIN predictions_2017 ON properties_2017.parcelid = predictions_2017.parcelid\n",
    "AND predictions_2017.transactiondate LIKE '2017%%';\n",
    "\"\"\""
   ]
  },
  {
   "cell_type": "markdown",
   "id": "90076130-4e01-4ddb-8f0c-839f0ff1ae38",
   "metadata": {},
   "source": [
    "We can create a function to return this query for us."
   ]
  },
  {
   "cell_type": "code",
   "execution_count": 5,
   "id": "d8716075-43d4-4448-b003-8f2e15154861",
   "metadata": {},
   "outputs": [],
   "source": [
    "def get_zillow_sql():\n",
    "    return \"\"\"\n",
    "        SELECT\n",
    "            bedroomcnt,\n",
    "            bathroomcnt,\n",
    "            calculatedfinishedsquarefeet,\n",
    "            taxvaluedollarcnt,\n",
    "            yearbuilt,\n",
    "            fips,\n",
    "            numberofstories,\n",
    "            basementsqft,\n",
    "            fireplacecnt,\n",
    "            heatingorsystemdesc,\n",
    "            roomcnt,\n",
    "            garagetotalsqft,\n",
    "            hashottuborspa,\n",
    "            poolcnt,\n",
    "            poolsizesum,\n",
    "            yardbuildingsqft17\n",
    "        FROM properties_2017\n",
    "        JOIN propertylandusetype\n",
    "            ON propertylandusetype.propertylandusetypeid = properties_2017.propertylandusetypeid\n",
    "            AND (propertylandusetype.propertylandusedesc IN ('Single Family Residential', 'Inferred Single Family Residential'))\n",
    "        LEFT JOIN heatingorsystemtype USING (heatingorsystemtypeid)\n",
    "        JOIN predictions_2017 ON properties_2017.parcelid = predictions_2017.parcelid\n",
    "            AND predictions_2017.transactiondate LIKE '2017%%';\n",
    "        \"\"\""
   ]
  },
  {
   "cell_type": "markdown",
   "id": "091a8ad0-12b0-460a-b8d0-ce3df1e97ed7",
   "metadata": {},
   "source": [
    "Now we can read the data from the MySQL database. We'll need pandas for this."
   ]
  },
  {
   "cell_type": "code",
   "execution_count": 6,
   "id": "cb4c18c4-dadc-41f5-b2b4-987ced44a412",
   "metadata": {},
   "outputs": [],
   "source": [
    "import pandas as pd"
   ]
  },
  {
   "cell_type": "code",
   "execution_count": 7,
   "id": "3d0f1b61-6dbf-495d-a090-322a4270cd3b",
   "metadata": {},
   "outputs": [
    {
     "data": {
      "text/plain": [
       "(52441, 16)"
      ]
     },
     "execution_count": 7,
     "metadata": {},
     "output_type": "execute_result"
    }
   ],
   "source": [
    "properties = pd.read_sql(sql, get_db_url('zillow'))\n",
    "properties.shape"
   ]
  },
  {
   "cell_type": "markdown",
   "id": "13b0ece6-9330-43f2-b716-9a7b11dedb3b",
   "metadata": {},
   "source": [
    "For our convenience we can put all of this into a function which will check if the .csv file exists and read from there if it does, otherwise read from the MySQL database and cache the data for quicker access. We will also include a parameter use_cache\n",
    "that will indicate whether or not to use the .csv file if it is available in case we would like to pull the data from the database regardless if the .csv file exists."
   ]
  },
  {
   "cell_type": "code",
   "execution_count": 8,
   "id": "16faba79-f062-4885-88bb-7a30ba269f4f",
   "metadata": {},
   "outputs": [],
   "source": [
    "import os\n",
    "\n",
    "def get_zillow_data(use_cache = True):\n",
    "    # If the file is cached, read from the .csv file\n",
    "    if os.path.exists('zillow.csv') and use_cache:\n",
    "        print('Using cache')\n",
    "        return pd.read_csv('zillow.csv')\n",
    "    \n",
    "    # Otherwise read from the mysql database\n",
    "    else:\n",
    "        print('Reading from database')\n",
    "        df = pd.read_sql(get_zillow_sql(), get_db_url('zillow'))\n",
    "        df.to_csv('zillow.csv', index = False)\n",
    "        return df"
   ]
  },
  {
   "cell_type": "code",
   "execution_count": 9,
   "id": "75c2eb6c-2e14-4404-a866-163f309760d1",
   "metadata": {},
   "outputs": [
    {
     "name": "stdout",
     "output_type": "stream",
     "text": [
      "Using cache\n"
     ]
    },
    {
     "data": {
      "text/html": [
       "<div>\n",
       "<style scoped>\n",
       "    .dataframe tbody tr th:only-of-type {\n",
       "        vertical-align: middle;\n",
       "    }\n",
       "\n",
       "    .dataframe tbody tr th {\n",
       "        vertical-align: top;\n",
       "    }\n",
       "\n",
       "    .dataframe thead th {\n",
       "        text-align: right;\n",
       "    }\n",
       "</style>\n",
       "<table border=\"1\" class=\"dataframe\">\n",
       "  <thead>\n",
       "    <tr style=\"text-align: right;\">\n",
       "      <th></th>\n",
       "      <th>bedroomcnt</th>\n",
       "      <th>bathroomcnt</th>\n",
       "      <th>calculatedfinishedsquarefeet</th>\n",
       "      <th>taxvaluedollarcnt</th>\n",
       "      <th>yearbuilt</th>\n",
       "      <th>fips</th>\n",
       "      <th>numberofstories</th>\n",
       "      <th>basementsqft</th>\n",
       "      <th>fireplacecnt</th>\n",
       "      <th>heatingorsystemdesc</th>\n",
       "      <th>roomcnt</th>\n",
       "      <th>garagetotalsqft</th>\n",
       "      <th>hashottuborspa</th>\n",
       "      <th>poolcnt</th>\n",
       "      <th>poolsizesum</th>\n",
       "      <th>yardbuildingsqft17</th>\n",
       "      <th>propertylandusedesc</th>\n",
       "    </tr>\n",
       "  </thead>\n",
       "  <tbody>\n",
       "    <tr>\n",
       "      <th>0</th>\n",
       "      <td>0.0</td>\n",
       "      <td>0.0</td>\n",
       "      <td>NaN</td>\n",
       "      <td>27516.0</td>\n",
       "      <td>NaN</td>\n",
       "      <td>6037.0</td>\n",
       "      <td>NaN</td>\n",
       "      <td>NaN</td>\n",
       "      <td>NaN</td>\n",
       "      <td>NaN</td>\n",
       "      <td>0.0</td>\n",
       "      <td>NaN</td>\n",
       "      <td>NaN</td>\n",
       "      <td>NaN</td>\n",
       "      <td>NaN</td>\n",
       "      <td>NaN</td>\n",
       "      <td>Single Family Residential</td>\n",
       "    </tr>\n",
       "    <tr>\n",
       "      <th>1</th>\n",
       "      <td>0.0</td>\n",
       "      <td>0.0</td>\n",
       "      <td>NaN</td>\n",
       "      <td>10.0</td>\n",
       "      <td>NaN</td>\n",
       "      <td>6037.0</td>\n",
       "      <td>NaN</td>\n",
       "      <td>NaN</td>\n",
       "      <td>NaN</td>\n",
       "      <td>NaN</td>\n",
       "      <td>0.0</td>\n",
       "      <td>NaN</td>\n",
       "      <td>NaN</td>\n",
       "      <td>NaN</td>\n",
       "      <td>NaN</td>\n",
       "      <td>NaN</td>\n",
       "      <td>Single Family Residential</td>\n",
       "    </tr>\n",
       "  </tbody>\n",
       "</table>\n",
       "</div>"
      ],
      "text/plain": [
       "   bedroomcnt  bathroomcnt  calculatedfinishedsquarefeet  taxvaluedollarcnt  \\\n",
       "0         0.0          0.0                           NaN            27516.0   \n",
       "1         0.0          0.0                           NaN               10.0   \n",
       "\n",
       "   yearbuilt    fips  numberofstories  basementsqft  fireplacecnt  \\\n",
       "0        NaN  6037.0              NaN           NaN           NaN   \n",
       "1        NaN  6037.0              NaN           NaN           NaN   \n",
       "\n",
       "  heatingorsystemdesc  roomcnt  garagetotalsqft  hashottuborspa  poolcnt  \\\n",
       "0                 NaN      0.0              NaN             NaN      NaN   \n",
       "1                 NaN      0.0              NaN             NaN      NaN   \n",
       "\n",
       "   poolsizesum  yardbuildingsqft17        propertylandusedesc  \n",
       "0          NaN                 NaN  Single Family Residential  \n",
       "1          NaN                 NaN  Single Family Residential  "
      ]
     },
     "execution_count": 9,
     "metadata": {},
     "output_type": "execute_result"
    }
   ],
   "source": [
    "get_zillow_data().head(2)"
   ]
  },
  {
   "cell_type": "code",
   "execution_count": 10,
   "id": "88b4ebdc-4cc4-4343-aa08-b5d0639eee9a",
   "metadata": {},
   "outputs": [
    {
     "name": "stdout",
     "output_type": "stream",
     "text": [
      "Using cache\n"
     ]
    },
    {
     "data": {
      "text/html": [
       "<div>\n",
       "<style scoped>\n",
       "    .dataframe tbody tr th:only-of-type {\n",
       "        vertical-align: middle;\n",
       "    }\n",
       "\n",
       "    .dataframe tbody tr th {\n",
       "        vertical-align: top;\n",
       "    }\n",
       "\n",
       "    .dataframe thead th {\n",
       "        text-align: right;\n",
       "    }\n",
       "</style>\n",
       "<table border=\"1\" class=\"dataframe\">\n",
       "  <thead>\n",
       "    <tr style=\"text-align: right;\">\n",
       "      <th></th>\n",
       "      <th>bedroomcnt</th>\n",
       "      <th>bathroomcnt</th>\n",
       "      <th>calculatedfinishedsquarefeet</th>\n",
       "      <th>taxvaluedollarcnt</th>\n",
       "      <th>yearbuilt</th>\n",
       "      <th>fips</th>\n",
       "      <th>numberofstories</th>\n",
       "      <th>basementsqft</th>\n",
       "      <th>fireplacecnt</th>\n",
       "      <th>heatingorsystemdesc</th>\n",
       "      <th>roomcnt</th>\n",
       "      <th>garagetotalsqft</th>\n",
       "      <th>hashottuborspa</th>\n",
       "      <th>poolcnt</th>\n",
       "      <th>poolsizesum</th>\n",
       "      <th>yardbuildingsqft17</th>\n",
       "      <th>propertylandusedesc</th>\n",
       "    </tr>\n",
       "  </thead>\n",
       "  <tbody>\n",
       "    <tr>\n",
       "      <th>0</th>\n",
       "      <td>0.0</td>\n",
       "      <td>0.0</td>\n",
       "      <td>NaN</td>\n",
       "      <td>27516.0</td>\n",
       "      <td>NaN</td>\n",
       "      <td>6037.0</td>\n",
       "      <td>NaN</td>\n",
       "      <td>NaN</td>\n",
       "      <td>NaN</td>\n",
       "      <td>NaN</td>\n",
       "      <td>0.0</td>\n",
       "      <td>NaN</td>\n",
       "      <td>NaN</td>\n",
       "      <td>NaN</td>\n",
       "      <td>NaN</td>\n",
       "      <td>NaN</td>\n",
       "      <td>Single Family Residential</td>\n",
       "    </tr>\n",
       "    <tr>\n",
       "      <th>1</th>\n",
       "      <td>0.0</td>\n",
       "      <td>0.0</td>\n",
       "      <td>NaN</td>\n",
       "      <td>10.0</td>\n",
       "      <td>NaN</td>\n",
       "      <td>6037.0</td>\n",
       "      <td>NaN</td>\n",
       "      <td>NaN</td>\n",
       "      <td>NaN</td>\n",
       "      <td>NaN</td>\n",
       "      <td>0.0</td>\n",
       "      <td>NaN</td>\n",
       "      <td>NaN</td>\n",
       "      <td>NaN</td>\n",
       "      <td>NaN</td>\n",
       "      <td>NaN</td>\n",
       "      <td>Single Family Residential</td>\n",
       "    </tr>\n",
       "  </tbody>\n",
       "</table>\n",
       "</div>"
      ],
      "text/plain": [
       "   bedroomcnt  bathroomcnt  calculatedfinishedsquarefeet  taxvaluedollarcnt  \\\n",
       "0         0.0          0.0                           NaN            27516.0   \n",
       "1         0.0          0.0                           NaN               10.0   \n",
       "\n",
       "   yearbuilt    fips  numberofstories  basementsqft  fireplacecnt  \\\n",
       "0        NaN  6037.0              NaN           NaN           NaN   \n",
       "1        NaN  6037.0              NaN           NaN           NaN   \n",
       "\n",
       "  heatingorsystemdesc  roomcnt  garagetotalsqft  hashottuborspa  poolcnt  \\\n",
       "0                 NaN      0.0              NaN             NaN      NaN   \n",
       "1                 NaN      0.0              NaN             NaN      NaN   \n",
       "\n",
       "   poolsizesum  yardbuildingsqft17        propertylandusedesc  \n",
       "0          NaN                 NaN  Single Family Residential  \n",
       "1          NaN                 NaN  Single Family Residential  "
      ]
     },
     "execution_count": 10,
     "metadata": {},
     "output_type": "execute_result"
    }
   ],
   "source": [
    "get_zillow_data().head(2)"
   ]
  },
  {
   "cell_type": "markdown",
   "id": "703bd89e-5b4f-4722-88a8-1cb41ad1cc5e",
   "metadata": {},
   "source": [
    "Everything seems to be working correctly.\n",
    "\n",
    "---\n",
    "\n",
    "## Conclusion\n",
    "\n",
    "Now we can easily acquire our data. These functions will be located in the acquire.py file in the util directory for use with the final report."
   ]
  }
 ],
 "metadata": {
  "kernelspec": {
   "display_name": "Python 3 (ipykernel)",
   "language": "python",
   "name": "python3"
  },
  "language_info": {
   "codemirror_mode": {
    "name": "ipython",
    "version": 3
   },
   "file_extension": ".py",
   "mimetype": "text/x-python",
   "name": "python",
   "nbconvert_exporter": "python",
   "pygments_lexer": "ipython3",
   "version": "3.9.7"
  }
 },
 "nbformat": 4,
 "nbformat_minor": 5
}
