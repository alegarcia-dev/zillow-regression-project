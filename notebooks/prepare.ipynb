{
 "cells": [
  {
   "cell_type": "markdown",
   "id": "f8a3572c-e3b0-42ee-9457-d48570666e8b",
   "metadata": {},
   "source": [
    "# Data Preparation\n",
    "\n",
    "---\n",
    "\n",
    "This notebook outlines the process for preparing the Zillow property data needed for this project. This notebook also demonstrates the steps to create and test the functions in the util/prepare.py file.\n",
    "\n",
    "---"
   ]
  },
  {
   "cell_type": "markdown",
   "id": "97184210-7c15-4151-bca2-433b88d90950",
   "metadata": {},
   "source": [
    "## Importing the Required Modules\n",
    "\n",
    "Below we import all the modules needed to run this notebook. Note that you will need the univariate_analysis.py file located in the notebooks directory in order to run some of the code blocks in this notebook."
   ]
  },
  {
   "cell_type": "code",
   "execution_count": 1,
   "id": "adb8c0a7-4a42-4db9-8b4f-608ccfdefbe2",
   "metadata": {},
   "outputs": [],
   "source": [
    "import os\n",
    "import numpy as np\n",
    "import pandas as pd\n",
    "import matplotlib.pyplot as plt\n",
    "import seaborn as sns\n",
    "\n",
    "from univariate_analysis import get_hist, get_box\n",
    "\n",
    "from env import username, password, hostname"
   ]
  },
  {
   "cell_type": "markdown",
   "id": "753a64a3-0122-493e-bc9a-1d11a1d10609",
   "metadata": {},
   "source": [
    "---\n",
    "\n",
    "## Acquire Data\n",
    "\n",
    "Here we define all our acquisition functions created in the acquire notebook."
   ]
  },
  {
   "cell_type": "code",
   "execution_count": 2,
   "id": "ad957eea-494c-4f19-9a80-fac9f6afdfbd",
   "metadata": {},
   "outputs": [],
   "source": [
    "def get_db_url(database_name, username = username, password = password, hostname = hostname):\n",
    "    return f'mysql+pymysql://{username}:{password}@{hostname}/{database_name}'\n",
    "\n",
    "def get_zillow_sql():\n",
    "    return \"\"\"\n",
    "        SELECT\n",
    "            properties_2017.parcelid,\n",
    "            bedroomcnt,\n",
    "            bathroomcnt,\n",
    "            calculatedfinishedsquarefeet,\n",
    "            taxvaluedollarcnt,\n",
    "            yearbuilt,\n",
    "            fips,\n",
    "            numberofstories,\n",
    "            basementsqft,\n",
    "            fireplacecnt,\n",
    "            heatingorsystemdesc,\n",
    "            airconditioningdesc,\n",
    "            roomcnt,\n",
    "            garagetotalsqft,\n",
    "            hashottuborspa,\n",
    "            poolcnt,\n",
    "            poolsizesum,\n",
    "            yardbuildingsqft17,\n",
    "            buildingqualitytypeid,\n",
    "            finishedfloor1squarefeet,\n",
    "            finishedsquarefeet15,\n",
    "            lotsizesquarefeet \n",
    "        FROM properties_2017\n",
    "        JOIN propertylandusetype\n",
    "            ON propertylandusetype.propertylandusetypeid = properties_2017.propertylandusetypeid\n",
    "            AND (propertylandusetype.propertylandusedesc IN ('Single Family Residential', 'Inferred Single Family Residential'))\n",
    "        LEFT JOIN heatingorsystemtype USING (heatingorsystemtypeid)\n",
    "        LEFT JOIN airconditioningtype USING (airconditioningtypeid)\n",
    "        JOIN predictions_2017 ON properties_2017.parcelid = predictions_2017.parcelid\n",
    "        AND predictions_2017.transactiondate LIKE '2017%%';\n",
    "        \"\"\"\n",
    "\n",
    "def get_zillow_data(use_cache = True):\n",
    "    # If the file is cached, read from the .csv file\n",
    "    if os.path.exists('zillow.csv') and use_cache:\n",
    "        print('Using cache')\n",
    "        return pd.read_csv('zillow.csv')\n",
    "    \n",
    "    # Otherwise read from the mysql database\n",
    "    else:\n",
    "        print('Reading from database')\n",
    "        df = pd.read_sql(get_zillow_sql(), get_db_url('zillow'))\n",
    "        df.to_csv('zillow.csv', index = False)\n",
    "        return df"
   ]
  },
  {
   "cell_type": "code",
   "execution_count": 3,
   "id": "98c47779-371e-4607-82fb-a93ad4f5da1e",
   "metadata": {},
   "outputs": [
    {
     "name": "stdout",
     "output_type": "stream",
     "text": [
      "Reading from database\n"
     ]
    }
   ],
   "source": [
    "# Now we can load our dataset.\n",
    "properties = get_zillow_data(False)"
   ]
  },
  {
   "cell_type": "markdown",
   "id": "b82c32eb-3464-444b-8db3-253e4cdad3a2",
   "metadata": {
    "tags": []
   },
   "source": [
    "---\n",
    "\n",
    "## Initial Analysis (Looking for Unusual Values and Outliers)\n",
    "\n",
    "We will start by getting an overview of our data and determining whether or not there exist unusual values or outliers that may affect our results."
   ]
  },
  {
   "cell_type": "code",
   "execution_count": 4,
   "id": "6cc423a8-eb22-480d-8662-4ffbf97ad3bc",
   "metadata": {},
   "outputs": [
    {
     "data": {
      "text/plain": [
       "(52441, 22)"
      ]
     },
     "execution_count": 4,
     "metadata": {},
     "output_type": "execute_result"
    }
   ],
   "source": [
    "properties.shape"
   ]
  },
  {
   "cell_type": "code",
   "execution_count": 5,
   "id": "7eec4893-e835-4870-85a3-9fd6ec71e16b",
   "metadata": {},
   "outputs": [
    {
     "data": {
      "text/html": [
       "<div>\n",
       "<style scoped>\n",
       "    .dataframe tbody tr th:only-of-type {\n",
       "        vertical-align: middle;\n",
       "    }\n",
       "\n",
       "    .dataframe tbody tr th {\n",
       "        vertical-align: top;\n",
       "    }\n",
       "\n",
       "    .dataframe thead th {\n",
       "        text-align: right;\n",
       "    }\n",
       "</style>\n",
       "<table border=\"1\" class=\"dataframe\">\n",
       "  <thead>\n",
       "    <tr style=\"text-align: right;\">\n",
       "      <th></th>\n",
       "      <th>count</th>\n",
       "      <th>mean</th>\n",
       "      <th>std</th>\n",
       "      <th>min</th>\n",
       "      <th>25%</th>\n",
       "      <th>50%</th>\n",
       "      <th>75%</th>\n",
       "      <th>max</th>\n",
       "    </tr>\n",
       "  </thead>\n",
       "  <tbody>\n",
       "    <tr>\n",
       "      <th>parcelid</th>\n",
       "      <td>52441.0</td>\n",
       "      <td>1.299912e+07</td>\n",
       "      <td>3.411444e+06</td>\n",
       "      <td>10711855.0</td>\n",
       "      <td>11510217.0</td>\n",
       "      <td>12577645.0</td>\n",
       "      <td>14129530.00</td>\n",
       "      <td>167687839.0</td>\n",
       "    </tr>\n",
       "    <tr>\n",
       "      <th>bedroomcnt</th>\n",
       "      <td>52441.0</td>\n",
       "      <td>3.300681e+00</td>\n",
       "      <td>9.490939e-01</td>\n",
       "      <td>0.0</td>\n",
       "      <td>3.0</td>\n",
       "      <td>3.0</td>\n",
       "      <td>4.00</td>\n",
       "      <td>14.0</td>\n",
       "    </tr>\n",
       "    <tr>\n",
       "      <th>bathroomcnt</th>\n",
       "      <td>52441.0</td>\n",
       "      <td>2.299403e+00</td>\n",
       "      <td>1.022772e+00</td>\n",
       "      <td>0.0</td>\n",
       "      <td>2.0</td>\n",
       "      <td>2.0</td>\n",
       "      <td>3.00</td>\n",
       "      <td>18.0</td>\n",
       "    </tr>\n",
       "    <tr>\n",
       "      <th>calculatedfinishedsquarefeet</th>\n",
       "      <td>52359.0</td>\n",
       "      <td>1.922891e+03</td>\n",
       "      <td>1.004366e+03</td>\n",
       "      <td>128.0</td>\n",
       "      <td>1268.0</td>\n",
       "      <td>1659.0</td>\n",
       "      <td>2306.00</td>\n",
       "      <td>21929.0</td>\n",
       "    </tr>\n",
       "    <tr>\n",
       "      <th>taxvaluedollarcnt</th>\n",
       "      <td>52440.0</td>\n",
       "      <td>5.296882e+05</td>\n",
       "      <td>7.518946e+05</td>\n",
       "      <td>1000.0</td>\n",
       "      <td>193747.5</td>\n",
       "      <td>373612.0</td>\n",
       "      <td>619301.25</td>\n",
       "      <td>49061236.0</td>\n",
       "    </tr>\n",
       "    <tr>\n",
       "      <th>yearbuilt</th>\n",
       "      <td>52325.0</td>\n",
       "      <td>1.963394e+03</td>\n",
       "      <td>2.313357e+01</td>\n",
       "      <td>1878.0</td>\n",
       "      <td>1950.0</td>\n",
       "      <td>1961.0</td>\n",
       "      <td>1979.00</td>\n",
       "      <td>2016.0</td>\n",
       "    </tr>\n",
       "    <tr>\n",
       "      <th>fips</th>\n",
       "      <td>52441.0</td>\n",
       "      <td>6.049132e+03</td>\n",
       "      <td>2.102907e+01</td>\n",
       "      <td>6037.0</td>\n",
       "      <td>6037.0</td>\n",
       "      <td>6037.0</td>\n",
       "      <td>6059.00</td>\n",
       "      <td>6111.0</td>\n",
       "    </tr>\n",
       "    <tr>\n",
       "      <th>numberofstories</th>\n",
       "      <td>14561.0</td>\n",
       "      <td>1.413914e+00</td>\n",
       "      <td>5.406765e-01</td>\n",
       "      <td>1.0</td>\n",
       "      <td>1.0</td>\n",
       "      <td>1.0</td>\n",
       "      <td>2.00</td>\n",
       "      <td>6.0</td>\n",
       "    </tr>\n",
       "    <tr>\n",
       "      <th>basementsqft</th>\n",
       "      <td>47.0</td>\n",
       "      <td>6.789787e+02</td>\n",
       "      <td>7.118252e+02</td>\n",
       "      <td>38.0</td>\n",
       "      <td>263.5</td>\n",
       "      <td>512.0</td>\n",
       "      <td>809.50</td>\n",
       "      <td>3560.0</td>\n",
       "    </tr>\n",
       "    <tr>\n",
       "      <th>fireplacecnt</th>\n",
       "      <td>7243.0</td>\n",
       "      <td>1.209858e+00</td>\n",
       "      <td>5.128851e-01</td>\n",
       "      <td>1.0</td>\n",
       "      <td>1.0</td>\n",
       "      <td>1.0</td>\n",
       "      <td>1.00</td>\n",
       "      <td>5.0</td>\n",
       "    </tr>\n",
       "    <tr>\n",
       "      <th>roomcnt</th>\n",
       "      <td>52441.0</td>\n",
       "      <td>1.893709e+00</td>\n",
       "      <td>3.146437e+00</td>\n",
       "      <td>0.0</td>\n",
       "      <td>0.0</td>\n",
       "      <td>0.0</td>\n",
       "      <td>5.00</td>\n",
       "      <td>15.0</td>\n",
       "    </tr>\n",
       "    <tr>\n",
       "      <th>garagetotalsqft</th>\n",
       "      <td>18015.0</td>\n",
       "      <td>4.958757e+02</td>\n",
       "      <td>1.570447e+02</td>\n",
       "      <td>0.0</td>\n",
       "      <td>426.0</td>\n",
       "      <td>462.0</td>\n",
       "      <td>567.00</td>\n",
       "      <td>4251.0</td>\n",
       "    </tr>\n",
       "    <tr>\n",
       "      <th>hashottuborspa</th>\n",
       "      <td>1515.0</td>\n",
       "      <td>1.000000e+00</td>\n",
       "      <td>0.000000e+00</td>\n",
       "      <td>1.0</td>\n",
       "      <td>1.0</td>\n",
       "      <td>1.0</td>\n",
       "      <td>1.00</td>\n",
       "      <td>1.0</td>\n",
       "    </tr>\n",
       "    <tr>\n",
       "      <th>poolcnt</th>\n",
       "      <td>11096.0</td>\n",
       "      <td>1.000000e+00</td>\n",
       "      <td>0.000000e+00</td>\n",
       "      <td>1.0</td>\n",
       "      <td>1.0</td>\n",
       "      <td>1.0</td>\n",
       "      <td>1.00</td>\n",
       "      <td>1.0</td>\n",
       "    </tr>\n",
       "    <tr>\n",
       "      <th>poolsizesum</th>\n",
       "      <td>867.0</td>\n",
       "      <td>5.183183e+02</td>\n",
       "      <td>1.564682e+02</td>\n",
       "      <td>24.0</td>\n",
       "      <td>424.5</td>\n",
       "      <td>500.0</td>\n",
       "      <td>600.00</td>\n",
       "      <td>1500.0</td>\n",
       "    </tr>\n",
       "    <tr>\n",
       "      <th>yardbuildingsqft17</th>\n",
       "      <td>1937.0</td>\n",
       "      <td>3.376278e+02</td>\n",
       "      <td>2.500216e+02</td>\n",
       "      <td>11.0</td>\n",
       "      <td>200.0</td>\n",
       "      <td>280.0</td>\n",
       "      <td>400.00</td>\n",
       "      <td>3191.0</td>\n",
       "    </tr>\n",
       "    <tr>\n",
       "      <th>buildingqualitytypeid</th>\n",
       "      <td>33740.0</td>\n",
       "      <td>6.264167e+00</td>\n",
       "      <td>1.716162e+00</td>\n",
       "      <td>1.0</td>\n",
       "      <td>5.0</td>\n",
       "      <td>6.0</td>\n",
       "      <td>8.00</td>\n",
       "      <td>12.0</td>\n",
       "    </tr>\n",
       "    <tr>\n",
       "      <th>finishedfloor1squarefeet</th>\n",
       "      <td>4381.0</td>\n",
       "      <td>1.545611e+03</td>\n",
       "      <td>6.748653e+02</td>\n",
       "      <td>184.0</td>\n",
       "      <td>1151.0</td>\n",
       "      <td>1410.0</td>\n",
       "      <td>1759.00</td>\n",
       "      <td>6912.0</td>\n",
       "    </tr>\n",
       "    <tr>\n",
       "      <th>lotsizesquarefeet</th>\n",
       "      <td>52072.0</td>\n",
       "      <td>1.133962e+04</td>\n",
       "      <td>8.674763e+04</td>\n",
       "      <td>236.0</td>\n",
       "      <td>5583.0</td>\n",
       "      <td>6840.5</td>\n",
       "      <td>8798.25</td>\n",
       "      <td>6971010.0</td>\n",
       "    </tr>\n",
       "  </tbody>\n",
       "</table>\n",
       "</div>"
      ],
      "text/plain": [
       "                                count          mean           std         min  \\\n",
       "parcelid                      52441.0  1.299912e+07  3.411444e+06  10711855.0   \n",
       "bedroomcnt                    52441.0  3.300681e+00  9.490939e-01         0.0   \n",
       "bathroomcnt                   52441.0  2.299403e+00  1.022772e+00         0.0   \n",
       "calculatedfinishedsquarefeet  52359.0  1.922891e+03  1.004366e+03       128.0   \n",
       "taxvaluedollarcnt             52440.0  5.296882e+05  7.518946e+05      1000.0   \n",
       "yearbuilt                     52325.0  1.963394e+03  2.313357e+01      1878.0   \n",
       "fips                          52441.0  6.049132e+03  2.102907e+01      6037.0   \n",
       "numberofstories               14561.0  1.413914e+00  5.406765e-01         1.0   \n",
       "basementsqft                     47.0  6.789787e+02  7.118252e+02        38.0   \n",
       "fireplacecnt                   7243.0  1.209858e+00  5.128851e-01         1.0   \n",
       "roomcnt                       52441.0  1.893709e+00  3.146437e+00         0.0   \n",
       "garagetotalsqft               18015.0  4.958757e+02  1.570447e+02         0.0   \n",
       "hashottuborspa                 1515.0  1.000000e+00  0.000000e+00         1.0   \n",
       "poolcnt                       11096.0  1.000000e+00  0.000000e+00         1.0   \n",
       "poolsizesum                     867.0  5.183183e+02  1.564682e+02        24.0   \n",
       "yardbuildingsqft17             1937.0  3.376278e+02  2.500216e+02        11.0   \n",
       "buildingqualitytypeid         33740.0  6.264167e+00  1.716162e+00         1.0   \n",
       "finishedfloor1squarefeet       4381.0  1.545611e+03  6.748653e+02       184.0   \n",
       "lotsizesquarefeet             52072.0  1.133962e+04  8.674763e+04       236.0   \n",
       "\n",
       "                                     25%         50%          75%          max  \n",
       "parcelid                      11510217.0  12577645.0  14129530.00  167687839.0  \n",
       "bedroomcnt                           3.0         3.0         4.00         14.0  \n",
       "bathroomcnt                          2.0         2.0         3.00         18.0  \n",
       "calculatedfinishedsquarefeet      1268.0      1659.0      2306.00      21929.0  \n",
       "taxvaluedollarcnt               193747.5    373612.0    619301.25   49061236.0  \n",
       "yearbuilt                         1950.0      1961.0      1979.00       2016.0  \n",
       "fips                              6037.0      6037.0      6059.00       6111.0  \n",
       "numberofstories                      1.0         1.0         2.00          6.0  \n",
       "basementsqft                       263.5       512.0       809.50       3560.0  \n",
       "fireplacecnt                         1.0         1.0         1.00          5.0  \n",
       "roomcnt                              0.0         0.0         5.00         15.0  \n",
       "garagetotalsqft                    426.0       462.0       567.00       4251.0  \n",
       "hashottuborspa                       1.0         1.0         1.00          1.0  \n",
       "poolcnt                              1.0         1.0         1.00          1.0  \n",
       "poolsizesum                        424.5       500.0       600.00       1500.0  \n",
       "yardbuildingsqft17                 200.0       280.0       400.00       3191.0  \n",
       "buildingqualitytypeid                5.0         6.0         8.00         12.0  \n",
       "finishedfloor1squarefeet          1151.0      1410.0      1759.00       6912.0  \n",
       "lotsizesquarefeet                 5583.0      6840.5      8798.25    6971010.0  "
      ]
     },
     "execution_count": 5,
     "metadata": {},
     "output_type": "execute_result"
    }
   ],
   "source": [
    "properties.describe().T"
   ]
  },
  {
   "cell_type": "markdown",
   "id": "3c1dd4fd-a900-4987-9839-dd93c2ea2f2d",
   "metadata": {},
   "source": [
    "**Takeaways**\n",
    "- bedroomcnt and bathroomcnt both have minimum values of 0 which might make sense for a studio apartment, but it does seem unusual.\n",
    "- calculatedfinishedsquarefeet has a minimum value of 1 which doesn't seem right.\n",
    "- roomcnt has a minimum value of 0 which is unusual.\n",
    "\n",
    "Now let's look at histograms and boxplots of our features to determine if there are any outliers."
   ]
  },
  {
   "cell_type": "code",
   "execution_count": 6,
   "id": "76903e34-b8d1-4b6b-a0ed-a9dc1f001290",
   "metadata": {},
   "outputs": [
    {
     "data": {
      "image/png": "[encoded data removed]",
      "text/plain": [
       "<Figure size 1008x1728 with 24 Axes>"
      ]
     },
     "metadata": {
      "needs_background": "light"
     },
     "output_type": "display_data"
    }
   ],
   "source": [
    "get_hist(properties, properties.columns)"
   ]
  },
  {
   "cell_type": "markdown",
   "id": "aabebd97-97f4-4206-9853-6dacfb9e0b91",
   "metadata": {},
   "source": [
    "There are a few columns that possibly have outliers (calculatedfinishedsquarefeet, bedroomcnt, bathroomcnt, taxvaludollarcnt, garagetotalsqft, yardbuildingsqft17, finishedfloor1squarefeet, lotsizesquarefeet). Let's see the boxplots."
   ]
  },
  {
   "cell_type": "code",
   "execution_count": 7,
   "id": "87ead956-c7c1-464f-8246-a28d45513eea",
   "metadata": {},
   "outputs": [
    {
     "data": {
      "image/png": "[encoded data removed]",
      "text/plain": [
       "<Figure size 1008x1512 with 21 Axes>"
      ]
     },
     "metadata": {
      "needs_background": "light"
     },
     "output_type": "display_data"
    }
   ],
   "source": [
    "get_box(properties, properties.select_dtypes('number').columns)"
   ]
  },
  {
   "cell_type": "markdown",
   "id": "e16195f1-2caf-4296-8c0e-e299a25059af",
   "metadata": {},
   "source": [
    "The columns with the most pronounced outliers are:\n",
    "- calculatedfinishedsquarefeet\n",
    "- yardbuildingsqft17\n",
    "- garagetotalsqft\n",
    "- bedroomcnt\n",
    "- bathroomcnt\n",
    "- taxvaluedollarcnt\n",
    "- yearbuilt\n",
    "- poolsizesum\n",
    "\n",
    "We'll leave all the outliers for now, but we'll keep this in mind before beginning modeling."
   ]
  },
  {
   "cell_type": "markdown",
   "id": "7e9349b7-48d2-4572-948f-ada136885ed9",
   "metadata": {},
   "source": [
    "---\n",
    "\n",
    "## Drop Duplicates\n",
    "\n",
    "We will try dropping duplicates just in case."
   ]
  },
  {
   "cell_type": "code",
   "execution_count": 8,
   "id": "231192e3-c577-4125-a828-d87a00f67205",
   "metadata": {},
   "outputs": [
    {
     "data": {
      "text/plain": [
       "(52320, 22)"
      ]
     },
     "execution_count": 8,
     "metadata": {},
     "output_type": "execute_result"
    }
   ],
   "source": [
    "properties = properties.drop_duplicates()\n",
    "properties.shape"
   ]
  },
  {
   "cell_type": "markdown",
   "id": "55ec20b0-08ee-44bf-8e0b-9740cebaa8c3",
   "metadata": {},
   "source": [
    "It seems we did have a few duplicates. We needed the parcelid column to ensure these were true duplicates. We don't need this column anymore so we can drop it."
   ]
  },
  {
   "cell_type": "code",
   "execution_count": 9,
   "id": "2bba2203-f8b6-4b5d-b2b5-874004ea3387",
   "metadata": {},
   "outputs": [],
   "source": [
    "properties = properties.drop(columns = 'parcelid')"
   ]
  },
  {
   "cell_type": "markdown",
   "id": "228cfea4-c8ba-4499-9101-64368d7b91df",
   "metadata": {},
   "source": [
    "---\n",
    "\n",
    "## Missing Values\n",
    "\n",
    "Now let's investigate any missing values in our dataset."
   ]
  },
  {
   "cell_type": "code",
   "execution_count": 10,
   "id": "67075206-48aa-426b-bcc4-2e59a262b9ac",
   "metadata": {},
   "outputs": [
    {
     "data": {
      "text/plain": [
       "(52320, 21)"
      ]
     },
     "execution_count": 10,
     "metadata": {},
     "output_type": "execute_result"
    }
   ],
   "source": [
    "# This shows us the total number of rows.\n",
    "properties.shape"
   ]
  },
  {
   "cell_type": "code",
   "execution_count": 11,
   "id": "3c0c2e31-40f3-4634-9753-d2784fdab71d",
   "metadata": {},
   "outputs": [
    {
     "name": "stdout",
     "output_type": "stream",
     "text": [
      "<class 'pandas.core.frame.DataFrame'>\n",
      "Int64Index: 52320 entries, 0 to 52440\n",
      "Data columns (total 21 columns):\n",
      " #   Column                        Non-Null Count  Dtype  \n",
      "---  ------                        --------------  -----  \n",
      " 0   bedroomcnt                    52320 non-null  float64\n",
      " 1   bathroomcnt                   52320 non-null  float64\n",
      " 2   calculatedfinishedsquarefeet  52239 non-null  float64\n",
      " 3   taxvaluedollarcnt             52319 non-null  float64\n",
      " 4   yearbuilt                     52206 non-null  float64\n",
      " 5   fips                          52320 non-null  float64\n",
      " 6   numberofstories               14532 non-null  float64\n",
      " 7   basementsqft                  47 non-null     float64\n",
      " 8   fireplacecnt                  7233 non-null   float64\n",
      " 9   heatingorsystemdesc           33850 non-null  object \n",
      " 10  airconditioningdesc           13615 non-null  object \n",
      " 11  roomcnt                       52320 non-null  float64\n",
      " 12  garagetotalsqft               17984 non-null  float64\n",
      " 13  hashottuborspa                1514 non-null   float64\n",
      " 14  poolcnt                       11077 non-null  float64\n",
      " 15  poolsizesum                   865 non-null    float64\n",
      " 16  yardbuildingsqft17            1935 non-null   float64\n",
      " 17  buildingqualitytypeid         33655 non-null  float64\n",
      " 18  finishedfloor1squarefeet      4371 non-null   float64\n",
      " 19  finishedsquarefeet15          0 non-null      object \n",
      " 20  lotsizesquarefeet             51954 non-null  float64\n",
      "dtypes: float64(18), object(3)\n",
      "memory usage: 8.8+ MB\n"
     ]
    }
   ],
   "source": [
    "# Now let's see the total non-null counts for each column.\n",
    "properties.info(show_counts = True)"
   ]
  },
  {
   "cell_type": "code",
   "execution_count": 12,
   "id": "5a5729dd-3022-4b3d-adf4-7d683acd1b37",
   "metadata": {},
   "outputs": [
    {
     "data": {
      "text/plain": [
       "bedroomcnt                          0\n",
       "bathroomcnt                         0\n",
       "calculatedfinishedsquarefeet       81\n",
       "taxvaluedollarcnt                   1\n",
       "yearbuilt                         114\n",
       "fips                                0\n",
       "numberofstories                 37788\n",
       "basementsqft                    52273\n",
       "fireplacecnt                    45087\n",
       "heatingorsystemdesc             18470\n",
       "airconditioningdesc             38705\n",
       "roomcnt                             0\n",
       "garagetotalsqft                 34336\n",
       "hashottuborspa                  50806\n",
       "poolcnt                         41243\n",
       "poolsizesum                     51455\n",
       "yardbuildingsqft17              50385\n",
       "buildingqualitytypeid           18665\n",
       "finishedfloor1squarefeet        47949\n",
       "finishedsquarefeet15            52320\n",
       "lotsizesquarefeet                 366\n",
       "dtype: int64"
      ]
     },
     "execution_count": 12,
     "metadata": {},
     "output_type": "execute_result"
    }
   ],
   "source": [
    "properties.isnull().sum()"
   ]
  },
  {
   "cell_type": "markdown",
   "id": "7b9be853-f5b9-40c2-9986-d82230e1d551",
   "metadata": {},
   "source": [
    "We can see that several columns have missing values:\n",
    "- taxvaluedollarcnt\n",
    "- calculatedfinishedsquarefeet\n",
    "- yearbuilt\n",
    "- numberofstories\n",
    "- basementsqft\n",
    "- fireplacecnt\n",
    "- heatingorsystemdesc\n",
    "- airconditioningdesc\n",
    "- garagetotalsqft\n",
    "- hashottuborspa\n",
    "- poolcnt\n",
    "- poolsizesum\n",
    "- yardbuildingsqft17\n",
    "- buildingqualitytypeid\n",
    "- finishedfloor1squarefeet\n",
    "- finishedsquarefeet15\n",
    "- lotsizesquarefeet\n",
    "\n",
    "We'll investigate each column and determine the best course of action accordingly."
   ]
  },
  {
   "cell_type": "markdown",
   "id": "e20671ca-8f6c-4989-ad06-3dc1a779657f",
   "metadata": {},
   "source": [
    "### taxvaluedollarcnt\n",
    "\n",
    "There is one missing value in the target variable. Since this is our target and it is just missing one value we'll just remove that row."
   ]
  },
  {
   "cell_type": "code",
   "execution_count": 13,
   "id": "7d240f24-1aaa-4571-94c3-0812b9114953",
   "metadata": {},
   "outputs": [],
   "source": [
    "# Remove all rows missing the taxvaluedollarcnt value.\n",
    "missing_target = properties.taxvaluedollarcnt.isnull()\n",
    "properties = properties[~missing_target]"
   ]
  },
  {
   "cell_type": "code",
   "execution_count": 14,
   "id": "3cf12e22-1d66-4f6c-9867-403ecc3869ce",
   "metadata": {},
   "outputs": [
    {
     "data": {
      "text/plain": [
       "bedroomcnt                          0\n",
       "bathroomcnt                         0\n",
       "calculatedfinishedsquarefeet       81\n",
       "taxvaluedollarcnt                   0\n",
       "yearbuilt                         114\n",
       "fips                                0\n",
       "numberofstories                 37788\n",
       "basementsqft                    52272\n",
       "fireplacecnt                    45086\n",
       "heatingorsystemdesc             18469\n",
       "airconditioningdesc             38704\n",
       "roomcnt                             0\n",
       "garagetotalsqft                 34336\n",
       "hashottuborspa                  50805\n",
       "poolcnt                         41243\n",
       "poolsizesum                     51454\n",
       "yardbuildingsqft17              50384\n",
       "buildingqualitytypeid           18664\n",
       "finishedfloor1squarefeet        47948\n",
       "finishedsquarefeet15            52319\n",
       "lotsizesquarefeet                 366\n",
       "dtype: int64"
      ]
     },
     "execution_count": 14,
     "metadata": {},
     "output_type": "execute_result"
    }
   ],
   "source": [
    "# Let's make sure it worked.\n",
    "properties.isnull().sum()"
   ]
  },
  {
   "cell_type": "markdown",
   "id": "acfd6688-149f-43f6-8ff7-612c48ad3a2a",
   "metadata": {},
   "source": [
    "### calculatedfinishedsquarefeet\n",
    "\n",
    "The calculatedfinishedsquarefeet columns has a few missing values. Let's take a look at the median and mean to determine which might be a better representation of the distribution of values."
   ]
  },
  {
   "cell_type": "code",
   "execution_count": 15,
   "id": "d31e4f88-6c02-4f3c-bb5c-fc84aa9209f9",
   "metadata": {},
   "outputs": [
    {
     "data": {
      "text/plain": [
       "(1923.1666028561583, 1659.0)"
      ]
     },
     "execution_count": 15,
     "metadata": {},
     "output_type": "execute_result"
    }
   ],
   "source": [
    "properties.calculatedfinishedsquarefeet.mean(), properties.calculatedfinishedsquarefeet.median()"
   ]
  },
  {
   "cell_type": "markdown",
   "id": "a8bee89d-8b6c-4877-8afb-43d9a998b6f8",
   "metadata": {},
   "source": [
    "We can see from the boxplot in the Initial Analysis section that this column has a lot of high end outliers so mean might be a better representation of the whole. We'll fill in the missing values with the mean."
   ]
  },
  {
   "cell_type": "code",
   "execution_count": 16,
   "id": "4ee2f2d0-1620-4ef0-bb34-6f23ab0f442d",
   "metadata": {},
   "outputs": [],
   "source": [
    "# Fill in the missing values with the mean\n",
    "avg_square_feet = properties.calculatedfinishedsquarefeet.mean()\n",
    "properties.calculatedfinishedsquarefeet.fillna(avg_square_feet, inplace = True)"
   ]
  },
  {
   "cell_type": "code",
   "execution_count": 17,
   "id": "abcfff99-27e8-444c-bc71-8c3ebbbceca6",
   "metadata": {},
   "outputs": [
    {
     "data": {
      "text/plain": [
       "bedroomcnt                          0\n",
       "bathroomcnt                         0\n",
       "calculatedfinishedsquarefeet        0\n",
       "taxvaluedollarcnt                   0\n",
       "yearbuilt                         114\n",
       "fips                                0\n",
       "numberofstories                 37788\n",
       "basementsqft                    52272\n",
       "fireplacecnt                    45086\n",
       "heatingorsystemdesc             18469\n",
       "airconditioningdesc             38704\n",
       "roomcnt                             0\n",
       "garagetotalsqft                 34336\n",
       "hashottuborspa                  50805\n",
       "poolcnt                         41243\n",
       "poolsizesum                     51454\n",
       "yardbuildingsqft17              50384\n",
       "buildingqualitytypeid           18664\n",
       "finishedfloor1squarefeet        47948\n",
       "finishedsquarefeet15            52319\n",
       "lotsizesquarefeet                 366\n",
       "dtype: int64"
      ]
     },
     "execution_count": 17,
     "metadata": {},
     "output_type": "execute_result"
    }
   ],
   "source": [
    "# Let's make sure it worked.\n",
    "properties.isnull().sum()"
   ]
  },
  {
   "cell_type": "markdown",
   "id": "107c1737-5f02-405b-9ca6-519131f4e757",
   "metadata": {},
   "source": [
    "### yearbuilt\n",
    "\n",
    "The yearbuilt column is also only missing a few values. This column should have only integer values and is not necessarily continous (at least not in the same way taxvaluedollarcnt is) so we will fill in the missing values with the mode."
   ]
  },
  {
   "cell_type": "code",
   "execution_count": 18,
   "id": "cbdd12a6-c644-4c93-aa1a-79f8c3f661c7",
   "metadata": {},
   "outputs": [],
   "source": [
    "# Fill in the missing values with the mode\n",
    "properties.yearbuilt.fillna(properties.yearbuilt.mode()[0], inplace = True)"
   ]
  },
  {
   "cell_type": "code",
   "execution_count": 19,
   "id": "11a9dfdf-6fc1-4f1e-bf28-f7638a4cd24b",
   "metadata": {},
   "outputs": [
    {
     "data": {
      "text/plain": [
       "bedroomcnt                          0\n",
       "bathroomcnt                         0\n",
       "calculatedfinishedsquarefeet        0\n",
       "taxvaluedollarcnt                   0\n",
       "yearbuilt                           0\n",
       "fips                                0\n",
       "numberofstories                 37788\n",
       "basementsqft                    52272\n",
       "fireplacecnt                    45086\n",
       "heatingorsystemdesc             18469\n",
       "airconditioningdesc             38704\n",
       "roomcnt                             0\n",
       "garagetotalsqft                 34336\n",
       "hashottuborspa                  50805\n",
       "poolcnt                         41243\n",
       "poolsizesum                     51454\n",
       "yardbuildingsqft17              50384\n",
       "buildingqualitytypeid           18664\n",
       "finishedfloor1squarefeet        47948\n",
       "finishedsquarefeet15            52319\n",
       "lotsizesquarefeet                 366\n",
       "dtype: int64"
      ]
     },
     "execution_count": 19,
     "metadata": {},
     "output_type": "execute_result"
    }
   ],
   "source": [
    "# Let's make sure it worked.\n",
    "properties.isnull().sum()"
   ]
  },
  {
   "cell_type": "markdown",
   "id": "c5ec0efc-ff2c-4bcc-9a47-9c24923343d9",
   "metadata": {},
   "source": [
    "### numberofstories\n",
    "\n",
    "There are a lot of missing values in the numberofstories column. Let's take a look at the unique values to see if there is a value that can reasonably replace the nulls."
   ]
  },
  {
   "cell_type": "code",
   "execution_count": 20,
   "id": "b0bef674-954c-434e-97b5-4509ef6d6184",
   "metadata": {},
   "outputs": [
    {
     "data": {
      "text/plain": [
       "1.0    8867\n",
       "2.0    5312\n",
       "3.0     351\n",
       "6.0       1\n",
       "Name: numberofstories, dtype: int64"
      ]
     },
     "execution_count": 20,
     "metadata": {},
     "output_type": "execute_result"
    }
   ],
   "source": [
    "properties.numberofstories.value_counts()"
   ]
  },
  {
   "cell_type": "markdown",
   "id": "8415f7d6-0b6c-4052-92c7-4ce075f4707c",
   "metadata": {},
   "source": [
    "We can't assume the nulls represent 0 stories because this wouldn't make sense. There are values already for 1 story so we can't assume the nulls represent 1 story. Since there are a lot of missing values here we are probably better off removing this column."
   ]
  },
  {
   "cell_type": "code",
   "execution_count": 21,
   "id": "2eaa387b-86de-405e-a5f2-065186abdaa3",
   "metadata": {},
   "outputs": [],
   "source": [
    "properties = properties.drop(columns = 'numberofstories')"
   ]
  },
  {
   "cell_type": "code",
   "execution_count": 22,
   "id": "808c5086-ea67-428d-b147-47791c852df5",
   "metadata": {},
   "outputs": [
    {
     "data": {
      "text/plain": [
       "bedroomcnt                          0\n",
       "bathroomcnt                         0\n",
       "calculatedfinishedsquarefeet        0\n",
       "taxvaluedollarcnt                   0\n",
       "yearbuilt                           0\n",
       "fips                                0\n",
       "basementsqft                    52272\n",
       "fireplacecnt                    45086\n",
       "heatingorsystemdesc             18469\n",
       "airconditioningdesc             38704\n",
       "roomcnt                             0\n",
       "garagetotalsqft                 34336\n",
       "hashottuborspa                  50805\n",
       "poolcnt                         41243\n",
       "poolsizesum                     51454\n",
       "yardbuildingsqft17              50384\n",
       "buildingqualitytypeid           18664\n",
       "finishedfloor1squarefeet        47948\n",
       "finishedsquarefeet15            52319\n",
       "lotsizesquarefeet                 366\n",
       "dtype: int64"
      ]
     },
     "execution_count": 22,
     "metadata": {},
     "output_type": "execute_result"
    }
   ],
   "source": [
    "# Let's make sure it worked.\n",
    "properties.isnull().sum()"
   ]
  },
  {
   "cell_type": "markdown",
   "id": "ffa3c50f-8b19-4cce-8d6b-526694ea5c7b",
   "metadata": {},
   "source": [
    "### basementsqft\n",
    "\n",
    "The basementsqft column has a huge number of missing values. Let's take a look at what values exist in this column."
   ]
  },
  {
   "cell_type": "code",
   "execution_count": 23,
   "id": "9501ad19-bfb2-4f54-8e72-0d47070028d9",
   "metadata": {},
   "outputs": [
    {
     "data": {
      "text/plain": [
       "38.0     1\n",
       "90.0     1\n",
       "100.0    2\n",
       "112.0    1\n",
       "126.0    1\n",
       "Name: basementsqft, dtype: int64"
      ]
     },
     "execution_count": 23,
     "metadata": {},
     "output_type": "execute_result"
    }
   ],
   "source": [
    "properties.basementsqft.value_counts().sort_index().head()"
   ]
  },
  {
   "cell_type": "markdown",
   "id": "7dc6569b-2ed9-4200-ac70-30d95714b358",
   "metadata": {},
   "source": [
    "Although it may be reasonable to assume that no basement data means the property does not have a basement, there are far too many missing values in this column to make that assumption. We'll drop the column."
   ]
  },
  {
   "cell_type": "code",
   "execution_count": 24,
   "id": "6e0a2751-5b65-4c84-a7c3-8318e5a38d2b",
   "metadata": {},
   "outputs": [],
   "source": [
    "properties = properties.drop(columns = 'basementsqft')"
   ]
  },
  {
   "cell_type": "code",
   "execution_count": 25,
   "id": "25562f04-a2c2-48b9-b6d2-0efa1ae1414f",
   "metadata": {},
   "outputs": [
    {
     "data": {
      "text/plain": [
       "bedroomcnt                          0\n",
       "bathroomcnt                         0\n",
       "calculatedfinishedsquarefeet        0\n",
       "taxvaluedollarcnt                   0\n",
       "yearbuilt                           0\n",
       "fips                                0\n",
       "fireplacecnt                    45086\n",
       "heatingorsystemdesc             18469\n",
       "airconditioningdesc             38704\n",
       "roomcnt                             0\n",
       "garagetotalsqft                 34336\n",
       "hashottuborspa                  50805\n",
       "poolcnt                         41243\n",
       "poolsizesum                     51454\n",
       "yardbuildingsqft17              50384\n",
       "buildingqualitytypeid           18664\n",
       "finishedfloor1squarefeet        47948\n",
       "finishedsquarefeet15            52319\n",
       "lotsizesquarefeet                 366\n",
       "dtype: int64"
      ]
     },
     "execution_count": 25,
     "metadata": {},
     "output_type": "execute_result"
    }
   ],
   "source": [
    "# Let's make sure it worked.\n",
    "properties.isnull().sum()"
   ]
  },
  {
   "cell_type": "markdown",
   "id": "11cbd127-03c1-4844-9356-ac0926047a7e",
   "metadata": {},
   "source": [
    "### fireplacecnt\n",
    "\n",
    "The fireplacecnt column has a huge number of missing values. Let's take a look at what values exist in this column."
   ]
  },
  {
   "cell_type": "code",
   "execution_count": 26,
   "id": "42b92483-1bd4-4d8b-9c57-493880362e57",
   "metadata": {},
   "outputs": [
    {
     "data": {
      "text/plain": [
       "1.0    6024\n",
       "2.0     942\n",
       "3.0     229\n",
       "4.0      35\n",
       "5.0       3\n",
       "Name: fireplacecnt, dtype: int64"
      ]
     },
     "execution_count": 26,
     "metadata": {},
     "output_type": "execute_result"
    }
   ],
   "source": [
    "properties.fireplacecnt.value_counts()"
   ]
  },
  {
   "cell_type": "markdown",
   "id": "e089ad7c-9663-4a9d-8736-735e2e270a5b",
   "metadata": {},
   "source": [
    "Since there is no 0 value we can reasonably assume that a null is no fireplace. We'll fill in the nulls with 0."
   ]
  },
  {
   "cell_type": "code",
   "execution_count": 27,
   "id": "501f7dfc-6ab7-41d5-ac12-20f833682993",
   "metadata": {},
   "outputs": [],
   "source": [
    "properties.fireplacecnt.fillna(0, inplace = True)\n",
    "\n",
    "# Let's also cast this column to the int type since a fractional fireplace is not possible.\n",
    "properties.fireplacecnt = properties.fireplacecnt.astype('int')"
   ]
  },
  {
   "cell_type": "code",
   "execution_count": 28,
   "id": "e2159b76-cdcb-426b-953a-282a75775eeb",
   "metadata": {},
   "outputs": [
    {
     "data": {
      "text/plain": [
       "bedroomcnt                          0\n",
       "bathroomcnt                         0\n",
       "calculatedfinishedsquarefeet        0\n",
       "taxvaluedollarcnt                   0\n",
       "yearbuilt                           0\n",
       "fips                                0\n",
       "fireplacecnt                        0\n",
       "heatingorsystemdesc             18469\n",
       "airconditioningdesc             38704\n",
       "roomcnt                             0\n",
       "garagetotalsqft                 34336\n",
       "hashottuborspa                  50805\n",
       "poolcnt                         41243\n",
       "poolsizesum                     51454\n",
       "yardbuildingsqft17              50384\n",
       "buildingqualitytypeid           18664\n",
       "finishedfloor1squarefeet        47948\n",
       "finishedsquarefeet15            52319\n",
       "lotsizesquarefeet                 366\n",
       "dtype: int64"
      ]
     },
     "execution_count": 28,
     "metadata": {},
     "output_type": "execute_result"
    }
   ],
   "source": [
    "# Let's make sure it worked.\n",
    "properties.isnull().sum()"
   ]
  },
  {
   "cell_type": "markdown",
   "id": "61b5c1f7-d5a3-4408-afba-e2dffe7693e4",
   "metadata": {},
   "source": [
    "### heatingorsystemdesc\n",
    "\n",
    "The heatingorsystemdesc column has a huge number of missing values. Let's take a look at what values exist in this column."
   ]
  },
  {
   "cell_type": "code",
   "execution_count": 29,
   "id": "fba73610-bf7f-4917-a354-13ec1b30bdee",
   "metadata": {},
   "outputs": [
    {
     "data": {
      "text/plain": [
       "Central       20689\n",
       "Floor/Wall    12527\n",
       "Forced air      517\n",
       "Solar            85\n",
       "None             16\n",
       "Baseboard         7\n",
       "Radiant           6\n",
       "Gravity           2\n",
       "Yes               1\n",
       "Name: heatingorsystemdesc, dtype: int64"
      ]
     },
     "execution_count": 29,
     "metadata": {},
     "output_type": "execute_result"
    }
   ],
   "source": [
    "properties.heatingorsystemdesc.value_counts()"
   ]
  },
  {
   "cell_type": "markdown",
   "id": "875fdb2e-13a5-4ae2-8250-624d0920ca5e",
   "metadata": {},
   "source": [
    "Here we do have values to represent no heating system. We can't make any reasonable assumption about what the nulls might be. There are too many missing values to fill with something like mode so we are better off dropping this column."
   ]
  },
  {
   "cell_type": "code",
   "execution_count": 30,
   "id": "96150132-d24c-4bf8-a90f-2f462284408b",
   "metadata": {},
   "outputs": [],
   "source": [
    "properties = properties.drop(columns = 'heatingorsystemdesc')"
   ]
  },
  {
   "cell_type": "code",
   "execution_count": 31,
   "id": "f20a65b9-75ea-4194-8b0f-384bb26113fd",
   "metadata": {},
   "outputs": [
    {
     "data": {
      "text/plain": [
       "bedroomcnt                          0\n",
       "bathroomcnt                         0\n",
       "calculatedfinishedsquarefeet        0\n",
       "taxvaluedollarcnt                   0\n",
       "yearbuilt                           0\n",
       "fips                                0\n",
       "fireplacecnt                        0\n",
       "airconditioningdesc             38704\n",
       "roomcnt                             0\n",
       "garagetotalsqft                 34336\n",
       "hashottuborspa                  50805\n",
       "poolcnt                         41243\n",
       "poolsizesum                     51454\n",
       "yardbuildingsqft17              50384\n",
       "buildingqualitytypeid           18664\n",
       "finishedfloor1squarefeet        47948\n",
       "finishedsquarefeet15            52319\n",
       "lotsizesquarefeet                 366\n",
       "dtype: int64"
      ]
     },
     "execution_count": 31,
     "metadata": {},
     "output_type": "execute_result"
    }
   ],
   "source": [
    "# Let's make sure it worked.\n",
    "properties.isnull().sum()"
   ]
  },
  {
   "cell_type": "markdown",
   "id": "29c11869-fa65-4114-9474-48bb1c3c82ca",
   "metadata": {},
   "source": [
    "### airconditioningdesc\n",
    "\n",
    "The airconditioningdesc column has a lot of missing values. Let's see what unique values exist here."
   ]
  },
  {
   "cell_type": "code",
   "execution_count": 32,
   "id": "dfa90543-430b-4c2d-b7f8-2dd34540944c",
   "metadata": {},
   "outputs": [
    {
     "data": {
      "text/plain": [
       "Central      11873\n",
       "Yes           1567\n",
       "None           159\n",
       "Wall Unit       16\n",
       "Name: airconditioningdesc, dtype: int64"
      ]
     },
     "execution_count": 32,
     "metadata": {},
     "output_type": "execute_result"
    }
   ],
   "source": [
    "properties.airconditioningdesc.value_counts()"
   ]
  },
  {
   "cell_type": "markdown",
   "id": "8c2ba7d5-fbb3-4c37-8895-6f00d9e0800e",
   "metadata": {},
   "source": [
    "We have too many missing values here to make any reasonable assumption. We will have to simply drop the column."
   ]
  },
  {
   "cell_type": "code",
   "execution_count": 33,
   "id": "a1219f6b-1807-45f2-b214-95216cb1b4bc",
   "metadata": {},
   "outputs": [],
   "source": [
    "properties = properties.drop(columns = 'airconditioningdesc')"
   ]
  },
  {
   "cell_type": "code",
   "execution_count": 34,
   "id": "d6e7c436-050c-42d8-a7d2-8676c3787f70",
   "metadata": {},
   "outputs": [
    {
     "data": {
      "text/plain": [
       "bedroomcnt                          0\n",
       "bathroomcnt                         0\n",
       "calculatedfinishedsquarefeet        0\n",
       "taxvaluedollarcnt                   0\n",
       "yearbuilt                           0\n",
       "fips                                0\n",
       "fireplacecnt                        0\n",
       "roomcnt                             0\n",
       "garagetotalsqft                 34336\n",
       "hashottuborspa                  50805\n",
       "poolcnt                         41243\n",
       "poolsizesum                     51454\n",
       "yardbuildingsqft17              50384\n",
       "buildingqualitytypeid           18664\n",
       "finishedfloor1squarefeet        47948\n",
       "finishedsquarefeet15            52319\n",
       "lotsizesquarefeet                 366\n",
       "dtype: int64"
      ]
     },
     "execution_count": 34,
     "metadata": {},
     "output_type": "execute_result"
    }
   ],
   "source": [
    "# Let's make sure it worked.\n",
    "properties.isnull().sum()"
   ]
  },
  {
   "cell_type": "markdown",
   "id": "fad28cdf-8724-4c29-ac61-27dc6e12586a",
   "metadata": {},
   "source": [
    "### garagetotalsqft\n",
    "\n",
    "The garagetotalsqft column has a large number of missing values. Let's take a look at the range values in this columns."
   ]
  },
  {
   "cell_type": "code",
   "execution_count": 35,
   "id": "6967d250-3b0e-4fe4-a02e-cf36d6b6670a",
   "metadata": {},
   "outputs": [
    {
     "data": {
      "text/plain": [
       "0.0       195\n",
       "136.0       1\n",
       "144.0       1\n",
       "150.0       2\n",
       "152.0       2\n",
       "         ... \n",
       "2901.0      1\n",
       "3115.0      1\n",
       "3233.0      1\n",
       "3791.0      1\n",
       "4251.0      1\n",
       "Name: garagetotalsqft, Length: 839, dtype: int64"
      ]
     },
     "execution_count": 35,
     "metadata": {},
     "output_type": "execute_result"
    }
   ],
   "source": [
    "properties.garagetotalsqft.value_counts().sort_index()"
   ]
  },
  {
   "cell_type": "markdown",
   "id": "a18d829e-86e5-4e7f-bde6-a3018acaff1c",
   "metadata": {},
   "source": [
    "Here we do have a 0 value to represent no garage (such as if the property was a condo). We can't make a reasonable assumption of what the nulls might be so we will drop the column."
   ]
  },
  {
   "cell_type": "code",
   "execution_count": 36,
   "id": "e01b4584-69be-4ee1-a0c0-7eb38c46f546",
   "metadata": {},
   "outputs": [],
   "source": [
    "properties = properties.drop(columns = 'garagetotalsqft')"
   ]
  },
  {
   "cell_type": "code",
   "execution_count": 37,
   "id": "61b495ed-5c05-40ed-b749-11c0bdb13018",
   "metadata": {},
   "outputs": [
    {
     "data": {
      "text/plain": [
       "bedroomcnt                          0\n",
       "bathroomcnt                         0\n",
       "calculatedfinishedsquarefeet        0\n",
       "taxvaluedollarcnt                   0\n",
       "yearbuilt                           0\n",
       "fips                                0\n",
       "fireplacecnt                        0\n",
       "roomcnt                             0\n",
       "hashottuborspa                  50805\n",
       "poolcnt                         41243\n",
       "poolsizesum                     51454\n",
       "yardbuildingsqft17              50384\n",
       "buildingqualitytypeid           18664\n",
       "finishedfloor1squarefeet        47948\n",
       "finishedsquarefeet15            52319\n",
       "lotsizesquarefeet                 366\n",
       "dtype: int64"
      ]
     },
     "execution_count": 37,
     "metadata": {},
     "output_type": "execute_result"
    }
   ],
   "source": [
    "# Let's make sure it worked.\n",
    "properties.isnull().sum()"
   ]
  },
  {
   "cell_type": "markdown",
   "id": "52d5bee9-cbcd-4816-8476-3f4d70412f87",
   "metadata": {},
   "source": [
    "### hashottuborspa\n",
    "\n",
    "The hashottuborspa column has a huge number of missing values. Let's take a look at what values exist in this column."
   ]
  },
  {
   "cell_type": "code",
   "execution_count": 38,
   "id": "64dfaa2f-8de7-4952-8df2-2b558dc63316",
   "metadata": {},
   "outputs": [
    {
     "data": {
      "text/plain": [
       "1.0    1514\n",
       "Name: hashottuborspa, dtype: int64"
      ]
     },
     "execution_count": 38,
     "metadata": {},
     "output_type": "execute_result"
    }
   ],
   "source": [
    "properties.hashottuborspa.value_counts()"
   ]
  },
  {
   "cell_type": "markdown",
   "id": "c90e492e-024c-46c2-a069-e078a851921c",
   "metadata": {},
   "source": [
    "Here there is only a value to represent that the property has 1 hot tub. We can reasonably assume the nulls represent no hot tub or spa. We'll fill the null values with 0."
   ]
  },
  {
   "cell_type": "code",
   "execution_count": 39,
   "id": "a200c975-acb2-4812-a15c-863968000524",
   "metadata": {},
   "outputs": [],
   "source": [
    "properties.hashottuborspa.fillna(0, inplace = True)\n",
    "properties.hashottuborspa = properties.hashottuborspa.astype('int')"
   ]
  },
  {
   "cell_type": "code",
   "execution_count": 40,
   "id": "3b11fd32-468b-46cf-8c91-bd8429bec144",
   "metadata": {},
   "outputs": [
    {
     "data": {
      "text/plain": [
       "bedroomcnt                          0\n",
       "bathroomcnt                         0\n",
       "calculatedfinishedsquarefeet        0\n",
       "taxvaluedollarcnt                   0\n",
       "yearbuilt                           0\n",
       "fips                                0\n",
       "fireplacecnt                        0\n",
       "roomcnt                             0\n",
       "hashottuborspa                      0\n",
       "poolcnt                         41243\n",
       "poolsizesum                     51454\n",
       "yardbuildingsqft17              50384\n",
       "buildingqualitytypeid           18664\n",
       "finishedfloor1squarefeet        47948\n",
       "finishedsquarefeet15            52319\n",
       "lotsizesquarefeet                 366\n",
       "dtype: int64"
      ]
     },
     "execution_count": 40,
     "metadata": {},
     "output_type": "execute_result"
    }
   ],
   "source": [
    "# Let's make sure it worked.\n",
    "properties.isnull().sum()"
   ]
  },
  {
   "cell_type": "markdown",
   "id": "e569a8d8-0961-422e-bcbf-56b6a9f55572",
   "metadata": {},
   "source": [
    "### poolcnt and poolsizesum\n",
    "\n",
    "The poolcnt and poolsizesum columns both have a huge amount of missing values. Let's take a look at what values exist in these columns."
   ]
  },
  {
   "cell_type": "code",
   "execution_count": 41,
   "id": "46d0a665-af9c-48a6-a784-8c85b7f4fbe3",
   "metadata": {},
   "outputs": [
    {
     "data": {
      "text/plain": [
       "1.0    11076\n",
       "Name: poolcnt, dtype: int64"
      ]
     },
     "execution_count": 41,
     "metadata": {},
     "output_type": "execute_result"
    }
   ],
   "source": [
    "properties.poolcnt.value_counts()"
   ]
  },
  {
   "cell_type": "code",
   "execution_count": 42,
   "id": "f30ee025-2df1-4f03-9e8c-a039af8a14d7",
   "metadata": {},
   "outputs": [
    {
     "data": {
      "text/plain": [
       "24.0      1\n",
       "38.0      1\n",
       "65.0      1\n",
       "105.0     1\n",
       "112.0     1\n",
       "         ..\n",
       "1109.0    1\n",
       "1120.0    1\n",
       "1200.0    1\n",
       "1364.0    1\n",
       "1500.0    1\n",
       "Name: poolsizesum, Length: 262, dtype: int64"
      ]
     },
     "execution_count": 42,
     "metadata": {},
     "output_type": "execute_result"
    }
   ],
   "source": [
    "properties.poolsizesum.value_counts().sort_index()"
   ]
  },
  {
   "cell_type": "markdown",
   "id": "bef87723-a7a6-4318-b4bb-95df8ce02a47",
   "metadata": {},
   "source": [
    "These features do not have the same number of missing values. We have more information for poolcnt, but poolsizesum could be more valuable for assessing property value. We can't have a property with a pool and 0 pool size so we will need to drop one of these columns. The other can reasonably be filled in with 0.\n",
    "\n",
    "Since poolsizesum has more missing values we'll drop that one and keep poolcnt. We'll fill the null values in poolcnt with 0."
   ]
  },
  {
   "cell_type": "code",
   "execution_count": 43,
   "id": "4e00a539-9014-444e-bb69-fa220dd1c7c2",
   "metadata": {},
   "outputs": [],
   "source": [
    "properties = properties.drop(columns = 'poolsizesum')\n",
    "properties.poolcnt.fillna(0, inplace = True)\n",
    "\n",
    "# Let's also cast poolcnt to an int type since a fractional pool is not possible.\n",
    "properties.poolcnt = properties.poolcnt.astype('int')"
   ]
  },
  {
   "cell_type": "code",
   "execution_count": 44,
   "id": "b3ebbfc6-2f47-4609-8dd1-02c7d48315b8",
   "metadata": {},
   "outputs": [
    {
     "data": {
      "text/plain": [
       "bedroomcnt                          0\n",
       "bathroomcnt                         0\n",
       "calculatedfinishedsquarefeet        0\n",
       "taxvaluedollarcnt                   0\n",
       "yearbuilt                           0\n",
       "fips                                0\n",
       "fireplacecnt                        0\n",
       "roomcnt                             0\n",
       "hashottuborspa                      0\n",
       "poolcnt                             0\n",
       "yardbuildingsqft17              50384\n",
       "buildingqualitytypeid           18664\n",
       "finishedfloor1squarefeet        47948\n",
       "finishedsquarefeet15            52319\n",
       "lotsizesquarefeet                 366\n",
       "dtype: int64"
      ]
     },
     "execution_count": 44,
     "metadata": {},
     "output_type": "execute_result"
    }
   ],
   "source": [
    "# Let's make sure it worked.\n",
    "properties.isnull().sum()"
   ]
  },
  {
   "cell_type": "markdown",
   "id": "62eaa745-10ae-40f3-b490-808410aacb72",
   "metadata": {},
   "source": [
    "### yardbuildingsqft17\n",
    "\n",
    "Finally the yardbuildingsqft17 column has a large number of missing values. Let's take a look at what values exist in this column."
   ]
  },
  {
   "cell_type": "code",
   "execution_count": 45,
   "id": "25f43363-11e8-4c0e-875a-cc9627ce7823",
   "metadata": {},
   "outputs": [
    {
     "data": {
      "text/plain": [
       "11.0      1\n",
       "17.0      1\n",
       "24.0      3\n",
       "28.0      3\n",
       "30.0      2\n",
       "         ..\n",
       "2332.0    1\n",
       "2480.0    1\n",
       "2769.0    1\n",
       "3011.0    1\n",
       "3191.0    1\n",
       "Name: yardbuildingsqft17, Length: 504, dtype: int64"
      ]
     },
     "execution_count": 45,
     "metadata": {},
     "output_type": "execute_result"
    }
   ],
   "source": [
    "properties.yardbuildingsqft17.value_counts().sort_index()"
   ]
  },
  {
   "cell_type": "markdown",
   "id": "75c83596-41aa-4736-8175-cb8f8c57f4c0",
   "metadata": {},
   "source": [
    "We may be able to assume null is no patio, but there are a large number of missing values here and most residential homes are likely going to have at least a small patio. We may be better off dropping this column since it's difficult to assume what the nulls may represent."
   ]
  },
  {
   "cell_type": "code",
   "execution_count": 46,
   "id": "f2e816c7-abd6-445b-95ad-2036f5b28470",
   "metadata": {},
   "outputs": [],
   "source": [
    "properties = properties.drop(columns = 'yardbuildingsqft17')"
   ]
  },
  {
   "cell_type": "code",
   "execution_count": 47,
   "id": "be13fe80-4d73-4951-b706-3f8e20e8ceb1",
   "metadata": {},
   "outputs": [
    {
     "data": {
      "text/plain": [
       "bedroomcnt                          0\n",
       "bathroomcnt                         0\n",
       "calculatedfinishedsquarefeet        0\n",
       "taxvaluedollarcnt                   0\n",
       "yearbuilt                           0\n",
       "fips                                0\n",
       "fireplacecnt                        0\n",
       "roomcnt                             0\n",
       "hashottuborspa                      0\n",
       "poolcnt                             0\n",
       "buildingqualitytypeid           18664\n",
       "finishedfloor1squarefeet        47948\n",
       "finishedsquarefeet15            52319\n",
       "lotsizesquarefeet                 366\n",
       "dtype: int64"
      ]
     },
     "execution_count": 47,
     "metadata": {},
     "output_type": "execute_result"
    }
   ],
   "source": [
    "# Let's make sure it worked.\n",
    "properties.isnull().sum()"
   ]
  },
  {
   "cell_type": "markdown",
   "id": "b69d7edb-2644-40b4-8ac2-e946d51148c1",
   "metadata": {},
   "source": [
    "### buildingqualitytypeid\n",
    "\n",
    "The buildingqualitytypeid column has a lot of missing values, but we may be able to fill them in. Let's take a look."
   ]
  },
  {
   "cell_type": "code",
   "execution_count": 48,
   "id": "792f89fb-8b21-4dab-a3af-acb6c90d638b",
   "metadata": {},
   "outputs": [
    {
     "data": {
      "text/plain": [
       "6.0     10260\n",
       "8.0      8222\n",
       "4.0      8136\n",
       "7.0      3424\n",
       "5.0      1507\n",
       "9.0      1119\n",
       "11.0      514\n",
       "10.0      230\n",
       "3.0       149\n",
       "12.0       81\n",
       "1.0         8\n",
       "2.0         5\n",
       "Name: buildingqualitytypeid, dtype: int64"
      ]
     },
     "execution_count": 48,
     "metadata": {},
     "output_type": "execute_result"
    }
   ],
   "source": [
    "properties.buildingqualitytypeid.value_counts()"
   ]
  },
  {
   "cell_type": "markdown",
   "id": "8bafb9d3-e5ee-4755-97be-7a5b8f34486e",
   "metadata": {},
   "source": [
    "Most values in this column seem to be around the mean to median range. It may be valuable to keep this column so we will fill in the missing values with the median."
   ]
  },
  {
   "cell_type": "code",
   "execution_count": 49,
   "id": "5d3196cd-7881-45ba-b3e6-041cb88b9482",
   "metadata": {},
   "outputs": [],
   "source": [
    "median_quality = properties.buildingqualitytypeid.median()\n",
    "properties.buildingqualitytypeid.fillna(median_quality, inplace = True)"
   ]
  },
  {
   "cell_type": "code",
   "execution_count": 50,
   "id": "51d11ac2-0c8c-49a7-8d93-68be15fd73b0",
   "metadata": {},
   "outputs": [
    {
     "data": {
      "text/plain": [
       "bedroomcnt                          0\n",
       "bathroomcnt                         0\n",
       "calculatedfinishedsquarefeet        0\n",
       "taxvaluedollarcnt                   0\n",
       "yearbuilt                           0\n",
       "fips                                0\n",
       "fireplacecnt                        0\n",
       "roomcnt                             0\n",
       "hashottuborspa                      0\n",
       "poolcnt                             0\n",
       "buildingqualitytypeid               0\n",
       "finishedfloor1squarefeet        47948\n",
       "finishedsquarefeet15            52319\n",
       "lotsizesquarefeet                 366\n",
       "dtype: int64"
      ]
     },
     "execution_count": 50,
     "metadata": {},
     "output_type": "execute_result"
    }
   ],
   "source": [
    "# Let's make sure it worked.\n",
    "properties.isnull().sum()"
   ]
  },
  {
   "cell_type": "markdown",
   "id": "6197f4d8-6fc7-40f4-9d2a-db10a1f644cd",
   "metadata": {},
   "source": [
    "### finishedfloor1squarefeet and finishedsquarefeet15\n",
    "\n",
    "The finishedfloor1squarefeet and finishedsquarefeet15 columns have far too many missing values to be useful to us. Based on the feature name it's unlikely we can assume what the nulls represent. We will drop these two columns."
   ]
  },
  {
   "cell_type": "code",
   "execution_count": 51,
   "id": "5286b77a-1df8-4dcd-9c3a-a524a4511cfd",
   "metadata": {},
   "outputs": [],
   "source": [
    "properties = properties.drop(columns = 'finishedfloor1squarefeet')\n",
    "properties = properties.drop(columns = 'finishedsquarefeet15')"
   ]
  },
  {
   "cell_type": "code",
   "execution_count": 52,
   "id": "678d0fbb-ff8a-4340-bb83-d24af71337aa",
   "metadata": {},
   "outputs": [
    {
     "data": {
      "text/plain": [
       "bedroomcnt                        0\n",
       "bathroomcnt                       0\n",
       "calculatedfinishedsquarefeet      0\n",
       "taxvaluedollarcnt                 0\n",
       "yearbuilt                         0\n",
       "fips                              0\n",
       "fireplacecnt                      0\n",
       "roomcnt                           0\n",
       "hashottuborspa                    0\n",
       "poolcnt                           0\n",
       "buildingqualitytypeid             0\n",
       "lotsizesquarefeet               366\n",
       "dtype: int64"
      ]
     },
     "execution_count": 52,
     "metadata": {},
     "output_type": "execute_result"
    }
   ],
   "source": [
    "# Let's make sure it worked.\n",
    "properties.isnull().sum()"
   ]
  },
  {
   "cell_type": "markdown",
   "id": "97349912-f95b-4d77-a850-fd0d672bdabf",
   "metadata": {},
   "source": [
    "### lotsizesquarefeet\n",
    "\n",
    "The lotsizesquarefeet column has only a few missing values. This column does have a lot of high end outliers so we will fill in the missing values with the median."
   ]
  },
  {
   "cell_type": "code",
   "execution_count": 53,
   "id": "01325db8-2399-42fd-830a-8449e79dc946",
   "metadata": {},
   "outputs": [],
   "source": [
    "median_lotsize = properties.lotsizesquarefeet.median()\n",
    "properties.lotsizesquarefeet.fillna(median_lotsize, inplace = True)"
   ]
  },
  {
   "cell_type": "code",
   "execution_count": 54,
   "id": "177a858c-aa8a-4716-beec-2652c3640cec",
   "metadata": {},
   "outputs": [
    {
     "data": {
      "text/plain": [
       "bedroomcnt                      0\n",
       "bathroomcnt                     0\n",
       "calculatedfinishedsquarefeet    0\n",
       "taxvaluedollarcnt               0\n",
       "yearbuilt                       0\n",
       "fips                            0\n",
       "fireplacecnt                    0\n",
       "roomcnt                         0\n",
       "hashottuborspa                  0\n",
       "poolcnt                         0\n",
       "buildingqualitytypeid           0\n",
       "lotsizesquarefeet               0\n",
       "dtype: int64"
      ]
     },
     "execution_count": 54,
     "metadata": {},
     "output_type": "execute_result"
    }
   ],
   "source": [
    "# Let's make sure it worked.\n",
    "properties.isnull().sum()"
   ]
  },
  {
   "cell_type": "markdown",
   "id": "61231f62-4832-4a8d-9d4f-5e5aff2390bb",
   "metadata": {},
   "source": [
    "---\n",
    "\n",
    "## A Second Brief Analysis\n",
    "\n",
    "Now that we are done handling all the missing values let's take a look at our data one more time before wrapping this up."
   ]
  },
  {
   "cell_type": "code",
   "execution_count": 55,
   "id": "836fc491-0211-490c-870a-af7adaa4154b",
   "metadata": {},
   "outputs": [
    {
     "data": {
      "text/html": [
       "<div>\n",
       "<style scoped>\n",
       "    .dataframe tbody tr th:only-of-type {\n",
       "        vertical-align: middle;\n",
       "    }\n",
       "\n",
       "    .dataframe tbody tr th {\n",
       "        vertical-align: top;\n",
       "    }\n",
       "\n",
       "    .dataframe thead th {\n",
       "        text-align: right;\n",
       "    }\n",
       "</style>\n",
       "<table border=\"1\" class=\"dataframe\">\n",
       "  <thead>\n",
       "    <tr style=\"text-align: right;\">\n",
       "      <th></th>\n",
       "      <th>count</th>\n",
       "      <th>mean</th>\n",
       "      <th>std</th>\n",
       "      <th>min</th>\n",
       "      <th>25%</th>\n",
       "      <th>50%</th>\n",
       "      <th>75%</th>\n",
       "      <th>max</th>\n",
       "    </tr>\n",
       "  </thead>\n",
       "  <tbody>\n",
       "    <tr>\n",
       "      <th>bedroomcnt</th>\n",
       "      <td>52319.0</td>\n",
       "      <td>3.300751</td>\n",
       "      <td>0.947559</td>\n",
       "      <td>0.0</td>\n",
       "      <td>3.0</td>\n",
       "      <td>3.0</td>\n",
       "      <td>4.0</td>\n",
       "      <td>14.0</td>\n",
       "    </tr>\n",
       "    <tr>\n",
       "      <th>bathroomcnt</th>\n",
       "      <td>52319.0</td>\n",
       "      <td>2.300015</td>\n",
       "      <td>1.022816</td>\n",
       "      <td>0.0</td>\n",
       "      <td>2.0</td>\n",
       "      <td>2.0</td>\n",
       "      <td>3.0</td>\n",
       "      <td>18.0</td>\n",
       "    </tr>\n",
       "    <tr>\n",
       "      <th>calculatedfinishedsquarefeet</th>\n",
       "      <td>52319.0</td>\n",
       "      <td>1923.166603</td>\n",
       "      <td>1003.272454</td>\n",
       "      <td>128.0</td>\n",
       "      <td>1268.0</td>\n",
       "      <td>1661.0</td>\n",
       "      <td>2305.0</td>\n",
       "      <td>21929.0</td>\n",
       "    </tr>\n",
       "    <tr>\n",
       "      <th>taxvaluedollarcnt</th>\n",
       "      <td>52319.0</td>\n",
       "      <td>529823.501328</td>\n",
       "      <td>751829.565077</td>\n",
       "      <td>1000.0</td>\n",
       "      <td>194033.0</td>\n",
       "      <td>374006.0</td>\n",
       "      <td>619354.0</td>\n",
       "      <td>49061236.0</td>\n",
       "    </tr>\n",
       "    <tr>\n",
       "      <th>yearbuilt</th>\n",
       "      <td>52319.0</td>\n",
       "      <td>1963.403085</td>\n",
       "      <td>23.103983</td>\n",
       "      <td>1878.0</td>\n",
       "      <td>1950.0</td>\n",
       "      <td>1960.0</td>\n",
       "      <td>1979.0</td>\n",
       "      <td>2016.0</td>\n",
       "    </tr>\n",
       "    <tr>\n",
       "      <th>fips</th>\n",
       "      <td>52319.0</td>\n",
       "      <td>6049.135362</td>\n",
       "      <td>21.029287</td>\n",
       "      <td>6037.0</td>\n",
       "      <td>6037.0</td>\n",
       "      <td>6037.0</td>\n",
       "      <td>6059.0</td>\n",
       "      <td>6111.0</td>\n",
       "    </tr>\n",
       "    <tr>\n",
       "      <th>fireplacecnt</th>\n",
       "      <td>52319.0</td>\n",
       "      <td>0.167243</td>\n",
       "      <td>0.459046</td>\n",
       "      <td>0.0</td>\n",
       "      <td>0.0</td>\n",
       "      <td>0.0</td>\n",
       "      <td>0.0</td>\n",
       "      <td>5.0</td>\n",
       "    </tr>\n",
       "    <tr>\n",
       "      <th>roomcnt</th>\n",
       "      <td>52319.0</td>\n",
       "      <td>1.894360</td>\n",
       "      <td>3.146903</td>\n",
       "      <td>0.0</td>\n",
       "      <td>0.0</td>\n",
       "      <td>0.0</td>\n",
       "      <td>5.0</td>\n",
       "      <td>15.0</td>\n",
       "    </tr>\n",
       "    <tr>\n",
       "      <th>hashottuborspa</th>\n",
       "      <td>52319.0</td>\n",
       "      <td>0.028938</td>\n",
       "      <td>0.167634</td>\n",
       "      <td>0.0</td>\n",
       "      <td>0.0</td>\n",
       "      <td>0.0</td>\n",
       "      <td>0.0</td>\n",
       "      <td>1.0</td>\n",
       "    </tr>\n",
       "    <tr>\n",
       "      <th>poolcnt</th>\n",
       "      <td>52319.0</td>\n",
       "      <td>0.211701</td>\n",
       "      <td>0.408518</td>\n",
       "      <td>0.0</td>\n",
       "      <td>0.0</td>\n",
       "      <td>0.0</td>\n",
       "      <td>0.0</td>\n",
       "      <td>1.0</td>\n",
       "    </tr>\n",
       "    <tr>\n",
       "      <th>buildingqualitytypeid</th>\n",
       "      <td>52319.0</td>\n",
       "      <td>6.170397</td>\n",
       "      <td>1.382405</td>\n",
       "      <td>1.0</td>\n",
       "      <td>6.0</td>\n",
       "      <td>6.0</td>\n",
       "      <td>7.0</td>\n",
       "      <td>12.0</td>\n",
       "    </tr>\n",
       "    <tr>\n",
       "      <th>lotsizesquarefeet</th>\n",
       "      <td>52319.0</td>\n",
       "      <td>11292.072173</td>\n",
       "      <td>86439.340311</td>\n",
       "      <td>236.0</td>\n",
       "      <td>5599.0</td>\n",
       "      <td>6841.0</td>\n",
       "      <td>8766.0</td>\n",
       "      <td>6971010.0</td>\n",
       "    </tr>\n",
       "  </tbody>\n",
       "</table>\n",
       "</div>"
      ],
      "text/plain": [
       "                                count           mean            std     min  \\\n",
       "bedroomcnt                    52319.0       3.300751       0.947559     0.0   \n",
       "bathroomcnt                   52319.0       2.300015       1.022816     0.0   \n",
       "calculatedfinishedsquarefeet  52319.0    1923.166603    1003.272454   128.0   \n",
       "taxvaluedollarcnt             52319.0  529823.501328  751829.565077  1000.0   \n",
       "yearbuilt                     52319.0    1963.403085      23.103983  1878.0   \n",
       "fips                          52319.0    6049.135362      21.029287  6037.0   \n",
       "fireplacecnt                  52319.0       0.167243       0.459046     0.0   \n",
       "roomcnt                       52319.0       1.894360       3.146903     0.0   \n",
       "hashottuborspa                52319.0       0.028938       0.167634     0.0   \n",
       "poolcnt                       52319.0       0.211701       0.408518     0.0   \n",
       "buildingqualitytypeid         52319.0       6.170397       1.382405     1.0   \n",
       "lotsizesquarefeet             52319.0   11292.072173   86439.340311   236.0   \n",
       "\n",
       "                                   25%       50%       75%         max  \n",
       "bedroomcnt                         3.0       3.0       4.0        14.0  \n",
       "bathroomcnt                        2.0       2.0       3.0        18.0  \n",
       "calculatedfinishedsquarefeet    1268.0    1661.0    2305.0     21929.0  \n",
       "taxvaluedollarcnt             194033.0  374006.0  619354.0  49061236.0  \n",
       "yearbuilt                       1950.0    1960.0    1979.0      2016.0  \n",
       "fips                            6037.0    6037.0    6059.0      6111.0  \n",
       "fireplacecnt                       0.0       0.0       0.0         5.0  \n",
       "roomcnt                            0.0       0.0       5.0        15.0  \n",
       "hashottuborspa                     0.0       0.0       0.0         1.0  \n",
       "poolcnt                            0.0       0.0       0.0         1.0  \n",
       "buildingqualitytypeid              6.0       6.0       7.0        12.0  \n",
       "lotsizesquarefeet               5599.0    6841.0    8766.0   6971010.0  "
      ]
     },
     "execution_count": 55,
     "metadata": {},
     "output_type": "execute_result"
    }
   ],
   "source": [
    "properties.describe().T"
   ]
  },
  {
   "cell_type": "markdown",
   "id": "14f7309c-7e40-401d-8768-8c2f0274a44a",
   "metadata": {},
   "source": [
    "The only issue is that it doesn't make sense for roomcnt to be 0. Let's take a look at what values exist in this column."
   ]
  },
  {
   "cell_type": "code",
   "execution_count": 56,
   "id": "e6739f13-b347-4573-b0ee-a220ef47cb7e",
   "metadata": {},
   "outputs": [
    {
     "data": {
      "text/plain": [
       "0.0     37761\n",
       "1.0         1\n",
       "2.0        12\n",
       "3.0        79\n",
       "4.0       518\n",
       "5.0      1886\n",
       "6.0      3974\n",
       "7.0      3607\n",
       "8.0      2810\n",
       "9.0      1173\n",
       "10.0      338\n",
       "11.0      108\n",
       "12.0       35\n",
       "13.0       10\n",
       "14.0        6\n",
       "15.0        1\n",
       "Name: roomcnt, dtype: int64"
      ]
     },
     "execution_count": 56,
     "metadata": {},
     "output_type": "execute_result"
    }
   ],
   "source": [
    "properties.roomcnt.value_counts().sort_index()"
   ]
  },
  {
   "cell_type": "markdown",
   "id": "f997434a-d827-4bb7-826c-7613a2764ff6",
   "metadata": {},
   "source": [
    "We don't want to remove 35,000 rows, since this would be far too many rows to remove so we'll just drop the column."
   ]
  },
  {
   "cell_type": "code",
   "execution_count": 57,
   "id": "11f6cb22-bb8b-40e0-8248-00ff07d0fb31",
   "metadata": {},
   "outputs": [],
   "source": [
    "properties = properties.drop(columns = 'roomcnt')"
   ]
  },
  {
   "cell_type": "code",
   "execution_count": 58,
   "id": "06584921-b1d0-49c0-a452-e12e39982d3f",
   "metadata": {},
   "outputs": [
    {
     "data": {
      "text/html": [
       "<div>\n",
       "<style scoped>\n",
       "    .dataframe tbody tr th:only-of-type {\n",
       "        vertical-align: middle;\n",
       "    }\n",
       "\n",
       "    .dataframe tbody tr th {\n",
       "        vertical-align: top;\n",
       "    }\n",
       "\n",
       "    .dataframe thead th {\n",
       "        text-align: right;\n",
       "    }\n",
       "</style>\n",
       "<table border=\"1\" class=\"dataframe\">\n",
       "  <thead>\n",
       "    <tr style=\"text-align: right;\">\n",
       "      <th></th>\n",
       "      <th>count</th>\n",
       "      <th>mean</th>\n",
       "      <th>std</th>\n",
       "      <th>min</th>\n",
       "      <th>25%</th>\n",
       "      <th>50%</th>\n",
       "      <th>75%</th>\n",
       "      <th>max</th>\n",
       "    </tr>\n",
       "  </thead>\n",
       "  <tbody>\n",
       "    <tr>\n",
       "      <th>bedroomcnt</th>\n",
       "      <td>52319.0</td>\n",
       "      <td>3.300751</td>\n",
       "      <td>0.947559</td>\n",
       "      <td>0.0</td>\n",
       "      <td>3.0</td>\n",
       "      <td>3.0</td>\n",
       "      <td>4.0</td>\n",
       "      <td>14.0</td>\n",
       "    </tr>\n",
       "    <tr>\n",
       "      <th>bathroomcnt</th>\n",
       "      <td>52319.0</td>\n",
       "      <td>2.300015</td>\n",
       "      <td>1.022816</td>\n",
       "      <td>0.0</td>\n",
       "      <td>2.0</td>\n",
       "      <td>2.0</td>\n",
       "      <td>3.0</td>\n",
       "      <td>18.0</td>\n",
       "    </tr>\n",
       "    <tr>\n",
       "      <th>calculatedfinishedsquarefeet</th>\n",
       "      <td>52319.0</td>\n",
       "      <td>1923.166603</td>\n",
       "      <td>1003.272454</td>\n",
       "      <td>128.0</td>\n",
       "      <td>1268.0</td>\n",
       "      <td>1661.0</td>\n",
       "      <td>2305.0</td>\n",
       "      <td>21929.0</td>\n",
       "    </tr>\n",
       "    <tr>\n",
       "      <th>taxvaluedollarcnt</th>\n",
       "      <td>52319.0</td>\n",
       "      <td>529823.501328</td>\n",
       "      <td>751829.565077</td>\n",
       "      <td>1000.0</td>\n",
       "      <td>194033.0</td>\n",
       "      <td>374006.0</td>\n",
       "      <td>619354.0</td>\n",
       "      <td>49061236.0</td>\n",
       "    </tr>\n",
       "    <tr>\n",
       "      <th>yearbuilt</th>\n",
       "      <td>52319.0</td>\n",
       "      <td>1963.403085</td>\n",
       "      <td>23.103983</td>\n",
       "      <td>1878.0</td>\n",
       "      <td>1950.0</td>\n",
       "      <td>1960.0</td>\n",
       "      <td>1979.0</td>\n",
       "      <td>2016.0</td>\n",
       "    </tr>\n",
       "    <tr>\n",
       "      <th>fips</th>\n",
       "      <td>52319.0</td>\n",
       "      <td>6049.135362</td>\n",
       "      <td>21.029287</td>\n",
       "      <td>6037.0</td>\n",
       "      <td>6037.0</td>\n",
       "      <td>6037.0</td>\n",
       "      <td>6059.0</td>\n",
       "      <td>6111.0</td>\n",
       "    </tr>\n",
       "    <tr>\n",
       "      <th>fireplacecnt</th>\n",
       "      <td>52319.0</td>\n",
       "      <td>0.167243</td>\n",
       "      <td>0.459046</td>\n",
       "      <td>0.0</td>\n",
       "      <td>0.0</td>\n",
       "      <td>0.0</td>\n",
       "      <td>0.0</td>\n",
       "      <td>5.0</td>\n",
       "    </tr>\n",
       "    <tr>\n",
       "      <th>hashottuborspa</th>\n",
       "      <td>52319.0</td>\n",
       "      <td>0.028938</td>\n",
       "      <td>0.167634</td>\n",
       "      <td>0.0</td>\n",
       "      <td>0.0</td>\n",
       "      <td>0.0</td>\n",
       "      <td>0.0</td>\n",
       "      <td>1.0</td>\n",
       "    </tr>\n",
       "    <tr>\n",
       "      <th>poolcnt</th>\n",
       "      <td>52319.0</td>\n",
       "      <td>0.211701</td>\n",
       "      <td>0.408518</td>\n",
       "      <td>0.0</td>\n",
       "      <td>0.0</td>\n",
       "      <td>0.0</td>\n",
       "      <td>0.0</td>\n",
       "      <td>1.0</td>\n",
       "    </tr>\n",
       "    <tr>\n",
       "      <th>buildingqualitytypeid</th>\n",
       "      <td>52319.0</td>\n",
       "      <td>6.170397</td>\n",
       "      <td>1.382405</td>\n",
       "      <td>1.0</td>\n",
       "      <td>6.0</td>\n",
       "      <td>6.0</td>\n",
       "      <td>7.0</td>\n",
       "      <td>12.0</td>\n",
       "    </tr>\n",
       "    <tr>\n",
       "      <th>lotsizesquarefeet</th>\n",
       "      <td>52319.0</td>\n",
       "      <td>11292.072173</td>\n",
       "      <td>86439.340311</td>\n",
       "      <td>236.0</td>\n",
       "      <td>5599.0</td>\n",
       "      <td>6841.0</td>\n",
       "      <td>8766.0</td>\n",
       "      <td>6971010.0</td>\n",
       "    </tr>\n",
       "  </tbody>\n",
       "</table>\n",
       "</div>"
      ],
      "text/plain": [
       "                                count           mean            std     min  \\\n",
       "bedroomcnt                    52319.0       3.300751       0.947559     0.0   \n",
       "bathroomcnt                   52319.0       2.300015       1.022816     0.0   \n",
       "calculatedfinishedsquarefeet  52319.0    1923.166603    1003.272454   128.0   \n",
       "taxvaluedollarcnt             52319.0  529823.501328  751829.565077  1000.0   \n",
       "yearbuilt                     52319.0    1963.403085      23.103983  1878.0   \n",
       "fips                          52319.0    6049.135362      21.029287  6037.0   \n",
       "fireplacecnt                  52319.0       0.167243       0.459046     0.0   \n",
       "hashottuborspa                52319.0       0.028938       0.167634     0.0   \n",
       "poolcnt                       52319.0       0.211701       0.408518     0.0   \n",
       "buildingqualitytypeid         52319.0       6.170397       1.382405     1.0   \n",
       "lotsizesquarefeet             52319.0   11292.072173   86439.340311   236.0   \n",
       "\n",
       "                                   25%       50%       75%         max  \n",
       "bedroomcnt                         3.0       3.0       4.0        14.0  \n",
       "bathroomcnt                        2.0       2.0       3.0        18.0  \n",
       "calculatedfinishedsquarefeet    1268.0    1661.0    2305.0     21929.0  \n",
       "taxvaluedollarcnt             194033.0  374006.0  619354.0  49061236.0  \n",
       "yearbuilt                       1950.0    1960.0    1979.0      2016.0  \n",
       "fips                            6037.0    6037.0    6059.0      6111.0  \n",
       "fireplacecnt                       0.0       0.0       0.0         5.0  \n",
       "hashottuborspa                     0.0       0.0       0.0         1.0  \n",
       "poolcnt                            0.0       0.0       0.0         1.0  \n",
       "buildingqualitytypeid              6.0       6.0       7.0        12.0  \n",
       "lotsizesquarefeet               5599.0    6841.0    8766.0   6971010.0  "
      ]
     },
     "execution_count": 58,
     "metadata": {},
     "output_type": "execute_result"
    }
   ],
   "source": [
    "# Let's take one more look.\n",
    "properties.describe().T"
   ]
  },
  {
   "cell_type": "markdown",
   "id": "aea7f118-c8ea-4f21-b50b-f0894d89501d",
   "metadata": {},
   "source": [
    "Now let's see if there are any columns that should be cast to a different type."
   ]
  },
  {
   "cell_type": "code",
   "execution_count": 59,
   "id": "8f37327e-7e15-47e9-8a16-1c6dcb6b17c9",
   "metadata": {},
   "outputs": [
    {
     "name": "stdout",
     "output_type": "stream",
     "text": [
      "<class 'pandas.core.frame.DataFrame'>\n",
      "Int64Index: 52319 entries, 0 to 52440\n",
      "Data columns (total 11 columns):\n",
      " #   Column                        Non-Null Count  Dtype  \n",
      "---  ------                        --------------  -----  \n",
      " 0   bedroomcnt                    52319 non-null  float64\n",
      " 1   bathroomcnt                   52319 non-null  float64\n",
      " 2   calculatedfinishedsquarefeet  52319 non-null  float64\n",
      " 3   taxvaluedollarcnt             52319 non-null  float64\n",
      " 4   yearbuilt                     52319 non-null  float64\n",
      " 5   fips                          52319 non-null  float64\n",
      " 6   fireplacecnt                  52319 non-null  int64  \n",
      " 7   hashottuborspa                52319 non-null  int64  \n",
      " 8   poolcnt                       52319 non-null  int64  \n",
      " 9   buildingqualitytypeid         52319 non-null  float64\n",
      " 10  lotsizesquarefeet             52319 non-null  float64\n",
      "dtypes: float64(8), int64(3)\n",
      "memory usage: 4.8 MB\n"
     ]
    }
   ],
   "source": [
    "properties.info()"
   ]
  },
  {
   "cell_type": "markdown",
   "id": "91ff549f-e392-47e9-9e3c-5d441d391e94",
   "metadata": {},
   "source": [
    "The columns bedroomcnt, fips, and bathroomcnt should possibly be int types. Let's make sure."
   ]
  },
  {
   "cell_type": "code",
   "execution_count": 60,
   "id": "355ba300-e1a3-4178-999c-7ffdbbecb0a4",
   "metadata": {},
   "outputs": [
    {
     "data": {
      "text/plain": [
       "3.0     23303\n",
       "4.0     15209\n",
       "2.0      8317\n",
       "5.0      3967\n",
       "6.0       634\n",
       "1.0       611\n",
       "0.0       135\n",
       "7.0       106\n",
       "8.0        24\n",
       "9.0         8\n",
       "10.0        2\n",
       "14.0        1\n",
       "11.0        1\n",
       "12.0        1\n",
       "Name: bedroomcnt, dtype: int64"
      ]
     },
     "execution_count": 60,
     "metadata": {},
     "output_type": "execute_result"
    }
   ],
   "source": [
    "properties.bedroomcnt.value_counts()"
   ]
  },
  {
   "cell_type": "code",
   "execution_count": 61,
   "id": "1132c7ef-eead-4cd1-9dc7-ed8015b69d50",
   "metadata": {},
   "outputs": [
    {
     "data": {
      "text/plain": [
       "6037.0    33824\n",
       "6059.0    14110\n",
       "6111.0     4385\n",
       "Name: fips, dtype: int64"
      ]
     },
     "execution_count": 61,
     "metadata": {},
     "output_type": "execute_result"
    }
   ],
   "source": [
    "properties.fips.value_counts()"
   ]
  },
  {
   "cell_type": "code",
   "execution_count": 62,
   "id": "13b04f64-33d4-433b-9854-a03f55902385",
   "metadata": {},
   "outputs": [
    {
     "data": {
      "text/plain": [
       "2.0     21839\n",
       "3.0     10650\n",
       "1.0      9536\n",
       "2.5      3932\n",
       "4.0      2225\n",
       "3.5       916\n",
       "1.5       839\n",
       "5.0       803\n",
       "4.5       686\n",
       "6.0       320\n",
       "5.5       224\n",
       "0.0       119\n",
       "7.0        88\n",
       "8.0        53\n",
       "6.5        47\n",
       "7.5        16\n",
       "9.0        13\n",
       "10.0        5\n",
       "11.0        3\n",
       "8.5         3\n",
       "18.0        1\n",
       "13.0        1\n",
       "Name: bathroomcnt, dtype: int64"
      ]
     },
     "execution_count": 62,
     "metadata": {},
     "output_type": "execute_result"
    }
   ],
   "source": [
    "properties.bathroomcnt.value_counts()"
   ]
  },
  {
   "cell_type": "markdown",
   "id": "6438e3bd-e23e-4cb2-b152-d2db6894f894",
   "metadata": {},
   "source": [
    "We will cast bedroomcnt to int type."
   ]
  },
  {
   "cell_type": "code",
   "execution_count": 63,
   "id": "6b2ea464-3ec4-4d1d-8f12-1b1c4031490e",
   "metadata": {},
   "outputs": [],
   "source": [
    "properties.bedroomcnt = properties.bedroomcnt.astype('int')"
   ]
  },
  {
   "cell_type": "code",
   "execution_count": 64,
   "id": "fae4a2f7-7124-4094-9e20-af0f3794d41c",
   "metadata": {},
   "outputs": [
    {
     "name": "stdout",
     "output_type": "stream",
     "text": [
      "<class 'pandas.core.frame.DataFrame'>\n",
      "Int64Index: 52319 entries, 0 to 52440\n",
      "Data columns (total 11 columns):\n",
      " #   Column                        Non-Null Count  Dtype  \n",
      "---  ------                        --------------  -----  \n",
      " 0   bedroomcnt                    52319 non-null  int64  \n",
      " 1   bathroomcnt                   52319 non-null  float64\n",
      " 2   calculatedfinishedsquarefeet  52319 non-null  float64\n",
      " 3   taxvaluedollarcnt             52319 non-null  float64\n",
      " 4   yearbuilt                     52319 non-null  float64\n",
      " 5   fips                          52319 non-null  float64\n",
      " 6   fireplacecnt                  52319 non-null  int64  \n",
      " 7   hashottuborspa                52319 non-null  int64  \n",
      " 8   poolcnt                       52319 non-null  int64  \n",
      " 9   buildingqualitytypeid         52319 non-null  float64\n",
      " 10  lotsizesquarefeet             52319 non-null  float64\n",
      "dtypes: float64(7), int64(4)\n",
      "memory usage: 4.8 MB\n"
     ]
    }
   ],
   "source": [
    "# Let's make sure it worked.\n",
    "properties.info()"
   ]
  },
  {
   "cell_type": "markdown",
   "id": "b2b8d1a2-e990-4c50-9c64-e24e964ab253",
   "metadata": {},
   "source": [
    "Everything looks good."
   ]
  },
  {
   "cell_type": "markdown",
   "id": "d139b278-98af-4bbb-8530-bf17b6af845d",
   "metadata": {},
   "source": [
    "---\n",
    "\n",
    "## Feature Engineering\n",
    "\n",
    "The fips column should probably be categorical so we will modify this column to be categorical and create dummy columns for it. There may be value in turning the yearbuilt column into an property_age column instead so we will do this."
   ]
  },
  {
   "cell_type": "code",
   "execution_count": 65,
   "id": "81a1a946-9c0e-4b67-9ec9-88ab6a3f1836",
   "metadata": {},
   "outputs": [
    {
     "data": {
      "text/plain": [
       "6037    33824\n",
       "6059    14110\n",
       "6111     4385\n",
       "Name: fips, dtype: int64"
      ]
     },
     "execution_count": 65,
     "metadata": {},
     "output_type": "execute_result"
    }
   ],
   "source": [
    "# We first cast to int to remove the decimal then to object so we can encode the unique values in this column\n",
    "properties.fips = properties.fips.astype('int')\n",
    "properties.fips = properties.fips.astype('object')\n",
    "properties.fips.value_counts()"
   ]
  },
  {
   "cell_type": "code",
   "execution_count": 66,
   "id": "e0110713-d001-4043-a49c-735e51a55ad8",
   "metadata": {},
   "outputs": [
    {
     "name": "stdout",
     "output_type": "stream",
     "text": [
      "<class 'pandas.core.frame.DataFrame'>\n",
      "Int64Index: 52319 entries, 0 to 52440\n",
      "Data columns (total 13 columns):\n",
      " #   Column                        Non-Null Count  Dtype  \n",
      "---  ------                        --------------  -----  \n",
      " 0   bedroomcnt                    52319 non-null  int64  \n",
      " 1   bathroomcnt                   52319 non-null  float64\n",
      " 2   calculatedfinishedsquarefeet  52319 non-null  float64\n",
      " 3   taxvaluedollarcnt             52319 non-null  float64\n",
      " 4   yearbuilt                     52319 non-null  float64\n",
      " 5   fireplacecnt                  52319 non-null  int64  \n",
      " 6   hashottuborspa                52319 non-null  int64  \n",
      " 7   poolcnt                       52319 non-null  int64  \n",
      " 8   buildingqualitytypeid         52319 non-null  float64\n",
      " 9   lotsizesquarefeet             52319 non-null  float64\n",
      " 10  fips_6037                     52319 non-null  uint8  \n",
      " 11  fips_6059                     52319 non-null  uint8  \n",
      " 12  fips_6111                     52319 non-null  uint8  \n",
      "dtypes: float64(6), int64(4), uint8(3)\n",
      "memory usage: 4.5 MB\n"
     ]
    }
   ],
   "source": [
    "properties = pd.get_dummies(properties, columns = ['fips'])\n",
    "properties.info()"
   ]
  },
  {
   "cell_type": "code",
   "execution_count": 70,
   "id": "969307ce-3c39-4e32-af19-7b7917bd4c9e",
   "metadata": {},
   "outputs": [
    {
     "name": "stdout",
     "output_type": "stream",
     "text": [
      "<class 'pandas.core.frame.DataFrame'>\n",
      "Int64Index: 52319 entries, 0 to 52440\n",
      "Data columns (total 13 columns):\n",
      " #   Column                        Non-Null Count  Dtype  \n",
      "---  ------                        --------------  -----  \n",
      " 0   bedroomcnt                    52319 non-null  int64  \n",
      " 1   bathroomcnt                   52319 non-null  float64\n",
      " 2   calculatedfinishedsquarefeet  52319 non-null  float64\n",
      " 3   taxvaluedollarcnt             52319 non-null  float64\n",
      " 4   fireplacecnt                  52319 non-null  int64  \n",
      " 5   hashottuborspa                52319 non-null  int64  \n",
      " 6   poolcnt                       52319 non-null  int64  \n",
      " 7   buildingqualitytypeid         52319 non-null  float64\n",
      " 8   lotsizesquarefeet             52319 non-null  float64\n",
      " 9   fips_6037                     52319 non-null  uint8  \n",
      " 10  fips_6059                     52319 non-null  uint8  \n",
      " 11  fips_6111                     52319 non-null  uint8  \n",
      " 12  property_age                  52319 non-null  float64\n",
      "dtypes: float64(6), int64(4), uint8(3)\n",
      "memory usage: 4.5 MB\n"
     ]
    }
   ],
   "source": [
    "# The maximum yearbuilt is 2017 so we will treat properties built this year as having 0 age.\n",
    "# We can also drop yearbuilt\n",
    "properties['property_age'] = 2017 - properties.yearbuilt\n",
    "properties = properties.drop(columns = 'yearbuilt')\n",
    "properties.info()"
   ]
  },
  {
   "cell_type": "markdown",
   "id": "d340bb47-367c-4d98-85c7-5fd7bfcea75e",
   "metadata": {},
   "source": [
    "---\n",
    "\n",
    "## Rename Columns\n",
    "\n",
    "Finally, let's rename these columns so that they will be more readable."
   ]
  },
  {
   "cell_type": "code",
   "execution_count": 71,
   "id": "bbd4ff01-8e2d-41a6-981e-8885db57cb2c",
   "metadata": {},
   "outputs": [
    {
     "name": "stdout",
     "output_type": "stream",
     "text": [
      "<class 'pandas.core.frame.DataFrame'>\n",
      "Int64Index: 52319 entries, 0 to 52440\n",
      "Data columns (total 13 columns):\n",
      " #   Column                        Non-Null Count  Dtype  \n",
      "---  ------                        --------------  -----  \n",
      " 0   bedroom_count                 52319 non-null  int64  \n",
      " 1   bathroom_count                52319 non-null  float64\n",
      " 2   square_feet                   52319 non-null  float64\n",
      " 3   property_tax_assessed_values  52319 non-null  float64\n",
      " 4   fireplace_count               52319 non-null  int64  \n",
      " 5   has_hot_tub                   52319 non-null  int64  \n",
      " 6   has_pool                      52319 non-null  int64  \n",
      " 7   building_quality              52319 non-null  float64\n",
      " 8   lot_size                      52319 non-null  float64\n",
      " 9   fed_code_6037                 52319 non-null  uint8  \n",
      " 10  fed_code_6059                 52319 non-null  uint8  \n",
      " 11  fed_code_6111                 52319 non-null  uint8  \n",
      " 12  property_age                  52319 non-null  float64\n",
      "dtypes: float64(6), int64(4), uint8(3)\n",
      "memory usage: 4.5 MB\n"
     ]
    }
   ],
   "source": [
    "properties = properties.rename(columns = {\n",
    "    'bedroomcnt' : 'bedroom_count',\n",
    "    'bathroomcnt' : 'bathroom_count',\n",
    "    'calculatedfinishedsquarefeet' : 'square_feet',\n",
    "    'taxvaluedollarcnt' : 'property_tax_assessed_values',\n",
    "    'fireplacecnt' : 'fireplace_count',\n",
    "    'hashottuborspa' : 'has_hot_tub',\n",
    "    'poolcnt' : 'has_pool',\n",
    "    'buildingqualitytypeid' : 'building_quality',\n",
    "    'lotsizesquarefeet' : 'lot_size',\n",
    "    'fips_6037' : 'fed_code_6037',\n",
    "    'fips_6059' : 'fed_code_6059',\n",
    "    'fips_6111' : 'fed_code_6111'\n",
    "})\n",
    "properties.info()"
   ]
  },
  {
   "cell_type": "markdown",
   "id": "5e7f62ae-62cb-4fd0-835e-71cad607c581",
   "metadata": {},
   "source": [
    "## Put it all in a function\n",
    "\n",
    "Now let's throw everything into a prepare function."
   ]
  },
  {
   "cell_type": "code",
   "execution_count": 72,
   "id": "ef9573a7-767b-48cd-b044-65e312e86d96",
   "metadata": {},
   "outputs": [],
   "source": [
    "def prepare_zillow_data(df: pd.core.frame.DataFrame) -> pd.core.frame.DataFrame:\n",
    "    '''\n",
    "        Returns a prepared zillow dataset with all missing values handled.\n",
    "        \n",
    "        Parameters\n",
    "        ----------\n",
    "        df: DataFrame\n",
    "            A pandas dataframe containing the unprepared zillow dataset.\n",
    "        \n",
    "        Returns\n",
    "        -------\n",
    "        DataFrame: A pandas dataframe containing the prepared zillow dataset.\n",
    "    '''\n",
    "    \n",
    "    missing_target = df.taxvaluedollarcnt.isnull()\n",
    "    df = df[~missing_target]\n",
    "    \n",
    "    avg_square_feet = df.calculatedfinishedsquarefeet.mean()\n",
    "    df.calculatedfinishedsquarefeet.fillna(avg_square_feet, inplace = True)\n",
    "    \n",
    "    df.yearbuilt.fillna(df.yearbuilt.mode()[0], inplace = True)\n",
    "    df.fireplacecnt.fillna(0, inplace = True)\n",
    "    df.hashottuborspa.fillna(0, inplace = True)\n",
    "    df.poolcnt.fillna(0, inplace = True)\n",
    "    \n",
    "    median_quality = df.buildingqualitytypeid.median()\n",
    "    df.buildingqualitytypeid.fillna(median_quality, inplace = True)\n",
    "    \n",
    "    median_lotsize = df.lotsizesquarefeet.median()\n",
    "    df.lotsizesquarefeet.fillna(median_lotsize, inplace = True)\n",
    "    \n",
    "    df = df.drop(columns = 'parcelid')\n",
    "    df = df.drop(columns = 'numberofstories')\n",
    "    df = df.drop(columns = 'basementsqft')\n",
    "    df = df.drop(columns = 'heatingorsystemdesc')\n",
    "    df = df.drop(columns = 'airconditioningdesc')\n",
    "    df = df.drop(columns = 'garagetotalsqft')\n",
    "    df = df.drop(columns = 'poolsizesum')\n",
    "    df = df.drop(columns = 'yardbuildingsqft17')\n",
    "    df = df.drop(columns = 'roomcnt')\n",
    "    df = df.drop(columns = 'finishedfloor1squarefeet')\n",
    "    df = df.drop(columns = 'finishedsquarefeet15')\n",
    "    \n",
    "    df.bedroomcnt = df.bedroomcnt.astype('int')\n",
    "    df.fireplacecnt = df.fireplacecnt.astype('int')\n",
    "    df.hashottuborspa = df.hashottuborspa.astype('int')\n",
    "    df.poolcnt = df.poolcnt.astype('int')\n",
    "    \n",
    "    df.fips = df.fips.astype('int')\n",
    "    df.fips = df.fips.astype('object')\n",
    "    df = pd.get_dummies(df, columns = ['fips'])\n",
    "    \n",
    "    df['property_age'] = 2017 - df.yearbuilt\n",
    "    df = df.drop(columns = 'yearbuilt')\n",
    "\n",
    "    # Rename the columns for readability\n",
    "    df = df.rename(columns = {\n",
    "        'bedroomcnt' : 'bedroom_count',\n",
    "        'bathroomcnt' : 'bathroom_count',\n",
    "        'calculatedfinishedsquarefeet' : 'square_feet',\n",
    "        'taxvaluedollarcnt' : 'property_tax_assessed_values',\n",
    "        'fireplacecnt' : 'fireplace_count',\n",
    "        'hashottuborspa' : 'has_hot_tub',\n",
    "        'poolcnt' : 'has_pool',\n",
    "        'buildingqualitytypeid' : 'building_quality',\n",
    "        'lotsizesquarefeet' : 'lot_size',\n",
    "        'fips_6037' : 'fed_code_6037',\n",
    "        'fips_6059' : 'fed_code_6059',\n",
    "        'fips_6111' : 'fed_code_6111'\n",
    "    })\n",
    "    \n",
    "    return df"
   ]
  },
  {
   "cell_type": "markdown",
   "id": "39caaba6-9bca-4215-aa63-e924349e9967",
   "metadata": {},
   "source": [
    "Let's test it."
   ]
  },
  {
   "cell_type": "code",
   "execution_count": 73,
   "id": "fd5a4cc8-c8af-4c07-a144-55c5f1318cd5",
   "metadata": {},
   "outputs": [
    {
     "name": "stdout",
     "output_type": "stream",
     "text": [
      "Using cache\n",
      "<class 'pandas.core.frame.DataFrame'>\n",
      "Int64Index: 52440 entries, 0 to 52440\n",
      "Data columns (total 13 columns):\n",
      " #   Column                        Non-Null Count  Dtype  \n",
      "---  ------                        --------------  -----  \n",
      " 0   bedroom_count                 52440 non-null  int64  \n",
      " 1   bathroom_count                52440 non-null  float64\n",
      " 2   square_feet                   52440 non-null  float64\n",
      " 3   property_tax_assessed_values  52440 non-null  float64\n",
      " 4   fireplace_count               52440 non-null  int64  \n",
      " 5   has_hot_tub                   52440 non-null  int64  \n",
      " 6   has_pool                      52440 non-null  int64  \n",
      " 7   building_quality              52440 non-null  float64\n",
      " 8   lot_size                      52440 non-null  float64\n",
      " 9   fed_code_6037                 52440 non-null  uint8  \n",
      " 10  fed_code_6059                 52440 non-null  uint8  \n",
      " 11  fed_code_6111                 52440 non-null  uint8  \n",
      " 12  property_age                  52440 non-null  float64\n",
      "dtypes: float64(6), int64(4), uint8(3)\n",
      "memory usage: 4.6 MB\n"
     ]
    },
    {
     "name": "stderr",
     "output_type": "stream",
     "text": [
      "/usr/local/anaconda3/lib/python3.9/site-packages/pandas/core/generic.py:6392: SettingWithCopyWarning: \n",
      "A value is trying to be set on a copy of a slice from a DataFrame\n",
      "\n",
      "See the caveats in the documentation: https://pandas.pydata.org/pandas-docs/stable/user_guide/indexing.html#returning-a-view-versus-a-copy\n",
      "  return self._update_inplace(result)\n"
     ]
    }
   ],
   "source": [
    "prepare_zillow_data(get_zillow_data()).info()"
   ]
  },
  {
   "cell_type": "markdown",
   "id": "219e9d54-7e35-4c07-9c9e-049adeb73e27",
   "metadata": {},
   "source": [
    "---\n",
    "\n",
    "## Conclusion\n",
    "\n",
    "Now we can easily clean our dataset so that it will be ready for exploratory analysis and modeling. If time permits we can come back and try keeping the outliers to see how that affects our results."
   ]
  }
 ],
 "metadata": {
  "kernelspec": {
   "display_name": "Python 3 (ipykernel)",
   "language": "python",
   "name": "python3"
  },
  "language_info": {
   "codemirror_mode": {
    "name": "ipython",
    "version": 3
   },
   "file_extension": ".py",
   "mimetype": "text/x-python",
   "name": "python",
   "nbconvert_exporter": "python",
   "pygments_lexer": "ipython3",
   "version": "3.9.7"
  }
 },
 "nbformat": 4,
 "nbformat_minor": 5
}
