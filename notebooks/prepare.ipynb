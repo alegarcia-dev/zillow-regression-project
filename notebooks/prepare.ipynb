{
 "cells": [
  {
   "cell_type": "markdown",
   "id": "f8a3572c-e3b0-42ee-9457-d48570666e8b",
   "metadata": {},
   "source": [
    "# Data Preparation\n",
    "\n",
    "---\n",
    "\n",
    "This notebook outlines the process for preparing the Zillow property data needed for this project. This notebook also demonstrates the steps to create and test the functions in the util/prepare.py file.\n",
    "\n",
    "---"
   ]
  },
  {
   "cell_type": "markdown",
   "id": "97184210-7c15-4151-bca2-433b88d90950",
   "metadata": {},
   "source": [
    "## Importing the Required Modules\n",
    "\n",
    "Below we import all the modules needed to run this notebook. Note that you will need the univariate_analysis.py file located in the notebooks directory in order to run some of the code blocks in this notebook."
   ]
  },
  {
   "cell_type": "code",
   "execution_count": 1,
   "id": "adb8c0a7-4a42-4db9-8b4f-608ccfdefbe2",
   "metadata": {},
   "outputs": [],
   "source": [
    "import os\n",
    "import numpy as np\n",
    "import pandas as pd\n",
    "import matplotlib.pyplot as plt\n",
    "import seaborn as sns\n",
    "\n",
    "from univariate_analysis import get_hist, get_box\n",
    "\n",
    "from env import username, password, hostname"
   ]
  },
  {
   "cell_type": "markdown",
   "id": "753a64a3-0122-493e-bc9a-1d11a1d10609",
   "metadata": {},
   "source": [
    "---\n",
    "\n",
    "## Acquire Data\n",
    "\n",
    "Here we define all our acquisition functions created in the acquire notebook."
   ]
  },
  {
   "cell_type": "code",
   "execution_count": 2,
   "id": "ad957eea-494c-4f19-9a80-fac9f6afdfbd",
   "metadata": {},
   "outputs": [],
   "source": [
    "def get_db_url(database_name, username = username, password = password, hostname = hostname):\n",
    "    return f'mysql+pymysql://{username}:{password}@{hostname}/{database_name}'\n",
    "\n",
    "def get_zillow_sql():\n",
    "    return \"\"\"\n",
    "        SELECT\n",
    "            bedroomcnt,\n",
    "            bathroomcnt,\n",
    "            calculatedfinishedsquarefeet,\n",
    "            taxvaluedollarcnt,\n",
    "            yearbuilt,\n",
    "            fips,\n",
    "            numberofstories,\n",
    "            basementsqft,\n",
    "            fireplacecnt,\n",
    "            heatingorsystemdesc,\n",
    "            roomcnt,\n",
    "            garagetotalsqft,\n",
    "            hashottuborspa,\n",
    "            poolcnt,\n",
    "            poolsizesum,\n",
    "            yardbuildingsqft17\n",
    "        FROM properties_2017\n",
    "        JOIN propertylandusetype\n",
    "            ON propertylandusetype.propertylandusetypeid = properties_2017.propertylandusetypeid\n",
    "            AND (propertylandusetype.propertylandusedesc IN ('Single Family Residential', 'Inferred Single Family Residential'))\n",
    "        LEFT JOIN heatingorsystemtype USING (heatingorsystemtypeid);\n",
    "        \"\"\"\n",
    "\n",
    "def get_zillow_data(use_cache = True):\n",
    "    # If the file is cached, read from the .csv file\n",
    "    if os.path.exists('zillow.csv') and use_cache:\n",
    "        print('Using cache')\n",
    "        return pd.read_csv('zillow.csv')\n",
    "    \n",
    "    # Otherwise read from the mysql database\n",
    "    else:\n",
    "        print('Reading from database')\n",
    "        df = pd.read_sql(get_zillow_sql(), get_db_url('zillow'))\n",
    "        df.to_csv('zillow.csv', index = False)\n",
    "        return df"
   ]
  },
  {
   "cell_type": "code",
   "execution_count": 3,
   "id": "98c47779-371e-4607-82fb-a93ad4f5da1e",
   "metadata": {},
   "outputs": [
    {
     "name": "stdout",
     "output_type": "stream",
     "text": [
      "Reading from database\n"
     ]
    }
   ],
   "source": [
    "# Now we can load our dataset.\n",
    "properties = get_zillow_data()"
   ]
  },
  {
   "cell_type": "markdown",
   "id": "b82c32eb-3464-444b-8db3-253e4cdad3a2",
   "metadata": {},
   "source": [
    "---\n",
    "\n",
    "## Initial Analysis (Looking for Unusual Values and Outliers)\n",
    "\n",
    "We will start by getting an overview of our data and determining whether or not there exist unusual values or outliers that may affect our results."
   ]
  },
  {
   "cell_type": "code",
   "execution_count": 4,
   "id": "6cc423a8-eb22-480d-8662-4ffbf97ad3bc",
   "metadata": {},
   "outputs": [
    {
     "data": {
      "text/plain": [
       "(2152864, 17)"
      ]
     },
     "execution_count": 4,
     "metadata": {},
     "output_type": "execute_result"
    }
   ],
   "source": [
    "properties.shape"
   ]
  },
  {
   "cell_type": "code",
   "execution_count": 5,
   "id": "7eec4893-e835-4870-85a3-9fd6ec71e16b",
   "metadata": {},
   "outputs": [
    {
     "data": {
      "text/html": [
       "<div>\n",
       "<style scoped>\n",
       "    .dataframe tbody tr th:only-of-type {\n",
       "        vertical-align: middle;\n",
       "    }\n",
       "\n",
       "    .dataframe tbody tr th {\n",
       "        vertical-align: top;\n",
       "    }\n",
       "\n",
       "    .dataframe thead th {\n",
       "        text-align: right;\n",
       "    }\n",
       "</style>\n",
       "<table border=\"1\" class=\"dataframe\">\n",
       "  <thead>\n",
       "    <tr style=\"text-align: right;\">\n",
       "      <th></th>\n",
       "      <th>count</th>\n",
       "      <th>mean</th>\n",
       "      <th>std</th>\n",
       "      <th>min</th>\n",
       "      <th>25%</th>\n",
       "      <th>50%</th>\n",
       "      <th>75%</th>\n",
       "      <th>max</th>\n",
       "    </tr>\n",
       "  </thead>\n",
       "  <tbody>\n",
       "    <tr>\n",
       "      <th>bedroomcnt</th>\n",
       "      <td>2152853.0</td>\n",
       "      <td>3.287195</td>\n",
       "      <td>0.954757</td>\n",
       "      <td>0.0</td>\n",
       "      <td>3.00</td>\n",
       "      <td>3.0</td>\n",
       "      <td>4.0</td>\n",
       "      <td>25.0</td>\n",
       "    </tr>\n",
       "    <tr>\n",
       "      <th>bathroomcnt</th>\n",
       "      <td>2152853.0</td>\n",
       "      <td>2.230687</td>\n",
       "      <td>0.999281</td>\n",
       "      <td>0.0</td>\n",
       "      <td>2.00</td>\n",
       "      <td>2.0</td>\n",
       "      <td>3.0</td>\n",
       "      <td>32.0</td>\n",
       "    </tr>\n",
       "    <tr>\n",
       "      <th>calculatedfinishedsquarefeet</th>\n",
       "      <td>2144379.0</td>\n",
       "      <td>1862.855178</td>\n",
       "      <td>1222.125124</td>\n",
       "      <td>1.0</td>\n",
       "      <td>1257.00</td>\n",
       "      <td>1623.0</td>\n",
       "      <td>2208.0</td>\n",
       "      <td>952576.0</td>\n",
       "    </tr>\n",
       "    <tr>\n",
       "      <th>taxvaluedollarcnt</th>\n",
       "      <td>2152371.0</td>\n",
       "      <td>461896.052361</td>\n",
       "      <td>699675.940049</td>\n",
       "      <td>1.0</td>\n",
       "      <td>188170.00</td>\n",
       "      <td>327671.0</td>\n",
       "      <td>534527.0</td>\n",
       "      <td>98428909.0</td>\n",
       "    </tr>\n",
       "    <tr>\n",
       "      <th>yearbuilt</th>\n",
       "      <td>2143526.0</td>\n",
       "      <td>1960.949681</td>\n",
       "      <td>22.162196</td>\n",
       "      <td>1801.0</td>\n",
       "      <td>1949.00</td>\n",
       "      <td>1958.0</td>\n",
       "      <td>1976.0</td>\n",
       "      <td>2016.0</td>\n",
       "    </tr>\n",
       "    <tr>\n",
       "      <th>fips</th>\n",
       "      <td>2152864.0</td>\n",
       "      <td>6048.377330</td>\n",
       "      <td>20.433289</td>\n",
       "      <td>6037.0</td>\n",
       "      <td>6037.00</td>\n",
       "      <td>6037.0</td>\n",
       "      <td>6059.0</td>\n",
       "      <td>6111.0</td>\n",
       "    </tr>\n",
       "    <tr>\n",
       "      <th>numberofstories</th>\n",
       "      <td>590839.0</td>\n",
       "      <td>1.386009</td>\n",
       "      <td>0.537773</td>\n",
       "      <td>1.0</td>\n",
       "      <td>1.00</td>\n",
       "      <td>1.0</td>\n",
       "      <td>2.0</td>\n",
       "      <td>41.0</td>\n",
       "    </tr>\n",
       "    <tr>\n",
       "      <th>basementsqft</th>\n",
       "      <td>1538.0</td>\n",
       "      <td>651.190507</td>\n",
       "      <td>552.078809</td>\n",
       "      <td>20.0</td>\n",
       "      <td>261.75</td>\n",
       "      <td>519.5</td>\n",
       "      <td>889.5</td>\n",
       "      <td>8516.0</td>\n",
       "    </tr>\n",
       "    <tr>\n",
       "      <th>fireplacecnt</th>\n",
       "      <td>287596.0</td>\n",
       "      <td>1.178726</td>\n",
       "      <td>0.474376</td>\n",
       "      <td>1.0</td>\n",
       "      <td>1.00</td>\n",
       "      <td>1.0</td>\n",
       "      <td>1.0</td>\n",
       "      <td>9.0</td>\n",
       "    </tr>\n",
       "    <tr>\n",
       "      <th>roomcnt</th>\n",
       "      <td>2152847.0</td>\n",
       "      <td>1.864986</td>\n",
       "      <td>3.122051</td>\n",
       "      <td>0.0</td>\n",
       "      <td>0.00</td>\n",
       "      <td>0.0</td>\n",
       "      <td>5.0</td>\n",
       "      <td>96.0</td>\n",
       "    </tr>\n",
       "    <tr>\n",
       "      <th>garagetotalsqft</th>\n",
       "      <td>698633.0</td>\n",
       "      <td>488.661797</td>\n",
       "      <td>160.501661</td>\n",
       "      <td>0.0</td>\n",
       "      <td>420.00</td>\n",
       "      <td>460.0</td>\n",
       "      <td>538.0</td>\n",
       "      <td>7749.0</td>\n",
       "    </tr>\n",
       "    <tr>\n",
       "      <th>hashottuborspa</th>\n",
       "      <td>49332.0</td>\n",
       "      <td>1.000000</td>\n",
       "      <td>0.000000</td>\n",
       "      <td>1.0</td>\n",
       "      <td>1.00</td>\n",
       "      <td>1.0</td>\n",
       "      <td>1.0</td>\n",
       "      <td>1.0</td>\n",
       "    </tr>\n",
       "    <tr>\n",
       "      <th>poolcnt</th>\n",
       "      <td>413233.0</td>\n",
       "      <td>1.000000</td>\n",
       "      <td>0.000000</td>\n",
       "      <td>1.0</td>\n",
       "      <td>1.00</td>\n",
       "      <td>1.0</td>\n",
       "      <td>1.0</td>\n",
       "      <td>1.0</td>\n",
       "    </tr>\n",
       "    <tr>\n",
       "      <th>poolsizesum</th>\n",
       "      <td>27858.0</td>\n",
       "      <td>520.092828</td>\n",
       "      <td>191.321138</td>\n",
       "      <td>19.0</td>\n",
       "      <td>431.00</td>\n",
       "      <td>496.0</td>\n",
       "      <td>595.0</td>\n",
       "      <td>17410.0</td>\n",
       "    </tr>\n",
       "    <tr>\n",
       "      <th>yardbuildingsqft17</th>\n",
       "      <td>71452.0</td>\n",
       "      <td>341.447937</td>\n",
       "      <td>237.796545</td>\n",
       "      <td>10.0</td>\n",
       "      <td>200.00</td>\n",
       "      <td>288.0</td>\n",
       "      <td>405.0</td>\n",
       "      <td>7983.0</td>\n",
       "    </tr>\n",
       "  </tbody>\n",
       "</table>\n",
       "</div>"
      ],
      "text/plain": [
       "                                  count           mean            std     min  \\\n",
       "bedroomcnt                    2152853.0       3.287195       0.954757     0.0   \n",
       "bathroomcnt                   2152853.0       2.230687       0.999281     0.0   \n",
       "calculatedfinishedsquarefeet  2144379.0    1862.855178    1222.125124     1.0   \n",
       "taxvaluedollarcnt             2152371.0  461896.052361  699675.940049     1.0   \n",
       "yearbuilt                     2143526.0    1960.949681      22.162196  1801.0   \n",
       "fips                          2152864.0    6048.377330      20.433289  6037.0   \n",
       "numberofstories                590839.0       1.386009       0.537773     1.0   \n",
       "basementsqft                     1538.0     651.190507     552.078809    20.0   \n",
       "fireplacecnt                   287596.0       1.178726       0.474376     1.0   \n",
       "roomcnt                       2152847.0       1.864986       3.122051     0.0   \n",
       "garagetotalsqft                698633.0     488.661797     160.501661     0.0   \n",
       "hashottuborspa                  49332.0       1.000000       0.000000     1.0   \n",
       "poolcnt                        413233.0       1.000000       0.000000     1.0   \n",
       "poolsizesum                     27858.0     520.092828     191.321138    19.0   \n",
       "yardbuildingsqft17              71452.0     341.447937     237.796545    10.0   \n",
       "\n",
       "                                    25%       50%       75%         max  \n",
       "bedroomcnt                         3.00       3.0       4.0        25.0  \n",
       "bathroomcnt                        2.00       2.0       3.0        32.0  \n",
       "calculatedfinishedsquarefeet    1257.00    1623.0    2208.0    952576.0  \n",
       "taxvaluedollarcnt             188170.00  327671.0  534527.0  98428909.0  \n",
       "yearbuilt                       1949.00    1958.0    1976.0      2016.0  \n",
       "fips                            6037.00    6037.0    6059.0      6111.0  \n",
       "numberofstories                    1.00       1.0       2.0        41.0  \n",
       "basementsqft                     261.75     519.5     889.5      8516.0  \n",
       "fireplacecnt                       1.00       1.0       1.0         9.0  \n",
       "roomcnt                            0.00       0.0       5.0        96.0  \n",
       "garagetotalsqft                  420.00     460.0     538.0      7749.0  \n",
       "hashottuborspa                     1.00       1.0       1.0         1.0  \n",
       "poolcnt                            1.00       1.0       1.0         1.0  \n",
       "poolsizesum                      431.00     496.0     595.0     17410.0  \n",
       "yardbuildingsqft17               200.00     288.0     405.0      7983.0  "
      ]
     },
     "execution_count": 5,
     "metadata": {},
     "output_type": "execute_result"
    }
   ],
   "source": [
    "properties.describe().T"
   ]
  },
  {
   "cell_type": "markdown",
   "id": "3c1dd4fd-a900-4987-9839-dd93c2ea2f2d",
   "metadata": {},
   "source": [
    "**Takeaways**\n",
    "- bedroomcnt and bathroomcnt both have minimum values of 0 which might make sense for a studio apartment, but it does seem unusual.\n",
    "- calculatedfinishedsquarefeet has a minimum value of 1 which doesn't seem right.\n",
    "- roomcnt has a minimum value of 0 which is unusual.\n",
    "\n",
    "Now let's look at histograms and boxplots of our features to determine if there are any outliers."
   ]
  },
  {
   "cell_type": "code",
   "execution_count": 6,
   "id": "76903e34-b8d1-4b6b-a0ed-a9dc1f001290",
   "metadata": {},
   "outputs": [
    {
     "data": {
      "image/png": "[encoded data removed]",
      "text/plain": [
       "<Figure size 1008x1296 with 18 Axes>"
      ]
     },
     "metadata": {
      "needs_background": "light"
     },
     "output_type": "display_data"
    }
   ],
   "source": [
    "get_hist(properties, properties.columns)"
   ]
  },
  {
   "cell_type": "markdown",
   "id": "aabebd97-97f4-4206-9853-6dacfb9e0b91",
   "metadata": {},
   "source": [
    "All the following columns possibly have outliers:\n",
    "- bedroomcnt\n",
    "- bathroomcnt\n",
    "- calculatedfinishedsquarefeet\n",
    "- numberofstories\n",
    "- basementsqft\n",
    "- fireplacecnt\n",
    "- roomcnt\n",
    "- garagetotalsqft\n",
    "- poolsizesum\n",
    "- yardbuildingsqft17"
   ]
  },
  {
   "cell_type": "code",
   "execution_count": 7,
   "id": "87ead956-c7c1-464f-8246-a28d45513eea",
   "metadata": {},
   "outputs": [
    {
     "data": {
      "image/png": "[encoded data removed]",
      "text/plain": [
       "<Figure size 1008x1296 with 18 Axes>"
      ]
     },
     "metadata": {
      "needs_background": "light"
     },
     "output_type": "display_data"
    }
   ],
   "source": [
    "get_box(properties, properties.select_dtypes('number').columns)"
   ]
  },
  {
   "cell_type": "markdown",
   "id": "e16195f1-2caf-4296-8c0e-e299a25059af",
   "metadata": {},
   "source": [
    "Outliers here match previously identified, plus yearbuilt has outliers.\n",
    "\n",
    "The columns with the most pronounced outliers are:\n",
    "- calculatedfinishedsquarefeet\n",
    "- bedroomcnt\n",
    "- bathroomcnt\n",
    "- garagetotalsqft\n",
    "\n",
    "taxvaluedollarcnt also has a large number of outliers, but since this is our target variable we'll leave it alone.\n",
    "\n",
    "Now we will remove outliers from the dataset."
   ]
  },
  {
   "cell_type": "code",
   "execution_count": 21,
   "id": "7a9fdb0d-a705-4ddb-b956-ec266b65faa2",
   "metadata": {},
   "outputs": [],
   "source": [
    "# Remove outliers\n",
    "\n",
    "def remove_outliers(df, k, col_list):    \n",
    "    for col in col_list:\n",
    "        q1, q3 = df[col].quantile([.25, .75])  # get quartiles\n",
    "        \n",
    "        iqr = q3 - q1   # calculate interquartile range\n",
    "        \n",
    "        upper_bound = q3 + k * iqr   # get upper bound\n",
    "        lower_bound = q1 - k * iqr   # get lower bound\n",
    "\n",
    "        # return dataframe without outliers\n",
    "        df = df[(df[col] > lower_bound) & (df[col] < upper_bound)]\n",
    "        \n",
    "    return df\n",
    "\n",
    "# Must remove outliers only from columns where the values don't make sense otherwise we\n",
    "# lose almost all our data.\n",
    "\n",
    "columns = [\n",
    "    'calculatedfinishedsquarefeet',\n",
    "    'bedroomcnt',\n",
    "    'bathroomcnt',\n",
    "    'garagetotalsqft'\n",
    "]\n",
    "\n",
    "properties = remove_outliers(properties, 1.5, columns)"
   ]
  },
  {
   "cell_type": "markdown",
   "id": "2bf1e6fe-6e14-4a55-8f15-0f4103c8cfb1",
   "metadata": {},
   "source": [
    "With outliers removed let's now take a look at our data again to see if the unusual values were also removed."
   ]
  },
  {
   "cell_type": "code",
   "execution_count": 22,
   "id": "782f2957-45ce-4a7d-90a9-7b097106245d",
   "metadata": {},
   "outputs": [
    {
     "data": {
      "text/html": [
       "<div>\n",
       "<style scoped>\n",
       "    .dataframe tbody tr th:only-of-type {\n",
       "        vertical-align: middle;\n",
       "    }\n",
       "\n",
       "    .dataframe tbody tr th {\n",
       "        vertical-align: top;\n",
       "    }\n",
       "\n",
       "    .dataframe thead th {\n",
       "        text-align: right;\n",
       "    }\n",
       "</style>\n",
       "<table border=\"1\" class=\"dataframe\">\n",
       "  <thead>\n",
       "    <tr style=\"text-align: right;\">\n",
       "      <th></th>\n",
       "      <th>count</th>\n",
       "      <th>mean</th>\n",
       "      <th>std</th>\n",
       "      <th>min</th>\n",
       "      <th>25%</th>\n",
       "      <th>50%</th>\n",
       "      <th>75%</th>\n",
       "      <th>max</th>\n",
       "    </tr>\n",
       "  </thead>\n",
       "  <tbody>\n",
       "    <tr>\n",
       "      <th>bedroomcnt</th>\n",
       "      <td>502774.0</td>\n",
       "      <td>3.461382</td>\n",
       "      <td>0.693676</td>\n",
       "      <td>2.0</td>\n",
       "      <td>3.0</td>\n",
       "      <td>3.0</td>\n",
       "      <td>4.0</td>\n",
       "      <td>5.0</td>\n",
       "    </tr>\n",
       "    <tr>\n",
       "      <th>bathroomcnt</th>\n",
       "      <td>502774.0</td>\n",
       "      <td>2.286806</td>\n",
       "      <td>0.426491</td>\n",
       "      <td>1.5</td>\n",
       "      <td>2.0</td>\n",
       "      <td>2.0</td>\n",
       "      <td>2.5</td>\n",
       "      <td>3.0</td>\n",
       "    </tr>\n",
       "    <tr>\n",
       "      <th>calculatedfinishedsquarefeet</th>\n",
       "      <td>502774.0</td>\n",
       "      <td>1826.594098</td>\n",
       "      <td>511.992113</td>\n",
       "      <td>169.0</td>\n",
       "      <td>1426.0</td>\n",
       "      <td>1736.0</td>\n",
       "      <td>2147.0</td>\n",
       "      <td>3634.0</td>\n",
       "    </tr>\n",
       "    <tr>\n",
       "      <th>taxvaluedollarcnt</th>\n",
       "      <td>502762.0</td>\n",
       "      <td>406814.372170</td>\n",
       "      <td>276762.674397</td>\n",
       "      <td>10000.0</td>\n",
       "      <td>232946.0</td>\n",
       "      <td>368737.0</td>\n",
       "      <td>536000.0</td>\n",
       "      <td>17575461.0</td>\n",
       "    </tr>\n",
       "    <tr>\n",
       "      <th>yearbuilt</th>\n",
       "      <td>502390.0</td>\n",
       "      <td>1971.804371</td>\n",
       "      <td>14.857753</td>\n",
       "      <td>1880.0</td>\n",
       "      <td>1961.0</td>\n",
       "      <td>1969.0</td>\n",
       "      <td>1980.0</td>\n",
       "      <td>2016.0</td>\n",
       "    </tr>\n",
       "    <tr>\n",
       "      <th>fips</th>\n",
       "      <td>502774.0</td>\n",
       "      <td>6070.471619</td>\n",
       "      <td>21.562168</td>\n",
       "      <td>6059.0</td>\n",
       "      <td>6059.0</td>\n",
       "      <td>6059.0</td>\n",
       "      <td>6059.0</td>\n",
       "      <td>6111.0</td>\n",
       "    </tr>\n",
       "    <tr>\n",
       "      <th>numberofstories</th>\n",
       "      <td>429583.0</td>\n",
       "      <td>1.350910</td>\n",
       "      <td>0.523823</td>\n",
       "      <td>1.0</td>\n",
       "      <td>1.0</td>\n",
       "      <td>1.0</td>\n",
       "      <td>2.0</td>\n",
       "      <td>41.0</td>\n",
       "    </tr>\n",
       "    <tr>\n",
       "      <th>basementsqft</th>\n",
       "      <td>505.0</td>\n",
       "      <td>564.275248</td>\n",
       "      <td>376.789052</td>\n",
       "      <td>20.0</td>\n",
       "      <td>252.0</td>\n",
       "      <td>493.0</td>\n",
       "      <td>794.0</td>\n",
       "      <td>1889.0</td>\n",
       "    </tr>\n",
       "    <tr>\n",
       "      <th>fireplacecnt</th>\n",
       "      <td>213730.0</td>\n",
       "      <td>1.092018</td>\n",
       "      <td>0.314643</td>\n",
       "      <td>1.0</td>\n",
       "      <td>1.0</td>\n",
       "      <td>1.0</td>\n",
       "      <td>1.0</td>\n",
       "      <td>7.0</td>\n",
       "    </tr>\n",
       "    <tr>\n",
       "      <th>roomcnt</th>\n",
       "      <td>502774.0</td>\n",
       "      <td>5.795892</td>\n",
       "      <td>2.600429</td>\n",
       "      <td>0.0</td>\n",
       "      <td>6.0</td>\n",
       "      <td>6.0</td>\n",
       "      <td>7.0</td>\n",
       "      <td>86.0</td>\n",
       "    </tr>\n",
       "    <tr>\n",
       "      <th>garagetotalsqft</th>\n",
       "      <td>502774.0</td>\n",
       "      <td>460.813397</td>\n",
       "      <td>60.340013</td>\n",
       "      <td>307.0</td>\n",
       "      <td>424.0</td>\n",
       "      <td>456.0</td>\n",
       "      <td>483.0</td>\n",
       "      <td>622.0</td>\n",
       "    </tr>\n",
       "    <tr>\n",
       "      <th>hashottuborspa</th>\n",
       "      <td>23396.0</td>\n",
       "      <td>1.000000</td>\n",
       "      <td>0.000000</td>\n",
       "      <td>1.0</td>\n",
       "      <td>1.0</td>\n",
       "      <td>1.0</td>\n",
       "      <td>1.0</td>\n",
       "      <td>1.0</td>\n",
       "    </tr>\n",
       "    <tr>\n",
       "      <th>poolcnt</th>\n",
       "      <td>90228.0</td>\n",
       "      <td>1.000000</td>\n",
       "      <td>0.000000</td>\n",
       "      <td>1.0</td>\n",
       "      <td>1.0</td>\n",
       "      <td>1.0</td>\n",
       "      <td>1.0</td>\n",
       "      <td>1.0</td>\n",
       "    </tr>\n",
       "    <tr>\n",
       "      <th>poolsizesum</th>\n",
       "      <td>15425.0</td>\n",
       "      <td>492.395008</td>\n",
       "      <td>192.539340</td>\n",
       "      <td>19.0</td>\n",
       "      <td>418.0</td>\n",
       "      <td>470.0</td>\n",
       "      <td>550.0</td>\n",
       "      <td>17410.0</td>\n",
       "    </tr>\n",
       "    <tr>\n",
       "      <th>yardbuildingsqft17</th>\n",
       "      <td>49330.0</td>\n",
       "      <td>321.959599</td>\n",
       "      <td>194.561929</td>\n",
       "      <td>10.0</td>\n",
       "      <td>200.0</td>\n",
       "      <td>280.0</td>\n",
       "      <td>388.0</td>\n",
       "      <td>5880.0</td>\n",
       "    </tr>\n",
       "  </tbody>\n",
       "</table>\n",
       "</div>"
      ],
      "text/plain": [
       "                                 count           mean            std      min  \\\n",
       "bedroomcnt                    502774.0       3.461382       0.693676      2.0   \n",
       "bathroomcnt                   502774.0       2.286806       0.426491      1.5   \n",
       "calculatedfinishedsquarefeet  502774.0    1826.594098     511.992113    169.0   \n",
       "taxvaluedollarcnt             502762.0  406814.372170  276762.674397  10000.0   \n",
       "yearbuilt                     502390.0    1971.804371      14.857753   1880.0   \n",
       "fips                          502774.0    6070.471619      21.562168   6059.0   \n",
       "numberofstories               429583.0       1.350910       0.523823      1.0   \n",
       "basementsqft                     505.0     564.275248     376.789052     20.0   \n",
       "fireplacecnt                  213730.0       1.092018       0.314643      1.0   \n",
       "roomcnt                       502774.0       5.795892       2.600429      0.0   \n",
       "garagetotalsqft               502774.0     460.813397      60.340013    307.0   \n",
       "hashottuborspa                 23396.0       1.000000       0.000000      1.0   \n",
       "poolcnt                        90228.0       1.000000       0.000000      1.0   \n",
       "poolsizesum                    15425.0     492.395008     192.539340     19.0   \n",
       "yardbuildingsqft17             49330.0     321.959599     194.561929     10.0   \n",
       "\n",
       "                                   25%       50%       75%         max  \n",
       "bedroomcnt                         3.0       3.0       4.0         5.0  \n",
       "bathroomcnt                        2.0       2.0       2.5         3.0  \n",
       "calculatedfinishedsquarefeet    1426.0    1736.0    2147.0      3634.0  \n",
       "taxvaluedollarcnt             232946.0  368737.0  536000.0  17575461.0  \n",
       "yearbuilt                       1961.0    1969.0    1980.0      2016.0  \n",
       "fips                            6059.0    6059.0    6059.0      6111.0  \n",
       "numberofstories                    1.0       1.0       2.0        41.0  \n",
       "basementsqft                     252.0     493.0     794.0      1889.0  \n",
       "fireplacecnt                       1.0       1.0       1.0         7.0  \n",
       "roomcnt                            6.0       6.0       7.0        86.0  \n",
       "garagetotalsqft                  424.0     456.0     483.0       622.0  \n",
       "hashottuborspa                     1.0       1.0       1.0         1.0  \n",
       "poolcnt                            1.0       1.0       1.0         1.0  \n",
       "poolsizesum                      418.0     470.0     550.0     17410.0  \n",
       "yardbuildingsqft17               200.0     280.0     388.0      5880.0  "
      ]
     },
     "execution_count": 22,
     "metadata": {},
     "output_type": "execute_result"
    }
   ],
   "source": [
    "properties.describe().T"
   ]
  },
  {
   "cell_type": "markdown",
   "id": "7fe92368-a651-456c-8b75-3f1051ba606a",
   "metadata": {},
   "source": [
    "Removing the outliers got rid of most of the unusual values, but it also removed a large portion of the dataset. We'll continue to investigate the unusual values later. As for the large amount of removed rows, for now we will continue forward as is. If time permits we'll come back to run the pipeline again with outliers intact."
   ]
  },
  {
   "cell_type": "markdown",
   "id": "228cfea4-c8ba-4499-9101-64368d7b91df",
   "metadata": {},
   "source": [
    "---\n",
    "\n",
    "## Missing Values\n",
    "\n",
    "Now let's investigate any missing values in our dataset."
   ]
  },
  {
   "cell_type": "code",
   "execution_count": 24,
   "id": "67075206-48aa-426b-bcc4-2e59a262b9ac",
   "metadata": {},
   "outputs": [
    {
     "data": {
      "text/plain": [
       "(502774, 17)"
      ]
     },
     "execution_count": 24,
     "metadata": {},
     "output_type": "execute_result"
    }
   ],
   "source": [
    "# This shows us the total number of rows.\n",
    "properties.shape"
   ]
  },
  {
   "cell_type": "code",
   "execution_count": 23,
   "id": "3c0c2e31-40f3-4634-9753-d2784fdab71d",
   "metadata": {},
   "outputs": [
    {
     "name": "stdout",
     "output_type": "stream",
     "text": [
      "<class 'pandas.core.frame.DataFrame'>\n",
      "Int64Index: 502774 entries, 23 to 2152862\n",
      "Data columns (total 17 columns):\n",
      " #   Column                        Non-Null Count   Dtype  \n",
      "---  ------                        --------------   -----  \n",
      " 0   bedroomcnt                    502774 non-null  float64\n",
      " 1   bathroomcnt                   502774 non-null  float64\n",
      " 2   calculatedfinishedsquarefeet  502774 non-null  float64\n",
      " 3   taxvaluedollarcnt             502762 non-null  float64\n",
      " 4   yearbuilt                     502390 non-null  float64\n",
      " 5   fips                          502774 non-null  float64\n",
      " 6   numberofstories               429583 non-null  float64\n",
      " 7   basementsqft                  505 non-null     float64\n",
      " 8   fireplacecnt                  213730 non-null  float64\n",
      " 9   heatingorsystemdesc           17477 non-null   object \n",
      " 10  roomcnt                       502774 non-null  float64\n",
      " 11  garagetotalsqft               502774 non-null  float64\n",
      " 12  hashottuborspa                23396 non-null   float64\n",
      " 13  poolcnt                       90228 non-null   float64\n",
      " 14  poolsizesum                   15425 non-null   float64\n",
      " 15  yardbuildingsqft17            49330 non-null   float64\n",
      " 16  propertylandusedesc           502774 non-null  object \n",
      "dtypes: float64(15), object(2)\n",
      "memory usage: 69.0+ MB\n"
     ]
    }
   ],
   "source": [
    "# Now let's see the total non-null counts for each column.\n",
    "properties.info(show_counts = True)"
   ]
  },
  {
   "cell_type": "markdown",
   "id": "7b9be853-f5b9-40c2-9986-d82230e1d551",
   "metadata": {},
   "source": [
    "We can see that several columns have missing values:\n",
    "- taxvaluedollarcnt\n",
    "- yearbuilt\n",
    "- numberofstories\n",
    "- basementsqft\n",
    "- fireplacecnt\n",
    "- heatingorsystemdesc\n",
    "- hashottuborspa\n",
    "- poolcnt\n",
    "- poolsizesum\n",
    "- yardbuildingsqft17\n",
    "\n",
    "We'll investigate each column and determine the best course of action accordingly."
   ]
  },
  {
   "cell_type": "markdown",
   "id": "e20671ca-8f6c-4989-ad06-3dc1a779657f",
   "metadata": {},
   "source": [
    "### taxvaluedollarcnt\n",
    "\n",
    "There are a few missing values in the target variable. Since this is our target and it is just missing a small number of values we'll just remove those rows from the data."
   ]
  },
  {
   "cell_type": "code",
   "execution_count": 32,
   "id": "7d240f24-1aaa-4571-94c3-0812b9114953",
   "metadata": {},
   "outputs": [],
   "source": [
    "# Remove all rows missing the taxvaluedollarcnt value.\n",
    "missing_target = properties.taxvaluedollarcnt.isnull()\n",
    "properties = properties[~missing_target]"
   ]
  },
  {
   "cell_type": "code",
   "execution_count": 33,
   "id": "3cf12e22-1d66-4f6c-9867-403ecc3869ce",
   "metadata": {},
   "outputs": [
    {
     "data": {
      "text/plain": [
       "bedroomcnt                           0\n",
       "bathroomcnt                          0\n",
       "calculatedfinishedsquarefeet         0\n",
       "taxvaluedollarcnt                    0\n",
       "yearbuilt                          384\n",
       "fips                                 0\n",
       "numberofstories                  73187\n",
       "basementsqft                    502257\n",
       "fireplacecnt                    289039\n",
       "heatingorsystemdesc             485285\n",
       "roomcnt                              0\n",
       "garagetotalsqft                      0\n",
       "hashottuborspa                  479367\n",
       "poolcnt                         412535\n",
       "poolsizesum                     487337\n",
       "yardbuildingsqft17              453436\n",
       "propertylandusedesc                  0\n",
       "dtype: int64"
      ]
     },
     "execution_count": 33,
     "metadata": {},
     "output_type": "execute_result"
    }
   ],
   "source": [
    "# Let's make sure it worked.\n",
    "properties.isnull().sum()"
   ]
  },
  {
   "cell_type": "markdown",
   "id": "107c1737-5f02-405b-9ca6-519131f4e757",
   "metadata": {},
   "source": [
    "### yearbuilt\n",
    "\n",
    "The yearbuilt column is also only missing a few values. For this column we will fill in the missing values with the mode for the yearbuilt column."
   ]
  },
  {
   "cell_type": "code",
   "execution_count": 34,
   "id": "fc148f37-e07a-4c7b-af53-fbda7111d7b6",
   "metadata": {},
   "outputs": [
    {
     "data": {
      "text/plain": [
       "1964.0"
      ]
     },
     "execution_count": 34,
     "metadata": {},
     "output_type": "execute_result"
    }
   ],
   "source": [
    "properties.yearbuilt.mode()[0]"
   ]
  },
  {
   "cell_type": "code",
   "execution_count": 35,
   "id": "cbdd12a6-c644-4c93-aa1a-79f8c3f661c7",
   "metadata": {},
   "outputs": [],
   "source": [
    "# Fill each null value in yearbuilt with the mode (1964)\n",
    "properties.yearbuilt.fillna(properties.yearbuilt.mode()[0], inplace = True)\n",
    "\n",
    "# Let's also cast the column to int since year does not need to be a floating point value.\n",
    "properties.yearbuilt = properties.yearbuilt.astype('int')"
   ]
  },
  {
   "cell_type": "code",
   "execution_count": 37,
   "id": "11a9dfdf-6fc1-4f1e-bf28-f7638a4cd24b",
   "metadata": {},
   "outputs": [
    {
     "data": {
      "text/plain": [
       "bedroomcnt                           0\n",
       "bathroomcnt                          0\n",
       "calculatedfinishedsquarefeet         0\n",
       "taxvaluedollarcnt                    0\n",
       "yearbuilt                            0\n",
       "fips                                 0\n",
       "numberofstories                  73187\n",
       "basementsqft                    502257\n",
       "fireplacecnt                    289039\n",
       "heatingorsystemdesc             485285\n",
       "roomcnt                              0\n",
       "garagetotalsqft                      0\n",
       "hashottuborspa                  479367\n",
       "poolcnt                         412535\n",
       "poolsizesum                     487337\n",
       "yardbuildingsqft17              453436\n",
       "propertylandusedesc                  0\n",
       "dtype: int64"
      ]
     },
     "execution_count": 37,
     "metadata": {},
     "output_type": "execute_result"
    }
   ],
   "source": [
    "# Let's make sure it worked.\n",
    "properties.isnull().sum()"
   ]
  },
  {
   "cell_type": "markdown",
   "id": "c5ec0efc-ff2c-4bcc-9a47-9c24923343d9",
   "metadata": {},
   "source": [
    "### numberofstories\n",
    "\n",
    "There are a lot of missing values in the numberofstories column. Let's take a look at the unique values to see if there is a value that can reasonably replace the nulls."
   ]
  },
  {
   "cell_type": "code",
   "execution_count": 39,
   "id": "b0bef674-954c-434e-97b5-4509ef6d6184",
   "metadata": {},
   "outputs": [
    {
     "data": {
      "text/plain": [
       "1.0     287873\n",
       "2.0     132751\n",
       "3.0       8936\n",
       "4.0          6\n",
       "6.0          3\n",
       "7.0          2\n",
       "41.0         1\n",
       "14.0         1\n",
       "17.0         1\n",
       "8.0          1\n",
       "Name: numberofstories, dtype: int64"
      ]
     },
     "execution_count": 39,
     "metadata": {},
     "output_type": "execute_result"
    }
   ],
   "source": [
    "properties.numberofstories.value_counts()"
   ]
  },
  {
   "cell_type": "markdown",
   "id": "8415f7d6-0b6c-4052-92c7-4ce075f4707c",
   "metadata": {},
   "source": [
    "We can't assume the nulls represent 0 stories because this wouldn't make sense. There are values already for 1 story so we can't assume the nulls represent 1 story. Since there are a lot of missing values here we are probably better off removing this column."
   ]
  },
  {
   "cell_type": "code",
   "execution_count": 40,
   "id": "2eaa387b-86de-405e-a5f2-065186abdaa3",
   "metadata": {},
   "outputs": [],
   "source": [
    "properties = properties.drop(columns = 'numberofstories')"
   ]
  },
  {
   "cell_type": "code",
   "execution_count": 41,
   "id": "808c5086-ea67-428d-b147-47791c852df5",
   "metadata": {},
   "outputs": [
    {
     "data": {
      "text/plain": [
       "bedroomcnt                           0\n",
       "bathroomcnt                          0\n",
       "calculatedfinishedsquarefeet         0\n",
       "taxvaluedollarcnt                    0\n",
       "yearbuilt                            0\n",
       "fips                                 0\n",
       "basementsqft                    502257\n",
       "fireplacecnt                    289039\n",
       "heatingorsystemdesc             485285\n",
       "roomcnt                              0\n",
       "garagetotalsqft                      0\n",
       "hashottuborspa                  479367\n",
       "poolcnt                         412535\n",
       "poolsizesum                     487337\n",
       "yardbuildingsqft17              453436\n",
       "propertylandusedesc                  0\n",
       "dtype: int64"
      ]
     },
     "execution_count": 41,
     "metadata": {},
     "output_type": "execute_result"
    }
   ],
   "source": [
    "# Let's make sure it worked.\n",
    "properties.isnull().sum()"
   ]
  },
  {
   "cell_type": "markdown",
   "id": "ffa3c50f-8b19-4cce-8d6b-526694ea5c7b",
   "metadata": {},
   "source": [
    "### basementsqft\n",
    "\n",
    "The basementsqft column has a huge number of missing values. Let's take a look at what values exist in this column."
   ]
  },
  {
   "cell_type": "code",
   "execution_count": 44,
   "id": "9501ad19-bfb2-4f54-8e72-0d47070028d9",
   "metadata": {},
   "outputs": [
    {
     "data": {
      "text/plain": [
       "20.0      1\n",
       "25.0      1\n",
       "30.0      1\n",
       "36.0      1\n",
       "55.0      1\n",
       "         ..\n",
       "1636.0    1\n",
       "1671.0    2\n",
       "1680.0    1\n",
       "1689.0    1\n",
       "1889.0    1\n",
       "Name: basementsqft, Length: 338, dtype: int64"
      ]
     },
     "execution_count": 44,
     "metadata": {},
     "output_type": "execute_result"
    }
   ],
   "source": [
    "properties.basementsqft.value_counts().sort_index()"
   ]
  },
  {
   "cell_type": "markdown",
   "id": "7dc6569b-2ed9-4200-ac70-30d95714b358",
   "metadata": {},
   "source": [
    "Since the lowest value is 20 square feet it's reasonable to assume that a null value represents no basement on the property. With this in mind we can reasonably assume that the nulls are 0 square feet so we will fill in those missing values with 0."
   ]
  },
  {
   "cell_type": "code",
   "execution_count": 45,
   "id": "6e0a2751-5b65-4c84-a7c3-8318e5a38d2b",
   "metadata": {},
   "outputs": [],
   "source": [
    "properties.basementsqft.fillna(0, inplace = True)"
   ]
  },
  {
   "cell_type": "code",
   "execution_count": 46,
   "id": "25562f04-a2c2-48b9-b6d2-0efa1ae1414f",
   "metadata": {},
   "outputs": [
    {
     "data": {
      "text/plain": [
       "bedroomcnt                           0\n",
       "bathroomcnt                          0\n",
       "calculatedfinishedsquarefeet         0\n",
       "taxvaluedollarcnt                    0\n",
       "yearbuilt                            0\n",
       "fips                                 0\n",
       "basementsqft                         0\n",
       "fireplacecnt                    289039\n",
       "heatingorsystemdesc             485285\n",
       "roomcnt                              0\n",
       "garagetotalsqft                      0\n",
       "hashottuborspa                  479367\n",
       "poolcnt                         412535\n",
       "poolsizesum                     487337\n",
       "yardbuildingsqft17              453436\n",
       "propertylandusedesc                  0\n",
       "dtype: int64"
      ]
     },
     "execution_count": 46,
     "metadata": {},
     "output_type": "execute_result"
    }
   ],
   "source": [
    "# Let's make sure it worked.\n",
    "properties.isnull().sum()"
   ]
  },
  {
   "cell_type": "markdown",
   "id": "11cbd127-03c1-4844-9356-ac0926047a7e",
   "metadata": {},
   "source": [
    "### fireplacecnt\n",
    "\n",
    "The fireplacecnt column has a huge number of missing values. Let's take a look at what values exist in this column."
   ]
  },
  {
   "cell_type": "code",
   "execution_count": 47,
   "id": "42b92483-1bd4-4d8b-9c57-493880362e57",
   "metadata": {},
   "outputs": [
    {
     "data": {
      "text/plain": [
       "1.0    195645\n",
       "2.0     16538\n",
       "3.0      1499\n",
       "4.0        37\n",
       "6.0         2\n",
       "5.0         1\n",
       "7.0         1\n",
       "Name: fireplacecnt, dtype: int64"
      ]
     },
     "execution_count": 47,
     "metadata": {},
     "output_type": "execute_result"
    }
   ],
   "source": [
    "properties.fireplacecnt.value_counts()"
   ]
  },
  {
   "cell_type": "markdown",
   "id": "e089ad7c-9663-4a9d-8736-735e2e270a5b",
   "metadata": {},
   "source": [
    "Again since there is no 0 value we can reasonably assume that a null is no fireplace. We'll fill in the nulls with 0."
   ]
  },
  {
   "cell_type": "code",
   "execution_count": 48,
   "id": "501f7dfc-6ab7-41d5-ac12-20f833682993",
   "metadata": {},
   "outputs": [],
   "source": [
    "properties.fireplacecnt.fillna(0, inplace = True)\n",
    "\n",
    "# Let's also cast this column to the int type since a fractional fireplace is not possible.\n",
    "properties.fireplacecnt = properties.fireplacecnt.astype('int')"
   ]
  },
  {
   "cell_type": "code",
   "execution_count": 49,
   "id": "e2159b76-cdcb-426b-953a-282a75775eeb",
   "metadata": {},
   "outputs": [
    {
     "data": {
      "text/plain": [
       "bedroomcnt                           0\n",
       "bathroomcnt                          0\n",
       "calculatedfinishedsquarefeet         0\n",
       "taxvaluedollarcnt                    0\n",
       "yearbuilt                            0\n",
       "fips                                 0\n",
       "basementsqft                         0\n",
       "fireplacecnt                         0\n",
       "heatingorsystemdesc             485285\n",
       "roomcnt                              0\n",
       "garagetotalsqft                      0\n",
       "hashottuborspa                  479367\n",
       "poolcnt                         412535\n",
       "poolsizesum                     487337\n",
       "yardbuildingsqft17              453436\n",
       "propertylandusedesc                  0\n",
       "dtype: int64"
      ]
     },
     "execution_count": 49,
     "metadata": {},
     "output_type": "execute_result"
    }
   ],
   "source": [
    "# Let's make sure it worked.\n",
    "properties.isnull().sum()"
   ]
  },
  {
   "cell_type": "markdown",
   "id": "61b5c1f7-d5a3-4408-afba-e2dffe7693e4",
   "metadata": {},
   "source": [
    "### heatingorsystemdesc\n",
    "\n",
    "The heatingorsystemdesc column has a huge number of missing values. Let's take a look at what values exist in this column."
   ]
  },
  {
   "cell_type": "code",
   "execution_count": 50,
   "id": "fba73610-bf7f-4917-a354-13ec1b30bdee",
   "metadata": {},
   "outputs": [
    {
     "data": {
      "text/plain": [
       "Forced air    16159\n",
       "Floor/Wall      785\n",
       "None            357\n",
       "Baseboard        70\n",
       "Radiant          54\n",
       "Other            35\n",
       "Gravity          12\n",
       "Heat Pump         3\n",
       "Yes               2\n",
       "Name: heatingorsystemdesc, dtype: int64"
      ]
     },
     "execution_count": 50,
     "metadata": {},
     "output_type": "execute_result"
    }
   ],
   "source": [
    "properties.heatingorsystemdesc.value_counts()"
   ]
  },
  {
   "cell_type": "markdown",
   "id": "875fdb2e-13a5-4ae2-8250-624d0920ca5e",
   "metadata": {},
   "source": [
    "Here we do have values to represent no heating system. We can't make any reasonable assumption about what the nulls might be. There are too many missing values to fill with something like mode so we are better off dropping this column."
   ]
  },
  {
   "cell_type": "code",
   "execution_count": 51,
   "id": "96150132-d24c-4bf8-a90f-2f462284408b",
   "metadata": {},
   "outputs": [],
   "source": [
    "properties = properties.drop(columns = 'heatingorsystemdesc')"
   ]
  },
  {
   "cell_type": "code",
   "execution_count": 52,
   "id": "f20a65b9-75ea-4194-8b0f-384bb26113fd",
   "metadata": {},
   "outputs": [
    {
     "data": {
      "text/plain": [
       "bedroomcnt                           0\n",
       "bathroomcnt                          0\n",
       "calculatedfinishedsquarefeet         0\n",
       "taxvaluedollarcnt                    0\n",
       "yearbuilt                            0\n",
       "fips                                 0\n",
       "basementsqft                         0\n",
       "fireplacecnt                         0\n",
       "roomcnt                              0\n",
       "garagetotalsqft                      0\n",
       "hashottuborspa                  479367\n",
       "poolcnt                         412535\n",
       "poolsizesum                     487337\n",
       "yardbuildingsqft17              453436\n",
       "propertylandusedesc                  0\n",
       "dtype: int64"
      ]
     },
     "execution_count": 52,
     "metadata": {},
     "output_type": "execute_result"
    }
   ],
   "source": [
    "# Let's make sure it worked.\n",
    "properties.isnull().sum()"
   ]
  },
  {
   "cell_type": "markdown",
   "id": "52d5bee9-cbcd-4816-8476-3f4d70412f87",
   "metadata": {},
   "source": [
    "### hashottuborspa\n",
    "\n",
    "The hashottuborspa column has a huge number of missing values. Let's take a look at what values exist in this column."
   ]
  },
  {
   "cell_type": "code",
   "execution_count": 53,
   "id": "64dfaa2f-8de7-4952-8df2-2b558dc63316",
   "metadata": {},
   "outputs": [
    {
     "data": {
      "text/plain": [
       "1.0    23395\n",
       "Name: hashottuborspa, dtype: int64"
      ]
     },
     "execution_count": 53,
     "metadata": {},
     "output_type": "execute_result"
    }
   ],
   "source": [
    "properties.hashottuborspa.value_counts()"
   ]
  },
  {
   "cell_type": "markdown",
   "id": "c90e492e-024c-46c2-a069-e078a851921c",
   "metadata": {},
   "source": [
    "Here there is only a value to represent that the property has 1 hot tub. We can reasonably assume the nulls represent no hot tub or spa. We'll fill the null values with 0."
   ]
  },
  {
   "cell_type": "code",
   "execution_count": 54,
   "id": "a200c975-acb2-4812-a15c-863968000524",
   "metadata": {},
   "outputs": [],
   "source": [
    "properties.hashottuborspa.fillna(0, inplace = True)\n",
    "properties.hashottuborspa = properties.hashottuborspa.astype('int')"
   ]
  },
  {
   "cell_type": "code",
   "execution_count": 55,
   "id": "3b11fd32-468b-46cf-8c91-bd8429bec144",
   "metadata": {},
   "outputs": [
    {
     "data": {
      "text/plain": [
       "bedroomcnt                           0\n",
       "bathroomcnt                          0\n",
       "calculatedfinishedsquarefeet         0\n",
       "taxvaluedollarcnt                    0\n",
       "yearbuilt                            0\n",
       "fips                                 0\n",
       "basementsqft                         0\n",
       "fireplacecnt                         0\n",
       "roomcnt                              0\n",
       "garagetotalsqft                      0\n",
       "hashottuborspa                       0\n",
       "poolcnt                         412535\n",
       "poolsizesum                     487337\n",
       "yardbuildingsqft17              453436\n",
       "propertylandusedesc                  0\n",
       "dtype: int64"
      ]
     },
     "execution_count": 55,
     "metadata": {},
     "output_type": "execute_result"
    }
   ],
   "source": [
    "# Let's make sure it worked.\n",
    "properties.isnull().sum()"
   ]
  },
  {
   "cell_type": "markdown",
   "id": "e569a8d8-0961-422e-bcbf-56b6a9f55572",
   "metadata": {},
   "source": [
    "### poolcnt and poolsizesum\n",
    "\n",
    "The poolcnt and poolsizesum columns both have a huge amount of missing values. Let's take a look at what values exist in these columns."
   ]
  },
  {
   "cell_type": "code",
   "execution_count": 56,
   "id": "46d0a665-af9c-48a6-a784-8c85b7f4fbe3",
   "metadata": {},
   "outputs": [
    {
     "data": {
      "text/plain": [
       "1.0    90227\n",
       "Name: poolcnt, dtype: int64"
      ]
     },
     "execution_count": 56,
     "metadata": {},
     "output_type": "execute_result"
    }
   ],
   "source": [
    "properties.poolcnt.value_counts()"
   ]
  },
  {
   "cell_type": "code",
   "execution_count": 57,
   "id": "f30ee025-2df1-4f03-9e8c-a039af8a14d7",
   "metadata": {},
   "outputs": [
    {
     "data": {
      "text/plain": [
       "19.0       1\n",
       "20.0       2\n",
       "24.0       1\n",
       "28.0       8\n",
       "35.0       1\n",
       "          ..\n",
       "1920.0     1\n",
       "3510.0     1\n",
       "4000.0     1\n",
       "6000.0     1\n",
       "17410.0    1\n",
       "Name: poolsizesum, Length: 678, dtype: int64"
      ]
     },
     "execution_count": 57,
     "metadata": {},
     "output_type": "execute_result"
    }
   ],
   "source": [
    "properties.poolsizesum.value_counts().sort_index()"
   ]
  },
  {
   "cell_type": "markdown",
   "id": "bef87723-a7a6-4318-b4bb-95df8ce02a47",
   "metadata": {},
   "source": [
    "These features do not have the same number of missing values. We have more information for poolcnt, but poolsizesum could be more valuable for assessing property value. We can't have a property with a pool and 0 pool size so we will need to drop one of these columns. The other can reasonably be filled in with 0.\n",
    "\n",
    "Since poolsizesum has more missing values we'll drop that one and keep poolcnt. We'll fill the null values in poolcnt with 0."
   ]
  },
  {
   "cell_type": "code",
   "execution_count": 58,
   "id": "4e00a539-9014-444e-bb69-fa220dd1c7c2",
   "metadata": {},
   "outputs": [],
   "source": [
    "properties = properties.drop(columns = 'poolsizesum')\n",
    "properties.poolcnt.fillna(0, inplace = True)\n",
    "\n",
    "# Let's also cast poolcnt to an int type since a fractional pool is not possible.\n",
    "properties.poolcnt = properties.poolcnt.astype('int')"
   ]
  },
  {
   "cell_type": "code",
   "execution_count": 59,
   "id": "b3ebbfc6-2f47-4609-8dd1-02c7d48315b8",
   "metadata": {},
   "outputs": [
    {
     "data": {
      "text/plain": [
       "bedroomcnt                           0\n",
       "bathroomcnt                          0\n",
       "calculatedfinishedsquarefeet         0\n",
       "taxvaluedollarcnt                    0\n",
       "yearbuilt                            0\n",
       "fips                                 0\n",
       "basementsqft                         0\n",
       "fireplacecnt                         0\n",
       "roomcnt                              0\n",
       "garagetotalsqft                      0\n",
       "hashottuborspa                       0\n",
       "poolcnt                              0\n",
       "yardbuildingsqft17              453436\n",
       "propertylandusedesc                  0\n",
       "dtype: int64"
      ]
     },
     "execution_count": 59,
     "metadata": {},
     "output_type": "execute_result"
    }
   ],
   "source": [
    "# Let's make sure it worked.\n",
    "properties.isnull().sum()"
   ]
  },
  {
   "cell_type": "markdown",
   "id": "62eaa745-10ae-40f3-b490-808410aacb72",
   "metadata": {},
   "source": [
    "### yardbuildingsqft17\n",
    "\n",
    "Finally the yardbuildingsqft17 column has a large number of missing values. Let's take a look at what values exist in this column."
   ]
  },
  {
   "cell_type": "code",
   "execution_count": 60,
   "id": "25f43363-11e8-4c0e-875a-cc9627ce7823",
   "metadata": {},
   "outputs": [
    {
     "data": {
      "text/plain": [
       "10.0      1\n",
       "11.0      1\n",
       "12.0      2\n",
       "13.0      2\n",
       "14.0      2\n",
       "         ..\n",
       "2962.0    1\n",
       "3080.0    1\n",
       "4480.0    1\n",
       "5400.0    1\n",
       "5880.0    1\n",
       "Name: yardbuildingsqft17, Length: 1284, dtype: int64"
      ]
     },
     "execution_count": 60,
     "metadata": {},
     "output_type": "execute_result"
    }
   ],
   "source": [
    "properties.yardbuildingsqft17.value_counts().sort_index()"
   ]
  },
  {
   "cell_type": "markdown",
   "id": "75c83596-41aa-4736-8175-cb8f8c57f4c0",
   "metadata": {},
   "source": [
    "We may be able to assume null is no patio, but there are a large number of missing values here and most residential homes are likely going to have at least a small patio. We may be better off dropping this column since it's difficult to assume what the nulls may represent."
   ]
  },
  {
   "cell_type": "code",
   "execution_count": 61,
   "id": "f2e816c7-abd6-445b-95ad-2036f5b28470",
   "metadata": {},
   "outputs": [],
   "source": [
    "properties = properties.drop(columns = 'yardbuildingsqft17')"
   ]
  },
  {
   "cell_type": "code",
   "execution_count": 62,
   "id": "be13fe80-4d73-4951-b706-3f8e20e8ceb1",
   "metadata": {},
   "outputs": [
    {
     "data": {
      "text/plain": [
       "bedroomcnt                      0\n",
       "bathroomcnt                     0\n",
       "calculatedfinishedsquarefeet    0\n",
       "taxvaluedollarcnt               0\n",
       "yearbuilt                       0\n",
       "fips                            0\n",
       "basementsqft                    0\n",
       "fireplacecnt                    0\n",
       "roomcnt                         0\n",
       "garagetotalsqft                 0\n",
       "hashottuborspa                  0\n",
       "poolcnt                         0\n",
       "propertylandusedesc             0\n",
       "dtype: int64"
      ]
     },
     "execution_count": 62,
     "metadata": {},
     "output_type": "execute_result"
    }
   ],
   "source": [
    "# Let's make sure it worked.\n",
    "properties.isnull().sum()"
   ]
  },
  {
   "cell_type": "markdown",
   "id": "61231f62-4832-4a8d-9d4f-5e5aff2390bb",
   "metadata": {},
   "source": [
    "---\n",
    "\n",
    "## A Second Brief Analysis\n",
    "\n",
    "Now that we are done handling all the missing values let's take a look at our data one more time before wrapping this up."
   ]
  },
  {
   "cell_type": "code",
   "execution_count": 63,
   "id": "836fc491-0211-490c-870a-af7adaa4154b",
   "metadata": {},
   "outputs": [
    {
     "data": {
      "text/html": [
       "<div>\n",
       "<style scoped>\n",
       "    .dataframe tbody tr th:only-of-type {\n",
       "        vertical-align: middle;\n",
       "    }\n",
       "\n",
       "    .dataframe tbody tr th {\n",
       "        vertical-align: top;\n",
       "    }\n",
       "\n",
       "    .dataframe thead th {\n",
       "        text-align: right;\n",
       "    }\n",
       "</style>\n",
       "<table border=\"1\" class=\"dataframe\">\n",
       "  <thead>\n",
       "    <tr style=\"text-align: right;\">\n",
       "      <th></th>\n",
       "      <th>count</th>\n",
       "      <th>mean</th>\n",
       "      <th>std</th>\n",
       "      <th>min</th>\n",
       "      <th>25%</th>\n",
       "      <th>50%</th>\n",
       "      <th>75%</th>\n",
       "      <th>max</th>\n",
       "    </tr>\n",
       "  </thead>\n",
       "  <tbody>\n",
       "    <tr>\n",
       "      <th>bedroomcnt</th>\n",
       "      <td>502762.0</td>\n",
       "      <td>3.461395</td>\n",
       "      <td>0.693661</td>\n",
       "      <td>2.0</td>\n",
       "      <td>3.0</td>\n",
       "      <td>3.0</td>\n",
       "      <td>4.0</td>\n",
       "      <td>5.0</td>\n",
       "    </tr>\n",
       "    <tr>\n",
       "      <th>bathroomcnt</th>\n",
       "      <td>502762.0</td>\n",
       "      <td>2.286809</td>\n",
       "      <td>0.426492</td>\n",
       "      <td>1.5</td>\n",
       "      <td>2.0</td>\n",
       "      <td>2.0</td>\n",
       "      <td>2.5</td>\n",
       "      <td>3.0</td>\n",
       "    </tr>\n",
       "    <tr>\n",
       "      <th>calculatedfinishedsquarefeet</th>\n",
       "      <td>502762.0</td>\n",
       "      <td>1826.597521</td>\n",
       "      <td>511.995909</td>\n",
       "      <td>169.0</td>\n",
       "      <td>1426.0</td>\n",
       "      <td>1736.0</td>\n",
       "      <td>2147.0</td>\n",
       "      <td>3634.0</td>\n",
       "    </tr>\n",
       "    <tr>\n",
       "      <th>taxvaluedollarcnt</th>\n",
       "      <td>502762.0</td>\n",
       "      <td>406814.372170</td>\n",
       "      <td>276762.674397</td>\n",
       "      <td>10000.0</td>\n",
       "      <td>232946.0</td>\n",
       "      <td>368737.0</td>\n",
       "      <td>536000.0</td>\n",
       "      <td>17575461.0</td>\n",
       "    </tr>\n",
       "    <tr>\n",
       "      <th>yearbuilt</th>\n",
       "      <td>502762.0</td>\n",
       "      <td>1971.798322</td>\n",
       "      <td>14.853698</td>\n",
       "      <td>1880.0</td>\n",
       "      <td>1961.0</td>\n",
       "      <td>1969.0</td>\n",
       "      <td>1980.0</td>\n",
       "      <td>2016.0</td>\n",
       "    </tr>\n",
       "    <tr>\n",
       "      <th>fips</th>\n",
       "      <td>502762.0</td>\n",
       "      <td>6070.471273</td>\n",
       "      <td>21.561934</td>\n",
       "      <td>6059.0</td>\n",
       "      <td>6059.0</td>\n",
       "      <td>6059.0</td>\n",
       "      <td>6059.0</td>\n",
       "      <td>6111.0</td>\n",
       "    </tr>\n",
       "    <tr>\n",
       "      <th>basementsqft</th>\n",
       "      <td>502762.0</td>\n",
       "      <td>0.566787</td>\n",
       "      <td>21.490071</td>\n",
       "      <td>0.0</td>\n",
       "      <td>0.0</td>\n",
       "      <td>0.0</td>\n",
       "      <td>0.0</td>\n",
       "      <td>1889.0</td>\n",
       "    </tr>\n",
       "    <tr>\n",
       "      <th>fireplacecnt</th>\n",
       "      <td>502762.0</td>\n",
       "      <td>0.464216</td>\n",
       "      <td>0.577515</td>\n",
       "      <td>0.0</td>\n",
       "      <td>0.0</td>\n",
       "      <td>0.0</td>\n",
       "      <td>1.0</td>\n",
       "      <td>7.0</td>\n",
       "    </tr>\n",
       "    <tr>\n",
       "      <th>roomcnt</th>\n",
       "      <td>502762.0</td>\n",
       "      <td>5.795939</td>\n",
       "      <td>2.600402</td>\n",
       "      <td>0.0</td>\n",
       "      <td>6.0</td>\n",
       "      <td>6.0</td>\n",
       "      <td>7.0</td>\n",
       "      <td>86.0</td>\n",
       "    </tr>\n",
       "    <tr>\n",
       "      <th>garagetotalsqft</th>\n",
       "      <td>502762.0</td>\n",
       "      <td>460.813556</td>\n",
       "      <td>60.340477</td>\n",
       "      <td>307.0</td>\n",
       "      <td>424.0</td>\n",
       "      <td>456.0</td>\n",
       "      <td>483.0</td>\n",
       "      <td>622.0</td>\n",
       "    </tr>\n",
       "    <tr>\n",
       "      <th>hashottuborspa</th>\n",
       "      <td>502762.0</td>\n",
       "      <td>0.046533</td>\n",
       "      <td>0.210636</td>\n",
       "      <td>0.0</td>\n",
       "      <td>0.0</td>\n",
       "      <td>0.0</td>\n",
       "      <td>0.0</td>\n",
       "      <td>1.0</td>\n",
       "    </tr>\n",
       "    <tr>\n",
       "      <th>poolcnt</th>\n",
       "      <td>502762.0</td>\n",
       "      <td>0.179463</td>\n",
       "      <td>0.383740</td>\n",
       "      <td>0.0</td>\n",
       "      <td>0.0</td>\n",
       "      <td>0.0</td>\n",
       "      <td>0.0</td>\n",
       "      <td>1.0</td>\n",
       "    </tr>\n",
       "  </tbody>\n",
       "</table>\n",
       "</div>"
      ],
      "text/plain": [
       "                                 count           mean            std      min  \\\n",
       "bedroomcnt                    502762.0       3.461395       0.693661      2.0   \n",
       "bathroomcnt                   502762.0       2.286809       0.426492      1.5   \n",
       "calculatedfinishedsquarefeet  502762.0    1826.597521     511.995909    169.0   \n",
       "taxvaluedollarcnt             502762.0  406814.372170  276762.674397  10000.0   \n",
       "yearbuilt                     502762.0    1971.798322      14.853698   1880.0   \n",
       "fips                          502762.0    6070.471273      21.561934   6059.0   \n",
       "basementsqft                  502762.0       0.566787      21.490071      0.0   \n",
       "fireplacecnt                  502762.0       0.464216       0.577515      0.0   \n",
       "roomcnt                       502762.0       5.795939       2.600402      0.0   \n",
       "garagetotalsqft               502762.0     460.813556      60.340477    307.0   \n",
       "hashottuborspa                502762.0       0.046533       0.210636      0.0   \n",
       "poolcnt                       502762.0       0.179463       0.383740      0.0   \n",
       "\n",
       "                                   25%       50%       75%         max  \n",
       "bedroomcnt                         3.0       3.0       4.0         5.0  \n",
       "bathroomcnt                        2.0       2.0       2.5         3.0  \n",
       "calculatedfinishedsquarefeet    1426.0    1736.0    2147.0      3634.0  \n",
       "taxvaluedollarcnt             232946.0  368737.0  536000.0  17575461.0  \n",
       "yearbuilt                       1961.0    1969.0    1980.0      2016.0  \n",
       "fips                            6059.0    6059.0    6059.0      6111.0  \n",
       "basementsqft                       0.0       0.0       0.0      1889.0  \n",
       "fireplacecnt                       0.0       0.0       1.0         7.0  \n",
       "roomcnt                            6.0       6.0       7.0        86.0  \n",
       "garagetotalsqft                  424.0     456.0     483.0       622.0  \n",
       "hashottuborspa                     0.0       0.0       0.0         1.0  \n",
       "poolcnt                            0.0       0.0       0.0         1.0  "
      ]
     },
     "execution_count": 63,
     "metadata": {},
     "output_type": "execute_result"
    }
   ],
   "source": [
    "properties.describe().T"
   ]
  },
  {
   "cell_type": "markdown",
   "id": "14f7309c-7e40-401d-8768-8c2f0274a44a",
   "metadata": {},
   "source": [
    "The only issue is that it doesn't make sense for roomcnt to be 0. Let's take a look at what values exist in this column."
   ]
  },
  {
   "cell_type": "code",
   "execution_count": 65,
   "id": "e6739f13-b347-4573-b0ee-a220ef47cb7e",
   "metadata": {},
   "outputs": [
    {
     "data": {
      "text/plain": [
       "0.0      72139\n",
       "1.0         13\n",
       "2.0        136\n",
       "3.0        376\n",
       "4.0       4423\n",
       "5.0      44363\n",
       "6.0     137762\n",
       "7.0     131129\n",
       "8.0      86226\n",
       "9.0      23870\n",
       "10.0      2064\n",
       "11.0       182\n",
       "12.0        64\n",
       "13.0         2\n",
       "14.0         2\n",
       "15.0         2\n",
       "18.0         1\n",
       "19.0         1\n",
       "20.0         1\n",
       "24.0         1\n",
       "56.0         1\n",
       "67.0         1\n",
       "77.0         1\n",
       "84.0         1\n",
       "86.0         1\n",
       "Name: roomcnt, dtype: int64"
      ]
     },
     "execution_count": 65,
     "metadata": {},
     "output_type": "execute_result"
    }
   ],
   "source": [
    "properties.roomcnt.value_counts().sort_index()"
   ]
  },
  {
   "cell_type": "markdown",
   "id": "f997434a-d827-4bb7-826c-7613a2764ff6",
   "metadata": {},
   "source": [
    "We don't want to remove 72,000 rows, especially since we have already removed a lot of rows when removing the outliers, so we will drop the column."
   ]
  },
  {
   "cell_type": "code",
   "execution_count": 66,
   "id": "11f6cb22-bb8b-40e0-8248-00ff07d0fb31",
   "metadata": {},
   "outputs": [],
   "source": [
    "properties = properties.drop(columns = 'roomcnt')"
   ]
  },
  {
   "cell_type": "code",
   "execution_count": 67,
   "id": "06584921-b1d0-49c0-a452-e12e39982d3f",
   "metadata": {},
   "outputs": [
    {
     "data": {
      "text/html": [
       "<div>\n",
       "<style scoped>\n",
       "    .dataframe tbody tr th:only-of-type {\n",
       "        vertical-align: middle;\n",
       "    }\n",
       "\n",
       "    .dataframe tbody tr th {\n",
       "        vertical-align: top;\n",
       "    }\n",
       "\n",
       "    .dataframe thead th {\n",
       "        text-align: right;\n",
       "    }\n",
       "</style>\n",
       "<table border=\"1\" class=\"dataframe\">\n",
       "  <thead>\n",
       "    <tr style=\"text-align: right;\">\n",
       "      <th></th>\n",
       "      <th>count</th>\n",
       "      <th>mean</th>\n",
       "      <th>std</th>\n",
       "      <th>min</th>\n",
       "      <th>25%</th>\n",
       "      <th>50%</th>\n",
       "      <th>75%</th>\n",
       "      <th>max</th>\n",
       "    </tr>\n",
       "  </thead>\n",
       "  <tbody>\n",
       "    <tr>\n",
       "      <th>bedroomcnt</th>\n",
       "      <td>502762.0</td>\n",
       "      <td>3.461395</td>\n",
       "      <td>0.693661</td>\n",
       "      <td>2.0</td>\n",
       "      <td>3.0</td>\n",
       "      <td>3.0</td>\n",
       "      <td>4.0</td>\n",
       "      <td>5.0</td>\n",
       "    </tr>\n",
       "    <tr>\n",
       "      <th>bathroomcnt</th>\n",
       "      <td>502762.0</td>\n",
       "      <td>2.286809</td>\n",
       "      <td>0.426492</td>\n",
       "      <td>1.5</td>\n",
       "      <td>2.0</td>\n",
       "      <td>2.0</td>\n",
       "      <td>2.5</td>\n",
       "      <td>3.0</td>\n",
       "    </tr>\n",
       "    <tr>\n",
       "      <th>calculatedfinishedsquarefeet</th>\n",
       "      <td>502762.0</td>\n",
       "      <td>1826.597521</td>\n",
       "      <td>511.995909</td>\n",
       "      <td>169.0</td>\n",
       "      <td>1426.0</td>\n",
       "      <td>1736.0</td>\n",
       "      <td>2147.0</td>\n",
       "      <td>3634.0</td>\n",
       "    </tr>\n",
       "    <tr>\n",
       "      <th>taxvaluedollarcnt</th>\n",
       "      <td>502762.0</td>\n",
       "      <td>406814.372170</td>\n",
       "      <td>276762.674397</td>\n",
       "      <td>10000.0</td>\n",
       "      <td>232946.0</td>\n",
       "      <td>368737.0</td>\n",
       "      <td>536000.0</td>\n",
       "      <td>17575461.0</td>\n",
       "    </tr>\n",
       "    <tr>\n",
       "      <th>yearbuilt</th>\n",
       "      <td>502762.0</td>\n",
       "      <td>1971.798322</td>\n",
       "      <td>14.853698</td>\n",
       "      <td>1880.0</td>\n",
       "      <td>1961.0</td>\n",
       "      <td>1969.0</td>\n",
       "      <td>1980.0</td>\n",
       "      <td>2016.0</td>\n",
       "    </tr>\n",
       "    <tr>\n",
       "      <th>fips</th>\n",
       "      <td>502762.0</td>\n",
       "      <td>6070.471273</td>\n",
       "      <td>21.561934</td>\n",
       "      <td>6059.0</td>\n",
       "      <td>6059.0</td>\n",
       "      <td>6059.0</td>\n",
       "      <td>6059.0</td>\n",
       "      <td>6111.0</td>\n",
       "    </tr>\n",
       "    <tr>\n",
       "      <th>basementsqft</th>\n",
       "      <td>502762.0</td>\n",
       "      <td>0.566787</td>\n",
       "      <td>21.490071</td>\n",
       "      <td>0.0</td>\n",
       "      <td>0.0</td>\n",
       "      <td>0.0</td>\n",
       "      <td>0.0</td>\n",
       "      <td>1889.0</td>\n",
       "    </tr>\n",
       "    <tr>\n",
       "      <th>fireplacecnt</th>\n",
       "      <td>502762.0</td>\n",
       "      <td>0.464216</td>\n",
       "      <td>0.577515</td>\n",
       "      <td>0.0</td>\n",
       "      <td>0.0</td>\n",
       "      <td>0.0</td>\n",
       "      <td>1.0</td>\n",
       "      <td>7.0</td>\n",
       "    </tr>\n",
       "    <tr>\n",
       "      <th>garagetotalsqft</th>\n",
       "      <td>502762.0</td>\n",
       "      <td>460.813556</td>\n",
       "      <td>60.340477</td>\n",
       "      <td>307.0</td>\n",
       "      <td>424.0</td>\n",
       "      <td>456.0</td>\n",
       "      <td>483.0</td>\n",
       "      <td>622.0</td>\n",
       "    </tr>\n",
       "    <tr>\n",
       "      <th>hashottuborspa</th>\n",
       "      <td>502762.0</td>\n",
       "      <td>0.046533</td>\n",
       "      <td>0.210636</td>\n",
       "      <td>0.0</td>\n",
       "      <td>0.0</td>\n",
       "      <td>0.0</td>\n",
       "      <td>0.0</td>\n",
       "      <td>1.0</td>\n",
       "    </tr>\n",
       "    <tr>\n",
       "      <th>poolcnt</th>\n",
       "      <td>502762.0</td>\n",
       "      <td>0.179463</td>\n",
       "      <td>0.383740</td>\n",
       "      <td>0.0</td>\n",
       "      <td>0.0</td>\n",
       "      <td>0.0</td>\n",
       "      <td>0.0</td>\n",
       "      <td>1.0</td>\n",
       "    </tr>\n",
       "  </tbody>\n",
       "</table>\n",
       "</div>"
      ],
      "text/plain": [
       "                                 count           mean            std      min  \\\n",
       "bedroomcnt                    502762.0       3.461395       0.693661      2.0   \n",
       "bathroomcnt                   502762.0       2.286809       0.426492      1.5   \n",
       "calculatedfinishedsquarefeet  502762.0    1826.597521     511.995909    169.0   \n",
       "taxvaluedollarcnt             502762.0  406814.372170  276762.674397  10000.0   \n",
       "yearbuilt                     502762.0    1971.798322      14.853698   1880.0   \n",
       "fips                          502762.0    6070.471273      21.561934   6059.0   \n",
       "basementsqft                  502762.0       0.566787      21.490071      0.0   \n",
       "fireplacecnt                  502762.0       0.464216       0.577515      0.0   \n",
       "garagetotalsqft               502762.0     460.813556      60.340477    307.0   \n",
       "hashottuborspa                502762.0       0.046533       0.210636      0.0   \n",
       "poolcnt                       502762.0       0.179463       0.383740      0.0   \n",
       "\n",
       "                                   25%       50%       75%         max  \n",
       "bedroomcnt                         3.0       3.0       4.0         5.0  \n",
       "bathroomcnt                        2.0       2.0       2.5         3.0  \n",
       "calculatedfinishedsquarefeet    1426.0    1736.0    2147.0      3634.0  \n",
       "taxvaluedollarcnt             232946.0  368737.0  536000.0  17575461.0  \n",
       "yearbuilt                       1961.0    1969.0    1980.0      2016.0  \n",
       "fips                            6059.0    6059.0    6059.0      6111.0  \n",
       "basementsqft                       0.0       0.0       0.0      1889.0  \n",
       "fireplacecnt                       0.0       0.0       1.0         7.0  \n",
       "garagetotalsqft                  424.0     456.0     483.0       622.0  \n",
       "hashottuborspa                     0.0       0.0       0.0         1.0  \n",
       "poolcnt                            0.0       0.0       0.0         1.0  "
      ]
     },
     "execution_count": 67,
     "metadata": {},
     "output_type": "execute_result"
    }
   ],
   "source": [
    "# Let's take one more look.\n",
    "properties.describe().T"
   ]
  },
  {
   "cell_type": "markdown",
   "id": "aea7f118-c8ea-4f21-b50b-f0894d89501d",
   "metadata": {},
   "source": [
    "Now let's see if there are any columns that should be cast to a different type."
   ]
  },
  {
   "cell_type": "code",
   "execution_count": 77,
   "id": "8f37327e-7e15-47e9-8a16-1c6dcb6b17c9",
   "metadata": {},
   "outputs": [
    {
     "name": "stdout",
     "output_type": "stream",
     "text": [
      "<class 'pandas.core.frame.DataFrame'>\n",
      "Int64Index: 502762 entries, 23 to 2152862\n",
      "Data columns (total 12 columns):\n",
      " #   Column                        Non-Null Count   Dtype  \n",
      "---  ------                        --------------   -----  \n",
      " 0   bedroom_count                 502762 non-null  float64\n",
      " 1   bathroom_count                502762 non-null  float64\n",
      " 2   square_feet                   502762 non-null  float64\n",
      " 3   property_tax_assessed_values  502762 non-null  float64\n",
      " 4   year_built                    502762 non-null  int64  \n",
      " 5   fed_code                      502762 non-null  float64\n",
      " 6   basement_square_feet          502762 non-null  float64\n",
      " 7   fireplace_count               502762 non-null  int64  \n",
      " 8   garage_square_feet            502762 non-null  float64\n",
      " 9   has_hot_tub                   502762 non-null  int64  \n",
      " 10  has_pool                      502762 non-null  int64  \n",
      " 11  propertylandusedesc           502762 non-null  object \n",
      "dtypes: float64(7), int64(4), object(1)\n",
      "memory usage: 49.9+ MB\n"
     ]
    }
   ],
   "source": [
    "properties.info()"
   ]
  },
  {
   "cell_type": "markdown",
   "id": "91ff549f-e392-47e9-9e3c-5d441d391e94",
   "metadata": {},
   "source": [
    "The columns bedroomcnt, fips, and bathroomcnt should possibly be int types. Let's make sure."
   ]
  },
  {
   "cell_type": "code",
   "execution_count": 78,
   "id": "355ba300-e1a3-4178-999c-7ffdbbecb0a4",
   "metadata": {},
   "outputs": [
    {
     "data": {
      "text/plain": [
       "3.0    240694\n",
       "4.0    203583\n",
       "2.0     29527\n",
       "5.0     28958\n",
       "Name: bedroom_count, dtype: int64"
      ]
     },
     "execution_count": 78,
     "metadata": {},
     "output_type": "execute_result"
    }
   ],
   "source": [
    "properties.bedroomcnt.value_counts()"
   ]
  },
  {
   "cell_type": "code",
   "execution_count": 79,
   "id": "1132c7ef-eead-4cd1-9dc7-ed8015b69d50",
   "metadata": {},
   "outputs": [
    {
     "data": {
      "text/plain": [
       "6059.0    391852\n",
       "6111.0    110910\n",
       "Name: fed_code, dtype: int64"
      ]
     },
     "execution_count": 79,
     "metadata": {},
     "output_type": "execute_result"
    }
   ],
   "source": [
    "properties.fips.value_counts()"
   ]
  },
  {
   "cell_type": "code",
   "execution_count": 80,
   "id": "13b04f64-33d4-433b-9854-a03f55902385",
   "metadata": {},
   "outputs": [
    {
     "data": {
      "text/plain": [
       "2.0    260510\n",
       "2.5    120835\n",
       "3.0     96325\n",
       "1.5     25092\n",
       "Name: bathroom_count, dtype: int64"
      ]
     },
     "execution_count": 80,
     "metadata": {},
     "output_type": "execute_result"
    }
   ],
   "source": [
    "properties.bathroomcnt.value_counts()"
   ]
  },
  {
   "cell_type": "markdown",
   "id": "6438e3bd-e23e-4cb2-b152-d2db6894f894",
   "metadata": {},
   "source": [
    "We will cast bedroomcnt and fips to int type."
   ]
  },
  {
   "cell_type": "code",
   "execution_count": 81,
   "id": "6b2ea464-3ec4-4d1d-8f12-1b1c4031490e",
   "metadata": {},
   "outputs": [],
   "source": [
    "properties.bedroomcnt = properties.bedroomcnt.astype('int')\n",
    "properties.fips = properties.fips.astype('int')"
   ]
  },
  {
   "cell_type": "code",
   "execution_count": 82,
   "id": "fae4a2f7-7124-4094-9e20-af0f3794d41c",
   "metadata": {},
   "outputs": [
    {
     "name": "stdout",
     "output_type": "stream",
     "text": [
      "<class 'pandas.core.frame.DataFrame'>\n",
      "Int64Index: 502762 entries, 23 to 2152862\n",
      "Data columns (total 12 columns):\n",
      " #   Column                        Non-Null Count   Dtype  \n",
      "---  ------                        --------------   -----  \n",
      " 0   bedroom_count                 502762 non-null  int64  \n",
      " 1   bathroom_count                502762 non-null  float64\n",
      " 2   square_feet                   502762 non-null  float64\n",
      " 3   property_tax_assessed_values  502762 non-null  float64\n",
      " 4   year_built                    502762 non-null  int64  \n",
      " 5   fed_code                      502762 non-null  int64  \n",
      " 6   basement_square_feet          502762 non-null  float64\n",
      " 7   fireplace_count               502762 non-null  int64  \n",
      " 8   garage_square_feet            502762 non-null  float64\n",
      " 9   has_hot_tub                   502762 non-null  int64  \n",
      " 10  has_pool                      502762 non-null  int64  \n",
      " 11  propertylandusedesc           502762 non-null  object \n",
      "dtypes: float64(5), int64(6), object(1)\n",
      "memory usage: 49.9+ MB\n"
     ]
    }
   ],
   "source": [
    "# Let's make sure it worked.\n",
    "properties.info()"
   ]
  },
  {
   "cell_type": "markdown",
   "id": "b2b8d1a2-e990-4c50-9c64-e24e964ab253",
   "metadata": {},
   "source": [
    "Everything looks good."
   ]
  },
  {
   "cell_type": "markdown",
   "id": "d340bb47-367c-4d98-85c7-5fd7bfcea75e",
   "metadata": {},
   "source": [
    "---\n",
    "\n",
    "## Rename Columns\n",
    "\n",
    "Finally, let's rename these columns so that they will be more readable."
   ]
  },
  {
   "cell_type": "code",
   "execution_count": 83,
   "id": "bbd4ff01-8e2d-41a6-981e-8885db57cb2c",
   "metadata": {},
   "outputs": [
    {
     "name": "stdout",
     "output_type": "stream",
     "text": [
      "<class 'pandas.core.frame.DataFrame'>\n",
      "Int64Index: 502762 entries, 23 to 2152862\n",
      "Data columns (total 12 columns):\n",
      " #   Column                        Non-Null Count   Dtype  \n",
      "---  ------                        --------------   -----  \n",
      " 0   bedroom_count                 502762 non-null  int64  \n",
      " 1   bathroom_count                502762 non-null  float64\n",
      " 2   square_feet                   502762 non-null  float64\n",
      " 3   property_tax_assessed_values  502762 non-null  float64\n",
      " 4   year_built                    502762 non-null  int64  \n",
      " 5   fed_code                      502762 non-null  int64  \n",
      " 6   basement_square_feet          502762 non-null  float64\n",
      " 7   fireplace_count               502762 non-null  int64  \n",
      " 8   garage_square_feet            502762 non-null  float64\n",
      " 9   has_hot_tub                   502762 non-null  int64  \n",
      " 10  has_pool                      502762 non-null  int64  \n",
      " 11  propertylandusedesc           502762 non-null  object \n",
      "dtypes: float64(5), int64(6), object(1)\n",
      "memory usage: 49.9+ MB\n"
     ]
    }
   ],
   "source": [
    "properties = properties.rename(columns = {\n",
    "    'bedroomcnt' : 'bedroom_count',\n",
    "    'bathroomcnt' : 'bathroom_count',\n",
    "    'calculatedfinishedsquarefeet' : 'square_feet',\n",
    "    'taxvaluedollarcnt' : 'property_tax_assessed_values',\n",
    "    'yearbuilt' : 'year_built',\n",
    "    'fips' : 'fed_code',\n",
    "    'basementsqft' : 'basement_square_feet',\n",
    "    'fireplacecnt' : 'fireplace_count',\n",
    "    'garagetotalsqft' : 'garage_square_feet',\n",
    "    'hashottuborspa' : 'has_hot_tub',\n",
    "    'poolcnt' : 'has_pool'\n",
    "})\n",
    "properties.info()"
   ]
  },
  {
   "cell_type": "markdown",
   "id": "5e7f62ae-62cb-4fd0-835e-71cad607c581",
   "metadata": {},
   "source": [
    "## Put it all in a function\n",
    "\n",
    "Now let's throw everything into a prepare function."
   ]
  },
  {
   "cell_type": "code",
   "execution_count": 88,
   "id": "ef9573a7-767b-48cd-b044-65e312e86d96",
   "metadata": {},
   "outputs": [],
   "source": [
    "def prepare_zillow_data(df: pd.core.frame.DataFrame) -> pd.core.frame.DataFrame:\n",
    "    '''\n",
    "        Returns a prepared zillow dataset with all missing values handled.\n",
    "        \n",
    "        Parameters\n",
    "        ----------\n",
    "        df: DataFrame\n",
    "            A pandas dataframe containing the unprepared zillow dataset.\n",
    "        \n",
    "        Returns\n",
    "        -------\n",
    "        DataFrame: A pandas dataframe containing the prepared zillow dataset.\n",
    "    '''\n",
    "    \n",
    "    columns = [\n",
    "        'calculatedfinishedsquarefeet',\n",
    "        'bedroomcnt',\n",
    "        'bathroomcnt',\n",
    "        'garagetotalsqft'\n",
    "    ]\n",
    "\n",
    "    df = remove_outliers(df, 1.5, columns)\n",
    "    \n",
    "    missing_target = df.taxvaluedollarcnt.isnull()\n",
    "    df = df[~missing_target]\n",
    "    \n",
    "    df.yearbuilt.fillna(df.yearbuilt.mode()[0], inplace = True)\n",
    "    df.basementsqft.fillna(0, inplace = True)\n",
    "    df.fireplacecnt.fillna(0, inplace = True)\n",
    "    df.hashottuborspa.fillna(0, inplace = True)\n",
    "    df.poolcnt.fillna(0, inplace = True)\n",
    "    \n",
    "    df = df.drop(columns = 'numberofstories')\n",
    "    df = df.drop(columns = 'heatingorsystemdesc')\n",
    "    df = df.drop(columns = 'poolsizesum')\n",
    "    df = df.drop(columns = 'yardbuildingsqft17')\n",
    "    df = df.drop(columns = 'roomcnt')\n",
    "    \n",
    "    df.yearbuilt = df.yearbuilt.astype('int')\n",
    "    df.bedroomcnt = df.bedroomcnt.astype('int')\n",
    "    df.fips = df.fips.astype('int')\n",
    "    df.fireplacecnt = df.fireplacecnt.astype('int')\n",
    "    df.hashottuborspa = df.hashottuborspa.astype('int')\n",
    "    df.poolcnt = df.poolcnt.astype('int')\n",
    "\n",
    "    # Rename the columns for readability\n",
    "    df = df.rename(columns = {\n",
    "        'bedroomcnt' : 'bedroom_count',\n",
    "        'bathroomcnt' : 'bathroom_count',\n",
    "        'calculatedfinishedsquarefeet' : 'square_feet',\n",
    "        'taxvaluedollarcnt' : 'property_tax_assessed_values',\n",
    "        'yearbuilt' : 'year_built',\n",
    "        'fips' : 'fed_code',\n",
    "        'basementsqft' : 'basement_square_feet',\n",
    "        'fireplacecnt' : 'fireplace_count',\n",
    "        'garagetotalsqft' : 'garage_square_feet',\n",
    "        'hashottuborspa' : 'has_hot_tub',\n",
    "        'poolcnt' : 'has_pool'\n",
    "    })\n",
    "    \n",
    "    return df"
   ]
  },
  {
   "cell_type": "markdown",
   "id": "39caaba6-9bca-4215-aa63-e924349e9967",
   "metadata": {},
   "source": [
    "Let's test it."
   ]
  },
  {
   "cell_type": "code",
   "execution_count": 89,
   "id": "fd5a4cc8-c8af-4c07-a144-55c5f1318cd5",
   "metadata": {},
   "outputs": [
    {
     "name": "stdout",
     "output_type": "stream",
     "text": [
      "Using cache\n",
      "<class 'pandas.core.frame.DataFrame'>\n",
      "Int64Index: 502762 entries, 23 to 2152862\n",
      "Data columns (total 12 columns):\n",
      " #   Column                        Non-Null Count   Dtype  \n",
      "---  ------                        --------------   -----  \n",
      " 0   bedroom_count                 502762 non-null  int64  \n",
      " 1   bathroom_count                502762 non-null  float64\n",
      " 2   square_feet                   502762 non-null  float64\n",
      " 3   property_tax_assessed_values  502762 non-null  float64\n",
      " 4   year_built                    502762 non-null  int64  \n",
      " 5   fed_code                      502762 non-null  int64  \n",
      " 6   basement_square_feet          502762 non-null  float64\n",
      " 7   fireplace_count               502762 non-null  int64  \n",
      " 8   garage_square_feet            502762 non-null  float64\n",
      " 9   has_hot_tub                   502762 non-null  int64  \n",
      " 10  has_pool                      502762 non-null  int64  \n",
      " 11  propertylandusedesc           502762 non-null  object \n",
      "dtypes: float64(5), int64(6), object(1)\n",
      "memory usage: 49.9+ MB\n"
     ]
    }
   ],
   "source": [
    "prepare_zillow_data(get_zillow_data()).info()"
   ]
  },
  {
   "cell_type": "markdown",
   "id": "219e9d54-7e35-4c07-9c9e-049adeb73e27",
   "metadata": {},
   "source": [
    "---\n",
    "\n",
    "## Conclusion\n",
    "\n",
    "Now we can easily clean our dataset so that it will be ready for exploratory analysis and modeling. If time permits we can come back and try keeping the outliers to see how that affects our results."
   ]
  }
 ],
 "metadata": {
  "kernelspec": {
   "display_name": "Python 3 (ipykernel)",
   "language": "python",
   "name": "python3"
  },
  "language_info": {
   "codemirror_mode": {
    "name": "ipython",
    "version": 3
   },
   "file_extension": ".py",
   "mimetype": "text/x-python",
   "name": "python",
   "nbconvert_exporter": "python",
   "pygments_lexer": "ipython3",
   "version": "3.9.7"
  }
 },
 "nbformat": 4,
 "nbformat_minor": 5
}
