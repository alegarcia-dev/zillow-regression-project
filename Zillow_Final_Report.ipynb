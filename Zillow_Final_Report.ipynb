{
 "cells": [
  {
   "cell_type": "markdown",
   "id": "c48f49bb-4633-4b9b-9682-9e9d1a548217",
   "metadata": {},
   "source": [
    "# An Improved Model For Predicting Property Tax Assessed Values\n",
    "\n",
    "---\n",
    "\n",
    "## Project Goals\n",
    "\n",
    "Identify attributes that can be used to predict property tax assessed values, build a prediction model that is an improvement upon the existing model, and offer recommendations on what works or doesn't work.\n",
    "\n",
    "---\n",
    "\n",
    "## Project Description\n",
    "\n",
    "The Zillow data science team would like to predict property tax assessed values for single family properties that had a transaction in 2017. A model already exists, but the Zillow data science team is hoping an outside perspective can lead to an improved model. We will analyze the data available and produce an improved prediction model. We will compare the new model to the existing one and offer recommendations on what works or doesn't work for acquiring the most accurate predictions.\n",
    "\n",
    "---\n",
    "\n",
    "## Initial Questions\n",
    "\n",
    "Before beginning a few initial questions were formulated from an initial high level overview of the data available. Here are the questions that this project aimed to answer:\n",
    "\n",
    "- What influence do bedroom count, bathroom count, and square footage have on property value?\n",
    "- Is there a relationship between the age of a property and its value?\n",
    "- Is there a relationship between the number of stories a property has and its value?\n",
    "- Does a basement increase a property's value?\n",
    "- Does a fireplace increase a property's value?\n",
    "- Is there a relationship between heating or system type of a property and its value?\n",
    "- Does location relate to a property's value?\n",
    "- Does the total room count affect the value of a property?\n",
    "- Is there a relationship between garage size and property value?\n",
    "- Does a hot tub or pool increase a property's value?\n",
    "- Is there a relationship between the size of a property's patio and its value?"
   ]
  },
  {
   "cell_type": "markdown",
   "id": "b2af7b00-4b07-4c15-af6c-ad23abb9c0b3",
   "metadata": {},
   "source": [
    "---\n",
    "\n",
    "## Importing the Required Modules\n",
    "\n",
    "Everything we need to run the code blocks in this report are located in the util folder.\n",
    "To run the code blocks in this report you will need numpy, pandas, matplotlib, seaborn and sklearn installed on your computer."
   ]
  },
  {
   "cell_type": "code",
   "execution_count": null,
   "id": "b7741f67-0ca8-4513-9a5a-537837625e24",
   "metadata": {},
   "outputs": [],
   "source": [
    "# Here we are importing everything needed to execute the code blocks in this notebook.\n",
    "from util.acquire import wrangle_zillow"
   ]
  },
  {
   "cell_type": "markdown",
   "id": "9ec88dac-0460-43f5-8fa9-9fcfdf38fd7e",
   "metadata": {},
   "source": [
    "---\n",
    "\n",
    "## Data Acquisition and Preparation\n",
    "\n",
    "The data is acquired from data.codeup.com using a SQL query. Acquiring the data takes some time so it is cached in a local \"telco.csv\" file for quicker access in the future. The \"telco.csv\" file is not stored in the Github repository.\n",
    "\n",
    "Initial analysis of the data revealed a few things: the data has a lot of missing values, the column names are not very readable, some of the data points are unusual (i.e. the minimum square footage was 1 sq. ft.), and there are a lot of outliers skewing the distributions of values.\n",
    "\n",
    "**Outliers:**\n",
    "<br>\n",
    "In the first pass of the pipeline the outliers in the columns that had the largest amount of outliers are removed in hopes that this would remove some of the unusual values in the data while also making the data more normally distributed.\n",
    "    \n",
    "**Missing Values:**\n",
    "<br>\n",
    "For a few columns with missing values it was possible to assume what the missing values represented. For instance, the only value in the pool_count column was 1 (meaning the property has 1 pool) so it was reasonable to assume the missing values represented no pool, or 0. The same was true for hot tub, fireplace, and basement.\n",
    "\n",
    "For other columns with missing values a similar assumption could not be made. These columns had too many missing values so they were removed from the dataset.\n",
    "\n",
    "Finally, the target variable had a few missing values (8 properties were missing this value). Since this column was only missing a small number of values it was decided that the rows missing this value could be removed without affecting our results.\n",
    "\n",
    "**Renaming Columns:**\n",
    "<br>\n",
    "Lastly, the columns were renamed to improve the readability of the dataset and make some of the more ambiguous column names more descriptive."
   ]
  },
  {
   "cell_type": "code",
   "execution_count": null,
   "id": "0c8925dd-fbfd-4513-9f51-5086b0e85af5",
   "metadata": {},
   "outputs": [],
   "source": [
    "# Here we will acquire, prepare, and split the zillow property data and store the results in our train, validate, \n",
    "# and test dataframes.\n",
    "train, validate, test = wrangle_zillow()"
   ]
  },
  {
   "cell_type": "markdown",
   "id": "3dcccfcd-f877-4d45-913a-e10128bde278",
   "metadata": {},
   "source": [
    "---\n",
    "\n",
    "## Exploratory Analysis\n",
    "\n",
    "---\n",
    "\n",
    "## Modeling\n",
    "\n",
    "---\n",
    "\n",
    "## Key Takeaways and Recommendations"
   ]
  }
 ],
 "metadata": {
  "kernelspec": {
   "display_name": "Python 3 (ipykernel)",
   "language": "python",
   "name": "python3"
  },
  "language_info": {
   "codemirror_mode": {
    "name": "ipython",
    "version": 3
   },
   "file_extension": ".py",
   "mimetype": "text/x-python",
   "name": "python",
   "nbconvert_exporter": "python",
   "pygments_lexer": "ipython3",
   "version": "3.9.7"
  }
 },
 "nbformat": 4,
 "nbformat_minor": 5
}
