{
 "cells": [
  {
   "cell_type": "markdown",
   "id": "2c41be99-d920-4b22-a76c-e43dddbbfdc0",
   "metadata": {},
   "source": [
    "# Modeling\n",
    "\n",
    "---\n",
    "\n",
    "This notebook outlines the process for creating the prediction model for predicting tax assessed property values for the Zillow dataset.\n",
    "\n",
    "---"
   ]
  },
  {
   "cell_type": "markdown",
   "id": "184a5cc6-1671-43df-8fef-580cac53638d",
   "metadata": {},
   "source": [
    "## Importing the Required Modules\n",
    "\n",
    "Below we import all the modules needed to run this notebook. (Note on other user modules needed)"
   ]
  },
  {
   "cell_type": "code",
   "execution_count": 1,
   "id": "b0dbd5fc-79a0-4f1d-a025-168ba9f424c4",
   "metadata": {},
   "outputs": [],
   "source": [
    "import os\n",
    "import numpy as np\n",
    "import pandas as pd\n",
    "import matplotlib.pyplot as plt\n",
    "import seaborn as sns\n",
    "\n",
    "from sklearn.linear_model import LinearRegression, LassoLars, TweedieRegressor\n",
    "from sklearn.preprocessing import PolynomialFeatures\n",
    "\n",
    "from sklearn.metrics import mean_squared_error, r2_score\n",
    "from sklearn.model_selection import train_test_split\n",
    "from sklearn.feature_selection import SelectKBest, RFE, f_regression, SequentialFeatureSelector\n",
    "from sklearn.preprocessing import MinMaxScaler\n",
    "\n",
    "from env import username, password, hostname"
   ]
  },
  {
   "cell_type": "markdown",
   "id": "bb117e0b-12cd-4984-8fe7-55d2543b9384",
   "metadata": {},
   "source": [
    "## Acquire and Split Data\n",
    "\n",
    "Here we define all our acquisition and preparation functions created in the acquire and prepare notebook."
   ]
  },
  {
   "cell_type": "code",
   "execution_count": 2,
   "id": "233235be-97ad-4743-9963-a10895b06a05",
   "metadata": {},
   "outputs": [],
   "source": [
    "def get_db_url(database_name, username = username, password = password, hostname = hostname):\n",
    "    return f'mysql+pymysql://{username}:{password}@{hostname}/{database_name}'\n",
    "\n",
    "def get_zillow_sql():\n",
    "    return \"\"\"\n",
    "        SELECT\n",
    "            bedroomcnt,\n",
    "            bathroomcnt,\n",
    "            calculatedfinishedsquarefeet,\n",
    "            taxvaluedollarcnt,\n",
    "            yearbuilt,\n",
    "            fips,\n",
    "            numberofstories,\n",
    "            basementsqft,\n",
    "            fireplacecnt,\n",
    "            heatingorsystemdesc,\n",
    "            roomcnt,\n",
    "            garagetotalsqft,\n",
    "            hashottuborspa,\n",
    "            poolcnt,\n",
    "            poolsizesum,\n",
    "            yardbuildingsqft17\n",
    "        FROM properties_2017\n",
    "        JOIN propertylandusetype\n",
    "            ON propertylandusetype.propertylandusetypeid = properties_2017.propertylandusetypeid\n",
    "            AND (propertylandusetype.propertylandusedesc IN ('Single Family Residential', 'Inferred Single Family Residential'))\n",
    "        LEFT JOIN heatingorsystemtype USING (heatingorsystemtypeid)\n",
    "        JOIN predictions_2017 ON properties_2017.parcelid = predictions_2017.parcelid\n",
    "            AND predictions_2017.transactiondate LIKE '2017%%';\n",
    "        \"\"\"\n",
    "\n",
    "def get_zillow_data(use_cache = True):\n",
    "    # If the file is cached, read from the .csv file\n",
    "    if os.path.exists('zillow.csv') and use_cache:\n",
    "        print('Using cache')\n",
    "        return pd.read_csv('zillow.csv')\n",
    "    \n",
    "    # Otherwise read from the mysql database\n",
    "    else:\n",
    "        print('Reading from database')\n",
    "        df = pd.read_sql(get_zillow_sql(), get_db_url('zillow'))\n",
    "        df.to_csv('zillow.csv', index = False)\n",
    "        return df\n",
    "    \n",
    "def prepare_zillow_data(df):\n",
    "    columns = [\n",
    "        'calculatedfinishedsquarefeet'\n",
    "    ]\n",
    "\n",
    "    df = remove_outliers(df, 1.5, columns)\n",
    "    \n",
    "    missing_target = df.taxvaluedollarcnt.isnull()\n",
    "    df = df[~missing_target]\n",
    "    \n",
    "    missing_yearbuilt = df.yearbuilt.isnull()\n",
    "    df = df[~missing_yearbuilt]\n",
    "    \n",
    "    df.yearbuilt.fillna(df.yearbuilt.mode()[0], inplace = True)\n",
    "    df.basementsqft.fillna(0, inplace = True)\n",
    "    df.fireplacecnt.fillna(0, inplace = True)\n",
    "    df.hashottuborspa.fillna(0, inplace = True)\n",
    "    df.poolcnt.fillna(0, inplace = True)\n",
    "    \n",
    "    df = df.drop(columns = 'numberofstories')\n",
    "    df = df.drop(columns = 'heatingorsystemdesc')\n",
    "    df = df.drop(columns = 'garagetotalsqft')\n",
    "    df = df.drop(columns = 'poolsizesum')\n",
    "    df = df.drop(columns = 'yardbuildingsqft17')\n",
    "    df = df.drop(columns = 'roomcnt')\n",
    "    \n",
    "    df.yearbuilt = df.yearbuilt.astype('int')\n",
    "    df.bedroomcnt = df.bedroomcnt.astype('int')\n",
    "    df.fips = df.fips.astype('int')\n",
    "    df.fireplacecnt = df.fireplacecnt.astype('int')\n",
    "    df.hashottuborspa = df.hashottuborspa.astype('int')\n",
    "    df.poolcnt = df.poolcnt.astype('int')\n",
    "\n",
    "    # Rename the columns for readability\n",
    "    df = df.rename(columns = {\n",
    "        'bedroomcnt' : 'bedroom_count',\n",
    "        'bathroomcnt' : 'bathroom_count',\n",
    "        'calculatedfinishedsquarefeet' : 'square_feet',\n",
    "        'taxvaluedollarcnt' : 'property_tax_assessed_values',\n",
    "        'yearbuilt' : 'year_built',\n",
    "        'fips' : 'fed_code',\n",
    "        'basementsqft' : 'basement_square_feet',\n",
    "        'fireplacecnt' : 'fireplace_count',\n",
    "        'hashottuborspa' : 'has_hot_tub',\n",
    "        'poolcnt' : 'has_pool'\n",
    "    })\n",
    "    \n",
    "    return df\n",
    "\n",
    "def remove_outliers(df, k, col_list):\n",
    "    for col in col_list:\n",
    "\n",
    "        q1, q3 = df[col].quantile([.25, .75])  # get quartiles\n",
    "        \n",
    "        iqr = q3 - q1   # calculate interquartile range\n",
    "        \n",
    "        upper_bound = q3 + k * iqr   # get upper bound\n",
    "        lower_bound = q1 - k * iqr   # get lower bound\n",
    "\n",
    "        # return dataframe without outliers\n",
    "        \n",
    "        df = df[(df[col] > lower_bound) & (df[col] < upper_bound)]\n",
    "        \n",
    "    return df"
   ]
  },
  {
   "cell_type": "code",
   "execution_count": 3,
   "id": "a8aa056f-2155-4a2c-ab80-b108497ddcc2",
   "metadata": {},
   "outputs": [],
   "source": [
    "def split_data(df, random_seed = 24, stratify = None):\n",
    "    test_split = 0.2\n",
    "    train_validate_split = 0.3\n",
    "\n",
    "    train_validate, test = train_test_split(\n",
    "        df,\n",
    "        test_size = test_split,\n",
    "        random_state = random_seed,\n",
    "        stratify = stratify if not stratify else df[stratify]\n",
    "    )\n",
    "    train, validate = train_test_split(\n",
    "        train_validate,\n",
    "        test_size = train_validate_split,\n",
    "        random_state = random_seed,\n",
    "        stratify = stratify if not stratify else train_validate[stratify]\n",
    "    )\n",
    "    return train, validate, test\n",
    "\n",
    "def scale_data(train, validate, test):\n",
    "    scaler = MinMaxScaler()\n",
    "    numeric_columns = train.select_dtypes('number').columns\n",
    "    \n",
    "    train[numeric_columns] = scaler.fit_transform(train[numeric_columns])\n",
    "    validate[numeric_columns] = scaler.transform(validate[numeric_columns])\n",
    "    test[numeric_columns] = scaler.transform(test[numeric_columns])\n",
    "    \n",
    "    return train, validate, test"
   ]
  },
  {
   "cell_type": "markdown",
   "id": "21183922-6584-41cc-a3bd-73d3db87656d",
   "metadata": {},
   "source": [
    "Now we can acquire, prepare, and split our data."
   ]
  },
  {
   "cell_type": "code",
   "execution_count": 4,
   "id": "3b6d4799-b1ef-4085-9ad6-3e839dbf502a",
   "metadata": {},
   "outputs": [
    {
     "name": "stdout",
     "output_type": "stream",
     "text": [
      "Using cache\n"
     ]
    },
    {
     "data": {
      "text/plain": [
       "((28023, 10), (12010, 10), (10009, 10))"
      ]
     },
     "execution_count": 4,
     "metadata": {},
     "output_type": "execute_result"
    }
   ],
   "source": [
    "train, validate, test = split_data(prepare_zillow_data(get_zillow_data()))\n",
    "# train, validate, test = scale_data(train, validate, test)\n",
    "train.shape, validate.shape, test.shape"
   ]
  },
  {
   "cell_type": "code",
   "execution_count": 5,
   "id": "53c0414e-fed9-4280-ab5e-b33062cd8957",
   "metadata": {},
   "outputs": [],
   "source": [
    "# train = remove_outliers(train, 3.0, ['property_tax_assessed_values'])\n",
    "# train.shape"
   ]
  },
  {
   "cell_type": "code",
   "execution_count": 6,
   "id": "62dcd229-3378-4fd2-b023-9a9c31436e3b",
   "metadata": {},
   "outputs": [
    {
     "name": "stderr",
     "output_type": "stream",
     "text": [
      "/opt/homebrew/anaconda3/lib/python3.9/site-packages/pandas/core/frame.py:3678: SettingWithCopyWarning: \n",
      "A value is trying to be set on a copy of a slice from a DataFrame.\n",
      "Try using .loc[row_indexer,col_indexer] = value instead\n",
      "\n",
      "See the caveats in the documentation: https://pandas.pydata.org/pandas-docs/stable/user_guide/indexing.html#returning-a-view-versus-a-copy\n",
      "  self[col] = igetitem(value, i)\n",
      "/opt/homebrew/anaconda3/lib/python3.9/site-packages/pandas/core/frame.py:3678: SettingWithCopyWarning: \n",
      "A value is trying to be set on a copy of a slice from a DataFrame.\n",
      "Try using .loc[row_indexer,col_indexer] = value instead\n",
      "\n",
      "See the caveats in the documentation: https://pandas.pydata.org/pandas-docs/stable/user_guide/indexing.html#returning-a-view-versus-a-copy\n",
      "  self[col] = igetitem(value, i)\n",
      "/opt/homebrew/anaconda3/lib/python3.9/site-packages/pandas/core/frame.py:3678: SettingWithCopyWarning: \n",
      "A value is trying to be set on a copy of a slice from a DataFrame.\n",
      "Try using .loc[row_indexer,col_indexer] = value instead\n",
      "\n",
      "See the caveats in the documentation: https://pandas.pydata.org/pandas-docs/stable/user_guide/indexing.html#returning-a-view-versus-a-copy\n",
      "  self[col] = igetitem(value, i)\n"
     ]
    }
   ],
   "source": [
    "features = [\n",
    "    'square_feet',\n",
    "    'bedroom_count',\n",
    "    'bathroom_count',\n",
    "    'year_built',\n",
    "    'has_hot_tub',\n",
    "    'has_pool',\n",
    "    'fed_code'\n",
    "]\n",
    "\n",
    "X_train, y_train = train[features], train.property_tax_assessed_values\n",
    "X_validate, y_validate = validate[features], validate.property_tax_assessed_values\n",
    "X_test, y_test = test[features], test.property_tax_assessed_values\n",
    "\n",
    "X_train, X_validate, X_test = scale_data(X_train, X_validate, X_test)"
   ]
  },
  {
   "cell_type": "markdown",
   "id": "3a28d810-9ed8-4a16-b5bc-992cb573f6ba",
   "metadata": {},
   "source": [
    "## Create a Baseline"
   ]
  },
  {
   "cell_type": "code",
   "execution_count": 7,
   "id": "c0efdc17-dfb3-480b-bf30-cddfdaa31ebc",
   "metadata": {},
   "outputs": [
    {
     "data": {
      "text/plain": [
       "(28023, 2)"
      ]
     },
     "execution_count": 7,
     "metadata": {},
     "output_type": "execute_result"
    }
   ],
   "source": [
    "baseline = pd.DataFrame({\n",
    "    'median' : [y_train.median()] * y_train.size,\n",
    "    'mean' : [y_train.mean()] * y_train.size\n",
    "})\n",
    "baseline.shape"
   ]
  },
  {
   "cell_type": "code",
   "execution_count": 8,
   "id": "e297060c-083c-4e96-8f93-041d3191430a",
   "metadata": {},
   "outputs": [
    {
     "name": "stdout",
     "output_type": "stream",
     "text": [
      "RMSE median baseline: 454986.46176328306\n",
      "RMSE mean baseline: 445002.7946509774\n"
     ]
    }
   ],
   "source": [
    "print(f'RMSE median baseline: {mean_squared_error(y_train, baseline[\"median\"], squared = False)}')\n",
    "print(f'RMSE mean baseline: {mean_squared_error(y_train, baseline[\"mean\"], squared = False)}')"
   ]
  },
  {
   "cell_type": "markdown",
   "id": "051d3068-03b7-48e1-a5a2-f52febad85cf",
   "metadata": {},
   "source": [
    "We'll use the mean as our baseline."
   ]
  },
  {
   "cell_type": "markdown",
   "id": "e23c88e2-f376-40b5-b39d-587e978cbf29",
   "metadata": {},
   "source": [
    "## Feature Selection"
   ]
  },
  {
   "cell_type": "code",
   "execution_count": 9,
   "id": "a9480a52-a69f-48da-b77c-74ee347fab00",
   "metadata": {},
   "outputs": [
    {
     "data": {
      "text/plain": [
       "RFE(estimator=LinearRegression(), n_features_to_select=2)"
      ]
     },
     "execution_count": 9,
     "metadata": {},
     "output_type": "execute_result"
    }
   ],
   "source": [
    "lm = LinearRegression()\n",
    "\n",
    "rfe = RFE(lm, n_features_to_select = 2)\n",
    "rfe.fit(X_train, y_train)"
   ]
  },
  {
   "cell_type": "code",
   "execution_count": 10,
   "id": "1d71aa63-6676-488b-9a37-8d8cd4c31c56",
   "metadata": {},
   "outputs": [
    {
     "data": {
      "text/html": [
       "<div>\n",
       "<style scoped>\n",
       "    .dataframe tbody tr th:only-of-type {\n",
       "        vertical-align: middle;\n",
       "    }\n",
       "\n",
       "    .dataframe tbody tr th {\n",
       "        vertical-align: top;\n",
       "    }\n",
       "\n",
       "    .dataframe thead th {\n",
       "        text-align: right;\n",
       "    }\n",
       "</style>\n",
       "<table border=\"1\" class=\"dataframe\">\n",
       "  <thead>\n",
       "    <tr style=\"text-align: right;\">\n",
       "      <th></th>\n",
       "      <th>rfe_ranking</th>\n",
       "    </tr>\n",
       "  </thead>\n",
       "  <tbody>\n",
       "    <tr>\n",
       "      <th>square_feet</th>\n",
       "      <td>1</td>\n",
       "    </tr>\n",
       "    <tr>\n",
       "      <th>bedroom_count</th>\n",
       "      <td>1</td>\n",
       "    </tr>\n",
       "    <tr>\n",
       "      <th>bathroom_count</th>\n",
       "      <td>2</td>\n",
       "    </tr>\n",
       "    <tr>\n",
       "      <th>year_built</th>\n",
       "      <td>3</td>\n",
       "    </tr>\n",
       "    <tr>\n",
       "      <th>has_hot_tub</th>\n",
       "      <td>4</td>\n",
       "    </tr>\n",
       "    <tr>\n",
       "      <th>has_pool</th>\n",
       "      <td>5</td>\n",
       "    </tr>\n",
       "    <tr>\n",
       "      <th>fed_code</th>\n",
       "      <td>6</td>\n",
       "    </tr>\n",
       "  </tbody>\n",
       "</table>\n",
       "</div>"
      ],
      "text/plain": [
       "                rfe_ranking\n",
       "square_feet               1\n",
       "bedroom_count             1\n",
       "bathroom_count            2\n",
       "year_built                3\n",
       "has_hot_tub               4\n",
       "has_pool                  5\n",
       "fed_code                  6"
      ]
     },
     "execution_count": 10,
     "metadata": {},
     "output_type": "execute_result"
    }
   ],
   "source": [
    "pd.DataFrame({'rfe_ranking': rfe.ranking_}, index=X_train.columns)"
   ]
  },
  {
   "cell_type": "markdown",
   "id": "a0459126-0e7c-4bd8-8baf-cc88fbd3b67a",
   "metadata": {},
   "source": [
    "## Creating the Models"
   ]
  },
  {
   "cell_type": "code",
   "execution_count": 11,
   "id": "b9ae33b0-60b1-4146-855c-fe6ff080a53d",
   "metadata": {},
   "outputs": [],
   "source": [
    "results = {\n",
    "    'baseline' : {\n",
    "        'RMSE' : mean_squared_error(y_train, baseline['mean'], squared = False),\n",
    "        'R^2' : r2_score(y_train, baseline['mean'])\n",
    "    }\n",
    "}\n",
    "\n",
    "feature_set_1 = [\n",
    "    'has_hot_tub',\n",
    "    'has_pool',\n",
    "    'bathroom_count',\n",
    "    'bedroom_count',\n",
    "    'year_built',\n",
    "    'square_feet',\n",
    "    'fed_code'\n",
    "]\n",
    "\n",
    "feature_set_2 = [\n",
    "    'bedroom_count',\n",
    "    'bathroom_count',\n",
    "    'square_feet'\n",
    "]\n",
    "\n",
    "feature_set_3 = [\n",
    "    'bedroom_count',\n",
    "    'bathroom_count',\n",
    "    'year_built',\n",
    "    'square_feet'\n",
    "]"
   ]
  },
  {
   "cell_type": "markdown",
   "id": "e4d55534-c93f-47a0-93cd-7ba141bd8949",
   "metadata": {},
   "source": [
    "### Target Distribution"
   ]
  },
  {
   "cell_type": "code",
   "execution_count": 12,
   "id": "93c25128-18f5-4ec5-bfb0-4994c155fb61",
   "metadata": {},
   "outputs": [
    {
     "data": {
      "image/png": "[encoded data removed]",
      "text/plain": [
       "<Figure size 432x288 with 1 Axes>"
      ]
     },
     "metadata": {
      "needs_background": "light"
     },
     "output_type": "display_data"
    }
   ],
   "source": [
    "mask = y_train < 1_000_000\n",
    "sns.histplot(y_train[mask]);"
   ]
  },
  {
   "cell_type": "markdown",
   "id": "26cb4b90-d840-41cd-86b8-36eb5622cf15",
   "metadata": {},
   "source": [
    "### Linear Regression"
   ]
  },
  {
   "cell_type": "code",
   "execution_count": 13,
   "id": "74558ea0-62b9-41cd-b004-417249c54e5f",
   "metadata": {},
   "outputs": [
    {
     "data": {
      "text/plain": [
       "0.2504509051298175"
      ]
     },
     "execution_count": 13,
     "metadata": {},
     "output_type": "execute_result"
    }
   ],
   "source": [
    "model = LinearRegression()\n",
    "model.fit(X_train[feature_set_1], y_train)\n",
    "\n",
    "r2_score(y_train, model.predict(X_train[feature_set_1]))"
   ]
  },
  {
   "cell_type": "code",
   "execution_count": 14,
   "id": "5c46d33c-6c47-4dfc-a0db-ab5a4ed616c3",
   "metadata": {},
   "outputs": [
    {
     "data": {
      "text/plain": [
       "385267.8598398008"
      ]
     },
     "execution_count": 14,
     "metadata": {},
     "output_type": "execute_result"
    }
   ],
   "source": [
    "mean_squared_error(y_train, model.predict(X_train[feature_set_1]), squared = False)"
   ]
  },
  {
   "cell_type": "code",
   "execution_count": 15,
   "id": "a9829906-0295-4c09-811d-09295071a576",
   "metadata": {},
   "outputs": [],
   "source": [
    "results['linear_regression_1'] = {\n",
    "    'RMSE' : mean_squared_error(y_train, model.predict(X_train[feature_set_1]), squared = False),\n",
    "    'R^2' : r2_score(y_train, model.predict(X_train[feature_set_1])),\n",
    "    'RMSE_val' : mean_squared_error(y_validate, model.predict(X_validate[feature_set_1]), squared = False),\n",
    "    'R^2_val' : r2_score(y_validate, model.predict(X_validate[feature_set_1]))\n",
    "}"
   ]
  },
  {
   "cell_type": "code",
   "execution_count": 16,
   "id": "00c390c3-9b8c-473e-a33c-159ebd3ed352",
   "metadata": {},
   "outputs": [
    {
     "data": {
      "text/plain": [
       "0.2376845060408853"
      ]
     },
     "execution_count": 16,
     "metadata": {},
     "output_type": "execute_result"
    }
   ],
   "source": [
    "model = LinearRegression()\n",
    "model.fit(X_train[feature_set_2], y_train)\n",
    "\n",
    "r2_score(y_train, model.predict(X_train[feature_set_2]))"
   ]
  },
  {
   "cell_type": "code",
   "execution_count": 17,
   "id": "753954c8-5f7c-499f-a724-b5ef962246b0",
   "metadata": {},
   "outputs": [
    {
     "data": {
      "text/plain": [
       "388534.96851418185"
      ]
     },
     "execution_count": 17,
     "metadata": {},
     "output_type": "execute_result"
    }
   ],
   "source": [
    "mean_squared_error(y_train, model.predict(X_train[feature_set_2]), squared = False)"
   ]
  },
  {
   "cell_type": "code",
   "execution_count": 18,
   "id": "9122cd22-ba4a-4899-b390-43df3d219273",
   "metadata": {},
   "outputs": [],
   "source": [
    "results['linear_regression_2'] = {\n",
    "    'RMSE' : mean_squared_error(y_train, model.predict(X_train[feature_set_2]), squared = False),\n",
    "    'R^2' : r2_score(y_train, model.predict(X_train[feature_set_2])),\n",
    "    'RMSE_val' : mean_squared_error(y_validate, model.predict(X_validate[feature_set_2]), squared = False),\n",
    "    'R^2_val' : r2_score(y_validate, model.predict(X_validate[feature_set_2]))\n",
    "}"
   ]
  },
  {
   "cell_type": "code",
   "execution_count": 19,
   "id": "de85f25b-7518-435e-bdfb-856f98059b9b",
   "metadata": {},
   "outputs": [
    {
     "data": {
      "text/plain": [
       "0.24817495788265986"
      ]
     },
     "execution_count": 19,
     "metadata": {},
     "output_type": "execute_result"
    }
   ],
   "source": [
    "model = LinearRegression()\n",
    "model.fit(X_train[feature_set_3], y_train)\n",
    "\n",
    "r2_score(y_train, model.predict(X_train[feature_set_3]))"
   ]
  },
  {
   "cell_type": "code",
   "execution_count": 20,
   "id": "03d10a56-fc19-40cb-a2dd-72d38702d13a",
   "metadata": {},
   "outputs": [
    {
     "data": {
      "text/plain": [
       "385852.3343715859"
      ]
     },
     "execution_count": 20,
     "metadata": {},
     "output_type": "execute_result"
    }
   ],
   "source": [
    "mean_squared_error(y_train, model.predict(X_train[feature_set_3]), squared = False)"
   ]
  },
  {
   "cell_type": "code",
   "execution_count": 21,
   "id": "fb084877-0d5a-4f49-a8f5-fbb87717ed21",
   "metadata": {},
   "outputs": [],
   "source": [
    "results['linear_regression_3'] = {\n",
    "    'RMSE' : mean_squared_error(y_train, model.predict(X_train[feature_set_3]), squared = False),\n",
    "    'R^2' : r2_score(y_train, model.predict(X_train[feature_set_3])),\n",
    "    'RMSE_val' : mean_squared_error(y_validate, model.predict(X_validate[feature_set_3]), squared = False),\n",
    "    'R^2_val' : r2_score(y_validate, model.predict(X_validate[feature_set_3]))\n",
    "}"
   ]
  },
  {
   "cell_type": "code",
   "execution_count": 22,
   "id": "4740de6b-234d-403c-8a87-57efeacea2e2",
   "metadata": {},
   "outputs": [
    {
     "data": {
      "text/plain": [
       "0.24817495788265997"
      ]
     },
     "execution_count": 22,
     "metadata": {},
     "output_type": "execute_result"
    }
   ],
   "source": [
    "model = LinearRegression(normalize = True)\n",
    "model.fit(X_train[feature_set_3], y_train)\n",
    "\n",
    "r2_score(y_train, model.predict(X_train[feature_set_3]))"
   ]
  },
  {
   "cell_type": "markdown",
   "id": "b575bbf5-5337-4dcd-8c78-6b82585b2488",
   "metadata": {},
   "source": [
    "### LassoLars"
   ]
  },
  {
   "cell_type": "code",
   "execution_count": 23,
   "id": "cfd37942-ff7d-472a-88a7-f10dd7d16f5e",
   "metadata": {},
   "outputs": [
    {
     "data": {
      "text/plain": [
       "0.25044915466309636"
      ]
     },
     "execution_count": 23,
     "metadata": {},
     "output_type": "execute_result"
    }
   ],
   "source": [
    "model = LassoLars(alpha = 1.0)\n",
    "model.fit(X_train[feature_set_1], y_train)\n",
    "\n",
    "r2_score(y_train, model.predict(X_train[feature_set_1]))"
   ]
  },
  {
   "cell_type": "code",
   "execution_count": 24,
   "id": "6dc034a9-5ce8-452e-8e90-0c513ba18e6f",
   "metadata": {},
   "outputs": [
    {
     "data": {
      "text/plain": [
       "385268.30970904767"
      ]
     },
     "execution_count": 24,
     "metadata": {},
     "output_type": "execute_result"
    }
   ],
   "source": [
    "mean_squared_error(y_train, model.predict(X_train[feature_set_1]), squared = False)"
   ]
  },
  {
   "cell_type": "code",
   "execution_count": 25,
   "id": "6cabb724-1e26-4779-843b-62ce8799190d",
   "metadata": {},
   "outputs": [],
   "source": [
    "results['lasso_lars_1'] = {\n",
    "    'RMSE' : mean_squared_error(y_train, model.predict(X_train[feature_set_1]), squared = False),\n",
    "    'R^2' : r2_score(y_train, model.predict(X_train[feature_set_1])),\n",
    "    'RMSE_val' : mean_squared_error(y_validate, model.predict(X_validate[feature_set_1]), squared = False),\n",
    "    'R^2_val' : r2_score(y_validate, model.predict(X_validate[feature_set_1]))\n",
    "}"
   ]
  },
  {
   "cell_type": "code",
   "execution_count": 26,
   "id": "8a1715ea-7d93-41ef-a617-b80572ee4630",
   "metadata": {},
   "outputs": [
    {
     "data": {
      "text/plain": [
       "0.23768367464656925"
      ]
     },
     "execution_count": 26,
     "metadata": {},
     "output_type": "execute_result"
    }
   ],
   "source": [
    "model = LassoLars(alpha = 1.0)\n",
    "model.fit(X_train[feature_set_2], y_train)\n",
    "\n",
    "r2_score(y_train, model.predict(X_train[feature_set_2]))"
   ]
  },
  {
   "cell_type": "code",
   "execution_count": 27,
   "id": "ff4982a9-4237-49b9-b7ff-9bc965a24286",
   "metadata": {},
   "outputs": [
    {
     "data": {
      "text/plain": [
       "388535.1803855651"
      ]
     },
     "execution_count": 27,
     "metadata": {},
     "output_type": "execute_result"
    }
   ],
   "source": [
    "mean_squared_error(y_train, model.predict(X_train[feature_set_2]), squared = False)"
   ]
  },
  {
   "cell_type": "code",
   "execution_count": 28,
   "id": "d2a30a8f-4ca6-428d-853e-32e3777c146f",
   "metadata": {},
   "outputs": [],
   "source": [
    "results['lasso_lars_2'] = {\n",
    "    'RMSE' : mean_squared_error(y_train, model.predict(X_train[feature_set_2]), squared = False),\n",
    "    'R^2' : r2_score(y_train, model.predict(X_train[feature_set_2])),\n",
    "    'RMSE_val' : mean_squared_error(y_validate, model.predict(X_validate[feature_set_2]), squared = False),\n",
    "    'R^2_val' : r2_score(y_validate, model.predict(X_validate[feature_set_2]))\n",
    "}"
   ]
  },
  {
   "cell_type": "code",
   "execution_count": 29,
   "id": "62b4b114-de5b-4934-ba03-e954c37ff8b7",
   "metadata": {},
   "outputs": [
    {
     "data": {
      "text/plain": [
       "0.24817369018304447"
      ]
     },
     "execution_count": 29,
     "metadata": {},
     "output_type": "execute_result"
    }
   ],
   "source": [
    "model = LassoLars(alpha = 1.0)\n",
    "model.fit(X_train[feature_set_3], y_train)\n",
    "\n",
    "r2_score(y_train, model.predict(X_train[feature_set_3]))"
   ]
  },
  {
   "cell_type": "code",
   "execution_count": 30,
   "id": "4539c05e-649c-4fbd-b467-708beb552074",
   "metadata": {},
   "outputs": [
    {
     "data": {
      "text/plain": [
       "385852.6596764256"
      ]
     },
     "execution_count": 30,
     "metadata": {},
     "output_type": "execute_result"
    }
   ],
   "source": [
    "mean_squared_error(y_train, model.predict(X_train[feature_set_3]), squared = False)"
   ]
  },
  {
   "cell_type": "code",
   "execution_count": 31,
   "id": "174e9674-74c4-4812-9985-79cf3333d715",
   "metadata": {},
   "outputs": [],
   "source": [
    "results['lasso_lars_3'] = {\n",
    "    'RMSE' : mean_squared_error(y_train, model.predict(X_train[feature_set_3]), squared = False),\n",
    "    'R^2' : r2_score(y_train, model.predict(X_train[feature_set_3])),\n",
    "    'RMSE_val' : mean_squared_error(y_validate, model.predict(X_validate[feature_set_3]), squared = False),\n",
    "    'R^2_val' : r2_score(y_validate, model.predict(X_validate[feature_set_3]))\n",
    "}"
   ]
  },
  {
   "cell_type": "code",
   "execution_count": 32,
   "id": "a996497c-fa22-4dcb-a037-a13bc5c735f1",
   "metadata": {},
   "outputs": [
    {
     "data": {
      "text/plain": [
       "0.24816988708419863"
      ]
     },
     "execution_count": 32,
     "metadata": {},
     "output_type": "execute_result"
    }
   ],
   "source": [
    "model = LassoLars(alpha = 2.0)\n",
    "model.fit(X_train[feature_set_3], y_train)\n",
    "\n",
    "r2_score(y_train, model.predict(X_train[feature_set_3]))"
   ]
  },
  {
   "cell_type": "code",
   "execution_count": 33,
   "id": "aca8a1fc-2d28-4998-af4a-1a4cbb255e22",
   "metadata": {},
   "outputs": [
    {
     "data": {
      "text/plain": [
       "385853.63558929926"
      ]
     },
     "execution_count": 33,
     "metadata": {},
     "output_type": "execute_result"
    }
   ],
   "source": [
    "mean_squared_error(y_train, model.predict(X_train[feature_set_3]), squared = False)"
   ]
  },
  {
   "cell_type": "code",
   "execution_count": 34,
   "id": "8404b7d8-3310-4333-98c1-b9a643e3b310",
   "metadata": {},
   "outputs": [
    {
     "data": {
      "text/plain": [
       "0.24814326539227716"
      ]
     },
     "execution_count": 34,
     "metadata": {},
     "output_type": "execute_result"
    }
   ],
   "source": [
    "model = LassoLars(alpha = 5.0)\n",
    "model.fit(X_train[feature_set_3], y_train)\n",
    "\n",
    "r2_score(y_train, model.predict(X_train[feature_set_3]))"
   ]
  },
  {
   "cell_type": "markdown",
   "id": "7cef7377-f1ed-4242-b697-f30ee82ef086",
   "metadata": {},
   "source": [
    "### Polynomial Regression"
   ]
  },
  {
   "cell_type": "code",
   "execution_count": 35,
   "id": "9a6931b2-83d6-4e1e-8b1e-f415559fad9c",
   "metadata": {},
   "outputs": [
    {
     "data": {
      "text/plain": [
       "0.2590419806846168"
      ]
     },
     "execution_count": 35,
     "metadata": {},
     "output_type": "execute_result"
    }
   ],
   "source": [
    "poly = PolynomialFeatures(degree = 2, include_bias = False, interaction_only = False)\n",
    "poly.fit(X_train)\n",
    "\n",
    "X_train_poly = pd.DataFrame(\n",
    "    poly.transform(X_train),\n",
    "    columns = poly.get_feature_names(X_train.columns),\n",
    "    index = X_train.index\n",
    ")\n",
    "\n",
    "model = LinearRegression()\n",
    "\n",
    "rfe = RFE(model, n_features_to_select = 4)\n",
    "rfe.fit(X_train_poly, y_train)\n",
    "\n",
    "X_train_rfe = rfe.transform(X_train_poly)\n",
    "model.fit(X_train_rfe, y_train)\n",
    "\n",
    "r2_score(y_train, model.predict(X_train_rfe))"
   ]
  },
  {
   "cell_type": "code",
   "execution_count": 36,
   "id": "01bf249c-e96a-4f9b-b99e-cd0d5cebc9c5",
   "metadata": {},
   "outputs": [
    {
     "data": {
      "text/plain": [
       "383053.5924915374"
      ]
     },
     "execution_count": 36,
     "metadata": {},
     "output_type": "execute_result"
    }
   ],
   "source": [
    "mean_squared_error(y_train, model.predict(X_train_rfe), squared = False)"
   ]
  },
  {
   "cell_type": "code",
   "execution_count": 37,
   "id": "4477c8ec-75f3-4314-9aea-07f925e11428",
   "metadata": {},
   "outputs": [],
   "source": [
    "X_validate_poly = pd.DataFrame(\n",
    "    poly.transform(X_validate),\n",
    "    columns = poly.get_feature_names(X_validate.columns),\n",
    "    index = X_validate.index\n",
    ")\n",
    "\n",
    "rfe = RFE(model, n_features_to_select = 4)\n",
    "rfe.fit(X_validate_poly, y_validate)\n",
    "\n",
    "X_validate_rfe = rfe.transform(X_validate_poly)"
   ]
  },
  {
   "cell_type": "code",
   "execution_count": 38,
   "id": "b636dede-e0f0-4714-8ee6-9e4caa797761",
   "metadata": {},
   "outputs": [],
   "source": [
    "results['polynomial_regression_1'] = {\n",
    "    'RMSE' : mean_squared_error(y_train, model.predict(X_train_rfe), squared = False),\n",
    "    'R^2' : r2_score(y_train, model.predict(X_train_rfe)),\n",
    "    'RMSE_val' : mean_squared_error(y_validate, model.predict(X_validate_rfe), squared = False),\n",
    "    'R^2_val' : r2_score(y_validate, model.predict(X_validate_rfe))\n",
    "}"
   ]
  },
  {
   "cell_type": "code",
   "execution_count": 39,
   "id": "bfcadb28-7433-4065-b0c7-c2c3d7a8df4c",
   "metadata": {},
   "outputs": [
    {
     "data": {
      "text/plain": [
       "0.27901465081205723"
      ]
     },
     "execution_count": 39,
     "metadata": {},
     "output_type": "execute_result"
    }
   ],
   "source": [
    "poly = PolynomialFeatures(degree = 2, include_bias = False, interaction_only = False)\n",
    "poly.fit(X_train)\n",
    "\n",
    "X_train_poly = pd.DataFrame(\n",
    "    poly.transform(X_train),\n",
    "    columns = poly.get_feature_names(X_train.columns),\n",
    "    index = X_train.index\n",
    ")\n",
    "\n",
    "model = LinearRegression()\n",
    "\n",
    "model.fit(X_train_poly, y_train)\n",
    "\n",
    "r2_score(y_train, model.predict(X_train_poly))"
   ]
  },
  {
   "cell_type": "code",
   "execution_count": 40,
   "id": "181edda6-3438-476e-920d-a746a2483125",
   "metadata": {},
   "outputs": [
    {
     "data": {
      "text/plain": [
       "377855.6828231103"
      ]
     },
     "execution_count": 40,
     "metadata": {},
     "output_type": "execute_result"
    }
   ],
   "source": [
    "mean_squared_error(y_train, model.predict(X_train_poly), squared = False)"
   ]
  },
  {
   "cell_type": "code",
   "execution_count": 41,
   "id": "55dcda75-e37e-47d3-9b2c-20e41b78eabf",
   "metadata": {},
   "outputs": [],
   "source": [
    "X_validate_poly = pd.DataFrame(\n",
    "    poly.transform(X_validate),\n",
    "    columns = poly.get_feature_names(X_validate.columns),\n",
    "    index = X_validate.index\n",
    ")"
   ]
  },
  {
   "cell_type": "code",
   "execution_count": 42,
   "id": "238fac7d-0cf0-417c-b721-534a02a7b86b",
   "metadata": {},
   "outputs": [],
   "source": [
    "results['polynomial_regression_2'] = {\n",
    "    'RMSE' : mean_squared_error(y_train, model.predict(X_train_poly), squared = False),\n",
    "    'R^2' : r2_score(y_train, model.predict(X_train_poly)),\n",
    "    'RMSE_val' : mean_squared_error(y_validate, model.predict(X_validate_poly), squared = False),\n",
    "    'R^2_val' : r2_score(y_validate, model.predict(X_validate_poly))\n",
    "}"
   ]
  },
  {
   "cell_type": "code",
   "execution_count": 43,
   "id": "685e7678-6256-4d64-ad82-13f0d1e054e0",
   "metadata": {},
   "outputs": [
    {
     "data": {
      "text/plain": [
       "0.2743852239777488"
      ]
     },
     "execution_count": 43,
     "metadata": {},
     "output_type": "execute_result"
    }
   ],
   "source": [
    "poly = PolynomialFeatures(degree = 2, include_bias = False, interaction_only = True)\n",
    "poly.fit(X_train)\n",
    "\n",
    "X_train_poly = pd.DataFrame(\n",
    "    poly.transform(X_train),\n",
    "    columns = poly.get_feature_names(X_train.columns),\n",
    "    index = X_train.index\n",
    ")\n",
    "\n",
    "model = LinearRegression()\n",
    "\n",
    "model.fit(X_train_poly, y_train)\n",
    "\n",
    "r2_score(y_train, model.predict(X_train_poly))"
   ]
  },
  {
   "cell_type": "code",
   "execution_count": 44,
   "id": "31855b9c-fecb-4fcd-bc40-21c944880dce",
   "metadata": {},
   "outputs": [
    {
     "data": {
      "text/plain": [
       "379066.8421335632"
      ]
     },
     "execution_count": 44,
     "metadata": {},
     "output_type": "execute_result"
    }
   ],
   "source": [
    "mean_squared_error(y_train, model.predict(X_train_poly), squared = False)"
   ]
  },
  {
   "cell_type": "code",
   "execution_count": 45,
   "id": "31019fee-4328-40d1-841d-39f7650914b3",
   "metadata": {},
   "outputs": [],
   "source": [
    "X_validate_poly = pd.DataFrame(\n",
    "    poly.transform(X_validate),\n",
    "    columns = poly.get_feature_names(X_validate.columns),\n",
    "    index = X_validate.index\n",
    ")"
   ]
  },
  {
   "cell_type": "code",
   "execution_count": 46,
   "id": "fd6200ec-68e9-4546-8571-021a9eebf8bf",
   "metadata": {},
   "outputs": [],
   "source": [
    "results['polynomial_regression_3'] = {\n",
    "    'RMSE' : mean_squared_error(y_train, model.predict(X_train_poly), squared = False),\n",
    "    'R^2' : r2_score(y_train, model.predict(X_train_poly)),\n",
    "    'RMSE_val' : mean_squared_error(y_validate, model.predict(X_validate_poly), squared = False),\n",
    "    'R^2_val' : r2_score(y_validate, model.predict(X_validate_poly))\n",
    "}"
   ]
  },
  {
   "cell_type": "markdown",
   "id": "bd3f6e40-4c02-4f0d-b318-f80d154117b9",
   "metadata": {},
   "source": [
    "## Results"
   ]
  },
  {
   "cell_type": "code",
   "execution_count": 47,
   "id": "cee69592-23d1-4dfe-a31e-cc32ffaf8117",
   "metadata": {},
   "outputs": [
    {
     "data": {
      "text/html": [
       "<div>\n",
       "<style scoped>\n",
       "    .dataframe tbody tr th:only-of-type {\n",
       "        vertical-align: middle;\n",
       "    }\n",
       "\n",
       "    .dataframe tbody tr th {\n",
       "        vertical-align: top;\n",
       "    }\n",
       "\n",
       "    .dataframe thead th {\n",
       "        text-align: right;\n",
       "    }\n",
       "</style>\n",
       "<table border=\"1\" class=\"dataframe\">\n",
       "  <thead>\n",
       "    <tr style=\"text-align: right;\">\n",
       "      <th></th>\n",
       "      <th>RMSE</th>\n",
       "      <th>R^2</th>\n",
       "      <th>RMSE_val</th>\n",
       "      <th>R^2_val</th>\n",
       "    </tr>\n",
       "  </thead>\n",
       "  <tbody>\n",
       "    <tr>\n",
       "      <th>baseline</th>\n",
       "      <td>445002.794651</td>\n",
       "      <td>0.000000</td>\n",
       "      <td>NaN</td>\n",
       "      <td>NaN</td>\n",
       "    </tr>\n",
       "    <tr>\n",
       "      <th>linear_regression_1</th>\n",
       "      <td>385267.859840</td>\n",
       "      <td>0.250451</td>\n",
       "      <td>407851.552746</td>\n",
       "      <td>0.237387</td>\n",
       "    </tr>\n",
       "    <tr>\n",
       "      <th>linear_regression_2</th>\n",
       "      <td>388534.968514</td>\n",
       "      <td>0.237685</td>\n",
       "      <td>410961.017768</td>\n",
       "      <td>0.225715</td>\n",
       "    </tr>\n",
       "    <tr>\n",
       "      <th>linear_regression_3</th>\n",
       "      <td>385852.334372</td>\n",
       "      <td>0.248175</td>\n",
       "      <td>408266.661258</td>\n",
       "      <td>0.235834</td>\n",
       "    </tr>\n",
       "    <tr>\n",
       "      <th>lasso_lars_1</th>\n",
       "      <td>385268.309709</td>\n",
       "      <td>0.250449</td>\n",
       "      <td>407859.288843</td>\n",
       "      <td>0.237359</td>\n",
       "    </tr>\n",
       "    <tr>\n",
       "      <th>lasso_lars_2</th>\n",
       "      <td>388535.180386</td>\n",
       "      <td>0.237684</td>\n",
       "      <td>410968.226261</td>\n",
       "      <td>0.225688</td>\n",
       "    </tr>\n",
       "    <tr>\n",
       "      <th>lasso_lars_3</th>\n",
       "      <td>385852.659676</td>\n",
       "      <td>0.248174</td>\n",
       "      <td>408275.028145</td>\n",
       "      <td>0.235803</td>\n",
       "    </tr>\n",
       "    <tr>\n",
       "      <th>polynomial_regression_1</th>\n",
       "      <td>383053.592492</td>\n",
       "      <td>0.259042</td>\n",
       "      <td>410508.339927</td>\n",
       "      <td>0.227420</td>\n",
       "    </tr>\n",
       "    <tr>\n",
       "      <th>polynomial_regression_2</th>\n",
       "      <td>377855.682823</td>\n",
       "      <td>0.279015</td>\n",
       "      <td>398181.331960</td>\n",
       "      <td>0.273122</td>\n",
       "    </tr>\n",
       "    <tr>\n",
       "      <th>polynomial_regression_3</th>\n",
       "      <td>379066.842134</td>\n",
       "      <td>0.274385</td>\n",
       "      <td>399732.883922</td>\n",
       "      <td>0.267446</td>\n",
       "    </tr>\n",
       "  </tbody>\n",
       "</table>\n",
       "</div>"
      ],
      "text/plain": [
       "                                  RMSE       R^2       RMSE_val   R^2_val\n",
       "baseline                 445002.794651  0.000000            NaN       NaN\n",
       "linear_regression_1      385267.859840  0.250451  407851.552746  0.237387\n",
       "linear_regression_2      388534.968514  0.237685  410961.017768  0.225715\n",
       "linear_regression_3      385852.334372  0.248175  408266.661258  0.235834\n",
       "lasso_lars_1             385268.309709  0.250449  407859.288843  0.237359\n",
       "lasso_lars_2             388535.180386  0.237684  410968.226261  0.225688\n",
       "lasso_lars_3             385852.659676  0.248174  408275.028145  0.235803\n",
       "polynomial_regression_1  383053.592492  0.259042  410508.339927  0.227420\n",
       "polynomial_regression_2  377855.682823  0.279015  398181.331960  0.273122\n",
       "polynomial_regression_3  379066.842134  0.274385  399732.883922  0.267446"
      ]
     },
     "execution_count": 47,
     "metadata": {},
     "output_type": "execute_result"
    }
   ],
   "source": [
    "pd.DataFrame(results).T"
   ]
  }
 ],
 "metadata": {
  "kernelspec": {
   "display_name": "Python 3 (ipykernel)",
   "language": "python",
   "name": "python3"
  },
  "language_info": {
   "codemirror_mode": {
    "name": "ipython",
    "version": 3
   },
   "file_extension": ".py",
   "mimetype": "text/x-python",
   "name": "python",
   "nbconvert_exporter": "python",
   "pygments_lexer": "ipython3",
   "version": "3.9.7"
  }
 },
 "nbformat": 4,
 "nbformat_minor": 5
}
